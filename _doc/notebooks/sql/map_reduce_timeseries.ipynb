{
  "cells": [
    {
      "cell_type": "markdown",
      "metadata": {},
      "source": [
        "# S\u00e9ries temporelles et map reduce\n",
        "\n",
        "Map/Reduce est un concept qui permet de distribuer les donn\u00e9es facilement si elles sont ind\u00e9pendantes. C'est une condition qu'une s\u00e9rie temporelle ne v\u00e9rifie pas du fait de la d\u00e9pendance temporelle. Voyons ce que cela change."
      ]
    },
    {
      "cell_type": "code",
      "execution_count": 1,
      "metadata": {
        "ExecuteTime": {
          "end_time": "2016-11-06T15:12:27.577069",
          "start_time": "2016-11-06T15:12:27.568568"
        }
      },
      "outputs": [
        {
          "data": {
            "text/html": [
              "<div id=\"my_id_menu_nb\">run previous cell, wait for 2 seconds</div>\n",
              "<script>\n",
              "function repeat_indent_string(n){\n",
              "    var a = \"\" ;\n",
              "    for ( ; n > 0 ; --n)\n",
              "        a += \"    \";\n",
              "    return a;\n",
              "}\n",
              "// look up into all sections and builds an automated menu //\n",
              "var update_menu_string = function(begin, lfirst, llast, sformat, send, keep_item, begin_format, end_format) {\n",
              "    var anchors = document.getElementsByClassName(\"section\");\n",
              "    if (anchors.length == 0) {\n",
              "        anchors = document.getElementsByClassName(\"text_cell_render rendered_html\");\n",
              "    }\n",
              "    var i,t;\n",
              "    var text_menu = begin;\n",
              "    var text_memo = \"<pre>\\nlength:\" + anchors.length + \"\\n\";\n",
              "    var ind = \"\";\n",
              "    var memo_level = 1;\n",
              "    var href;\n",
              "    var tags = [];\n",
              "    var main_item = 0;\n",
              "    var format_open = 0;\n",
              "    for (i = 0; i <= llast; i++)\n",
              "        tags.push(\"h\" + i);\n",
              "\n",
              "    for (i = 0; i < anchors.length; i++) {\n",
              "        text_memo += \"**\" + anchors[i].id + \"--\\n\";\n",
              "\n",
              "        var child = null;\n",
              "        for(t = 0; t < tags.length; t++) {\n",
              "            var r = anchors[i].getElementsByTagName(tags[t]);\n",
              "            if (r.length > 0) {\n",
              "child = r[0];\n",
              "break;\n",
              "            }\n",
              "        }\n",
              "        if (child == null) {\n",
              "            text_memo += \"null\\n\";\n",
              "            continue;\n",
              "        }\n",
              "        if (anchors[i].hasAttribute(\"id\")) {\n",
              "            // when converted in RST\n",
              "            href = anchors[i].id;\n",
              "            text_memo += \"#1-\" + href;\n",
              "            // passer \u00e0 child suivant (le chercher)\n",
              "        }\n",
              "        else if (child.hasAttribute(\"id\")) {\n",
              "            // in a notebook\n",
              "            href = child.id;\n",
              "            text_memo += \"#2-\" + href;\n",
              "        }\n",
              "        else {\n",
              "            text_memo += \"#3-\" + \"*\" + \"\\n\";\n",
              "            continue;\n",
              "        }\n",
              "        var title = child.textContent;\n",
              "        var level = parseInt(child.tagName.substring(1,2));\n",
              "\n",
              "        text_memo += \"--\" + level + \"?\" + lfirst + \"--\" + title + \"\\n\";\n",
              "\n",
              "        if ((level < lfirst) || (level > llast)) {\n",
              "            continue ;\n",
              "        }\n",
              "        if (title.endsWith('\u00b6')) {\n",
              "            title = title.substring(0,title.length-1).replace(\"<\", \"&lt;\")\n",
              "         .replace(\">\", \"&gt;\").replace(\"&\", \"&amp;\");\n",
              "        }\n",
              "        if (title.length == 0) {\n",
              "            continue;\n",
              "        }\n",
              "\n",
              "        while (level < memo_level) {\n",
              "            text_menu += end_format + \"</ul>\\n\";\n",
              "            format_open -= 1;\n",
              "            memo_level -= 1;\n",
              "        }\n",
              "        if (level == lfirst) {\n",
              "            main_item += 1;\n",
              "        }\n",
              "        if (keep_item != -1 && main_item != keep_item + 1) {\n",
              "            // alert(main_item + \" - \" + level + \" - \" + keep_item);\n",
              "            continue;\n",
              "        }\n",
              "        while (level > memo_level) {\n",
              "            text_menu += \"<ul>\\n\";\n",
              "            memo_level += 1;\n",
              "        }\n",
              "        text_menu += repeat_indent_string(level-2);\n",
              "        text_menu += begin_format + sformat.replace(\"__HREF__\", href).replace(\"__TITLE__\", title);\n",
              "        format_open += 1;\n",
              "    }\n",
              "    while (1 < memo_level) {\n",
              "        text_menu += end_format + \"</ul>\\n\";\n",
              "        memo_level -= 1;\n",
              "        format_open -= 1;\n",
              "    }\n",
              "    text_menu += send;\n",
              "    //text_menu += \"\\n\" + text_memo;\n",
              "\n",
              "    while (format_open > 0) {\n",
              "        text_menu += end_format;\n",
              "        format_open -= 1;\n",
              "    }\n",
              "    return text_menu;\n",
              "};\n",
              "var update_menu = function() {\n",
              "    var sbegin = \"\";\n",
              "    var sformat = '<a href=\"#__HREF__\">__TITLE__</a>';\n",
              "    var send = \"\";\n",
              "    var begin_format = '<li>';\n",
              "    var end_format = '</li>';\n",
              "    var keep_item = -1;\n",
              "    var text_menu = update_menu_string(sbegin, 2, 4, sformat, send, keep_item,\n",
              "       begin_format, end_format);\n",
              "    var menu = document.getElementById(\"my_id_menu_nb\");\n",
              "    menu.innerHTML=text_menu;\n",
              "};\n",
              "window.setTimeout(update_menu,2000);\n",
              "            </script>"
            ],
            "text/plain": [
              "<IPython.core.display.HTML object>"
            ]
          },
          "execution_count": 2,
          "metadata": {},
          "output_type": "execute_result"
        }
      ],
      "source": [
        "from jyquickhelper import add_notebook_menu\n",
        "add_notebook_menu()"
      ]
    },
    {
      "cell_type": "code",
      "execution_count": 2,
      "metadata": {},
      "outputs": [],
      "source": [
        "# R\u00e9pare une incompatibilit\u00e9 entre scipy 1.0 et statsmodels 0.8.\n",
        "from pymyinstall.fix import fix_scipy10_for_statsmodels08\n",
        "fix_scipy10_for_statsmodels08()"
      ]
    },
    {
      "cell_type": "markdown",
      "metadata": {},
      "source": [
        "On souhaite simplement calculer la d\u00e9riv\u00e9e de la s\u00e9rie temporelle : $\\Delta Y_t = Y_t - Y_{t-1}$."
      ]
    },
    {
      "cell_type": "code",
      "execution_count": 3,
      "metadata": {
        "ExecuteTime": {
          "end_time": "2016-11-06T13:23:09.162438",
          "start_time": "2016-11-06T13:23:08.659707"
        }
      },
      "outputs": [],
      "source": [
        "%matplotlib inline"
      ]
    },
    {
      "cell_type": "markdown",
      "metadata": {
        "ExecuteTime": {
          "end_time": "2016-11-05T23:12:25.652561",
          "start_time": "2016-11-05T23:12:25.627558"
        }
      },
      "source": [
        "## Data"
      ]
    },
    {
      "cell_type": "code",
      "execution_count": 4,
      "metadata": {
        "ExecuteTime": {
          "end_time": "2016-11-06T13:23:09.625559",
          "start_time": "2016-11-06T13:23:09.167444"
        }
      },
      "outputs": [
        {
          "data": {
            "text/html": [
              "<div>\n",
              "<style scoped>\n",
              "    .dataframe tbody tr th:only-of-type {\n",
              "        vertical-align: middle;\n",
              "    }\n",
              "\n",
              "    .dataframe tbody tr th {\n",
              "        vertical-align: top;\n",
              "    }\n",
              "\n",
              "    .dataframe thead th {\n",
              "        text-align: right;\n",
              "    }\n",
              "</style>\n",
              "<table border=\"1\" class=\"dataframe\">\n",
              "  <thead>\n",
              "    <tr style=\"text-align: right;\">\n",
              "      <th></th>\n",
              "      <th>Date</th>\n",
              "      <th>High</th>\n",
              "      <th>Low</th>\n",
              "      <th>Open</th>\n",
              "      <th>Close</th>\n",
              "      <th>Volume</th>\n",
              "      <th>Adj Close</th>\n",
              "    </tr>\n",
              "    <tr>\n",
              "      <th>Date</th>\n",
              "      <th></th>\n",
              "      <th></th>\n",
              "      <th></th>\n",
              "      <th></th>\n",
              "      <th></th>\n",
              "      <th></th>\n",
              "      <th></th>\n",
              "    </tr>\n",
              "  </thead>\n",
              "  <tbody>\n",
              "    <tr>\n",
              "      <th>2020-12-24</th>\n",
              "      <td>2020-12-24</td>\n",
              "      <td>223.610001</td>\n",
              "      <td>221.199997</td>\n",
              "      <td>221.419998</td>\n",
              "      <td>222.750000</td>\n",
              "      <td>10550600.0</td>\n",
              "      <td>222.750000</td>\n",
              "    </tr>\n",
              "    <tr>\n",
              "      <th>2020-12-28</th>\n",
              "      <td>2020-12-28</td>\n",
              "      <td>226.029999</td>\n",
              "      <td>223.020004</td>\n",
              "      <td>224.449997</td>\n",
              "      <td>224.960007</td>\n",
              "      <td>17933500.0</td>\n",
              "      <td>224.960007</td>\n",
              "    </tr>\n",
              "    <tr>\n",
              "      <th>2020-12-29</th>\n",
              "      <td>2020-12-29</td>\n",
              "      <td>227.179993</td>\n",
              "      <td>223.580002</td>\n",
              "      <td>226.309998</td>\n",
              "      <td>224.149994</td>\n",
              "      <td>17403200.0</td>\n",
              "      <td>224.149994</td>\n",
              "    </tr>\n",
              "    <tr>\n",
              "      <th>2020-12-30</th>\n",
              "      <td>2020-12-30</td>\n",
              "      <td>225.630005</td>\n",
              "      <td>221.470001</td>\n",
              "      <td>225.229996</td>\n",
              "      <td>221.679993</td>\n",
              "      <td>20272300.0</td>\n",
              "      <td>221.679993</td>\n",
              "    </tr>\n",
              "    <tr>\n",
              "      <th>2020-12-31</th>\n",
              "      <td>2020-12-31</td>\n",
              "      <td>223.000000</td>\n",
              "      <td>219.679993</td>\n",
              "      <td>221.699997</td>\n",
              "      <td>222.419998</td>\n",
              "      <td>20926900.0</td>\n",
              "      <td>222.419998</td>\n",
              "    </tr>\n",
              "  </tbody>\n",
              "</table>\n",
              "</div>"
            ],
            "text/plain": [
              "                  Date        High         Low        Open       Close  \\\n",
              "Date                                                                     \n",
              "2020-12-24  2020-12-24  223.610001  221.199997  221.419998  222.750000   \n",
              "2020-12-28  2020-12-28  226.029999  223.020004  224.449997  224.960007   \n",
              "2020-12-29  2020-12-29  227.179993  223.580002  226.309998  224.149994   \n",
              "2020-12-30  2020-12-30  225.630005  221.470001  225.229996  221.679993   \n",
              "2020-12-31  2020-12-31  223.000000  219.679993  221.699997  222.419998   \n",
              "\n",
              "                Volume   Adj Close  \n",
              "Date                                \n",
              "2020-12-24  10550600.0  222.750000  \n",
              "2020-12-28  17933500.0  224.960007  \n",
              "2020-12-29  17403200.0  224.149994  \n",
              "2020-12-30  20272300.0  221.679993  \n",
              "2020-12-31  20926900.0  222.419998  "
            ]
          },
          "execution_count": 5,
          "metadata": {},
          "output_type": "execute_result"
        }
      ],
      "source": [
        "from pyensae.finance import StockPrices\n",
        "stock = StockPrices(\"MSFT\", folder=\".\", url=\"yahoo\")\n",
        "stock.tail()"
      ]
    },
    {
      "cell_type": "markdown",
      "metadata": {},
      "source": [
        "On cr\u00e9e une colonne suppl\u00e9mentaire pour l'indice $t$ de la s\u00e9rie temporelle :"
      ]
    },
    {
      "cell_type": "code",
      "execution_count": 5,
      "metadata": {
        "ExecuteTime": {
          "end_time": "2016-11-06T13:23:09.646555",
          "start_time": "2016-11-06T13:23:09.629556"
        }
      },
      "outputs": [
        {
          "data": {
            "text/html": [
              "<div>\n",
              "<style scoped>\n",
              "    .dataframe tbody tr th:only-of-type {\n",
              "        vertical-align: middle;\n",
              "    }\n",
              "\n",
              "    .dataframe tbody tr th {\n",
              "        vertical-align: top;\n",
              "    }\n",
              "\n",
              "    .dataframe thead th {\n",
              "        text-align: right;\n",
              "    }\n",
              "</style>\n",
              "<table border=\"1\" class=\"dataframe\">\n",
              "  <thead>\n",
              "    <tr style=\"text-align: right;\">\n",
              "      <th></th>\n",
              "      <th>Close</th>\n",
              "    </tr>\n",
              "  </thead>\n",
              "  <tbody>\n",
              "    <tr>\n",
              "      <th>5279</th>\n",
              "      <td>222.750000</td>\n",
              "    </tr>\n",
              "    <tr>\n",
              "      <th>5280</th>\n",
              "      <td>224.960007</td>\n",
              "    </tr>\n",
              "    <tr>\n",
              "      <th>5281</th>\n",
              "      <td>224.149994</td>\n",
              "    </tr>\n",
              "    <tr>\n",
              "      <th>5282</th>\n",
              "      <td>221.679993</td>\n",
              "    </tr>\n",
              "    <tr>\n",
              "      <th>5283</th>\n",
              "      <td>222.419998</td>\n",
              "    </tr>\n",
              "  </tbody>\n",
              "</table>\n",
              "</div>"
            ],
            "text/plain": [
              "           Close\n",
              "5279  222.750000\n",
              "5280  224.960007\n",
              "5281  224.149994\n",
              "5282  221.679993\n",
              "5283  222.419998"
            ]
          },
          "execution_count": 6,
          "metadata": {},
          "output_type": "execute_result"
        }
      ],
      "source": [
        "dt = stock.df()\n",
        "dt = dt[[\"Close\"]]\n",
        "dt = dt.reset_index(drop=True)\n",
        "data = dt\n",
        "dt.tail()"
      ]
    },
    {
      "cell_type": "markdown",
      "metadata": {},
      "source": [
        "La fonction [shift](http://pandas.pydata.org/pandas-docs/stable/generated/pandas.DataFrame.shift.html) rend le calcul tr\u00e8s simple avec pandas."
      ]
    },
    {
      "cell_type": "code",
      "execution_count": 6,
      "metadata": {
        "ExecuteTime": {
          "end_time": "2016-11-06T13:23:09.686066",
          "start_time": "2016-11-06T13:23:09.650558"
        }
      },
      "outputs": [
        {
          "data": {
            "text/html": [
              "<div>\n",
              "<style scoped>\n",
              "    .dataframe tbody tr th:only-of-type {\n",
              "        vertical-align: middle;\n",
              "    }\n",
              "\n",
              "    .dataframe tbody tr th {\n",
              "        vertical-align: top;\n",
              "    }\n",
              "\n",
              "    .dataframe thead th {\n",
              "        text-align: right;\n",
              "    }\n",
              "</style>\n",
              "<table border=\"1\" class=\"dataframe\">\n",
              "  <thead>\n",
              "    <tr style=\"text-align: right;\">\n",
              "      <th></th>\n",
              "      <th>Close</th>\n",
              "      <th>Close2</th>\n",
              "      <th>delta</th>\n",
              "    </tr>\n",
              "  </thead>\n",
              "  <tbody>\n",
              "    <tr>\n",
              "      <th>5279</th>\n",
              "      <td>222.750000</td>\n",
              "      <td>221.020004</td>\n",
              "      <td>1.729996</td>\n",
              "    </tr>\n",
              "    <tr>\n",
              "      <th>5280</th>\n",
              "      <td>224.960007</td>\n",
              "      <td>222.750000</td>\n",
              "      <td>2.210007</td>\n",
              "    </tr>\n",
              "    <tr>\n",
              "      <th>5281</th>\n",
              "      <td>224.149994</td>\n",
              "      <td>224.960007</td>\n",
              "      <td>-0.810013</td>\n",
              "    </tr>\n",
              "    <tr>\n",
              "      <th>5282</th>\n",
              "      <td>221.679993</td>\n",
              "      <td>224.149994</td>\n",
              "      <td>-2.470001</td>\n",
              "    </tr>\n",
              "    <tr>\n",
              "      <th>5283</th>\n",
              "      <td>222.419998</td>\n",
              "      <td>221.679993</td>\n",
              "      <td>0.740005</td>\n",
              "    </tr>\n",
              "  </tbody>\n",
              "</table>\n",
              "</div>"
            ],
            "text/plain": [
              "           Close      Close2     delta\n",
              "5279  222.750000  221.020004  1.729996\n",
              "5280  224.960007  222.750000  2.210007\n",
              "5281  224.149994  224.960007 -0.810013\n",
              "5282  221.679993  224.149994 -2.470001\n",
              "5283  222.419998  221.679993  0.740005"
            ]
          },
          "execution_count": 7,
          "metadata": {},
          "output_type": "execute_result"
        }
      ],
      "source": [
        "data_pandas = data.copy()\n",
        "data_pandas[\"Close2\"] = data.shift(1)\n",
        "data_pandas[\"delta\"] = data_pandas[\"Close\"] - data_pandas[\"Close2\"]\n",
        "data_pandas.tail()"
      ]
    },
    {
      "cell_type": "markdown",
      "metadata": {},
      "source": [
        "La fonction est tr\u00e8s rapide car elle utilise l'ordre des donn\u00e9es et son index. Pour s'en passer, on ajoute une colonne qui contient l'index original puis on m\u00e9lange pour simuler le fait qu'en map/reduce, l'ordre des informations n'est pas connu \u00e0 l'avance."
      ]
    },
    {
      "cell_type": "code",
      "execution_count": 7,
      "metadata": {
        "ExecuteTime": {
          "end_time": "2016-11-06T13:23:09.719069",
          "start_time": "2016-11-06T13:23:09.689067"
        }
      },
      "outputs": [
        {
          "data": {
            "text/html": [
              "<div>\n",
              "<style scoped>\n",
              "    .dataframe tbody tr th:only-of-type {\n",
              "        vertical-align: middle;\n",
              "    }\n",
              "\n",
              "    .dataframe tbody tr th {\n",
              "        vertical-align: top;\n",
              "    }\n",
              "\n",
              "    .dataframe thead th {\n",
              "        text-align: right;\n",
              "    }\n",
              "</style>\n",
              "<table border=\"1\" class=\"dataframe\">\n",
              "  <thead>\n",
              "    <tr style=\"text-align: right;\">\n",
              "      <th></th>\n",
              "      <th>t</th>\n",
              "      <th>close</th>\n",
              "    </tr>\n",
              "  </thead>\n",
              "  <tbody>\n",
              "    <tr>\n",
              "      <th>5279</th>\n",
              "      <td>4660</td>\n",
              "      <td>104.190002</td>\n",
              "    </tr>\n",
              "    <tr>\n",
              "      <th>5280</th>\n",
              "      <td>476</td>\n",
              "      <td>31.870001</td>\n",
              "    </tr>\n",
              "    <tr>\n",
              "      <th>5281</th>\n",
              "      <td>3522</td>\n",
              "      <td>36.910000</td>\n",
              "    </tr>\n",
              "    <tr>\n",
              "      <th>5282</th>\n",
              "      <td>2867</td>\n",
              "      <td>24.670000</td>\n",
              "    </tr>\n",
              "    <tr>\n",
              "      <th>5283</th>\n",
              "      <td>4348</td>\n",
              "      <td>65.480003</td>\n",
              "    </tr>\n",
              "  </tbody>\n",
              "</table>\n",
              "</div>"
            ],
            "text/plain": [
              "         t       close\n",
              "5279  4660  104.190002\n",
              "5280   476   31.870001\n",
              "5281  3522   36.910000\n",
              "5282  2867   24.670000\n",
              "5283  4348   65.480003"
            ]
          },
          "execution_count": 8,
          "metadata": {},
          "output_type": "execute_result"
        }
      ],
      "source": [
        "import numpy\n",
        "data = dt.reindex(numpy.random.permutation(data.index))\n",
        "data = data.reset_index(drop=False)\n",
        "data.columns = [\"t\", \"close\"]\n",
        "data.tail()"
      ]
    },
    {
      "cell_type": "markdown",
      "metadata": {},
      "source": [
        "## D\u00e9riv\u00e9e avec pandas"
      ]
    },
    {
      "cell_type": "markdown",
      "metadata": {},
      "source": [
        "Le traitement de chaque ligne est ind\u00e9pendant et ne doit pas prendre en compte aucune autre ligne mais on a besoin de $Y_{t-1}$ pour calculer $\\Delta Y_t$. "
      ]
    },
    {
      "cell_type": "code",
      "execution_count": 8,
      "metadata": {
        "ExecuteTime": {
          "end_time": "2016-11-06T13:23:09.744065",
          "start_time": "2016-11-06T13:23:09.723070"
        }
      },
      "outputs": [],
      "source": [
        "data[\"tt\"] = data[\"t\"] - 1 "
      ]
    },
    {
      "cell_type": "markdown",
      "metadata": {},
      "source": [
        "### m\u00e9thode efficace\n",
        "\n",
        "Lors d'une jointure, [pandas](http://pandas.pydata.org/) va trier chaque c\u00f4t\u00e9 de la jointure par ordre croissant de cl\u00e9. S'il y a $N$ observations, cela a un co\u00fbt de $N\\ln N$, il r\u00e9alise ensuite une fusion des deux bases en ne consid\u00e9rant que les lignes partageant la m\u00eame cl\u00e9. Cette fa\u00e7on de faire ne convient que lorsqu'on fait une jointure avec une condition n'incluant que des ET logique et des \u00e9galit\u00e9s."
      ]
    },
    {
      "cell_type": "code",
      "execution_count": 9,
      "metadata": {
        "ExecuteTime": {
          "end_time": "2016-11-06T13:23:09.782092",
          "start_time": "2016-11-06T13:23:09.747575"
        }
      },
      "outputs": [
        {
          "data": {
            "text/html": [
              "<div>\n",
              "<style scoped>\n",
              "    .dataframe tbody tr th:only-of-type {\n",
              "        vertical-align: middle;\n",
              "    }\n",
              "\n",
              "    .dataframe tbody tr th {\n",
              "        vertical-align: top;\n",
              "    }\n",
              "\n",
              "    .dataframe thead th {\n",
              "        text-align: right;\n",
              "    }\n",
              "</style>\n",
              "<table border=\"1\" class=\"dataframe\">\n",
              "  <thead>\n",
              "    <tr style=\"text-align: right;\">\n",
              "      <th></th>\n",
              "      <th>t</th>\n",
              "      <th>close</th>\n",
              "      <th>tt</th>\n",
              "      <th>t2</th>\n",
              "      <th>close2</th>\n",
              "      <th>tt2</th>\n",
              "    </tr>\n",
              "  </thead>\n",
              "  <tbody>\n",
              "    <tr>\n",
              "      <th>5278</th>\n",
              "      <td>4660</td>\n",
              "      <td>104.190002</td>\n",
              "      <td>4659</td>\n",
              "      <td>4661</td>\n",
              "      <td>105.430000</td>\n",
              "      <td>4660</td>\n",
              "    </tr>\n",
              "    <tr>\n",
              "      <th>5279</th>\n",
              "      <td>476</td>\n",
              "      <td>31.870001</td>\n",
              "      <td>475</td>\n",
              "      <td>477</td>\n",
              "      <td>31.400000</td>\n",
              "      <td>476</td>\n",
              "    </tr>\n",
              "    <tr>\n",
              "      <th>5280</th>\n",
              "      <td>3522</td>\n",
              "      <td>36.910000</td>\n",
              "      <td>3521</td>\n",
              "      <td>3523</td>\n",
              "      <td>36.130001</td>\n",
              "      <td>3522</td>\n",
              "    </tr>\n",
              "    <tr>\n",
              "      <th>5281</th>\n",
              "      <td>2867</td>\n",
              "      <td>24.670000</td>\n",
              "      <td>2866</td>\n",
              "      <td>2868</td>\n",
              "      <td>24.760000</td>\n",
              "      <td>2867</td>\n",
              "    </tr>\n",
              "    <tr>\n",
              "      <th>5282</th>\n",
              "      <td>4348</td>\n",
              "      <td>65.480003</td>\n",
              "      <td>4347</td>\n",
              "      <td>4349</td>\n",
              "      <td>65.389999</td>\n",
              "      <td>4348</td>\n",
              "    </tr>\n",
              "  </tbody>\n",
              "</table>\n",
              "</div>"
            ],
            "text/plain": [
              "         t       close    tt    t2      close2   tt2\n",
              "5278  4660  104.190002  4659  4661  105.430000  4660\n",
              "5279   476   31.870001   475   477   31.400000   476\n",
              "5280  3522   36.910000  3521  3523   36.130001  3522\n",
              "5281  2867   24.670000  2866  2868   24.760000  2867\n",
              "5282  4348   65.480003  4347  4349   65.389999  4348"
            ]
          },
          "execution_count": 10,
          "metadata": {},
          "output_type": "execute_result"
        }
      ],
      "source": [
        "join = data.merge(data, left_on=\"t\", right_on=\"tt\", suffixes=(\"\", \"2\"))\n",
        "join.tail()"
      ]
    },
    {
      "cell_type": "code",
      "execution_count": 10,
      "metadata": {
        "ExecuteTime": {
          "end_time": "2016-11-06T13:23:09.815090",
          "start_time": "2016-11-06T13:23:09.786095"
        }
      },
      "outputs": [
        {
          "data": {
            "text/html": [
              "<div>\n",
              "<style scoped>\n",
              "    .dataframe tbody tr th:only-of-type {\n",
              "        vertical-align: middle;\n",
              "    }\n",
              "\n",
              "    .dataframe tbody tr th {\n",
              "        vertical-align: top;\n",
              "    }\n",
              "\n",
              "    .dataframe thead th {\n",
              "        text-align: right;\n",
              "    }\n",
              "</style>\n",
              "<table border=\"1\" class=\"dataframe\">\n",
              "  <thead>\n",
              "    <tr style=\"text-align: right;\">\n",
              "      <th></th>\n",
              "      <th>t</th>\n",
              "      <th>close</th>\n",
              "      <th>tt</th>\n",
              "      <th>t2</th>\n",
              "      <th>close2</th>\n",
              "      <th>tt2</th>\n",
              "      <th>derivee</th>\n",
              "    </tr>\n",
              "  </thead>\n",
              "  <tbody>\n",
              "    <tr>\n",
              "      <th>5278</th>\n",
              "      <td>4660</td>\n",
              "      <td>104.190002</td>\n",
              "      <td>4659</td>\n",
              "      <td>4661</td>\n",
              "      <td>105.430000</td>\n",
              "      <td>4660</td>\n",
              "      <td>-1.239998</td>\n",
              "    </tr>\n",
              "    <tr>\n",
              "      <th>5279</th>\n",
              "      <td>476</td>\n",
              "      <td>31.870001</td>\n",
              "      <td>475</td>\n",
              "      <td>477</td>\n",
              "      <td>31.400000</td>\n",
              "      <td>476</td>\n",
              "      <td>0.470001</td>\n",
              "    </tr>\n",
              "    <tr>\n",
              "      <th>5280</th>\n",
              "      <td>3522</td>\n",
              "      <td>36.910000</td>\n",
              "      <td>3521</td>\n",
              "      <td>3523</td>\n",
              "      <td>36.130001</td>\n",
              "      <td>3522</td>\n",
              "      <td>0.779999</td>\n",
              "    </tr>\n",
              "    <tr>\n",
              "      <th>5281</th>\n",
              "      <td>2867</td>\n",
              "      <td>24.670000</td>\n",
              "      <td>2866</td>\n",
              "      <td>2868</td>\n",
              "      <td>24.760000</td>\n",
              "      <td>2867</td>\n",
              "      <td>-0.090000</td>\n",
              "    </tr>\n",
              "    <tr>\n",
              "      <th>5282</th>\n",
              "      <td>4348</td>\n",
              "      <td>65.480003</td>\n",
              "      <td>4347</td>\n",
              "      <td>4349</td>\n",
              "      <td>65.389999</td>\n",
              "      <td>4348</td>\n",
              "      <td>0.090004</td>\n",
              "    </tr>\n",
              "  </tbody>\n",
              "</table>\n",
              "</div>"
            ],
            "text/plain": [
              "         t       close    tt    t2      close2   tt2   derivee\n",
              "5278  4660  104.190002  4659  4661  105.430000  4660 -1.239998\n",
              "5279   476   31.870001   475   477   31.400000   476  0.470001\n",
              "5280  3522   36.910000  3521  3523   36.130001  3522  0.779999\n",
              "5281  2867   24.670000  2866  2868   24.760000  2867 -0.090000\n",
              "5282  4348   65.480003  4347  4349   65.389999  4348  0.090004"
            ]
          },
          "execution_count": 11,
          "metadata": {},
          "output_type": "execute_result"
        }
      ],
      "source": [
        "derivee = join.copy()\n",
        "derivee[\"derivee\"] = derivee[\"close\"] - derivee[\"close2\"]\n",
        "derivee.tail()"
      ]
    },
    {
      "cell_type": "markdown",
      "metadata": {},
      "source": [
        "En r\u00e9sum\u00e9 :"
      ]
    },
    {
      "cell_type": "code",
      "execution_count": 11,
      "metadata": {
        "ExecuteTime": {
          "end_time": "2016-11-06T13:23:09.866116",
          "start_time": "2016-11-06T13:23:09.821092"
        }
      },
      "outputs": [
        {
          "name": "stdout",
          "output_type": "stream",
          "text": [
            "(5283, 7)\n"
          ]
        },
        {
          "data": {
            "text/html": [
              "<div>\n",
              "<style scoped>\n",
              "    .dataframe tbody tr th:only-of-type {\n",
              "        vertical-align: middle;\n",
              "    }\n",
              "\n",
              "    .dataframe tbody tr th {\n",
              "        vertical-align: top;\n",
              "    }\n",
              "\n",
              "    .dataframe thead th {\n",
              "        text-align: right;\n",
              "    }\n",
              "</style>\n",
              "<table border=\"1\" class=\"dataframe\">\n",
              "  <thead>\n",
              "    <tr style=\"text-align: right;\">\n",
              "      <th></th>\n",
              "      <th>t</th>\n",
              "      <th>close</th>\n",
              "      <th>tt</th>\n",
              "      <th>t2</th>\n",
              "      <th>close2</th>\n",
              "      <th>tt2</th>\n",
              "      <th>derivee</th>\n",
              "    </tr>\n",
              "  </thead>\n",
              "  <tbody>\n",
              "    <tr>\n",
              "      <th>5278</th>\n",
              "      <td>4660</td>\n",
              "      <td>104.190002</td>\n",
              "      <td>4661</td>\n",
              "      <td>4659</td>\n",
              "      <td>101.980003</td>\n",
              "      <td>4660</td>\n",
              "      <td>2.209999</td>\n",
              "    </tr>\n",
              "    <tr>\n",
              "      <th>5279</th>\n",
              "      <td>476</td>\n",
              "      <td>31.870001</td>\n",
              "      <td>477</td>\n",
              "      <td>475</td>\n",
              "      <td>32.570000</td>\n",
              "      <td>476</td>\n",
              "      <td>-0.699999</td>\n",
              "    </tr>\n",
              "    <tr>\n",
              "      <th>5280</th>\n",
              "      <td>3522</td>\n",
              "      <td>36.910000</td>\n",
              "      <td>3523</td>\n",
              "      <td>3521</td>\n",
              "      <td>37.160000</td>\n",
              "      <td>3522</td>\n",
              "      <td>-0.250000</td>\n",
              "    </tr>\n",
              "    <tr>\n",
              "      <th>5281</th>\n",
              "      <td>2867</td>\n",
              "      <td>24.670000</td>\n",
              "      <td>2868</td>\n",
              "      <td>2866</td>\n",
              "      <td>24.190001</td>\n",
              "      <td>2867</td>\n",
              "      <td>0.480000</td>\n",
              "    </tr>\n",
              "    <tr>\n",
              "      <th>5282</th>\n",
              "      <td>4348</td>\n",
              "      <td>65.480003</td>\n",
              "      <td>4349</td>\n",
              "      <td>4347</td>\n",
              "      <td>64.949997</td>\n",
              "      <td>4348</td>\n",
              "      <td>0.530006</td>\n",
              "    </tr>\n",
              "  </tbody>\n",
              "</table>\n",
              "</div>"
            ],
            "text/plain": [
              "         t       close    tt    t2      close2   tt2   derivee\n",
              "5278  4660  104.190002  4661  4659  101.980003  4660  2.209999\n",
              "5279   476   31.870001   477   475   32.570000   476 -0.699999\n",
              "5280  3522   36.910000  3523  3521   37.160000  3522 -0.250000\n",
              "5281  2867   24.670000  2868  2866   24.190001  2867  0.480000\n",
              "5282  4348   65.480003  4349  4347   64.949997  4348  0.530006"
            ]
          },
          "execution_count": 12,
          "metadata": {},
          "output_type": "execute_result"
        }
      ],
      "source": [
        "new_data = data.copy()\n",
        "new_data[\"tt\"] = new_data[\"t\"] + 1  # MAP\n",
        "new_data = new_data.merge(new_data, left_on=\"t\", right_on=\"tt\", suffixes=(\"\", \"2\")) # JOIN = SORT + MAP + REDUCE\n",
        "new_data[\"derivee\"] = new_data[\"close\"] - new_data[\"close2\"] # MAP\n",
        "print(new_data.shape)\n",
        "new_data.tail()"
      ]
    },
    {
      "cell_type": "markdown",
      "metadata": {},
      "source": [
        "### mesure de co\u00fbt\n",
        "\n",
        "La s\u00e9rie n'est pas assez longue pour observer la relation entre le temps de calcul et le nombre d'observations."
      ]
    },
    {
      "cell_type": "code",
      "execution_count": 12,
      "metadata": {
        "ExecuteTime": {
          "end_time": "2016-11-06T13:23:09.882625",
          "start_time": "2016-11-06T13:23:09.872114"
        }
      },
      "outputs": [],
      "source": [
        "def derive(data):\n",
        "    new_data = data.copy()\n",
        "    new_data[\"tt\"] = new_data[\"t\"] + 1  # MAP\n",
        "    new_data = new_data.merge(new_data, left_on=\"t\", right_on=\"tt\", suffixes=(\"\", \"2\")) # JOIN = MAP + REDUCE\n",
        "    new_data[\"derivee\"] = new_data[\"close\"] - new_data[\"close2\"] # MAP\n",
        "    return new_data"
      ]
    },
    {
      "cell_type": "markdown",
      "metadata": {},
      "source": [
        "On choisit une r\u00e9gression lin\u00e9aire de type [HuberRegressor](http://scikit-learn.org/stable/modules/generated/sklearn.linear_model.HuberRegressor.html#sklearn.linear_model.HuberRegressor) pour r\u00e9gresser $C(N) \\sim a N + b \\ln N + c N \\ln N + d$. Ce mod\u00e8le est beaucoup moins sensible aux points aberrants que les autres formes de r\u00e9gressions. On utilise cette r\u00e9gression avec le module [RobustLinearModels](http://statsmodels.sourceforge.net/stable/rlm.html) du module *statsmodels* pour calculer les p-values"
      ]
    },
    {
      "cell_type": "code",
      "execution_count": 13,
      "metadata": {
        "ExecuteTime": {
          "end_time": "2016-11-06T13:23:15.446580",
          "start_time": "2016-11-06T13:23:09.886624"
        },
        "scrolled": false
      },
      "outputs": [
        {
          "name": "stdout",
          "output_type": "stream",
          "text": [
            "(92,) <class 'pandas.core.series.Series'>\n",
            "                    Robust linear Model Regression Results                    \n",
            "==============================================================================\n",
            "Dep. Variable:        processing time   No. Observations:                   92\n",
            "Model:                            RLM   Df Residuals:                       88\n",
            "Method:                          IRLS   Df Model:                            3\n",
            "Norm:                          HuberT                                         \n",
            "Scale Est.:                       mad                                         \n",
            "Cov Type:                          H1                                         \n",
            "Date:                Fri, 01 Jan 2021                                         \n",
            "Time:                        03:27:54                                         \n",
            "No. Iterations:                    50                                         \n",
            "==============================================================================\n",
            "                 coef    std err          z      P>|z|      [0.025      0.975]\n",
            "------------------------------------------------------------------------------\n",
            "logN           0.0035      0.001      2.661      0.008       0.001       0.006\n",
            "N          -8.829e-06   2.77e-06     -3.191      0.001   -1.43e-05   -3.41e-06\n",
            "NlogN       2.117e-06   6.56e-07      3.228      0.001    8.31e-07     3.4e-06\n",
            "one           -0.0049      0.003     -1.544      0.123      -0.011       0.001\n",
            "==============================================================================\n",
            "\n",
            "If the model instance has been used for another fit with different fit parameters, then the fit options might not be the correct ones anymore .\n"
          ]
        },
        {
          "data": {
            "image/png": "[encoded data removed]",
            "text/plain": [
              "<Figure size 432x288 with 1 Axes>"
            ]
          },
          "metadata": {
            "needs_background": "light"
          },
          "output_type": "display_data"
        }
      ],
      "source": [
        "import time, pandas, numpy, sklearn.linear_model as lin\n",
        "import matplotlib.pyplot as plt\n",
        "import statsmodels.api as smapi\n",
        "from random import randint\n",
        "\n",
        "def graph_cout(data, h=100, nb=10, add_n2=False, derive=derive):\n",
        "    dh = len(data) // h\n",
        "    res = []\n",
        "    for n in range(max(dh, 500), len(data), dh):\n",
        "        df = data[0:n+randint(-10,10)]\n",
        "        mean = []\n",
        "        for i in range(0, nb):\n",
        "            t = time.perf_counter()\n",
        "            derive(df)\n",
        "            dt = time.perf_counter() - t\n",
        "            mean.append(dt)\n",
        "        res.append((n, mean[len(mean)//2]))\n",
        "    # stat\n",
        "    stat = pandas.DataFrame(res, columns=[\"N\", \"processing time\"])\n",
        "    stat[\"logN\"] = numpy.log(stat[\"N\"]) / numpy.log(10)\n",
        "    stat[\"NlogN\"] = stat[\"N\"] * stat[\"logN\"]\n",
        "    stat[\"N2\"] = stat[\"N\"] * stat[\"N\"]\n",
        "    # statsmodels\n",
        "    stat[\"one\"] = 1\n",
        "    X = stat[[\"logN\", \"N\", \"NlogN\", \"N2\", \"one\"]]\n",
        "    if not add_n2:\n",
        "        X = X.drop(\"N2\", axis=1)\n",
        "    rlm_model = smapi.RLM(stat[\"processing time\"], X, M=smapi.robust.norms.HuberT())\n",
        "    rlm_results = rlm_model.fit()\n",
        "    yp = rlm_results.predict(X)\n",
        "    print(yp.shape, type(yp))\n",
        "    stat[\"smooth\"] = yp\n",
        "    # graph\n",
        "    fig, ax = plt.subplots()\n",
        "    stat.plot(x=\"N\", y=[\"processing time\", \"smooth\"], ax=ax)\n",
        "    return ax, rlm_results\n",
        "\n",
        "ax, results = graph_cout(data)\n",
        "print(results.summary())\n",
        "ax;"
      ]
    },
    {
      "cell_type": "markdown",
      "metadata": {},
      "source": [
        "Le co\u00fbt de l'algorithme est au moins lin\u00e9aire. Cela signifie que le co\u00fbt du calcul qu'on cherche \u00e0 mesurer est noy\u00e9 dans plein d'autres choses non n\u00e9gligeable. La valeur des coefficients n'indique pas grand chose car les variables $N$, $Nlog N$ \u00e9voluent sur des \u00e9chelles diff\u00e9rentes."
      ]
    },
    {
      "cell_type": "code",
      "execution_count": 14,
      "metadata": {
        "ExecuteTime": {
          "end_time": "2016-11-06T13:24:13.215086",
          "start_time": "2016-11-06T13:23:15.449584"
        }
      },
      "outputs": [
        {
          "name": "stdout",
          "output_type": "stream",
          "text": [
            "(24,) <class 'pandas.core.series.Series'>\n",
            "                    Robust linear Model Regression Results                    \n",
            "==============================================================================\n",
            "Dep. Variable:        processing time   No. Observations:                   24\n",
            "Model:                            RLM   Df Residuals:                       20\n",
            "Method:                          IRLS   Df Model:                            3\n",
            "Norm:                          HuberT                                         \n",
            "Scale Est.:                       mad                                         \n",
            "Cov Type:                          H1                                         \n",
            "Date:                Fri, 01 Jan 2021                                         \n",
            "Time:                        03:28:04                                         \n",
            "No. Iterations:                    47                                         \n",
            "==============================================================================\n",
            "                 coef    std err          z      P>|z|      [0.025      0.975]\n",
            "------------------------------------------------------------------------------\n",
            "logN          -0.0396      0.017     -2.327      0.020      -0.073      -0.006\n",
            "N            5.63e-06   1.75e-06      3.213      0.001     2.2e-06    9.06e-06\n",
            "NlogN      -9.342e-07   3.08e-07     -3.036      0.002   -1.54e-06   -3.31e-07\n",
            "one            0.1434      0.064      2.232      0.026       0.017       0.269\n",
            "==============================================================================\n",
            "\n",
            "If the model instance has been used for another fit with different fit parameters, then the fit options might not be the correct ones anymore .\n"
          ]
        },
        {
          "data": {
            "image/png": "[encoded data removed]",
            "text/plain": [
              "<Figure size 432x288 with 1 Axes>"
            ]
          },
          "metadata": {
            "needs_background": "light"
          },
          "output_type": "display_data"
        }
      ],
      "source": [
        "N = 200000\n",
        "from random import random\n",
        "data2 = pandas.DataFrame({\"t\":range(0,N), \"close\": [random() for i in range(0, N)]})\n",
        "ax, stats = graph_cout(data2, h=25)\n",
        "print(stats.summary())\n",
        "ax;"
      ]
    },
    {
      "cell_type": "markdown",
      "metadata": {},
      "source": [
        "Les r\u00e9sultats sont assez volatiles. Il faut regarder les intervalles de confiance et regarder lesquels n'incluent pas 0."
      ]
    },
    {
      "cell_type": "markdown",
      "metadata": {},
      "source": [
        "### m\u00e9thode inefficace\n",
        "\n",
        "Dans ce cas, on fait un produit en croix de toutes les lignes de la bases avec elles-m\u00eame puis on filtre le r\u00e9sultat pour ne garder que les lignes qui v\u00e9rifient la condition souhait\u00e9e quelle qu'elle soit. Le temps d'ex\u00e9cution est en $O(N^2)$ et la diff\u00e9rence est vite significative."
      ]
    },
    {
      "cell_type": "code",
      "execution_count": 15,
      "metadata": {
        "ExecuteTime": {
          "end_time": "2016-11-06T13:24:15.953347",
          "start_time": "2016-11-06T13:24:13.219084"
        }
      },
      "outputs": [
        {
          "data": {
            "text/plain": [
              "(27920656, 7)"
            ]
          },
          "execution_count": 16,
          "metadata": {},
          "output_type": "execute_result"
        }
      ],
      "source": [
        "new_data2 = data.copy()\n",
        "new_data2[\"tt\"] = new_data2[\"t\"] + 1  # MAP\n",
        "new_data2[\"key\"] = 1\n",
        "new_data2 = new_data2.merge(new_data2, on=\"key\", suffixes=(\"\", \"2\")) # JOIN = MAP^2\n",
        "new_data2.shape"
      ]
    },
    {
      "cell_type": "code",
      "execution_count": 16,
      "metadata": {},
      "outputs": [
        {
          "data": {
            "text/plain": [
              "(5284, 7)"
            ]
          },
          "execution_count": 17,
          "metadata": {},
          "output_type": "execute_result"
        }
      ],
      "source": [
        "mapind = new_data2.t == new_data2.t2\n",
        "new_data2 = new_data2[mapind] # MAP\n",
        "new_data2.shape"
      ]
    },
    {
      "cell_type": "code",
      "execution_count": 17,
      "metadata": {},
      "outputs": [
        {
          "data": {
            "text/html": [
              "<div>\n",
              "<style scoped>\n",
              "    .dataframe tbody tr th:only-of-type {\n",
              "        vertical-align: middle;\n",
              "    }\n",
              "\n",
              "    .dataframe tbody tr th {\n",
              "        vertical-align: top;\n",
              "    }\n",
              "\n",
              "    .dataframe thead th {\n",
              "        text-align: right;\n",
              "    }\n",
              "</style>\n",
              "<table border=\"1\" class=\"dataframe\">\n",
              "  <thead>\n",
              "    <tr style=\"text-align: right;\">\n",
              "      <th></th>\n",
              "      <th>t</th>\n",
              "      <th>close</th>\n",
              "      <th>tt</th>\n",
              "      <th>key</th>\n",
              "      <th>t2</th>\n",
              "      <th>close2</th>\n",
              "      <th>tt2</th>\n",
              "      <th>derivee</th>\n",
              "    </tr>\n",
              "  </thead>\n",
              "  <tbody>\n",
              "    <tr>\n",
              "      <th>27899515</th>\n",
              "      <td>4660</td>\n",
              "      <td>104.190002</td>\n",
              "      <td>4661</td>\n",
              "      <td>1</td>\n",
              "      <td>4660</td>\n",
              "      <td>104.190002</td>\n",
              "      <td>4661</td>\n",
              "      <td>0</td>\n",
              "    </tr>\n",
              "    <tr>\n",
              "      <th>27904800</th>\n",
              "      <td>476</td>\n",
              "      <td>31.870001</td>\n",
              "      <td>477</td>\n",
              "      <td>1</td>\n",
              "      <td>476</td>\n",
              "      <td>31.870001</td>\n",
              "      <td>477</td>\n",
              "      <td>0</td>\n",
              "    </tr>\n",
              "    <tr>\n",
              "      <th>27910085</th>\n",
              "      <td>3522</td>\n",
              "      <td>36.910000</td>\n",
              "      <td>3523</td>\n",
              "      <td>1</td>\n",
              "      <td>3522</td>\n",
              "      <td>36.910000</td>\n",
              "      <td>3523</td>\n",
              "      <td>0</td>\n",
              "    </tr>\n",
              "    <tr>\n",
              "      <th>27915370</th>\n",
              "      <td>2867</td>\n",
              "      <td>24.670000</td>\n",
              "      <td>2868</td>\n",
              "      <td>1</td>\n",
              "      <td>2867</td>\n",
              "      <td>24.670000</td>\n",
              "      <td>2868</td>\n",
              "      <td>0</td>\n",
              "    </tr>\n",
              "    <tr>\n",
              "      <th>27920655</th>\n",
              "      <td>4348</td>\n",
              "      <td>65.480003</td>\n",
              "      <td>4349</td>\n",
              "      <td>1</td>\n",
              "      <td>4348</td>\n",
              "      <td>65.480003</td>\n",
              "      <td>4349</td>\n",
              "      <td>0</td>\n",
              "    </tr>\n",
              "  </tbody>\n",
              "</table>\n",
              "</div>"
            ],
            "text/plain": [
              "             t       close    tt  key    t2      close2   tt2  derivee\n",
              "27899515  4660  104.190002  4661    1  4660  104.190002  4661        0\n",
              "27904800   476   31.870001   477    1   476   31.870001   477        0\n",
              "27910085  3522   36.910000  3523    1  3522   36.910000  3523        0\n",
              "27915370  2867   24.670000  2868    1  2867   24.670000  2868        0\n",
              "27920655  4348   65.480003  4349    1  4348   65.480003  4349        0"
            ]
          },
          "execution_count": 18,
          "metadata": {},
          "output_type": "execute_result"
        }
      ],
      "source": [
        "new_data2[\"derivee\"] = new_data2[\"t\"] - new_data2[\"t2\"] # MAP\n",
        "new_data2.tail()"
      ]
    },
    {
      "cell_type": "markdown",
      "metadata": {},
      "source": [
        "### mesure de co\u00fbt inefficace"
      ]
    },
    {
      "cell_type": "code",
      "execution_count": 18,
      "metadata": {
        "ExecuteTime": {
          "end_time": "2016-11-06T13:24:58.448545",
          "start_time": "2016-11-06T13:24:15.957346"
        }
      },
      "outputs": [
        {
          "name": "stdout",
          "output_type": "stream",
          "text": [
            "(10,) <class 'pandas.core.series.Series'>\n",
            "                    Robust linear Model Regression Results                    \n",
            "==============================================================================\n",
            "Dep. Variable:        processing time   No. Observations:                   10\n",
            "Model:                            RLM   Df Residuals:                        5\n",
            "Method:                          IRLS   Df Model:                            4\n",
            "Norm:                          HuberT                                         \n",
            "Scale Est.:                       mad                                         \n",
            "Cov Type:                          H1                                         \n",
            "Date:                Fri, 01 Jan 2021                                         \n",
            "Time:                        03:29:44                                         \n",
            "No. Iterations:                    50                                         \n",
            "==============================================================================\n",
            "                 coef    std err          z      P>|z|      [0.025      0.975]\n",
            "------------------------------------------------------------------------------\n",
            "logN          -3.5525      6.675     -0.532      0.595     -16.635       9.530\n",
            "N              0.0226      0.027      0.837      0.403      -0.030       0.076\n",
            "NlogN         -0.0064      0.007     -0.889      0.374      -0.021       0.008\n",
            "N2          6.411e-07   3.49e-07      1.836      0.066   -4.32e-08    1.33e-06\n",
            "one            6.8518     14.218      0.482      0.630     -21.015      34.718\n",
            "==============================================================================\n",
            "\n",
            "If the model instance has been used for another fit with different fit parameters, then the fit options might not be the correct ones anymore .\n"
          ]
        },
        {
          "data": {
            "image/png": "[encoded data removed]",
            "text/plain": [
              "<Figure size 432x288 with 1 Axes>"
            ]
          },
          "metadata": {
            "needs_background": "light"
          },
          "output_type": "display_data"
        }
      ],
      "source": [
        "def derive_inefficace(data):\n",
        "    new_data2 = data.copy()\n",
        "    new_data2[\"tt\"] = new_data2[\"t\"] + 1\n",
        "    new_data2[\"key\"] = 1\n",
        "    new_data2 = new_data2.merge(new_data2, on=\"key\", suffixes=(\"\", \"2\"))\n",
        "    new_data2 = new_data2[new_data2.t == new_data2.t2]\n",
        "    new_data2[\"derivee\"] = new_data2[\"t\"] - new_data2[\"t2\"] # MAP\n",
        "    return new_data2\n",
        "\n",
        "ax, stats = graph_cout(data, h=10, nb=5, derive=derive_inefficace, add_n2=True)\n",
        "print(stats.summary())\n",
        "ax;"
      ]
    },
    {
      "cell_type": "markdown",
      "metadata": {},
      "source": [
        "## avec des it\u00e9rateurs"
      ]
    },
    {
      "cell_type": "markdown",
      "metadata": {},
      "source": [
        "### version efficace"
      ]
    },
    {
      "cell_type": "code",
      "execution_count": 19,
      "metadata": {
        "ExecuteTime": {
          "end_time": "2016-11-06T14:28:54.413236",
          "start_time": "2016-11-06T14:28:54.393235"
        }
      },
      "outputs": [
        {
          "data": {
            "text/plain": [
              "[Pandas(Index=0, t=1726, close=29.350000381469727),\n",
              " Pandas(Index=1, t=1244, close=27.11000061035156)]"
            ]
          },
          "execution_count": 20,
          "metadata": {},
          "output_type": "execute_result"
        }
      ],
      "source": [
        "rows = data[[\"t\", \"close\"]].itertuples()\n",
        "list(rows)[:2]"
      ]
    },
    {
      "cell_type": "code",
      "execution_count": 20,
      "metadata": {
        "ExecuteTime": {
          "end_time": "2016-11-06T14:30:53.321677",
          "start_time": "2016-11-06T14:30:53.295149"
        }
      },
      "outputs": [
        {
          "data": {
            "text/plain": [
              "[(1726, 29.350000381469727, 1727), (1244, 27.11000061035156, 1245)]"
            ]
          },
          "execution_count": 21,
          "metadata": {},
          "output_type": "execute_result"
        }
      ],
      "source": [
        "rows = data[[\"t\", \"close\"]].itertuples()\n",
        "rows = map(lambda r: (r.t, r.close, r.t+1), rows)\n",
        "list(rows)[:2]"
      ]
    },
    {
      "cell_type": "code",
      "execution_count": 21,
      "metadata": {
        "ExecuteTime": {
          "end_time": "2016-11-06T14:57:34.789576",
          "start_time": "2016-11-06T14:57:34.640557"
        }
      },
      "outputs": [
        {
          "data": {
            "text/plain": [
              "[(1725, 0.1100006103515625),\n",
              " (1243, -0.11999893188476918),\n",
              " (3128, -0.75),\n",
              " (4095, 0.29000091552734375)]"
            ]
          },
          "execution_count": 22,
          "metadata": {},
          "output_type": "execute_result"
        }
      ],
      "source": [
        "import copy\n",
        "from cytoolz.itertoolz import join\n",
        "\n",
        "def get_iterrows():\n",
        "    rows_as_tuple = data[[\"t\", \"close\"]].itertuples()\n",
        "    rows = map(lambda r: (r.t, r.close, r.t+1), rows_as_tuple)\n",
        "    return rows\n",
        "\n",
        "rows1 = get_iterrows()\n",
        "rows2 = get_iterrows()\n",
        "rows = join(lambda t: t[2], rows1, lambda t: t[0], rows2)\n",
        "rows = map(lambda tu: tu[0] + tu[1], rows)\n",
        "rows = map(lambda row: (row[0], row[4] - row[1]), rows)\n",
        "results = list(rows)\n",
        "results[:4]"
      ]
    },
    {
      "cell_type": "markdown",
      "metadata": {},
      "source": [
        "### version inefficace\n",
        "\n",
        "La m\u00e9thode inefficace avec *pandas* est particuli\u00e8rement inefficace car elle n\u00e9cessite de stocker un tableau interm\u00e9diaire qui contient $N^2$ lignes."
      ]
    },
    {
      "cell_type": "code",
      "execution_count": 22,
      "metadata": {
        "ExecuteTime": {
          "end_time": "2016-11-06T15:12:15.082471",
          "start_time": "2016-11-06T15:12:04.361340"
        }
      },
      "outputs": [
        {
          "data": {
            "text/plain": [
              "[(1725, 0.1100006103515625),\n",
              " (1243, -0.11999893188476918),\n",
              " (3128, -0.75),\n",
              " (4095, 0.29000091552734375)]"
            ]
          },
          "execution_count": 23,
          "metadata": {},
          "output_type": "execute_result"
        }
      ],
      "source": [
        "import copy\n",
        "from cytoolz.itertoolz import join\n",
        "\n",
        "def get_iterrows():\n",
        "    rows_as_tuple = data[[\"t\", \"close\"]].itertuples()\n",
        "    rows = map(lambda r: (r.t, r.close, r.t+1, 1), rows_as_tuple)   # on ajoute 1\n",
        "    return rows\n",
        "\n",
        "rows1 = get_iterrows()\n",
        "rows2 = get_iterrows()\n",
        "rows = join(lambda t: t[-1], rows1, lambda t: t[-1], rows2)  # on fait un produit crois\u00e9\n",
        "rows = map(lambda tu: tu[0] + tu[1], rows)\n",
        "rows = filter(lambda t: t[2] == t[4], rows)     # on filtre les lignes qui nous int\u00e9resse\n",
        "rows = map(lambda row: (row[0], row[5] - row[1]), rows)\n",
        "results = list(rows)   # c'est tr\u00e8s lent\n",
        "results[:4]"
      ]
    },
    {
      "cell_type": "markdown",
      "metadata": {},
      "source": [
        "## avec SQL"
      ]
    },
    {
      "cell_type": "markdown",
      "metadata": {
        "collapsed": true
      },
      "source": [
        "### conversion du dataframe au format SQL"
      ]
    },
    {
      "cell_type": "code",
      "execution_count": 23,
      "metadata": {
        "ExecuteTime": {
          "end_time": "2016-11-06T13:24:58.489537",
          "start_time": "2016-11-06T13:24:58.452506"
        }
      },
      "outputs": [
        {
          "data": {
            "text/html": [
              "<div>\n",
              "<style scoped>\n",
              "    .dataframe tbody tr th:only-of-type {\n",
              "        vertical-align: middle;\n",
              "    }\n",
              "\n",
              "    .dataframe tbody tr th {\n",
              "        vertical-align: top;\n",
              "    }\n",
              "\n",
              "    .dataframe thead th {\n",
              "        text-align: right;\n",
              "    }\n",
              "</style>\n",
              "<table border=\"1\" class=\"dataframe\">\n",
              "  <thead>\n",
              "    <tr style=\"text-align: right;\">\n",
              "      <th></th>\n",
              "      <th>t</th>\n",
              "      <th>Date</th>\n",
              "      <th>High</th>\n",
              "      <th>Low</th>\n",
              "      <th>Open</th>\n",
              "      <th>Close</th>\n",
              "      <th>Volume</th>\n",
              "      <th>Adj_Close</th>\n",
              "    </tr>\n",
              "  </thead>\n",
              "  <tbody>\n",
              "    <tr>\n",
              "      <th>0</th>\n",
              "      <td>0</td>\n",
              "      <td>2000-01-03</td>\n",
              "      <td>59.3125</td>\n",
              "      <td>56.00000</td>\n",
              "      <td>58.68750</td>\n",
              "      <td>58.28125</td>\n",
              "      <td>53228400.0</td>\n",
              "      <td>37.102634</td>\n",
              "    </tr>\n",
              "    <tr>\n",
              "      <th>1</th>\n",
              "      <td>1</td>\n",
              "      <td>2000-01-04</td>\n",
              "      <td>58.5625</td>\n",
              "      <td>56.12500</td>\n",
              "      <td>56.78125</td>\n",
              "      <td>56.31250</td>\n",
              "      <td>54119000.0</td>\n",
              "      <td>35.849308</td>\n",
              "    </tr>\n",
              "    <tr>\n",
              "      <th>2</th>\n",
              "      <td>2</td>\n",
              "      <td>2000-01-05</td>\n",
              "      <td>58.1875</td>\n",
              "      <td>54.68750</td>\n",
              "      <td>55.56250</td>\n",
              "      <td>56.90625</td>\n",
              "      <td>64059600.0</td>\n",
              "      <td>36.227283</td>\n",
              "    </tr>\n",
              "    <tr>\n",
              "      <th>3</th>\n",
              "      <td>3</td>\n",
              "      <td>2000-01-06</td>\n",
              "      <td>56.9375</td>\n",
              "      <td>54.18750</td>\n",
              "      <td>56.09375</td>\n",
              "      <td>55.00000</td>\n",
              "      <td>54976600.0</td>\n",
              "      <td>35.013741</td>\n",
              "    </tr>\n",
              "    <tr>\n",
              "      <th>4</th>\n",
              "      <td>4</td>\n",
              "      <td>2000-01-07</td>\n",
              "      <td>56.1250</td>\n",
              "      <td>53.65625</td>\n",
              "      <td>54.31250</td>\n",
              "      <td>55.71875</td>\n",
              "      <td>62013600.0</td>\n",
              "      <td>35.471302</td>\n",
              "    </tr>\n",
              "  </tbody>\n",
              "</table>\n",
              "</div>"
            ],
            "text/plain": [
              "   t        Date     High       Low      Open     Close      Volume  Adj_Close\n",
              "0  0  2000-01-03  59.3125  56.00000  58.68750  58.28125  53228400.0  37.102634\n",
              "1  1  2000-01-04  58.5625  56.12500  56.78125  56.31250  54119000.0  35.849308\n",
              "2  2  2000-01-05  58.1875  54.68750  55.56250  56.90625  64059600.0  36.227283\n",
              "3  3  2000-01-06  56.9375  54.18750  56.09375  55.00000  54976600.0  35.013741\n",
              "4  4  2000-01-07  56.1250  53.65625  54.31250  55.71875  62013600.0  35.471302"
            ]
          },
          "execution_count": 24,
          "metadata": {},
          "output_type": "execute_result"
        }
      ],
      "source": [
        "data = stock.df()\n",
        "data.columns = [_.replace(\" \", \"_\") for _ in data.columns]\n",
        "data = data.reset_index(drop=True).reset_index(drop=False)\n",
        "data.columns = [\"t\"] + list(data.columns[1:])\n",
        "data.head()"
      ]
    },
    {
      "cell_type": "code",
      "execution_count": 24,
      "metadata": {
        "ExecuteTime": {
          "end_time": "2016-11-06T13:24:58.636631",
          "start_time": "2016-11-06T13:24:58.493037"
        }
      },
      "outputs": [],
      "source": [
        "import sqlite3\n",
        "con = sqlite3.connect(\":memory:\")\n",
        "tbl = data.to_sql(\"stock\", con, index=False)"
      ]
    },
    {
      "cell_type": "code",
      "execution_count": 25,
      "metadata": {
        "ExecuteTime": {
          "end_time": "2016-11-06T13:24:59.346212",
          "start_time": "2016-11-06T13:24:58.640635"
        }
      },
      "outputs": [],
      "source": [
        "%load_ext pyensae"
      ]
    },
    {
      "cell_type": "code",
      "execution_count": 26,
      "metadata": {
        "ExecuteTime": {
          "end_time": "2016-11-06T13:24:59.365223",
          "start_time": "2016-11-06T13:24:59.349206"
        }
      },
      "outputs": [
        {
          "data": {
            "text/plain": [
              "['stock']"
            ]
          },
          "execution_count": 27,
          "metadata": {},
          "output_type": "execute_result"
        }
      ],
      "source": [
        "%SQL_tables -v con"
      ]
    },
    {
      "cell_type": "code",
      "execution_count": 27,
      "metadata": {
        "ExecuteTime": {
          "end_time": "2016-11-06T13:24:59.411221",
          "start_time": "2016-11-06T13:24:59.369223"
        }
      },
      "outputs": [
        {
          "data": {
            "text/html": [
              "<div>\n",
              "<style scoped>\n",
              "    .dataframe tbody tr th:only-of-type {\n",
              "        vertical-align: middle;\n",
              "    }\n",
              "\n",
              "    .dataframe tbody tr th {\n",
              "        vertical-align: top;\n",
              "    }\n",
              "\n",
              "    .dataframe thead th {\n",
              "        text-align: right;\n",
              "    }\n",
              "</style>\n",
              "<table border=\"1\" class=\"dataframe\">\n",
              "  <thead>\n",
              "    <tr style=\"text-align: right;\">\n",
              "      <th></th>\n",
              "      <th>t</th>\n",
              "      <th>Date</th>\n",
              "      <th>High</th>\n",
              "      <th>Low</th>\n",
              "      <th>Open</th>\n",
              "      <th>Close</th>\n",
              "      <th>Volume</th>\n",
              "      <th>Adj_Close</th>\n",
              "    </tr>\n",
              "  </thead>\n",
              "  <tbody>\n",
              "    <tr>\n",
              "      <th>0</th>\n",
              "      <td>0</td>\n",
              "      <td>2000-01-03</td>\n",
              "      <td>59.3125</td>\n",
              "      <td>56.00000</td>\n",
              "      <td>58.68750</td>\n",
              "      <td>58.28125</td>\n",
              "      <td>53228400.0</td>\n",
              "      <td>37.102634</td>\n",
              "    </tr>\n",
              "    <tr>\n",
              "      <th>1</th>\n",
              "      <td>1</td>\n",
              "      <td>2000-01-04</td>\n",
              "      <td>58.5625</td>\n",
              "      <td>56.12500</td>\n",
              "      <td>56.78125</td>\n",
              "      <td>56.31250</td>\n",
              "      <td>54119000.0</td>\n",
              "      <td>35.849308</td>\n",
              "    </tr>\n",
              "    <tr>\n",
              "      <th>2</th>\n",
              "      <td>2</td>\n",
              "      <td>2000-01-05</td>\n",
              "      <td>58.1875</td>\n",
              "      <td>54.68750</td>\n",
              "      <td>55.56250</td>\n",
              "      <td>56.90625</td>\n",
              "      <td>64059600.0</td>\n",
              "      <td>36.227283</td>\n",
              "    </tr>\n",
              "    <tr>\n",
              "      <th>3</th>\n",
              "      <td>3</td>\n",
              "      <td>2000-01-06</td>\n",
              "      <td>56.9375</td>\n",
              "      <td>54.18750</td>\n",
              "      <td>56.09375</td>\n",
              "      <td>55.00000</td>\n",
              "      <td>54976600.0</td>\n",
              "      <td>35.013741</td>\n",
              "    </tr>\n",
              "    <tr>\n",
              "      <th>4</th>\n",
              "      <td>4</td>\n",
              "      <td>2000-01-07</td>\n",
              "      <td>56.1250</td>\n",
              "      <td>53.65625</td>\n",
              "      <td>54.31250</td>\n",
              "      <td>55.71875</td>\n",
              "      <td>62013600.0</td>\n",
              "      <td>35.471302</td>\n",
              "    </tr>\n",
              "  </tbody>\n",
              "</table>\n",
              "</div>"
            ],
            "text/plain": [
              "   t        Date     High       Low      Open     Close      Volume  Adj_Close\n",
              "0  0  2000-01-03  59.3125  56.00000  58.68750  58.28125  53228400.0  37.102634\n",
              "1  1  2000-01-04  58.5625  56.12500  56.78125  56.31250  54119000.0  35.849308\n",
              "2  2  2000-01-05  58.1875  54.68750  55.56250  56.90625  64059600.0  36.227283\n",
              "3  3  2000-01-06  56.9375  54.18750  56.09375  55.00000  54976600.0  35.013741\n",
              "4  4  2000-01-07  56.1250  53.65625  54.31250  55.71875  62013600.0  35.471302"
            ]
          },
          "execution_count": 28,
          "metadata": {},
          "output_type": "execute_result"
        }
      ],
      "source": [
        "%%SQL -v con\n",
        "\n",
        "SELECT * FROM stock LIMIT 5"
      ]
    },
    {
      "cell_type": "markdown",
      "metadata": {},
      "source": [
        "### version efficace\n",
        "\n",
        "L'instruction ``ON`` pr\u00e9cise sur quelle ou quelles colonnes op\u00e9rer la fusion. "
      ]
    },
    {
      "cell_type": "code",
      "execution_count": 28,
      "metadata": {
        "ExecuteTime": {
          "end_time": "2016-11-06T13:27:01.936905",
          "start_time": "2016-11-06T13:27:01.874362"
        }
      },
      "outputs": [
        {
          "data": {
            "text/html": [
              "<div>\n",
              "<style scoped>\n",
              "    .dataframe tbody tr th:only-of-type {\n",
              "        vertical-align: middle;\n",
              "    }\n",
              "\n",
              "    .dataframe tbody tr th {\n",
              "        vertical-align: top;\n",
              "    }\n",
              "\n",
              "    .dataframe thead th {\n",
              "        text-align: right;\n",
              "    }\n",
              "</style>\n",
              "<table border=\"1\" class=\"dataframe\">\n",
              "  <thead>\n",
              "    <tr style=\"text-align: right;\">\n",
              "      <th></th>\n",
              "      <th>t</th>\n",
              "      <th>Close</th>\n",
              "      <th>tt</th>\n",
              "      <th>t2</th>\n",
              "      <th>Close2</th>\n",
              "      <th>tt2</th>\n",
              "    </tr>\n",
              "  </thead>\n",
              "  <tbody>\n",
              "    <tr>\n",
              "      <th>0</th>\n",
              "      <td>0</td>\n",
              "      <td>58.28125</td>\n",
              "      <td>1</td>\n",
              "      <td>1</td>\n",
              "      <td>56.31250</td>\n",
              "      <td>2</td>\n",
              "    </tr>\n",
              "    <tr>\n",
              "      <th>1</th>\n",
              "      <td>1</td>\n",
              "      <td>56.31250</td>\n",
              "      <td>2</td>\n",
              "      <td>2</td>\n",
              "      <td>56.90625</td>\n",
              "      <td>3</td>\n",
              "    </tr>\n",
              "    <tr>\n",
              "      <th>2</th>\n",
              "      <td>2</td>\n",
              "      <td>56.90625</td>\n",
              "      <td>3</td>\n",
              "      <td>3</td>\n",
              "      <td>55.00000</td>\n",
              "      <td>4</td>\n",
              "    </tr>\n",
              "    <tr>\n",
              "      <th>3</th>\n",
              "      <td>3</td>\n",
              "      <td>55.00000</td>\n",
              "      <td>4</td>\n",
              "      <td>4</td>\n",
              "      <td>55.71875</td>\n",
              "      <td>5</td>\n",
              "    </tr>\n",
              "    <tr>\n",
              "      <th>4</th>\n",
              "      <td>4</td>\n",
              "      <td>55.71875</td>\n",
              "      <td>5</td>\n",
              "      <td>5</td>\n",
              "      <td>56.12500</td>\n",
              "      <td>6</td>\n",
              "    </tr>\n",
              "    <tr>\n",
              "      <th>5</th>\n",
              "      <td>5</td>\n",
              "      <td>56.12500</td>\n",
              "      <td>6</td>\n",
              "      <td>6</td>\n",
              "      <td>54.68750</td>\n",
              "      <td>7</td>\n",
              "    </tr>\n",
              "    <tr>\n",
              "      <th>6</th>\n",
              "      <td>6</td>\n",
              "      <td>54.68750</td>\n",
              "      <td>7</td>\n",
              "      <td>7</td>\n",
              "      <td>52.90625</td>\n",
              "      <td>8</td>\n",
              "    </tr>\n",
              "    <tr>\n",
              "      <th>7</th>\n",
              "      <td>7</td>\n",
              "      <td>52.90625</td>\n",
              "      <td>8</td>\n",
              "      <td>8</td>\n",
              "      <td>53.90625</td>\n",
              "      <td>9</td>\n",
              "    </tr>\n",
              "    <tr>\n",
              "      <th>8</th>\n",
              "      <td>8</td>\n",
              "      <td>53.90625</td>\n",
              "      <td>9</td>\n",
              "      <td>9</td>\n",
              "      <td>56.12500</td>\n",
              "      <td>10</td>\n",
              "    </tr>\n",
              "    <tr>\n",
              "      <th>9</th>\n",
              "      <td>9</td>\n",
              "      <td>56.12500</td>\n",
              "      <td>10</td>\n",
              "      <td>10</td>\n",
              "      <td>57.65625</td>\n",
              "      <td>11</td>\n",
              "    </tr>\n",
              "  </tbody>\n",
              "</table>\n",
              "</div>"
            ],
            "text/plain": [
              "   t     Close  tt  t2    Close2  tt2\n",
              "0  0  58.28125   1   1  56.31250    2\n",
              "1  1  56.31250   2   2  56.90625    3\n",
              "2  2  56.90625   3   3  55.00000    4\n",
              "3  3  55.00000   4   4  55.71875    5\n",
              "4  4  55.71875   5   5  56.12500    6\n",
              "5  5  56.12500   6   6  54.68750    7\n",
              "6  6  54.68750   7   7  52.90625    8\n",
              "7  7  52.90625   8   8  53.90625    9\n",
              "8  8  53.90625   9   9  56.12500   10\n",
              "9  9  56.12500  10  10  57.65625   11"
            ]
          },
          "execution_count": 29,
          "metadata": {},
          "output_type": "execute_result"
        }
      ],
      "source": [
        "%%SQL -v con\n",
        "\n",
        "SELECT A.t AS t, A.Close AS Close, A.tt AS tt,\n",
        "       B.t AS t2, B.Close AS Close2, B.tt AS tt2\n",
        "FROM (\n",
        "    SELECT t, Close, t+1 AS tt FROM stock\n",
        "    ) AS A\n",
        "INNER JOIN (\n",
        "    SELECT t, Close, t+1 AS tt FROM stock\n",
        "    ) AS B\n",
        "ON A.tt == B.t"
      ]
    },
    {
      "cell_type": "markdown",
      "metadata": {},
      "source": [
        "### version inefficace\n",
        "\n",
        "Pour la version inefficace, l'instruction ``JOIN`` effectue tous les combinaisons de lignes possibles, soit $N^2$. Le mot-cl\u00e9 ``WHERE`` garde les couples de lignes qui nous int\u00e9resse."
      ]
    },
    {
      "cell_type": "code",
      "execution_count": 29,
      "metadata": {
        "ExecuteTime": {
          "end_time": "2016-11-06T14:08:43.948081",
          "start_time": "2016-11-06T14:08:41.336898"
        }
      },
      "outputs": [
        {
          "data": {
            "text/html": [
              "<div>\n",
              "<style scoped>\n",
              "    .dataframe tbody tr th:only-of-type {\n",
              "        vertical-align: middle;\n",
              "    }\n",
              "\n",
              "    .dataframe tbody tr th {\n",
              "        vertical-align: top;\n",
              "    }\n",
              "\n",
              "    .dataframe thead th {\n",
              "        text-align: right;\n",
              "    }\n",
              "</style>\n",
              "<table border=\"1\" class=\"dataframe\">\n",
              "  <thead>\n",
              "    <tr style=\"text-align: right;\">\n",
              "      <th></th>\n",
              "      <th>t</th>\n",
              "      <th>Close</th>\n",
              "      <th>tt</th>\n",
              "      <th>t2</th>\n",
              "      <th>Close2</th>\n",
              "      <th>tt2</th>\n",
              "    </tr>\n",
              "  </thead>\n",
              "  <tbody>\n",
              "    <tr>\n",
              "      <th>0</th>\n",
              "      <td>0</td>\n",
              "      <td>58.28125</td>\n",
              "      <td>1</td>\n",
              "      <td>1</td>\n",
              "      <td>56.31250</td>\n",
              "      <td>2</td>\n",
              "    </tr>\n",
              "    <tr>\n",
              "      <th>1</th>\n",
              "      <td>1</td>\n",
              "      <td>56.31250</td>\n",
              "      <td>2</td>\n",
              "      <td>2</td>\n",
              "      <td>56.90625</td>\n",
              "      <td>3</td>\n",
              "    </tr>\n",
              "    <tr>\n",
              "      <th>2</th>\n",
              "      <td>2</td>\n",
              "      <td>56.90625</td>\n",
              "      <td>3</td>\n",
              "      <td>3</td>\n",
              "      <td>55.00000</td>\n",
              "      <td>4</td>\n",
              "    </tr>\n",
              "    <tr>\n",
              "      <th>3</th>\n",
              "      <td>3</td>\n",
              "      <td>55.00000</td>\n",
              "      <td>4</td>\n",
              "      <td>4</td>\n",
              "      <td>55.71875</td>\n",
              "      <td>5</td>\n",
              "    </tr>\n",
              "    <tr>\n",
              "      <th>4</th>\n",
              "      <td>4</td>\n",
              "      <td>55.71875</td>\n",
              "      <td>5</td>\n",
              "      <td>5</td>\n",
              "      <td>56.12500</td>\n",
              "      <td>6</td>\n",
              "    </tr>\n",
              "    <tr>\n",
              "      <th>5</th>\n",
              "      <td>5</td>\n",
              "      <td>56.12500</td>\n",
              "      <td>6</td>\n",
              "      <td>6</td>\n",
              "      <td>54.68750</td>\n",
              "      <td>7</td>\n",
              "    </tr>\n",
              "    <tr>\n",
              "      <th>6</th>\n",
              "      <td>6</td>\n",
              "      <td>54.68750</td>\n",
              "      <td>7</td>\n",
              "      <td>7</td>\n",
              "      <td>52.90625</td>\n",
              "      <td>8</td>\n",
              "    </tr>\n",
              "    <tr>\n",
              "      <th>7</th>\n",
              "      <td>7</td>\n",
              "      <td>52.90625</td>\n",
              "      <td>8</td>\n",
              "      <td>8</td>\n",
              "      <td>53.90625</td>\n",
              "      <td>9</td>\n",
              "    </tr>\n",
              "    <tr>\n",
              "      <th>8</th>\n",
              "      <td>8</td>\n",
              "      <td>53.90625</td>\n",
              "      <td>9</td>\n",
              "      <td>9</td>\n",
              "      <td>56.12500</td>\n",
              "      <td>10</td>\n",
              "    </tr>\n",
              "    <tr>\n",
              "      <th>9</th>\n",
              "      <td>9</td>\n",
              "      <td>56.12500</td>\n",
              "      <td>10</td>\n",
              "      <td>10</td>\n",
              "      <td>57.65625</td>\n",
              "      <td>11</td>\n",
              "    </tr>\n",
              "  </tbody>\n",
              "</table>\n",
              "</div>"
            ],
            "text/plain": [
              "   t     Close  tt  t2    Close2  tt2\n",
              "0  0  58.28125   1   1  56.31250    2\n",
              "1  1  56.31250   2   2  56.90625    3\n",
              "2  2  56.90625   3   3  55.00000    4\n",
              "3  3  55.00000   4   4  55.71875    5\n",
              "4  4  55.71875   5   5  56.12500    6\n",
              "5  5  56.12500   6   6  54.68750    7\n",
              "6  6  54.68750   7   7  52.90625    8\n",
              "7  7  52.90625   8   8  53.90625    9\n",
              "8  8  53.90625   9   9  56.12500   10\n",
              "9  9  56.12500  10  10  57.65625   11"
            ]
          },
          "execution_count": 30,
          "metadata": {},
          "output_type": "execute_result"
        }
      ],
      "source": [
        "%%SQL -v con\n",
        "\n",
        "SELECT A.t AS t, A.Close AS Close, A.tt AS tt,\n",
        "       B.t AS t2, B.Close AS Close2, B.tt AS tt2\n",
        "FROM (\n",
        "    SELECT t, Close, t+1 AS tt FROM stock\n",
        "    ) AS A\n",
        "INNER JOIN (\n",
        "    SELECT t, Close, t+1 AS tt FROM stock\n",
        "    ) AS B\n",
        "WHERE A.tt >= B.t AND A.tt <= B.t -- on \u00e9crit l'\u00e9galit\u00e9 comme ceci pour contourner les optimisations\n",
        "                                  -- r\u00e9alis\u00e9e par SQLlite"
      ]
    },
    {
      "cell_type": "code",
      "execution_count": 30,
      "metadata": {},
      "outputs": [],
      "source": []
    }
  ],
  "metadata": {
    "kernelspec": {
      "display_name": "Python 3",
      "language": "python",
      "name": "python3"
    },
    "language_info": {
      "codemirror_mode": {
        "name": "ipython",
        "version": 3
      },
      "file_extension": ".py",
      "mimetype": "text/x-python",
      "name": "python",
      "nbconvert_exporter": "python",
      "pygments_lexer": "ipython3",
      "version": "3.9.1"
    }
  },
  "nbformat": 4,
  "nbformat_minor": 1
}