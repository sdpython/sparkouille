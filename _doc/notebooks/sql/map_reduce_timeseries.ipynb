{
  "cells": [
    {
      "cell_type": "markdown",
      "metadata": {},
      "source": [
        "# S\u00e9ries temporelles et map reduce\n",
        "\n",
        "Map/Reduce est un concept qui permet de distribuer les donn\u00e9es facilement si elles sont ind\u00e9pendantes. C'est une condition qu'une s\u00e9rie temporelle ne v\u00e9rifie pas du fait de la d\u00e9pendance temporelle. Voyons ce que cela change."
      ]
    },
    {
      "cell_type": "code",
      "execution_count": 1,
      "metadata": {
        "ExecuteTime": {
          "end_time": "2016-11-06T15:12:27.577069",
          "start_time": "2016-11-06T15:12:27.568568"
        }
      },
      "outputs": [
        {
          "data": {
            "text/html": [
              "<div id=\"my_id_menu_nb\">run previous cell, wait for 2 seconds</div>\n",
              "<script>\n",
              "function repeat_indent_string(n){\n",
              "    var a = \"\" ;\n",
              "    for ( ; n > 0 ; --n)\n",
              "        a += \"    \";\n",
              "    return a;\n",
              "}\n",
              "// look up into all sections and builds an automated menu //\n",
              "var update_menu_string = function(begin, lfirst, llast, sformat, send, keep_item, begin_format, end_format) {\n",
              "    var anchors = document.getElementsByClassName(\"section\");\n",
              "    if (anchors.length == 0) {\n",
              "        anchors = document.getElementsByClassName(\"text_cell_render rendered_html\");\n",
              "    }\n",
              "    var i,t;\n",
              "    var text_menu = begin;\n",
              "    var text_memo = \"<pre>\\nlength:\" + anchors.length + \"\\n\";\n",
              "    var ind = \"\";\n",
              "    var memo_level = 1;\n",
              "    var href;\n",
              "    var tags = [];\n",
              "    var main_item = 0;\n",
              "    var format_open = 0;\n",
              "    for (i = 0; i <= llast; i++)\n",
              "        tags.push(\"h\" + i);\n",
              "\n",
              "    for (i = 0; i < anchors.length; i++) {\n",
              "        text_memo += \"**\" + anchors[i].id + \"--\\n\";\n",
              "\n",
              "        var child = null;\n",
              "        for(t = 0; t < tags.length; t++) {\n",
              "            var r = anchors[i].getElementsByTagName(tags[t]);\n",
              "            if (r.length > 0) {\n",
              "child = r[0];\n",
              "break;\n",
              "            }\n",
              "        }\n",
              "        if (child == null) {\n",
              "            text_memo += \"null\\n\";\n",
              "            continue;\n",
              "        }\n",
              "        if (anchors[i].hasAttribute(\"id\")) {\n",
              "            // when converted in RST\n",
              "            href = anchors[i].id;\n",
              "            text_memo += \"#1-\" + href;\n",
              "            // passer \u00e0 child suivant (le chercher)\n",
              "        }\n",
              "        else if (child.hasAttribute(\"id\")) {\n",
              "            // in a notebook\n",
              "            href = child.id;\n",
              "            text_memo += \"#2-\" + href;\n",
              "        }\n",
              "        else {\n",
              "            text_memo += \"#3-\" + \"*\" + \"\\n\";\n",
              "            continue;\n",
              "        }\n",
              "        var title = child.textContent;\n",
              "        var level = parseInt(child.tagName.substring(1,2));\n",
              "\n",
              "        text_memo += \"--\" + level + \"?\" + lfirst + \"--\" + title + \"\\n\";\n",
              "\n",
              "        if ((level < lfirst) || (level > llast)) {\n",
              "            continue ;\n",
              "        }\n",
              "        if (title.endsWith('\u00b6')) {\n",
              "            title = title.substring(0,title.length-1).replace(\"<\", \"&lt;\")\n",
              "         .replace(\">\", \"&gt;\").replace(\"&\", \"&amp;\");\n",
              "        }\n",
              "        if (title.length == 0) {\n",
              "            continue;\n",
              "        }\n",
              "\n",
              "        while (level < memo_level) {\n",
              "            text_menu += end_format + \"</ul>\\n\";\n",
              "            format_open -= 1;\n",
              "            memo_level -= 1;\n",
              "        }\n",
              "        if (level == lfirst) {\n",
              "            main_item += 1;\n",
              "        }\n",
              "        if (keep_item != -1 && main_item != keep_item + 1) {\n",
              "            // alert(main_item + \" - \" + level + \" - \" + keep_item);\n",
              "            continue;\n",
              "        }\n",
              "        while (level > memo_level) {\n",
              "            text_menu += \"<ul>\\n\";\n",
              "            memo_level += 1;\n",
              "        }\n",
              "        text_menu += repeat_indent_string(level-2);\n",
              "        text_menu += begin_format + sformat.replace(\"__HREF__\", href).replace(\"__TITLE__\", title);\n",
              "        format_open += 1;\n",
              "    }\n",
              "    while (1 < memo_level) {\n",
              "        text_menu += end_format + \"</ul>\\n\";\n",
              "        memo_level -= 1;\n",
              "        format_open -= 1;\n",
              "    }\n",
              "    text_menu += send;\n",
              "    //text_menu += \"\\n\" + text_memo;\n",
              "\n",
              "    while (format_open > 0) {\n",
              "        text_menu += end_format;\n",
              "        format_open -= 1;\n",
              "    }\n",
              "    return text_menu;\n",
              "};\n",
              "var update_menu = function() {\n",
              "    var sbegin = \"\";\n",
              "    var sformat = '<a href=\"#__HREF__\">__TITLE__</a>';\n",
              "    var send = \"\";\n",
              "    var begin_format = '<li>';\n",
              "    var end_format = '</li>';\n",
              "    var keep_item = -1;\n",
              "    var text_menu = update_menu_string(sbegin, 2, 4, sformat, send, keep_item,\n",
              "       begin_format, end_format);\n",
              "    var menu = document.getElementById(\"my_id_menu_nb\");\n",
              "    menu.innerHTML=text_menu;\n",
              "};\n",
              "window.setTimeout(update_menu,2000);\n",
              "            </script>"
            ],
            "text/plain": [
              "<IPython.core.display.HTML object>"
            ]
          },
          "execution_count": 2,
          "metadata": {},
          "output_type": "execute_result"
        }
      ],
      "source": [
        "from jyquickhelper import add_notebook_menu\n",
        "add_notebook_menu()"
      ]
    },
    {
      "cell_type": "code",
      "execution_count": 2,
      "metadata": {},
      "outputs": [],
      "source": [
        "# R\u00e9pare une incompatibilit\u00e9 entre scipy 1.0 et statsmodels 0.8.\n",
        "from pymyinstall.fix import fix_scipy10_for_statsmodels08\n",
        "fix_scipy10_for_statsmodels08()"
      ]
    },
    {
      "cell_type": "markdown",
      "metadata": {},
      "source": [
        "On souhaite simplement calculer la d\u00e9riv\u00e9e de la s\u00e9rie temporelle : $\\Delta Y_t = Y_t - Y_{t-1}$."
      ]
    },
    {
      "cell_type": "code",
      "execution_count": 3,
      "metadata": {
        "ExecuteTime": {
          "end_time": "2016-11-06T13:23:09.162438",
          "start_time": "2016-11-06T13:23:08.659707"
        }
      },
      "outputs": [],
      "source": [
        "%matplotlib inline"
      ]
    },
    {
      "cell_type": "markdown",
      "metadata": {
        "ExecuteTime": {
          "end_time": "2016-11-05T23:12:25.652561",
          "start_time": "2016-11-05T23:12:25.627558"
        }
      },
      "source": [
        "## Data"
      ]
    },
    {
      "cell_type": "code",
      "execution_count": 4,
      "metadata": {
        "ExecuteTime": {
          "end_time": "2016-11-06T13:23:09.625559",
          "start_time": "2016-11-06T13:23:09.167444"
        }
      },
      "outputs": [
        {
          "data": {
            "text/html": [
              "<div>\n",
              "<style scoped>\n",
              "    .dataframe tbody tr th:only-of-type {\n",
              "        vertical-align: middle;\n",
              "    }\n",
              "\n",
              "    .dataframe tbody tr th {\n",
              "        vertical-align: top;\n",
              "    }\n",
              "\n",
              "    .dataframe thead th {\n",
              "        text-align: right;\n",
              "    }\n",
              "</style>\n",
              "<table border=\"1\" class=\"dataframe\">\n",
              "  <thead>\n",
              "    <tr style=\"text-align: right;\">\n",
              "      <th></th>\n",
              "      <th>Date</th>\n",
              "      <th>Open</th>\n",
              "      <th>High</th>\n",
              "      <th>Low</th>\n",
              "      <th>Close</th>\n",
              "      <th>Adj Close</th>\n",
              "      <th>Volume</th>\n",
              "    </tr>\n",
              "    <tr>\n",
              "      <th>Date</th>\n",
              "      <th></th>\n",
              "      <th></th>\n",
              "      <th></th>\n",
              "      <th></th>\n",
              "      <th></th>\n",
              "      <th></th>\n",
              "      <th></th>\n",
              "    </tr>\n",
              "  </thead>\n",
              "  <tbody>\n",
              "    <tr>\n",
              "      <th>2018-04-02</th>\n",
              "      <td>2018-04-02</td>\n",
              "      <td>90.470001</td>\n",
              "      <td>90.879997</td>\n",
              "      <td>87.510002</td>\n",
              "      <td>88.519997</td>\n",
              "      <td>88.519997</td>\n",
              "      <td>48515400</td>\n",
              "    </tr>\n",
              "    <tr>\n",
              "      <th>2018-04-03</th>\n",
              "      <td>2018-04-03</td>\n",
              "      <td>89.580002</td>\n",
              "      <td>90.050003</td>\n",
              "      <td>87.889999</td>\n",
              "      <td>89.709999</td>\n",
              "      <td>89.709999</td>\n",
              "      <td>37213800</td>\n",
              "    </tr>\n",
              "    <tr>\n",
              "      <th>2018-04-04</th>\n",
              "      <td>2018-04-04</td>\n",
              "      <td>87.849998</td>\n",
              "      <td>92.760002</td>\n",
              "      <td>87.730003</td>\n",
              "      <td>92.330002</td>\n",
              "      <td>92.330002</td>\n",
              "      <td>35560000</td>\n",
              "    </tr>\n",
              "    <tr>\n",
              "      <th>2018-04-05</th>\n",
              "      <td>2018-04-05</td>\n",
              "      <td>92.440002</td>\n",
              "      <td>93.070000</td>\n",
              "      <td>91.400002</td>\n",
              "      <td>92.379997</td>\n",
              "      <td>92.379997</td>\n",
              "      <td>29771900</td>\n",
              "    </tr>\n",
              "    <tr>\n",
              "      <th>2018-04-06</th>\n",
              "      <td>2018-04-06</td>\n",
              "      <td>91.489998</td>\n",
              "      <td>92.459999</td>\n",
              "      <td>89.480003</td>\n",
              "      <td>90.230003</td>\n",
              "      <td>90.230003</td>\n",
              "      <td>37688200</td>\n",
              "    </tr>\n",
              "  </tbody>\n",
              "</table>\n",
              "</div>"
            ],
            "text/plain": [
              "                  Date       Open       High        Low      Close  Adj Close  \\\n",
              "Date                                                                            \n",
              "2018-04-02  2018-04-02  90.470001  90.879997  87.510002  88.519997  88.519997   \n",
              "2018-04-03  2018-04-03  89.580002  90.050003  87.889999  89.709999  89.709999   \n",
              "2018-04-04  2018-04-04  87.849998  92.760002  87.730003  92.330002  92.330002   \n",
              "2018-04-05  2018-04-05  92.440002  93.070000  91.400002  92.379997  92.379997   \n",
              "2018-04-06  2018-04-06  91.489998  92.459999  89.480003  90.230003  90.230003   \n",
              "\n",
              "              Volume  \n",
              "Date                  \n",
              "2018-04-02  48515400  \n",
              "2018-04-03  37213800  \n",
              "2018-04-04  35560000  \n",
              "2018-04-05  29771900  \n",
              "2018-04-06  37688200  "
            ]
          },
          "execution_count": 5,
          "metadata": {},
          "output_type": "execute_result"
        }
      ],
      "source": [
        "from pyensae.finance import StockPrices\n",
        "stock = StockPrices(\"MSFT\", folder=\".\", url=\"yahoo\")\n",
        "stock.tail()"
      ]
    },
    {
      "cell_type": "markdown",
      "metadata": {},
      "source": [
        "On cr\u00e9e une colonne suppl\u00e9mentaire pour l'indice $t$ de la s\u00e9rie temporelle :"
      ]
    },
    {
      "cell_type": "code",
      "execution_count": 5,
      "metadata": {
        "ExecuteTime": {
          "end_time": "2016-11-06T13:23:09.646555",
          "start_time": "2016-11-06T13:23:09.629556"
        }
      },
      "outputs": [
        {
          "data": {
            "text/html": [
              "<div>\n",
              "<style scoped>\n",
              "    .dataframe tbody tr th:only-of-type {\n",
              "        vertical-align: middle;\n",
              "    }\n",
              "\n",
              "    .dataframe tbody tr th {\n",
              "        vertical-align: top;\n",
              "    }\n",
              "\n",
              "    .dataframe thead th {\n",
              "        text-align: right;\n",
              "    }\n",
              "</style>\n",
              "<table border=\"1\" class=\"dataframe\">\n",
              "  <thead>\n",
              "    <tr style=\"text-align: right;\">\n",
              "      <th></th>\n",
              "      <th>Close</th>\n",
              "    </tr>\n",
              "  </thead>\n",
              "  <tbody>\n",
              "    <tr>\n",
              "      <th>4589</th>\n",
              "      <td>88.519997</td>\n",
              "    </tr>\n",
              "    <tr>\n",
              "      <th>4590</th>\n",
              "      <td>89.709999</td>\n",
              "    </tr>\n",
              "    <tr>\n",
              "      <th>4591</th>\n",
              "      <td>92.330002</td>\n",
              "    </tr>\n",
              "    <tr>\n",
              "      <th>4592</th>\n",
              "      <td>92.379997</td>\n",
              "    </tr>\n",
              "    <tr>\n",
              "      <th>4593</th>\n",
              "      <td>90.230003</td>\n",
              "    </tr>\n",
              "  </tbody>\n",
              "</table>\n",
              "</div>"
            ],
            "text/plain": [
              "          Close\n",
              "4589  88.519997\n",
              "4590  89.709999\n",
              "4591  92.330002\n",
              "4592  92.379997\n",
              "4593  90.230003"
            ]
          },
          "execution_count": 6,
          "metadata": {},
          "output_type": "execute_result"
        }
      ],
      "source": [
        "dt = stock.df()\n",
        "dt = dt[[\"Close\"]]\n",
        "dt = dt.reset_index(drop=True)\n",
        "data = dt\n",
        "dt.tail()"
      ]
    },
    {
      "cell_type": "markdown",
      "metadata": {},
      "source": [
        "La fonction [shift](http://pandas.pydata.org/pandas-docs/stable/generated/pandas.DataFrame.shift.html) rend le calcul tr\u00e8s simple avec pandas."
      ]
    },
    {
      "cell_type": "code",
      "execution_count": 6,
      "metadata": {
        "ExecuteTime": {
          "end_time": "2016-11-06T13:23:09.686066",
          "start_time": "2016-11-06T13:23:09.650558"
        }
      },
      "outputs": [
        {
          "data": {
            "text/html": [
              "<div>\n",
              "<style scoped>\n",
              "    .dataframe tbody tr th:only-of-type {\n",
              "        vertical-align: middle;\n",
              "    }\n",
              "\n",
              "    .dataframe tbody tr th {\n",
              "        vertical-align: top;\n",
              "    }\n",
              "\n",
              "    .dataframe thead th {\n",
              "        text-align: right;\n",
              "    }\n",
              "</style>\n",
              "<table border=\"1\" class=\"dataframe\">\n",
              "  <thead>\n",
              "    <tr style=\"text-align: right;\">\n",
              "      <th></th>\n",
              "      <th>Close</th>\n",
              "      <th>Close2</th>\n",
              "      <th>delta</th>\n",
              "    </tr>\n",
              "  </thead>\n",
              "  <tbody>\n",
              "    <tr>\n",
              "      <th>4589</th>\n",
              "      <td>88.519997</td>\n",
              "      <td>91.269997</td>\n",
              "      <td>-2.750000</td>\n",
              "    </tr>\n",
              "    <tr>\n",
              "      <th>4590</th>\n",
              "      <td>89.709999</td>\n",
              "      <td>88.519997</td>\n",
              "      <td>1.190002</td>\n",
              "    </tr>\n",
              "    <tr>\n",
              "      <th>4591</th>\n",
              "      <td>92.330002</td>\n",
              "      <td>89.709999</td>\n",
              "      <td>2.620003</td>\n",
              "    </tr>\n",
              "    <tr>\n",
              "      <th>4592</th>\n",
              "      <td>92.379997</td>\n",
              "      <td>92.330002</td>\n",
              "      <td>0.049995</td>\n",
              "    </tr>\n",
              "    <tr>\n",
              "      <th>4593</th>\n",
              "      <td>90.230003</td>\n",
              "      <td>92.379997</td>\n",
              "      <td>-2.149994</td>\n",
              "    </tr>\n",
              "  </tbody>\n",
              "</table>\n",
              "</div>"
            ],
            "text/plain": [
              "          Close     Close2     delta\n",
              "4589  88.519997  91.269997 -2.750000\n",
              "4590  89.709999  88.519997  1.190002\n",
              "4591  92.330002  89.709999  2.620003\n",
              "4592  92.379997  92.330002  0.049995\n",
              "4593  90.230003  92.379997 -2.149994"
            ]
          },
          "execution_count": 7,
          "metadata": {},
          "output_type": "execute_result"
        }
      ],
      "source": [
        "data_pandas = data.copy()\n",
        "data_pandas[\"Close2\"] = data.shift(1)\n",
        "data_pandas[\"delta\"] = data_pandas[\"Close\"] - data_pandas[\"Close2\"]\n",
        "data_pandas.tail()"
      ]
    },
    {
      "cell_type": "markdown",
      "metadata": {},
      "source": [
        "La fonction est tr\u00e8s rapide car elle utilise l'ordre des donn\u00e9es et son index. Pour s'en passer, on ajoute une colonne qui contient l'index original puis on m\u00e9lange pour simuler le fait qu'en map/reduce, l'ordre des informations n'est pas connu \u00e0 l'avance."
      ]
    },
    {
      "cell_type": "code",
      "execution_count": 7,
      "metadata": {
        "ExecuteTime": {
          "end_time": "2016-11-06T13:23:09.719069",
          "start_time": "2016-11-06T13:23:09.689067"
        }
      },
      "outputs": [
        {
          "data": {
            "text/html": [
              "<div>\n",
              "<style scoped>\n",
              "    .dataframe tbody tr th:only-of-type {\n",
              "        vertical-align: middle;\n",
              "    }\n",
              "\n",
              "    .dataframe tbody tr th {\n",
              "        vertical-align: top;\n",
              "    }\n",
              "\n",
              "    .dataframe thead th {\n",
              "        text-align: right;\n",
              "    }\n",
              "</style>\n",
              "<table border=\"1\" class=\"dataframe\">\n",
              "  <thead>\n",
              "    <tr style=\"text-align: right;\">\n",
              "      <th></th>\n",
              "      <th>t</th>\n",
              "      <th>close</th>\n",
              "    </tr>\n",
              "  </thead>\n",
              "  <tbody>\n",
              "    <tr>\n",
              "      <th>4589</th>\n",
              "      <td>594</td>\n",
              "      <td>28.014999</td>\n",
              "    </tr>\n",
              "    <tr>\n",
              "      <th>4590</th>\n",
              "      <td>3287</td>\n",
              "      <td>28.010000</td>\n",
              "    </tr>\n",
              "    <tr>\n",
              "      <th>4591</th>\n",
              "      <td>3955</td>\n",
              "      <td>43.869999</td>\n",
              "    </tr>\n",
              "    <tr>\n",
              "      <th>4592</th>\n",
              "      <td>1176</td>\n",
              "      <td>27.280001</td>\n",
              "    </tr>\n",
              "    <tr>\n",
              "      <th>4593</th>\n",
              "      <td>829</td>\n",
              "      <td>25.490000</td>\n",
              "    </tr>\n",
              "  </tbody>\n",
              "</table>\n",
              "</div>"
            ],
            "text/plain": [
              "         t      close\n",
              "4589   594  28.014999\n",
              "4590  3287  28.010000\n",
              "4591  3955  43.869999\n",
              "4592  1176  27.280001\n",
              "4593   829  25.490000"
            ]
          },
          "execution_count": 8,
          "metadata": {},
          "output_type": "execute_result"
        }
      ],
      "source": [
        "import numpy\n",
        "data = dt.reindex(numpy.random.permutation(data.index))\n",
        "data = data.reset_index(drop=False)\n",
        "data.columns = [\"t\", \"close\"]\n",
        "data.tail()"
      ]
    },
    {
      "cell_type": "markdown",
      "metadata": {},
      "source": [
        "## D\u00e9riv\u00e9e avec pandas"
      ]
    },
    {
      "cell_type": "markdown",
      "metadata": {},
      "source": [
        "Le traitement de chaque ligne est ind\u00e9pendant et ne doit pas prendre en compte aucune autre ligne mais on a besoin de $Y_{t-1}$ pour calculer $\\Delta Y_t$. "
      ]
    },
    {
      "cell_type": "code",
      "execution_count": 8,
      "metadata": {
        "ExecuteTime": {
          "end_time": "2016-11-06T13:23:09.744065",
          "start_time": "2016-11-06T13:23:09.723070"
        }
      },
      "outputs": [],
      "source": [
        "data[\"tt\"] = data[\"t\"] - 1 "
      ]
    },
    {
      "cell_type": "markdown",
      "metadata": {},
      "source": [
        "### m\u00e9thode efficace\n",
        "\n",
        "Lors d'une jointure, [pandas](http://pandas.pydata.org/) va trier chaque c\u00f4t\u00e9 de la jointure par ordre croissant de cl\u00e9. S'il y a $N$ observations, cela a un co\u00fbt de $N\\ln N$, il r\u00e9alise ensuite une fusion des deux bases en ne consid\u00e9rant que les lignes partageant la m\u00eame cl\u00e9. Cette fa\u00e7on de faire ne convient que lorsqu'on fait une jointure avec une condition n'incluant que des ET logique et des \u00e9galit\u00e9s."
      ]
    },
    {
      "cell_type": "code",
      "execution_count": 9,
      "metadata": {
        "ExecuteTime": {
          "end_time": "2016-11-06T13:23:09.782092",
          "start_time": "2016-11-06T13:23:09.747575"
        }
      },
      "outputs": [
        {
          "data": {
            "text/html": [
              "<div>\n",
              "<style scoped>\n",
              "    .dataframe tbody tr th:only-of-type {\n",
              "        vertical-align: middle;\n",
              "    }\n",
              "\n",
              "    .dataframe tbody tr th {\n",
              "        vertical-align: top;\n",
              "    }\n",
              "\n",
              "    .dataframe thead th {\n",
              "        text-align: right;\n",
              "    }\n",
              "</style>\n",
              "<table border=\"1\" class=\"dataframe\">\n",
              "  <thead>\n",
              "    <tr style=\"text-align: right;\">\n",
              "      <th></th>\n",
              "      <th>t</th>\n",
              "      <th>close</th>\n",
              "      <th>tt</th>\n",
              "      <th>t2</th>\n",
              "      <th>close2</th>\n",
              "      <th>tt2</th>\n",
              "    </tr>\n",
              "  </thead>\n",
              "  <tbody>\n",
              "    <tr>\n",
              "      <th>4588</th>\n",
              "      <td>594</td>\n",
              "      <td>28.014999</td>\n",
              "      <td>593</td>\n",
              "      <td>595</td>\n",
              "      <td>27.004999</td>\n",
              "      <td>594</td>\n",
              "    </tr>\n",
              "    <tr>\n",
              "      <th>4589</th>\n",
              "      <td>3287</td>\n",
              "      <td>28.010000</td>\n",
              "      <td>3286</td>\n",
              "      <td>3288</td>\n",
              "      <td>27.850000</td>\n",
              "      <td>3287</td>\n",
              "    </tr>\n",
              "    <tr>\n",
              "      <th>4590</th>\n",
              "      <td>3955</td>\n",
              "      <td>43.869999</td>\n",
              "      <td>3954</td>\n",
              "      <td>3956</td>\n",
              "      <td>43.910000</td>\n",
              "      <td>3955</td>\n",
              "    </tr>\n",
              "    <tr>\n",
              "      <th>4591</th>\n",
              "      <td>1176</td>\n",
              "      <td>27.280001</td>\n",
              "      <td>1175</td>\n",
              "      <td>1177</td>\n",
              "      <td>27.490000</td>\n",
              "      <td>1176</td>\n",
              "    </tr>\n",
              "    <tr>\n",
              "      <th>4592</th>\n",
              "      <td>829</td>\n",
              "      <td>25.490000</td>\n",
              "      <td>828</td>\n",
              "      <td>830</td>\n",
              "      <td>25.219999</td>\n",
              "      <td>829</td>\n",
              "    </tr>\n",
              "  </tbody>\n",
              "</table>\n",
              "</div>"
            ],
            "text/plain": [
              "         t      close    tt    t2     close2   tt2\n",
              "4588   594  28.014999   593   595  27.004999   594\n",
              "4589  3287  28.010000  3286  3288  27.850000  3287\n",
              "4590  3955  43.869999  3954  3956  43.910000  3955\n",
              "4591  1176  27.280001  1175  1177  27.490000  1176\n",
              "4592   829  25.490000   828   830  25.219999   829"
            ]
          },
          "execution_count": 10,
          "metadata": {},
          "output_type": "execute_result"
        }
      ],
      "source": [
        "join = data.merge(data, left_on=\"t\", right_on=\"tt\", suffixes=(\"\", \"2\"))\n",
        "join.tail()"
      ]
    },
    {
      "cell_type": "code",
      "execution_count": 10,
      "metadata": {
        "ExecuteTime": {
          "end_time": "2016-11-06T13:23:09.815090",
          "start_time": "2016-11-06T13:23:09.786095"
        }
      },
      "outputs": [
        {
          "data": {
            "text/html": [
              "<div>\n",
              "<style scoped>\n",
              "    .dataframe tbody tr th:only-of-type {\n",
              "        vertical-align: middle;\n",
              "    }\n",
              "\n",
              "    .dataframe tbody tr th {\n",
              "        vertical-align: top;\n",
              "    }\n",
              "\n",
              "    .dataframe thead th {\n",
              "        text-align: right;\n",
              "    }\n",
              "</style>\n",
              "<table border=\"1\" class=\"dataframe\">\n",
              "  <thead>\n",
              "    <tr style=\"text-align: right;\">\n",
              "      <th></th>\n",
              "      <th>t</th>\n",
              "      <th>close</th>\n",
              "      <th>tt</th>\n",
              "      <th>t2</th>\n",
              "      <th>close2</th>\n",
              "      <th>tt2</th>\n",
              "      <th>derivee</th>\n",
              "    </tr>\n",
              "  </thead>\n",
              "  <tbody>\n",
              "    <tr>\n",
              "      <th>4588</th>\n",
              "      <td>594</td>\n",
              "      <td>28.014999</td>\n",
              "      <td>593</td>\n",
              "      <td>595</td>\n",
              "      <td>27.004999</td>\n",
              "      <td>594</td>\n",
              "      <td>1.010000</td>\n",
              "    </tr>\n",
              "    <tr>\n",
              "      <th>4589</th>\n",
              "      <td>3287</td>\n",
              "      <td>28.010000</td>\n",
              "      <td>3286</td>\n",
              "      <td>3288</td>\n",
              "      <td>27.850000</td>\n",
              "      <td>3287</td>\n",
              "      <td>0.160000</td>\n",
              "    </tr>\n",
              "    <tr>\n",
              "      <th>4590</th>\n",
              "      <td>3955</td>\n",
              "      <td>43.869999</td>\n",
              "      <td>3954</td>\n",
              "      <td>3956</td>\n",
              "      <td>43.910000</td>\n",
              "      <td>3955</td>\n",
              "      <td>-0.040001</td>\n",
              "    </tr>\n",
              "    <tr>\n",
              "      <th>4591</th>\n",
              "      <td>1176</td>\n",
              "      <td>27.280001</td>\n",
              "      <td>1175</td>\n",
              "      <td>1177</td>\n",
              "      <td>27.490000</td>\n",
              "      <td>1176</td>\n",
              "      <td>-0.209999</td>\n",
              "    </tr>\n",
              "    <tr>\n",
              "      <th>4592</th>\n",
              "      <td>829</td>\n",
              "      <td>25.490000</td>\n",
              "      <td>828</td>\n",
              "      <td>830</td>\n",
              "      <td>25.219999</td>\n",
              "      <td>829</td>\n",
              "      <td>0.270001</td>\n",
              "    </tr>\n",
              "  </tbody>\n",
              "</table>\n",
              "</div>"
            ],
            "text/plain": [
              "         t      close    tt    t2     close2   tt2   derivee\n",
              "4588   594  28.014999   593   595  27.004999   594  1.010000\n",
              "4589  3287  28.010000  3286  3288  27.850000  3287  0.160000\n",
              "4590  3955  43.869999  3954  3956  43.910000  3955 -0.040001\n",
              "4591  1176  27.280001  1175  1177  27.490000  1176 -0.209999\n",
              "4592   829  25.490000   828   830  25.219999   829  0.270001"
            ]
          },
          "execution_count": 11,
          "metadata": {},
          "output_type": "execute_result"
        }
      ],
      "source": [
        "derivee = join.copy()\n",
        "derivee[\"derivee\"] = derivee[\"close\"] - derivee[\"close2\"]\n",
        "derivee.tail()"
      ]
    },
    {
      "cell_type": "markdown",
      "metadata": {},
      "source": [
        "En r\u00e9sum\u00e9 :"
      ]
    },
    {
      "cell_type": "code",
      "execution_count": 11,
      "metadata": {
        "ExecuteTime": {
          "end_time": "2016-11-06T13:23:09.866116",
          "start_time": "2016-11-06T13:23:09.821092"
        }
      },
      "outputs": [
        {
          "name": "stdout",
          "output_type": "stream",
          "text": [
            "(4593, 7)\n"
          ]
        },
        {
          "data": {
            "text/html": [
              "<div>\n",
              "<style scoped>\n",
              "    .dataframe tbody tr th:only-of-type {\n",
              "        vertical-align: middle;\n",
              "    }\n",
              "\n",
              "    .dataframe tbody tr th {\n",
              "        vertical-align: top;\n",
              "    }\n",
              "\n",
              "    .dataframe thead th {\n",
              "        text-align: right;\n",
              "    }\n",
              "</style>\n",
              "<table border=\"1\" class=\"dataframe\">\n",
              "  <thead>\n",
              "    <tr style=\"text-align: right;\">\n",
              "      <th></th>\n",
              "      <th>t</th>\n",
              "      <th>close</th>\n",
              "      <th>tt</th>\n",
              "      <th>t2</th>\n",
              "      <th>close2</th>\n",
              "      <th>tt2</th>\n",
              "      <th>derivee</th>\n",
              "    </tr>\n",
              "  </thead>\n",
              "  <tbody>\n",
              "    <tr>\n",
              "      <th>4588</th>\n",
              "      <td>594</td>\n",
              "      <td>28.014999</td>\n",
              "      <td>595</td>\n",
              "      <td>593</td>\n",
              "      <td>27.870001</td>\n",
              "      <td>594</td>\n",
              "      <td>0.144998</td>\n",
              "    </tr>\n",
              "    <tr>\n",
              "      <th>4589</th>\n",
              "      <td>3287</td>\n",
              "      <td>28.010000</td>\n",
              "      <td>3288</td>\n",
              "      <td>3286</td>\n",
              "      <td>27.910000</td>\n",
              "      <td>3287</td>\n",
              "      <td>0.100000</td>\n",
              "    </tr>\n",
              "    <tr>\n",
              "      <th>4590</th>\n",
              "      <td>3955</td>\n",
              "      <td>43.869999</td>\n",
              "      <td>3956</td>\n",
              "      <td>3954</td>\n",
              "      <td>43.900002</td>\n",
              "      <td>3955</td>\n",
              "      <td>-0.030003</td>\n",
              "    </tr>\n",
              "    <tr>\n",
              "      <th>4591</th>\n",
              "      <td>1176</td>\n",
              "      <td>27.280001</td>\n",
              "      <td>1177</td>\n",
              "      <td>1175</td>\n",
              "      <td>27.260000</td>\n",
              "      <td>1176</td>\n",
              "      <td>0.020001</td>\n",
              "    </tr>\n",
              "    <tr>\n",
              "      <th>4592</th>\n",
              "      <td>829</td>\n",
              "      <td>25.490000</td>\n",
              "      <td>830</td>\n",
              "      <td>828</td>\n",
              "      <td>25.719999</td>\n",
              "      <td>829</td>\n",
              "      <td>-0.229999</td>\n",
              "    </tr>\n",
              "  </tbody>\n",
              "</table>\n",
              "</div>"
            ],
            "text/plain": [
              "         t      close    tt    t2     close2   tt2   derivee\n",
              "4588   594  28.014999   595   593  27.870001   594  0.144998\n",
              "4589  3287  28.010000  3288  3286  27.910000  3287  0.100000\n",
              "4590  3955  43.869999  3956  3954  43.900002  3955 -0.030003\n",
              "4591  1176  27.280001  1177  1175  27.260000  1176  0.020001\n",
              "4592   829  25.490000   830   828  25.719999   829 -0.229999"
            ]
          },
          "execution_count": 12,
          "metadata": {},
          "output_type": "execute_result"
        }
      ],
      "source": [
        "new_data = data.copy()\n",
        "new_data[\"tt\"] = new_data[\"t\"] + 1  # MAP\n",
        "new_data = new_data.merge(new_data, left_on=\"t\", right_on=\"tt\", suffixes=(\"\", \"2\")) # JOIN = SORT + MAP + REDUCE\n",
        "new_data[\"derivee\"] = new_data[\"close\"] - new_data[\"close2\"] # MAP\n",
        "print(new_data.shape)\n",
        "new_data.tail()"
      ]
    },
    {
      "cell_type": "markdown",
      "metadata": {},
      "source": [
        "### mesure de co\u00fbt\n",
        "\n",
        "La s\u00e9rie n'est pas assez longue pour observer la relation entre le temps de calcul et le nombre d'observations."
      ]
    },
    {
      "cell_type": "code",
      "execution_count": 12,
      "metadata": {
        "ExecuteTime": {
          "end_time": "2016-11-06T13:23:09.882625",
          "start_time": "2016-11-06T13:23:09.872114"
        }
      },
      "outputs": [],
      "source": [
        "def derive(data):\n",
        "    new_data = data.copy()\n",
        "    new_data[\"tt\"] = new_data[\"t\"] + 1  # MAP\n",
        "    new_data = new_data.merge(new_data, left_on=\"t\", right_on=\"tt\", suffixes=(\"\", \"2\")) # JOIN = MAP + REDUCE\n",
        "    new_data[\"derivee\"] = new_data[\"close\"] - new_data[\"close2\"] # MAP\n",
        "    return new_data"
      ]
    },
    {
      "cell_type": "markdown",
      "metadata": {},
      "source": [
        "On choisit une r\u00e9gression lin\u00e9aire de type [HuberRegressor](http://scikit-learn.org/stable/modules/generated/sklearn.linear_model.HuberRegressor.html#sklearn.linear_model.HuberRegressor) pour r\u00e9gresser $C(N) \\sim a N + b \\ln N + c N \\ln N + d$. Ce mod\u00e8le est beaucoup moins sensible aux points aberrants que les autres formes de r\u00e9gressions. On utilise cette r\u00e9gression avec le module [RobustLinearModels](http://statsmodels.sourceforge.net/stable/rlm.html) du module *statsmodels* pour calculer les p-values"
      ]
    },
    {
      "cell_type": "code",
      "execution_count": 13,
      "metadata": {
        "ExecuteTime": {
          "end_time": "2016-11-06T13:23:15.446580",
          "start_time": "2016-11-06T13:23:09.886624"
        },
        "scrolled": false
      },
      "outputs": [
        {
          "name": "stderr",
          "output_type": "stream",
          "text": [
            "c:\\python364_x64\\lib\\site-packages\\statsmodels\\compat\\pandas.py:56: FutureWarning: The pandas.core.datetools module is deprecated and will be removed in a future version. Please use the pandas.tseries module instead.\n",
            "  from pandas.core import datetools\n"
          ]
        },
        {
          "name": "stdout",
          "output_type": "stream",
          "text": [
            "(91,) <class 'pandas.core.series.Series'>\n",
            "                    Robust linear Model Regression Results                    \n",
            "==============================================================================\n",
            "Dep. Variable:        processing time   No. Observations:                   91\n",
            "Model:                            RLM   Df Residuals:                       87\n",
            "Method:                          IRLS   Df Model:                            3\n",
            "Norm:                          HuberT                                         \n",
            "Scale Est.:                       mad                                         \n",
            "Cov Type:                          H1                                         \n",
            "Date:                Mon, 09 Apr 2018                                         \n",
            "Time:                        23:05:22                                         \n",
            "No. Iterations:                    30                                         \n",
            "==============================================================================\n",
            "                 coef    std err          z      P>|z|      [0.025      0.975]\n",
            "------------------------------------------------------------------------------\n",
            "logN          -0.0019      0.001     -1.494      0.135      -0.004       0.001\n",
            "N           5.014e-06   2.87e-06      1.748      0.080   -6.07e-07    1.06e-05\n",
            "NlogN      -1.179e-06   6.87e-07     -1.717      0.086   -2.53e-06    1.67e-07\n",
            "one            0.0066      0.003      2.229      0.026       0.001       0.012\n",
            "==============================================================================\n",
            "\n",
            "If the model instance has been used for another fit with different fit\n",
            "parameters, then the fit options might not be the correct ones anymore .\n"
          ]
        },
        {
          "name": "stderr",
          "output_type": "stream",
          "text": [
            "c:\\python364_x64\\lib\\site-packages\\pandas\\plotting\\_core.py:1716: UserWarning: Pandas doesn't allow columns to be created via a new attribute name - see https://pandas.pydata.org/pandas-docs/stable/indexing.html#attribute-access\n",
            "  series.name = label\n"
          ]
        },
        {
          "data": {
            "image/png": "[encoded data removed]",
            "text/plain": [
              "<Figure size 432x288 with 1 Axes>"
            ]
          },
          "metadata": {},
          "output_type": "display_data"
        }
      ],
      "source": [
        "import time, pandas, numpy, sklearn.linear_model as lin\n",
        "import matplotlib.pyplot as plt\n",
        "import statsmodels.api as smapi\n",
        "from random import randint\n",
        "\n",
        "def graph_cout(data, h=100, nb=10, add_n2=False, derive=derive):\n",
        "    dh = len(data) // h\n",
        "    res = []\n",
        "    for n in range(max(dh, 500), len(data), dh):\n",
        "        df = data[0:n+randint(-10,10)]\n",
        "        mean = []\n",
        "        for i in range(0, nb):\n",
        "            t = time.clock()\n",
        "            derive(df)\n",
        "            dt = time.clock() - t\n",
        "            mean.append(dt)\n",
        "        res.append((n, mean[len(mean)//2]))\n",
        "    # stat\n",
        "    stat = pandas.DataFrame(res, columns=[\"N\", \"processing time\"])\n",
        "    stat[\"logN\"] = numpy.log(stat[\"N\"]) / numpy.log(10)\n",
        "    stat[\"NlogN\"] = stat[\"N\"] * stat[\"logN\"]\n",
        "    stat[\"N2\"] = stat[\"N\"] * stat[\"N\"]\n",
        "    # statsmodels\n",
        "    stat[\"one\"] = 1\n",
        "    X = stat[[\"logN\", \"N\", \"NlogN\", \"N2\", \"one\"]]\n",
        "    if not add_n2:\n",
        "        X = X.drop(\"N2\", axis=1)\n",
        "    rlm_model = smapi.RLM(stat[\"processing time\"], X, M=smapi.robust.norms.HuberT())\n",
        "    rlm_results = rlm_model.fit()\n",
        "    yp = rlm_results.predict(X)\n",
        "    print(yp.shape, type(yp))\n",
        "    stat[\"smooth\"] = yp\n",
        "    # graph\n",
        "    fig, ax = plt.subplots()\n",
        "    stat.plot(x=\"N\", y=[\"processing time\", \"smooth\"], ax=ax)\n",
        "    return ax, rlm_results\n",
        "\n",
        "ax, results = graph_cout(data)\n",
        "print(results.summary())\n",
        "ax;"
      ]
    },
    {
      "cell_type": "markdown",
      "metadata": {},
      "source": [
        "Le co\u00fbt de l'algorithme est au moins lin\u00e9aire. Cela signifie que le co\u00fbt du calcul qu'on cherche \u00e0 mesurer est noy\u00e9 dans plein d'autres choses non n\u00e9gligeable. La valeur des coefficients n'indique pas grand chose car les variables $N$, $Nlog N$ \u00e9voluent sur des \u00e9chelles diff\u00e9rentes."
      ]
    },
    {
      "cell_type": "code",
      "execution_count": 14,
      "metadata": {
        "ExecuteTime": {
          "end_time": "2016-11-06T13:24:13.215086",
          "start_time": "2016-11-06T13:23:15.449584"
        }
      },
      "outputs": [
        {
          "name": "stdout",
          "output_type": "stream",
          "text": [
            "(24,) <class 'pandas.core.series.Series'>\n",
            "                    Robust linear Model Regression Results                    \n",
            "==============================================================================\n",
            "Dep. Variable:        processing time   No. Observations:                   24\n",
            "Model:                            RLM   Df Residuals:                       20\n",
            "Method:                          IRLS   Df Model:                            3\n",
            "Norm:                          HuberT                                         \n",
            "Scale Est.:                       mad                                         \n",
            "Cov Type:                          H1                                         \n",
            "Date:                Mon, 09 Apr 2018                                         \n",
            "Time:                        23:06:20                                         \n",
            "No. Iterations:                    50                                         \n",
            "==============================================================================\n",
            "                 coef    std err          z      P>|z|      [0.025      0.975]\n",
            "------------------------------------------------------------------------------\n",
            "logN          -0.0072      0.007     -1.049      0.294      -0.021       0.006\n",
            "N           5.037e-07   7.12e-07      0.708      0.479   -8.92e-07     1.9e-06\n",
            "NlogN      -2.353e-08   1.25e-07     -0.188      0.851   -2.69e-07    2.21e-07\n",
            "one            0.0290      0.026      1.110      0.267      -0.022       0.080\n",
            "==============================================================================\n",
            "\n",
            "If the model instance has been used for another fit with different fit\n",
            "parameters, then the fit options might not be the correct ones anymore .\n"
          ]
        },
        {
          "name": "stderr",
          "output_type": "stream",
          "text": [
            "c:\\python364_x64\\lib\\site-packages\\pandas\\plotting\\_core.py:1716: UserWarning: Pandas doesn't allow columns to be created via a new attribute name - see https://pandas.pydata.org/pandas-docs/stable/indexing.html#attribute-access\n",
            "  series.name = label\n"
          ]
        },
        {
          "data": {
            "image/png": "[encoded data removed]",
            "text/plain": [
              "<Figure size 432x288 with 1 Axes>"
            ]
          },
          "metadata": {},
          "output_type": "display_data"
        }
      ],
      "source": [
        "N = 200000\n",
        "from random import random\n",
        "data2 = pandas.DataFrame({\"t\":range(0,N), \"close\": [random() for i in range(0, N)]})\n",
        "ax, stats = graph_cout(data2, h=25)\n",
        "print(stats.summary())\n",
        "ax;"
      ]
    },
    {
      "cell_type": "markdown",
      "metadata": {},
      "source": [
        "Les r\u00e9sultats sont assez volatiles. Il faut regarder les intervalles de confiance et regarder lesquels n'incluent pas 0."
      ]
    },
    {
      "cell_type": "markdown",
      "metadata": {},
      "source": [
        "### m\u00e9thode inefficace\n",
        "\n",
        "Dans ce cas, on fait un produit en croix de toutes les lignes de la bases avec elles-m\u00eame puis on filtre le r\u00e9sultat pour ne garder que les lignes qui v\u00e9rifient la condition souhait\u00e9e quelle qu'elle soit. Le temps d'ex\u00e9cution est en $O(N^2)$ et la diff\u00e9rence est vite significative."
      ]
    },
    {
      "cell_type": "code",
      "execution_count": 15,
      "metadata": {
        "ExecuteTime": {
          "end_time": "2016-11-06T13:24:15.953347",
          "start_time": "2016-11-06T13:24:13.219084"
        }
      },
      "outputs": [
        {
          "name": "stdout",
          "output_type": "stream",
          "text": [
            "(21104836, 7)\n",
            "(4594, 7)\n"
          ]
        },
        {
          "data": {
            "text/html": [
              "<div>\n",
              "<style scoped>\n",
              "    .dataframe tbody tr th:only-of-type {\n",
              "        vertical-align: middle;\n",
              "    }\n",
              "\n",
              "    .dataframe tbody tr th {\n",
              "        vertical-align: top;\n",
              "    }\n",
              "\n",
              "    .dataframe thead th {\n",
              "        text-align: right;\n",
              "    }\n",
              "</style>\n",
              "<table border=\"1\" class=\"dataframe\">\n",
              "  <thead>\n",
              "    <tr style=\"text-align: right;\">\n",
              "      <th></th>\n",
              "      <th>t</th>\n",
              "      <th>close</th>\n",
              "      <th>tt</th>\n",
              "      <th>key</th>\n",
              "      <th>t2</th>\n",
              "      <th>close2</th>\n",
              "      <th>tt2</th>\n",
              "      <th>derivee</th>\n",
              "    </tr>\n",
              "  </thead>\n",
              "  <tbody>\n",
              "    <tr>\n",
              "      <th>21086455</th>\n",
              "      <td>594</td>\n",
              "      <td>28.014999</td>\n",
              "      <td>595</td>\n",
              "      <td>1</td>\n",
              "      <td>594</td>\n",
              "      <td>28.014999</td>\n",
              "      <td>595</td>\n",
              "      <td>0</td>\n",
              "    </tr>\n",
              "    <tr>\n",
              "      <th>21091050</th>\n",
              "      <td>3287</td>\n",
              "      <td>28.010000</td>\n",
              "      <td>3288</td>\n",
              "      <td>1</td>\n",
              "      <td>3287</td>\n",
              "      <td>28.010000</td>\n",
              "      <td>3288</td>\n",
              "      <td>0</td>\n",
              "    </tr>\n",
              "    <tr>\n",
              "      <th>21095645</th>\n",
              "      <td>3955</td>\n",
              "      <td>43.869999</td>\n",
              "      <td>3956</td>\n",
              "      <td>1</td>\n",
              "      <td>3955</td>\n",
              "      <td>43.869999</td>\n",
              "      <td>3956</td>\n",
              "      <td>0</td>\n",
              "    </tr>\n",
              "    <tr>\n",
              "      <th>21100240</th>\n",
              "      <td>1176</td>\n",
              "      <td>27.280001</td>\n",
              "      <td>1177</td>\n",
              "      <td>1</td>\n",
              "      <td>1176</td>\n",
              "      <td>27.280001</td>\n",
              "      <td>1177</td>\n",
              "      <td>0</td>\n",
              "    </tr>\n",
              "    <tr>\n",
              "      <th>21104835</th>\n",
              "      <td>829</td>\n",
              "      <td>25.490000</td>\n",
              "      <td>830</td>\n",
              "      <td>1</td>\n",
              "      <td>829</td>\n",
              "      <td>25.490000</td>\n",
              "      <td>830</td>\n",
              "      <td>0</td>\n",
              "    </tr>\n",
              "  </tbody>\n",
              "</table>\n",
              "</div>"
            ],
            "text/plain": [
              "             t      close    tt  key    t2     close2   tt2  derivee\n",
              "21086455   594  28.014999   595    1   594  28.014999   595        0\n",
              "21091050  3287  28.010000  3288    1  3287  28.010000  3288        0\n",
              "21095645  3955  43.869999  3956    1  3955  43.869999  3956        0\n",
              "21100240  1176  27.280001  1177    1  1176  27.280001  1177        0\n",
              "21104835   829  25.490000   830    1   829  25.490000   830        0"
            ]
          },
          "execution_count": 16,
          "metadata": {},
          "output_type": "execute_result"
        }
      ],
      "source": [
        "new_data2 = data.copy()\n",
        "new_data2[\"tt\"] = new_data2[\"t\"] + 1  # MAP\n",
        "new_data2[\"key\"] = 1\n",
        "new_data2 = new_data2.merge(new_data2, on=\"key\", suffixes=(\"\", \"2\")) # JOIN = MAP^2\n",
        "print(new_data2.shape)\n",
        "new_data2 = new_data2[new_data2.t == new_data2.t2] # MAP\n",
        "print(new_data2.shape)\n",
        "new_data2[\"derivee\"] = new_data2[\"t\"] - new_data2[\"t2\"] # MAP\n",
        "new_data2.tail()"
      ]
    },
    {
      "cell_type": "markdown",
      "metadata": {},
      "source": [
        "### mesure de co\u00fbt inefficace"
      ]
    },
    {
      "cell_type": "code",
      "execution_count": 16,
      "metadata": {
        "ExecuteTime": {
          "end_time": "2016-11-06T13:24:58.448545",
          "start_time": "2016-11-06T13:24:15.957346"
        }
      },
      "outputs": [
        {
          "name": "stdout",
          "output_type": "stream",
          "text": [
            "(9,) <class 'pandas.core.series.Series'>\n",
            "                    Robust linear Model Regression Results                    \n",
            "==============================================================================\n",
            "Dep. Variable:        processing time   No. Observations:                    9\n",
            "Model:                            RLM   Df Residuals:                        4\n",
            "Method:                          IRLS   Df Model:                            4\n",
            "Norm:                          HuberT                                         \n",
            "Scale Est.:                       mad                                         \n",
            "Cov Type:                          H1                                         \n",
            "Date:                Mon, 09 Apr 2018                                         \n",
            "Time:                        23:07:37                                         \n",
            "No. Iterations:                    33                                         \n",
            "==============================================================================\n",
            "                 coef    std err          z      P>|z|      [0.025      0.975]\n",
            "------------------------------------------------------------------------------\n",
            "logN          -2.0088      5.007     -0.401      0.688     -11.823       7.805\n",
            "N              0.0099      0.023      0.422      0.673      -0.036       0.056\n",
            "NlogN         -0.0027      0.006     -0.425      0.671      -0.015       0.010\n",
            "N2          3.545e-07    3.7e-07      0.957      0.339   -3.72e-07    1.08e-06\n",
            "one            4.1467     10.354      0.400      0.689     -16.146      24.440\n",
            "==============================================================================\n",
            "\n",
            "If the model instance has been used for another fit with different fit\n",
            "parameters, then the fit options might not be the correct ones anymore .\n"
          ]
        },
        {
          "name": "stderr",
          "output_type": "stream",
          "text": [
            "c:\\python364_x64\\lib\\site-packages\\pandas\\plotting\\_core.py:1716: UserWarning: Pandas doesn't allow columns to be created via a new attribute name - see https://pandas.pydata.org/pandas-docs/stable/indexing.html#attribute-access\n",
            "  series.name = label\n"
          ]
        },
        {
          "data": {
            "image/png": "[encoded data removed]",
            "text/plain": [
              "<Figure size 432x288 with 1 Axes>"
            ]
          },
          "metadata": {},
          "output_type": "display_data"
        }
      ],
      "source": [
        "def derive_inefficace(data):\n",
        "    new_data2 = data.copy()\n",
        "    new_data2[\"tt\"] = new_data2[\"t\"] + 1\n",
        "    new_data2[\"key\"] = 1\n",
        "    new_data2 = new_data2.merge(new_data2, on=\"key\", suffixes=(\"\", \"2\"))\n",
        "    new_data2 = new_data2[new_data2.t == new_data2.t2]\n",
        "    new_data2[\"derivee\"] = new_data2[\"t\"] - new_data2[\"t2\"] # MAP\n",
        "    return new_data2\n",
        "\n",
        "ax, stats = graph_cout(data, h=10, nb=5, derive=derive_inefficace, add_n2=True)\n",
        "print(stats.summary())\n",
        "ax;"
      ]
    },
    {
      "cell_type": "markdown",
      "metadata": {},
      "source": [
        "## avec des it\u00e9rateurs"
      ]
    },
    {
      "cell_type": "markdown",
      "metadata": {},
      "source": [
        "### version efficace"
      ]
    },
    {
      "cell_type": "code",
      "execution_count": 17,
      "metadata": {
        "ExecuteTime": {
          "end_time": "2016-11-06T14:28:54.413236",
          "start_time": "2016-11-06T14:28:54.393235"
        }
      },
      "outputs": [
        {
          "data": {
            "text/plain": [
              "[Pandas(Index=0, t=4479, close=78.809998),\n",
              " Pandas(Index=1, t=2227, close=21.299999)]"
            ]
          },
          "execution_count": 18,
          "metadata": {},
          "output_type": "execute_result"
        }
      ],
      "source": [
        "rows = data[[\"t\", \"close\"]].itertuples()\n",
        "list(rows)[:2]"
      ]
    },
    {
      "cell_type": "code",
      "execution_count": 18,
      "metadata": {
        "ExecuteTime": {
          "end_time": "2016-11-06T14:30:53.321677",
          "start_time": "2016-11-06T14:30:53.295149"
        }
      },
      "outputs": [
        {
          "data": {
            "text/plain": [
              "[(4479, 78.809998, 4480), (2227, 21.299999, 2228)]"
            ]
          },
          "execution_count": 19,
          "metadata": {},
          "output_type": "execute_result"
        }
      ],
      "source": [
        "rows = data[[\"t\", \"close\"]].itertuples()\n",
        "rows = map(lambda r: (r.t, r.close, r.t+1), rows)\n",
        "list(rows)[:2]"
      ]
    },
    {
      "cell_type": "code",
      "execution_count": 19,
      "metadata": {
        "ExecuteTime": {
          "end_time": "2016-11-06T14:57:34.789576",
          "start_time": "2016-11-06T14:57:34.640557"
        }
      },
      "outputs": [
        {
          "data": {
            "text/plain": [
              "[(4478, 0.8999939999999924), (2226, -0.20000100000000032)]"
            ]
          },
          "execution_count": 20,
          "metadata": {},
          "output_type": "execute_result"
        }
      ],
      "source": [
        "import copy\n",
        "from cytoolz.itertoolz import join\n",
        "rows = data[[\"t\", \"close\"]].itertuples()\n",
        "rows = map(lambda r: (r.t, r.close, r.t+1), rows)\n",
        "rows = join(lambda t: t[2], rows, lambda t: t[0], copy.deepcopy(rows))\n",
        "rows = map(lambda tu: tu[0] + tu[1], rows)\n",
        "rows = map(lambda row: (row[0], row[4] - row[1]), rows)\n",
        "results = list(rows)\n",
        "results[:2]"
      ]
    },
    {
      "cell_type": "markdown",
      "metadata": {},
      "source": [
        "### version inefficace\n",
        "\n",
        "La m\u00e9thode inefficace avec *pandas* est particuli\u00e8rement inefficace car elle n\u00e9cessite de stocker un tableau interm\u00e9diaire qui contient $N^2$ lignes."
      ]
    },
    {
      "cell_type": "code",
      "execution_count": 20,
      "metadata": {
        "ExecuteTime": {
          "end_time": "2016-11-06T15:12:15.082471",
          "start_time": "2016-11-06T15:12:04.361340"
        }
      },
      "outputs": [
        {
          "data": {
            "text/plain": [
              "[(4478, 0.8999939999999924),\n",
              " (2226, -0.20000100000000032),\n",
              " (909, 0.9199999999999982),\n",
              " (4511, -0.29000100000000373)]"
            ]
          },
          "execution_count": 21,
          "metadata": {},
          "output_type": "execute_result"
        }
      ],
      "source": [
        "import copy\n",
        "from cytoolz.itertoolz import join\n",
        "rows = data[[\"t\", \"close\"]].itertuples()\n",
        "rows = map(lambda r: (r.t, r.close, r.t+1, 1), rows)   # on ajoute 1\n",
        "rows = join(lambda t: t[-1], rows, lambda t: t[-1], copy.deepcopy(rows))  # on fait un produit crois\u00e9\n",
        "rows = map(lambda tu: tu[0] + tu[1], rows)\n",
        "rows = filter(lambda t: t[2] == t[4], rows)     # on filtre les lignes qui nous int\u00e9resse\n",
        "rows = map(lambda row: (row[0], row[5] - row[1]), rows)\n",
        "results = list(rows)   # c'est tr\u00e8s lent\n",
        "results[:4]"
      ]
    },
    {
      "cell_type": "markdown",
      "metadata": {},
      "source": [
        "## avec SQL"
      ]
    },
    {
      "cell_type": "markdown",
      "metadata": {
        "collapsed": true
      },
      "source": [
        "### conversion du dataframe au format SQL"
      ]
    },
    {
      "cell_type": "code",
      "execution_count": 21,
      "metadata": {
        "ExecuteTime": {
          "end_time": "2016-11-06T13:24:58.489537",
          "start_time": "2016-11-06T13:24:58.452506"
        }
      },
      "outputs": [
        {
          "data": {
            "text/html": [
              "<div>\n",
              "<style scoped>\n",
              "    .dataframe tbody tr th:only-of-type {\n",
              "        vertical-align: middle;\n",
              "    }\n",
              "\n",
              "    .dataframe tbody tr th {\n",
              "        vertical-align: top;\n",
              "    }\n",
              "\n",
              "    .dataframe thead th {\n",
              "        text-align: right;\n",
              "    }\n",
              "</style>\n",
              "<table border=\"1\" class=\"dataframe\">\n",
              "  <thead>\n",
              "    <tr style=\"text-align: right;\">\n",
              "      <th></th>\n",
              "      <th>t</th>\n",
              "      <th>Date</th>\n",
              "      <th>Open</th>\n",
              "      <th>High</th>\n",
              "      <th>Low</th>\n",
              "      <th>Close</th>\n",
              "      <th>Adj_Close</th>\n",
              "      <th>Volume</th>\n",
              "    </tr>\n",
              "  </thead>\n",
              "  <tbody>\n",
              "    <tr>\n",
              "      <th>0</th>\n",
              "      <td>0</td>\n",
              "      <td>2000-01-03</td>\n",
              "      <td>58.68750</td>\n",
              "      <td>59.3125</td>\n",
              "      <td>56.00000</td>\n",
              "      <td>58.28125</td>\n",
              "      <td>42.826191</td>\n",
              "      <td>53228400</td>\n",
              "    </tr>\n",
              "    <tr>\n",
              "      <th>1</th>\n",
              "      <td>1</td>\n",
              "      <td>2000-01-04</td>\n",
              "      <td>56.78125</td>\n",
              "      <td>58.5625</td>\n",
              "      <td>56.12500</td>\n",
              "      <td>56.31250</td>\n",
              "      <td>41.379513</td>\n",
              "      <td>54119000</td>\n",
              "    </tr>\n",
              "    <tr>\n",
              "      <th>2</th>\n",
              "      <td>2</td>\n",
              "      <td>2000-01-05</td>\n",
              "      <td>55.56250</td>\n",
              "      <td>58.1875</td>\n",
              "      <td>54.68750</td>\n",
              "      <td>56.90625</td>\n",
              "      <td>41.815826</td>\n",
              "      <td>64059600</td>\n",
              "    </tr>\n",
              "    <tr>\n",
              "      <th>3</th>\n",
              "      <td>3</td>\n",
              "      <td>2000-01-06</td>\n",
              "      <td>56.09375</td>\n",
              "      <td>56.9375</td>\n",
              "      <td>54.18750</td>\n",
              "      <td>55.00000</td>\n",
              "      <td>40.415058</td>\n",
              "      <td>54976600</td>\n",
              "    </tr>\n",
              "    <tr>\n",
              "      <th>4</th>\n",
              "      <td>4</td>\n",
              "      <td>2000-01-07</td>\n",
              "      <td>54.31250</td>\n",
              "      <td>56.1250</td>\n",
              "      <td>53.65625</td>\n",
              "      <td>55.71875</td>\n",
              "      <td>40.943214</td>\n",
              "      <td>62013600</td>\n",
              "    </tr>\n",
              "  </tbody>\n",
              "</table>\n",
              "</div>"
            ],
            "text/plain": [
              "   t        Date      Open     High       Low     Close  Adj_Close    Volume\n",
              "0  0  2000-01-03  58.68750  59.3125  56.00000  58.28125  42.826191  53228400\n",
              "1  1  2000-01-04  56.78125  58.5625  56.12500  56.31250  41.379513  54119000\n",
              "2  2  2000-01-05  55.56250  58.1875  54.68750  56.90625  41.815826  64059600\n",
              "3  3  2000-01-06  56.09375  56.9375  54.18750  55.00000  40.415058  54976600\n",
              "4  4  2000-01-07  54.31250  56.1250  53.65625  55.71875  40.943214  62013600"
            ]
          },
          "execution_count": 22,
          "metadata": {},
          "output_type": "execute_result"
        }
      ],
      "source": [
        "data = stock.df()\n",
        "data.columns = [_.replace(\" \", \"_\") for _ in data.columns]\n",
        "data = data.reset_index(drop=True).reset_index(drop=False)\n",
        "data.columns = [\"t\"] + list(data.columns[1:])\n",
        "data.head()"
      ]
    },
    {
      "cell_type": "code",
      "execution_count": 22,
      "metadata": {
        "ExecuteTime": {
          "end_time": "2016-11-06T13:24:58.636631",
          "start_time": "2016-11-06T13:24:58.493037"
        }
      },
      "outputs": [],
      "source": [
        "import sqlite3\n",
        "con = sqlite3.connect(\":memory:\")\n",
        "tbl = data.to_sql(\"stock\", con, index=False)"
      ]
    },
    {
      "cell_type": "code",
      "execution_count": 23,
      "metadata": {
        "ExecuteTime": {
          "end_time": "2016-11-06T13:24:59.346212",
          "start_time": "2016-11-06T13:24:58.640635"
        }
      },
      "outputs": [],
      "source": [
        "%load_ext pyensae"
      ]
    },
    {
      "cell_type": "code",
      "execution_count": 24,
      "metadata": {
        "ExecuteTime": {
          "end_time": "2016-11-06T13:24:59.365223",
          "start_time": "2016-11-06T13:24:59.349206"
        }
      },
      "outputs": [
        {
          "data": {
            "text/plain": [
              "['stock']"
            ]
          },
          "execution_count": 25,
          "metadata": {},
          "output_type": "execute_result"
        }
      ],
      "source": [
        "%SQL_tables -v con"
      ]
    },
    {
      "cell_type": "code",
      "execution_count": 25,
      "metadata": {
        "ExecuteTime": {
          "end_time": "2016-11-06T13:24:59.411221",
          "start_time": "2016-11-06T13:24:59.369223"
        }
      },
      "outputs": [
        {
          "data": {
            "text/html": [
              "<div>\n",
              "<style scoped>\n",
              "    .dataframe tbody tr th:only-of-type {\n",
              "        vertical-align: middle;\n",
              "    }\n",
              "\n",
              "    .dataframe tbody tr th {\n",
              "        vertical-align: top;\n",
              "    }\n",
              "\n",
              "    .dataframe thead th {\n",
              "        text-align: right;\n",
              "    }\n",
              "</style>\n",
              "<table border=\"1\" class=\"dataframe\">\n",
              "  <thead>\n",
              "    <tr style=\"text-align: right;\">\n",
              "      <th></th>\n",
              "      <th>t</th>\n",
              "      <th>Date</th>\n",
              "      <th>Open</th>\n",
              "      <th>High</th>\n",
              "      <th>Low</th>\n",
              "      <th>Close</th>\n",
              "      <th>Adj_Close</th>\n",
              "      <th>Volume</th>\n",
              "    </tr>\n",
              "  </thead>\n",
              "  <tbody>\n",
              "    <tr>\n",
              "      <th>0</th>\n",
              "      <td>0</td>\n",
              "      <td>2000-01-03</td>\n",
              "      <td>58.68750</td>\n",
              "      <td>59.3125</td>\n",
              "      <td>56.00000</td>\n",
              "      <td>58.28125</td>\n",
              "      <td>42.826191</td>\n",
              "      <td>53228400</td>\n",
              "    </tr>\n",
              "    <tr>\n",
              "      <th>1</th>\n",
              "      <td>1</td>\n",
              "      <td>2000-01-04</td>\n",
              "      <td>56.78125</td>\n",
              "      <td>58.5625</td>\n",
              "      <td>56.12500</td>\n",
              "      <td>56.31250</td>\n",
              "      <td>41.379513</td>\n",
              "      <td>54119000</td>\n",
              "    </tr>\n",
              "    <tr>\n",
              "      <th>2</th>\n",
              "      <td>2</td>\n",
              "      <td>2000-01-05</td>\n",
              "      <td>55.56250</td>\n",
              "      <td>58.1875</td>\n",
              "      <td>54.68750</td>\n",
              "      <td>56.90625</td>\n",
              "      <td>41.815826</td>\n",
              "      <td>64059600</td>\n",
              "    </tr>\n",
              "    <tr>\n",
              "      <th>3</th>\n",
              "      <td>3</td>\n",
              "      <td>2000-01-06</td>\n",
              "      <td>56.09375</td>\n",
              "      <td>56.9375</td>\n",
              "      <td>54.18750</td>\n",
              "      <td>55.00000</td>\n",
              "      <td>40.415058</td>\n",
              "      <td>54976600</td>\n",
              "    </tr>\n",
              "    <tr>\n",
              "      <th>4</th>\n",
              "      <td>4</td>\n",
              "      <td>2000-01-07</td>\n",
              "      <td>54.31250</td>\n",
              "      <td>56.1250</td>\n",
              "      <td>53.65625</td>\n",
              "      <td>55.71875</td>\n",
              "      <td>40.943214</td>\n",
              "      <td>62013600</td>\n",
              "    </tr>\n",
              "  </tbody>\n",
              "</table>\n",
              "</div>"
            ],
            "text/plain": [
              "   t        Date      Open     High       Low     Close  Adj_Close    Volume\n",
              "0  0  2000-01-03  58.68750  59.3125  56.00000  58.28125  42.826191  53228400\n",
              "1  1  2000-01-04  56.78125  58.5625  56.12500  56.31250  41.379513  54119000\n",
              "2  2  2000-01-05  55.56250  58.1875  54.68750  56.90625  41.815826  64059600\n",
              "3  3  2000-01-06  56.09375  56.9375  54.18750  55.00000  40.415058  54976600\n",
              "4  4  2000-01-07  54.31250  56.1250  53.65625  55.71875  40.943214  62013600"
            ]
          },
          "execution_count": 26,
          "metadata": {},
          "output_type": "execute_result"
        }
      ],
      "source": [
        "%%SQL -v con\n",
        "\n",
        "SELECT * FROM stock LIMIT 5"
      ]
    },
    {
      "cell_type": "markdown",
      "metadata": {},
      "source": [
        "### version efficace\n",
        "\n",
        "L'instruction ``ON`` pr\u00e9cise sur quelle ou quelles colonnes op\u00e9rer la fusion. "
      ]
    },
    {
      "cell_type": "code",
      "execution_count": 26,
      "metadata": {
        "ExecuteTime": {
          "end_time": "2016-11-06T13:27:01.936905",
          "start_time": "2016-11-06T13:27:01.874362"
        }
      },
      "outputs": [
        {
          "data": {
            "text/html": [
              "<div>\n",
              "<style scoped>\n",
              "    .dataframe tbody tr th:only-of-type {\n",
              "        vertical-align: middle;\n",
              "    }\n",
              "\n",
              "    .dataframe tbody tr th {\n",
              "        vertical-align: top;\n",
              "    }\n",
              "\n",
              "    .dataframe thead th {\n",
              "        text-align: right;\n",
              "    }\n",
              "</style>\n",
              "<table border=\"1\" class=\"dataframe\">\n",
              "  <thead>\n",
              "    <tr style=\"text-align: right;\">\n",
              "      <th></th>\n",
              "      <th>t</th>\n",
              "      <th>Close</th>\n",
              "      <th>tt</th>\n",
              "      <th>t2</th>\n",
              "      <th>Close2</th>\n",
              "      <th>tt2</th>\n",
              "    </tr>\n",
              "  </thead>\n",
              "  <tbody>\n",
              "    <tr>\n",
              "      <th>0</th>\n",
              "      <td>0</td>\n",
              "      <td>58.28125</td>\n",
              "      <td>1</td>\n",
              "      <td>1</td>\n",
              "      <td>56.31250</td>\n",
              "      <td>2</td>\n",
              "    </tr>\n",
              "    <tr>\n",
              "      <th>1</th>\n",
              "      <td>1</td>\n",
              "      <td>56.31250</td>\n",
              "      <td>2</td>\n",
              "      <td>2</td>\n",
              "      <td>56.90625</td>\n",
              "      <td>3</td>\n",
              "    </tr>\n",
              "    <tr>\n",
              "      <th>2</th>\n",
              "      <td>2</td>\n",
              "      <td>56.90625</td>\n",
              "      <td>3</td>\n",
              "      <td>3</td>\n",
              "      <td>55.00000</td>\n",
              "      <td>4</td>\n",
              "    </tr>\n",
              "    <tr>\n",
              "      <th>3</th>\n",
              "      <td>3</td>\n",
              "      <td>55.00000</td>\n",
              "      <td>4</td>\n",
              "      <td>4</td>\n",
              "      <td>55.71875</td>\n",
              "      <td>5</td>\n",
              "    </tr>\n",
              "    <tr>\n",
              "      <th>4</th>\n",
              "      <td>4</td>\n",
              "      <td>55.71875</td>\n",
              "      <td>5</td>\n",
              "      <td>5</td>\n",
              "      <td>56.12500</td>\n",
              "      <td>6</td>\n",
              "    </tr>\n",
              "    <tr>\n",
              "      <th>5</th>\n",
              "      <td>5</td>\n",
              "      <td>56.12500</td>\n",
              "      <td>6</td>\n",
              "      <td>6</td>\n",
              "      <td>54.68750</td>\n",
              "      <td>7</td>\n",
              "    </tr>\n",
              "    <tr>\n",
              "      <th>6</th>\n",
              "      <td>6</td>\n",
              "      <td>54.68750</td>\n",
              "      <td>7</td>\n",
              "      <td>7</td>\n",
              "      <td>52.90625</td>\n",
              "      <td>8</td>\n",
              "    </tr>\n",
              "    <tr>\n",
              "      <th>7</th>\n",
              "      <td>7</td>\n",
              "      <td>52.90625</td>\n",
              "      <td>8</td>\n",
              "      <td>8</td>\n",
              "      <td>53.90625</td>\n",
              "      <td>9</td>\n",
              "    </tr>\n",
              "    <tr>\n",
              "      <th>8</th>\n",
              "      <td>8</td>\n",
              "      <td>53.90625</td>\n",
              "      <td>9</td>\n",
              "      <td>9</td>\n",
              "      <td>56.12500</td>\n",
              "      <td>10</td>\n",
              "    </tr>\n",
              "    <tr>\n",
              "      <th>9</th>\n",
              "      <td>9</td>\n",
              "      <td>56.12500</td>\n",
              "      <td>10</td>\n",
              "      <td>10</td>\n",
              "      <td>57.65625</td>\n",
              "      <td>11</td>\n",
              "    </tr>\n",
              "  </tbody>\n",
              "</table>\n",
              "</div>"
            ],
            "text/plain": [
              "   t     Close  tt  t2    Close2  tt2\n",
              "0  0  58.28125   1   1  56.31250    2\n",
              "1  1  56.31250   2   2  56.90625    3\n",
              "2  2  56.90625   3   3  55.00000    4\n",
              "3  3  55.00000   4   4  55.71875    5\n",
              "4  4  55.71875   5   5  56.12500    6\n",
              "5  5  56.12500   6   6  54.68750    7\n",
              "6  6  54.68750   7   7  52.90625    8\n",
              "7  7  52.90625   8   8  53.90625    9\n",
              "8  8  53.90625   9   9  56.12500   10\n",
              "9  9  56.12500  10  10  57.65625   11"
            ]
          },
          "execution_count": 27,
          "metadata": {},
          "output_type": "execute_result"
        }
      ],
      "source": [
        "%%SQL -v con\n",
        "\n",
        "SELECT A.t AS t, A.Close AS Close, A.tt AS tt,\n",
        "       B.t AS t2, B.Close AS Close2, B.tt AS tt2\n",
        "FROM (\n",
        "    SELECT t, Close, t+1 AS tt FROM stock\n",
        "    ) AS A\n",
        "INNER JOIN (\n",
        "    SELECT t, Close, t+1 AS tt FROM stock\n",
        "    ) AS B\n",
        "ON A.tt == B.t"
      ]
    },
    {
      "cell_type": "markdown",
      "metadata": {},
      "source": [
        "### version inefficace\n",
        "\n",
        "Pour la version inefficace, l'instruction ``JOIN`` effectue tous les combinaisons de lignes possibles, soit $N^2$. Le mot-cl\u00e9 ``WHERE`` garde les couples de lignes qui nous int\u00e9resse."
      ]
    },
    {
      "cell_type": "code",
      "execution_count": 27,
      "metadata": {
        "ExecuteTime": {
          "end_time": "2016-11-06T14:08:43.948081",
          "start_time": "2016-11-06T14:08:41.336898"
        }
      },
      "outputs": [
        {
          "data": {
            "text/html": [
              "<div>\n",
              "<style scoped>\n",
              "    .dataframe tbody tr th:only-of-type {\n",
              "        vertical-align: middle;\n",
              "    }\n",
              "\n",
              "    .dataframe tbody tr th {\n",
              "        vertical-align: top;\n",
              "    }\n",
              "\n",
              "    .dataframe thead th {\n",
              "        text-align: right;\n",
              "    }\n",
              "</style>\n",
              "<table border=\"1\" class=\"dataframe\">\n",
              "  <thead>\n",
              "    <tr style=\"text-align: right;\">\n",
              "      <th></th>\n",
              "      <th>t</th>\n",
              "      <th>Close</th>\n",
              "      <th>tt</th>\n",
              "      <th>t2</th>\n",
              "      <th>Close2</th>\n",
              "      <th>tt2</th>\n",
              "    </tr>\n",
              "  </thead>\n",
              "  <tbody>\n",
              "    <tr>\n",
              "      <th>0</th>\n",
              "      <td>0</td>\n",
              "      <td>58.28125</td>\n",
              "      <td>1</td>\n",
              "      <td>1</td>\n",
              "      <td>56.31250</td>\n",
              "      <td>2</td>\n",
              "    </tr>\n",
              "    <tr>\n",
              "      <th>1</th>\n",
              "      <td>1</td>\n",
              "      <td>56.31250</td>\n",
              "      <td>2</td>\n",
              "      <td>2</td>\n",
              "      <td>56.90625</td>\n",
              "      <td>3</td>\n",
              "    </tr>\n",
              "    <tr>\n",
              "      <th>2</th>\n",
              "      <td>2</td>\n",
              "      <td>56.90625</td>\n",
              "      <td>3</td>\n",
              "      <td>3</td>\n",
              "      <td>55.00000</td>\n",
              "      <td>4</td>\n",
              "    </tr>\n",
              "    <tr>\n",
              "      <th>3</th>\n",
              "      <td>3</td>\n",
              "      <td>55.00000</td>\n",
              "      <td>4</td>\n",
              "      <td>4</td>\n",
              "      <td>55.71875</td>\n",
              "      <td>5</td>\n",
              "    </tr>\n",
              "    <tr>\n",
              "      <th>4</th>\n",
              "      <td>4</td>\n",
              "      <td>55.71875</td>\n",
              "      <td>5</td>\n",
              "      <td>5</td>\n",
              "      <td>56.12500</td>\n",
              "      <td>6</td>\n",
              "    </tr>\n",
              "    <tr>\n",
              "      <th>5</th>\n",
              "      <td>5</td>\n",
              "      <td>56.12500</td>\n",
              "      <td>6</td>\n",
              "      <td>6</td>\n",
              "      <td>54.68750</td>\n",
              "      <td>7</td>\n",
              "    </tr>\n",
              "    <tr>\n",
              "      <th>6</th>\n",
              "      <td>6</td>\n",
              "      <td>54.68750</td>\n",
              "      <td>7</td>\n",
              "      <td>7</td>\n",
              "      <td>52.90625</td>\n",
              "      <td>8</td>\n",
              "    </tr>\n",
              "    <tr>\n",
              "      <th>7</th>\n",
              "      <td>7</td>\n",
              "      <td>52.90625</td>\n",
              "      <td>8</td>\n",
              "      <td>8</td>\n",
              "      <td>53.90625</td>\n",
              "      <td>9</td>\n",
              "    </tr>\n",
              "    <tr>\n",
              "      <th>8</th>\n",
              "      <td>8</td>\n",
              "      <td>53.90625</td>\n",
              "      <td>9</td>\n",
              "      <td>9</td>\n",
              "      <td>56.12500</td>\n",
              "      <td>10</td>\n",
              "    </tr>\n",
              "    <tr>\n",
              "      <th>9</th>\n",
              "      <td>9</td>\n",
              "      <td>56.12500</td>\n",
              "      <td>10</td>\n",
              "      <td>10</td>\n",
              "      <td>57.65625</td>\n",
              "      <td>11</td>\n",
              "    </tr>\n",
              "  </tbody>\n",
              "</table>\n",
              "</div>"
            ],
            "text/plain": [
              "   t     Close  tt  t2    Close2  tt2\n",
              "0  0  58.28125   1   1  56.31250    2\n",
              "1  1  56.31250   2   2  56.90625    3\n",
              "2  2  56.90625   3   3  55.00000    4\n",
              "3  3  55.00000   4   4  55.71875    5\n",
              "4  4  55.71875   5   5  56.12500    6\n",
              "5  5  56.12500   6   6  54.68750    7\n",
              "6  6  54.68750   7   7  52.90625    8\n",
              "7  7  52.90625   8   8  53.90625    9\n",
              "8  8  53.90625   9   9  56.12500   10\n",
              "9  9  56.12500  10  10  57.65625   11"
            ]
          },
          "execution_count": 28,
          "metadata": {},
          "output_type": "execute_result"
        }
      ],
      "source": [
        "%%SQL -v con\n",
        "\n",
        "SELECT A.t AS t, A.Close AS Close, A.tt AS tt,\n",
        "       B.t AS t2, B.Close AS Close2, B.tt AS tt2\n",
        "FROM (\n",
        "    SELECT t, Close, t+1 AS tt FROM stock\n",
        "    ) AS A\n",
        "INNER JOIN (\n",
        "    SELECT t, Close, t+1 AS tt FROM stock\n",
        "    ) AS B\n",
        "WHERE A.tt >= B.t AND A.tt <= B.t -- on \u00e9crit l'\u00e9galit\u00e9 comme ceci pour contourner les optimisations\n",
        "                                  -- r\u00e9alis\u00e9e par SQLlite"
      ]
    },
    {
      "cell_type": "code",
      "execution_count": 28,
      "metadata": {},
      "outputs": [],
      "source": []
    }
  ],
  "metadata": {
    "kernelspec": {
      "display_name": "Python 3",
      "language": "python",
      "name": "python3"
    },
    "language_info": {
      "codemirror_mode": {
        "name": "ipython",
        "version": 3
      },
      "file_extension": ".py",
      "mimetype": "text/x-python",
      "name": "python",
      "nbconvert_exporter": "python",
      "pygments_lexer": "ipython3",
      "version": "3.6.4"
    }
  },
  "nbformat": 4,
  "nbformat_minor": 1
}