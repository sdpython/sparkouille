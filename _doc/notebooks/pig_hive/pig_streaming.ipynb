{
  "cells": [
    {
      "cell_type": "markdown",
      "metadata": {},
      "source": [
        "# PIG et JSON et streaming avec les donn\u00e9es v\u00e9lib - \u00e9nonc\u00e9\n",
        "\n",
        "Manipulation de donn\u00e9es JSON en Map/Reduce avec [PIG](https://pig.apache.org/)."
      ]
    },
    {
      "cell_type": "code",
      "execution_count": 1,
      "metadata": {},
      "outputs": [
        {
          "data": {
            "text/html": [
              "<b>Plan</b>\n",
              "<div id=\"my_menu_id\">run previous cell, wait for 2 seconds</div>\n",
              "<script>\n",
              "function repeat_indent_string(n){\n",
              "    var a = \"\" ;\n",
              "    for ( ; n > 0 ; --n) {\n",
              "        a += \"    \";\n",
              "    }\n",
              "    return a;\n",
              "}\n",
              "var update_menu_string = function(begin, lfirst, llast, sformat, send) {\n",
              "    var anchors = document.getElementsByClassName(\"section\");\n",
              "    if (anchors.length == 0) {\n",
              "        anchors = document.getElementsByClassName(\"text_cell_render rendered_html\");\n",
              "    }\n",
              "    var i,t;\n",
              "    var text_menu = begin;\n",
              "    var text_memo = \"<pre>\\nlength:\" + anchors.length + \"\\n\";\n",
              "    var ind = \"\";\n",
              "    var memo_level = 1;\n",
              "    var href;\n",
              "    var tags = [];\n",
              "    for (i = 0; i <= llast; i++) {\n",
              "        tags.push(\"h\" + i);\n",
              "    }\n",
              "\n",
              "    for (i = 0; i < anchors.length; i++) {\n",
              "        text_memo += \"**\" + anchors[i].id + \"--\\n\";\n",
              "\n",
              "        var child = null;\n",
              "        for(t = 0; t < tags.length; t++) {\n",
              "            var r = anchors[i].getElementsByTagName(tags[t]);\n",
              "            if (r.length > 0) {\n",
              "child = r[0];\n",
              "break;\n",
              "            }\n",
              "        }\n",
              "        if (child == null){\n",
              "            text_memo += \"null\\n\";\n",
              "            continue;\n",
              "        }\n",
              "\n",
              "        if (anchors[i].hasAttribute(\"id\")) {\n",
              "            // when converted in RST\n",
              "            href = anchors[i].id;\n",
              "            text_memo += \"#1-\" + href;\n",
              "            // passer \u00e0 child suivant (le chercher)\n",
              "        }\n",
              "        else if (child.hasAttribute(\"id\")) {\n",
              "            // in a notebook\n",
              "            href = child.id;\n",
              "            text_memo += \"#2-\" + href;\n",
              "        }\n",
              "        else {\n",
              "            text_memo += \"#3-\" + \"*\" + \"\\n\";\n",
              "            continue;\n",
              "        }\n",
              "        var title = child.textContent;\n",
              "        var level = parseInt(child.tagName.substring(1,2));\n",
              "\n",
              "        text_memo += \"--\" + level + \"?\" + lfirst + \"--\" + title + \"\\n\";\n",
              "\n",
              "        if ((level < lfirst) || (level > llast)) {\n",
              "            continue ;\n",
              "        }\n",
              "        if (title.endsWith('\u00b6')) {\n",
              "            title = title.substring(0,title.length-1).replace(\"<\", \"&lt;\").replace(\">\", \"&gt;\").replace(\"&\", \"&amp;\")\n",
              "        }\n",
              "\n",
              "        if (title.length == 0) {\n",
              "            continue;\n",
              "        }\n",
              "        while (level > memo_level) {\n",
              "            text_menu += \"<ul>\\n\";\n",
              "            memo_level += 1;\n",
              "        }\n",
              "        while (level < memo_level) {\n",
              "            text_menu += \"</ul>\\n\";\n",
              "            memo_level -= 1;\n",
              "        }\n",
              "        text_menu += repeat_indent_string(level-2) + sformat.replace(\"__HREF__\", href).replace(\"__TITLE__\", title);\n",
              "    }\n",
              "    while (1 < memo_level) {\n",
              "        text_menu += \"</ul>\\n\";\n",
              "        memo_level -= 1;\n",
              "    }\n",
              "    text_menu += send;\n",
              "    //text_menu += \"\\n\" + text_memo;\n",
              "    return text_menu;\n",
              "};\n",
              "var update_menu = function() {\n",
              "    var sbegin = \"\";\n",
              "    var sformat = '<li><a href=\"#__HREF__\">__TITLE__</a></li>';\n",
              "    var send = \"\";\n",
              "    var text_menu = update_menu_string(sbegin, 2, 4, sformat, send);\n",
              "    var menu = document.getElementById(\"my_menu_id\");\n",
              "    menu.innerHTML=text_menu;\n",
              "};\n",
              "window.setTimeout(update_menu,2000);\n",
              "            </script>"
            ],
            "text/plain": [
              "<IPython.core.display.HTML object>"
            ]
          },
          "execution_count": 2,
          "metadata": {},
          "output_type": "execute_result"
        }
      ],
      "source": [
        "from jyquickhelper import add_notebook_menu\n",
        "add_notebook_menu()"
      ]
    },
    {
      "cell_type": "markdown",
      "metadata": {},
      "source": [
        "## R\u00e9cup\u00e9ration des donn\u00e9es\n",
        "\n",
        "Les donn\u00e9es ne se pr\u00e9sentent pas toujours sous forme de tables. Elles sont parfois non structur\u00e9es comme c'est le cas des donn\u00e9es v\u00e9lib qui sont d\u00e9crites au format [JSON](http://fr.wikipedia.org/wiki/JavaScript_Object_Notation). Le premier jeu de donn\u00e9es est le d\u00e9compte des v\u00e9los et places disponibles toutes les minutes le 11 novembre 2014 entre 22h et 23h \u00e0 Paris. Ces donn\u00e9es ont \u00e9t\u00e9 accumul\u00e9es gr\u00e2ce au programme [collect Velib data](http://www.xavierdupre.fr/app/pyensae/helpsphinx/all_example.html#collect-velib-data)."
      ]
    },
    {
      "cell_type": "code",
      "execution_count": 2,
      "metadata": {
        "collapsed": true
      },
      "outputs": [],
      "source": [
        "import pyensae.datasource\n",
        "%load_ext pyensae\n",
        "%load_ext pyenbc\n",
        "import os, datetime"
      ]
    },
    {
      "cell_type": "code",
      "execution_count": 3,
      "metadata": {},
      "outputs": [
        {
          "data": {
            "text/plain": [
              "['velib\\\\paris.2014-11-11_22-00-18.331391.txt',\n",
              " 'velib\\\\paris.2014-11-11_22-01-17.859194.txt']"
            ]
          },
          "execution_count": 4,
          "metadata": {},
          "output_type": "execute_result"
        }
      ],
      "source": [
        "if not os.path.exists(\"velib\") : os.mkdir(\"velib\")\n",
        "files=pyensae.datasource.download_data(\"data_velib_paris_2014-11-11_22-23.zip\", website=\"xdtd\", whereTo=\"velib\")\n",
        "files[:2]"
      ]
    },
    {
      "cell_type": "markdown",
      "metadata": {},
      "source": [
        "On regarde un extrait :"
      ]
    },
    {
      "cell_type": "code",
      "execution_count": 4,
      "metadata": {},
      "outputs": [
        {
          "data": {
            "text/plain": [
              "\"[{'address': 'RUE DES CHAMPEAUX (PRES DE LA GARE ROUTIERE) - 93170 BAGNOLET', 'collect_date': datetime.datetime(2014, 11, 11, 22, 0, 18, 628226), 'lng': 2.416170724425901, 'contract_name': 'Paris', 'name': '31705 - CHAMPEAUX (BAGNOLET)', 'banking': 0, 'lat': 48.8645278209514, 'bonus': 0, 'status': '...\""
            ]
          },
          "execution_count": 5,
          "metadata": {},
          "output_type": "execute_result"
        }
      ],
      "source": [
        "with open(\"velib/paris.2014-11-11_22-00-18.331391.txt\",\"r\",encoding=\"utf-8\")as f :\n",
        "    text = f.read()\n",
        "text[:300] + \"...\""
      ]
    },
    {
      "cell_type": "markdown",
      "metadata": {},
      "source": [
        "Les donn\u00e9es ont \u00e9t\u00e9 sauvegard\u00e9es au format Python si bien que la fonction [eval](https://docs.python.org/3.4/library/functions.html#eval) suffit \u00e0 les r\u00e9cup\u00e9rer."
      ]
    },
    {
      "cell_type": "code",
      "execution_count": 5,
      "metadata": {},
      "outputs": [
        {
          "data": {
            "text/plain": [
              "[{'name': '31705 - CHAMPEAUX (BAGNOLET)',\n",
              "  'available_bikes': 1,\n",
              "  'status': 'OPEN',\n",
              "  'number': 31705,\n",
              "  'lng': 2.416170724425901,\n",
              "  'available_bike_stands': 49,\n",
              "  'contract_name': 'Paris',\n",
              "  'address': 'RUE DES CHAMPEAUX (PRES DE LA GARE ROUTIERE) - 93170 BAGNOLET',\n",
              "  'last_update': datetime.datetime(2014, 11, 11, 21, 55, 22),\n",
              "  'lat': 48.8645278209514,\n",
              "  'bike_stands': 50,\n",
              "  'collect_date': datetime.datetime(2014, 11, 11, 22, 0, 18, 628226),\n",
              "  'bonus': 0,\n",
              "  'banking': 0},\n",
              " {'name': '10042 - POISSONNI\u00c8RE - ENGHIEN',\n",
              "  'available_bikes': 32,\n",
              "  'status': 'OPEN',\n",
              "  'number': 10042,\n",
              "  'lng': 2.348395236282807,\n",
              "  'available_bike_stands': 1,\n",
              "  'contract_name': 'Paris',\n",
              "  'address': \"52 RUE D'ENGHIEN / ANGLE RUE DU FAUBOURG POISSONIERE - 75010 PARIS\",\n",
              "  'last_update': datetime.datetime(2014, 11, 11, 21, 59, 5),\n",
              "  'lat': 48.87242006305313,\n",
              "  'bike_stands': 33,\n",
              "  'collect_date': datetime.datetime(2014, 11, 11, 22, 0, 18, 628226),\n",
              "  'bonus': 0,\n",
              "  'banking': 0}]"
            ]
          },
          "execution_count": 6,
          "metadata": {},
          "output_type": "execute_result"
        }
      ],
      "source": [
        "data = eval(text)\n",
        "data[:2]"
      ]
    },
    {
      "cell_type": "markdown",
      "metadata": {},
      "source": [
        "Et on peut les rassembler dans un DataFrame :"
      ]
    },
    {
      "cell_type": "code",
      "execution_count": 6,
      "metadata": {},
      "outputs": [
        {
          "data": {
            "text/html": [
              "<div style=\"max-height:1000px;max-width:1500px;overflow:auto;\">\n",
              "<table border=\"1\" class=\"dataframe\">\n",
              "  <thead>\n",
              "    <tr style=\"text-align: right;\">\n",
              "      <th></th>\n",
              "      <th>address</th>\n",
              "      <th>available_bike_stands</th>\n",
              "      <th>available_bikes</th>\n",
              "      <th>banking</th>\n",
              "      <th>bike_stands</th>\n",
              "      <th>bonus</th>\n",
              "      <th>collect_date</th>\n",
              "      <th>contract_name</th>\n",
              "      <th>last_update</th>\n",
              "      <th>lat</th>\n",
              "      <th>lng</th>\n",
              "      <th>name</th>\n",
              "      <th>number</th>\n",
              "      <th>status</th>\n",
              "    </tr>\n",
              "  </thead>\n",
              "  <tbody>\n",
              "    <tr>\n",
              "      <th>0</th>\n",
              "      <td> RUE DES CHAMPEAUX (PRES DE LA GARE ROUTIERE) -...</td>\n",
              "      <td> 49</td>\n",
              "      <td>  1</td>\n",
              "      <td> 0</td>\n",
              "      <td> 50</td>\n",
              "      <td> 0</td>\n",
              "      <td>2014-11-11 22:00:18.628226</td>\n",
              "      <td> Paris</td>\n",
              "      <td>2014-11-11 21:55:22</td>\n",
              "      <td> 48.864528</td>\n",
              "      <td> 2.416171</td>\n",
              "      <td>   31705 - CHAMPEAUX (BAGNOLET)</td>\n",
              "      <td> 31705</td>\n",
              "      <td> OPEN</td>\n",
              "    </tr>\n",
              "    <tr>\n",
              "      <th>1</th>\n",
              "      <td> 52 RUE D'ENGHIEN / ANGLE RUE DU FAUBOURG POISS...</td>\n",
              "      <td>  1</td>\n",
              "      <td> 32</td>\n",
              "      <td> 0</td>\n",
              "      <td> 33</td>\n",
              "      <td> 0</td>\n",
              "      <td>2014-11-11 22:00:18.628226</td>\n",
              "      <td> Paris</td>\n",
              "      <td>2014-11-11 21:59:05</td>\n",
              "      <td> 48.872420</td>\n",
              "      <td> 2.348395</td>\n",
              "      <td> 10042 - POISSONNI\u00c8RE - ENGHIEN</td>\n",
              "      <td> 10042</td>\n",
              "      <td> OPEN</td>\n",
              "    </tr>\n",
              "  </tbody>\n",
              "</table>\n",
              "</div>"
            ],
            "text/plain": [
              "                                             address  available_bike_stands  \\\n",
              "0  RUE DES CHAMPEAUX (PRES DE LA GARE ROUTIERE) -...                     49   \n",
              "1  52 RUE D'ENGHIEN / ANGLE RUE DU FAUBOURG POISS...                      1   \n",
              "\n",
              "   available_bikes  banking  bike_stands  bonus               collect_date  \\\n",
              "0                1        0           50      0 2014-11-11 22:00:18.628226   \n",
              "1               32        0           33      0 2014-11-11 22:00:18.628226   \n",
              "\n",
              "  contract_name         last_update        lat       lng  \\\n",
              "0         Paris 2014-11-11 21:55:22  48.864528  2.416171   \n",
              "1         Paris 2014-11-11 21:59:05  48.872420  2.348395   \n",
              "\n",
              "                             name  number status  \n",
              "0    31705 - CHAMPEAUX (BAGNOLET)   31705   OPEN  \n",
              "1  10042 - POISSONNI\u00c8RE - ENGHIEN   10042   OPEN  "
            ]
          },
          "execution_count": 7,
          "metadata": {},
          "output_type": "execute_result"
        }
      ],
      "source": [
        "import pandas\n",
        "df = pandas.DataFrame(data)\n",
        "df.head(n=2)"
      ]
    },
    {
      "cell_type": "markdown",
      "metadata": {},
      "source": [
        "Chaque ligne donne le nombre de places ``available_bike_stands`` et le nombre de v\u00e9los ``available_bikes`` disponibles \u00e0 la date ``collect_date``. La colone ``last_update`` contient l'heure du dernier retrait ou de la derni\u00e8re pose de v\u00e9lo \u00e0 cette station. Il y plus d'un millier de stations \u00e0 Paris (voir [carte](http://www.velib.paris.fr/Plan-stations))."
      ]
    },
    {
      "cell_type": "code",
      "execution_count": 7,
      "metadata": {},
      "outputs": [
        {
          "data": {
            "text/plain": [
              "(1229, 14)"
            ]
          },
          "execution_count": 8,
          "metadata": {},
          "output_type": "execute_result"
        }
      ],
      "source": [
        "df.shape"
      ]
    },
    {
      "cell_type": "code",
      "execution_count": 8,
      "metadata": {},
      "outputs": [
        {
          "data": {
            "text/plain": [
              "<matplotlib.axes.AxesSubplot at 0xcc30090>"
            ]
          },
          "execution_count": 9,
          "metadata": {},
          "output_type": "execute_result"
        },
        {
          "data": {
            "image/png": "[encoded data removed]",
            "text/plain": [
              "<matplotlib.figure.Figure at 0xcc37bf0>"
            ]
          },
          "metadata": {},
          "output_type": "display_data"
        }
      ],
      "source": [
        "df.plot(x=\"lng\",y=\"lat\",style=\".\",xlim=[2.20, 2.50])"
      ]
    },
    {
      "cell_type": "markdown",
      "metadata": {},
      "source": [
        "L'objectif est de calculer des statistiques sur ce petit jeu de donn\u00e9es puis de calculer ces m\u00eames statistiques sur des jeux plus grands. Et on va essayer de ne pas transformer les donn\u00e9es localement. Elles vont \u00eatre upload\u00e9s sur le cluster au format JSON."
      ]
    },
    {
      "cell_type": "markdown",
      "metadata": {},
      "source": [
        "## Conversion des donn\u00e9es en streaming\n",
        "\n",
        "Le format [JSON](http://fr.wikipedia.org/wiki/JavaScript_Object_Notation) telle que l'accepte PIG stipule que chaque ligne (ou observation) doit suivre le format ``{ id1: JSON, id2:valeur2, ... }``. Les cha\u00eenes de caract\u00e8res doivent \u00eatre entour\u00e9es de guillements ``\"``. Il faudrait donc modifier les fichiers pr\u00e9c\u00e9dents de telle sorte qu'ils suivent ce sch\u00e9ma. On pourrait faire quelque chose comme ceci :"
      ]
    },
    {
      "cell_type": "code",
      "execution_count": 9,
      "metadata": {},
      "outputs": [
        {
          "name": "stdout",
          "output_type": "stream",
          "text": [
            "***** velib\\paris.2014-11-11_22-00-18.331391.txt\n",
            "{\"minute\": [{\"name\": \"31705 - CHAMPEAUX (BAGNOLET)\", \"available_bikes\": 1, \"status\": \"OPEN\", \"number\": 31705, \"lng\": 2.416170724425901, \"available_bike_stands\": 49, \"contract_name\": \"Paris\", \"address\": \"RUE DES CHAMPEAUX (PRES DE LA GARE ROUTIERE) - 93170 BAGNOLET\", \"last_update\": \"2014-11-11T21:55:22\", \"lat\": 48.8645278209514, \"bike_stands\": 50, \"collect_date\": \"2014-11-11T22:00:18\", \"bonus\": 0, ...\n"
          ]
        }
      ],
      "source": [
        "import json\n",
        "\n",
        "class DateTimeEncoder(json.JSONEncoder):\n",
        "    def default(self, obj):\n",
        "        if isinstance(obj, datetime.datetime):\n",
        "            encoded_object = \"%04d-%02d-%02dT%02d:%02d:%02d\"% (obj.timetuple()[:6] )\n",
        "        else:\n",
        "            encoded_object =json.JSONEncoder.default(self, obj)\n",
        "        return encoded_object\n",
        "\n",
        "files = [ os.path.join(\"velib\",_) for _ in os.listdir(\"velib\") if \"paris\" in _ and _.endswith(\".txt\") ]\n",
        "for f in files :\n",
        "    print(\"*****\",f)\n",
        "    with open(f, \"r\", encoding=\"utf8\") as h:\n",
        "        for row in h:\n",
        "            js = eval(row)\n",
        "            sjs = json.dumps( { \"minute\":js }, cls = DateTimeEncoder )  # essayer sans le param\u00e8tre cls pour\n",
        "                                                                        # voir l'erreur que cela produit\n",
        "            print(sjs [:400] + \"...\")\n",
        "    break"
      ]
    },
    {
      "cell_type": "markdown",
      "metadata": {},
      "source": [
        "Toutefois, cette conversion pourrait tout aussi bien se produire sur le cluster. C'est ce qu'on va impl\u00e9menter avec l'instruction [STREAM](http://pig.apache.org/docs/r0.8.1/piglatin_ref2.html#STREAM). Celle-ci permet d'ins\u00e9rer du code \u00e9crit en n'importe quel langage dans un script PIG.\n",
        "\n",
        "C\u00f4t\u00e9 python, le **streaming** se r\u00e9sume \u00e0 l'\u00e9criture d'un programme qui \u00e9coute l'entr\u00e9e standard et retourne des r\u00e9sultats sur la sorties standard. Il faut \u00e9crire selon une syntaxe accept\u00e9e par Python 2 et 3. Ce notebook marche avec Python 3, la version sur le cluster est le plus souvent 2.7. Cela signifie aussi que les modules en local ne sont pas forc\u00e9ment install\u00e9s sur le cluster."
      ]
    },
    {
      "cell_type": "code",
      "execution_count": 10,
      "metadata": {
        "collapsed": true
      },
      "outputs": [],
      "source": [
        "%%PYTHON stream_json.py\n",
        "\n",
        "import sys, datetime\n",
        "cols = [ _ for _ in sys.argv if \".py\" not in _ ]\n",
        "for row in sys.stdin:\n",
        "    row = row.strip()\n",
        "    if len(row) == 0 :\n",
        "        continue\n",
        "    js = eval(row)\n",
        "    for station in js:\n",
        "        vals = [ str(station[c]) for c in cols ]\n",
        "        sys.stdout.write(\",\".join(vals))\n",
        "        sys.stdout.write(\"\\n\")\n",
        "        sys.stdout.flush()"
      ]
    },
    {
      "cell_type": "markdown",
      "metadata": {},
      "source": [
        "On teste sur quelques exemples que le script fonctionne :"
      ]
    },
    {
      "cell_type": "code",
      "execution_count": 11,
      "metadata": {},
      "outputs": [
        {
          "data": {
            "text/html": [
              "<pre>\n",
              "31705 - CHAMPEAUX (BAGNOLET),OPEN\n",
              "31705 - CHAMPEAUX (BAGNOLET),OPEN\n",
              "\n",
              "</pre>"
            ],
            "text/plain": [
              "<IPython.core.display.HTML at 0x799c830>"
            ]
          },
          "execution_count": 12,
          "metadata": {},
          "output_type": "execute_result"
        }
      ],
      "source": [
        "%%runpy stream_json.py name status\n",
        "[{'address': 'RUE DES CHAMPEAUX (PRES DE LA GARE ROUTIERE) - 93170 BAGNOLET', 'collect_date': datetime.datetime(2014, 11, 11, 22, 2, 18, 47270), 'lng': 2.416170724425901, 'contract_name': 'Paris', 'name': '31705 - CHAMPEAUX (BAGNOLET)', 'banking': 0, 'lat': 48.8645278209514, 'bonus': 0, 'status': 'OPEN', 'available_bikes': 1, 'last_update': datetime.datetime(2014, 11, 11, 21, 55, 22), 'number': 31705, 'available_bike_stands': 49, 'bike_stands': 50}]\n",
        "[{'address': 'RUE DES CHAMPEAUX (PRES DE LA GARE ROUTIERE) - 93170 BAGNOLET', 'collect_date': datetime.datetime(2014, 11, 11, 22, 2, 18, 47270), 'lng': 2.416170724425901, 'contract_name': 'Paris', 'name': '31705 - CHAMPEAUX (BAGNOLET)', 'banking': 0, 'lat': 48.8645278209514, 'bonus': 0, 'status': 'OPEN', 'available_bikes': 1, 'last_update': datetime.datetime(2014, 11, 11, 21, 55, 22), 'number': 31705, 'available_bike_stands': 49, 'bike_stands': 50}]"
      ]
    },
    {
      "cell_type": "markdown",
      "metadata": {},
      "source": [
        "Ca fonctionne. On passe au cluster maintenant."
      ]
    },
    {
      "cell_type": "markdown",
      "metadata": {},
      "source": [
        "## Connexion au cluster\n",
        "\n",
        "Dans un premier temps, on prend le cluster [Cloudera](http://www.xavierdupre.fr/app/ensae_teaching_cs/helpsphinx3/notebooks/td3a_cenonce_session6.html#p2). Il faut ex\u00e9cuter ce script pour pouvoir notifier au notebook que la variable ``params`` existe."
      ]
    },
    {
      "cell_type": "code",
      "execution_count": 12,
      "metadata": {},
      "outputs": [
        {
          "data": {
            "text/html": [
              "<div style=\"background-color:gainsboro; padding:2px; border:0px;\"><b>server + credentials</b>\n",
              "<br />password <input type=\"password\" id=\"paramspassword\" value=\"\" size=\"80\" />\n",
              "<br />server <input type=\"text\" id=\"paramsserver\" value=\"df...fr\" size=\"80\" />\n",
              "<br />username <input type=\"text\" id=\"paramsusername\" value=\"\" size=\"80\" />\n",
              "<br /><button onclick=\"set_valueparams()\">Ok</button></div>\n",
              "<script type=\"text/Javascript\">\n",
              "function paramscallback(msg) {\n",
              "   var ret = msg.content.data['text/plain'];\n",
              "   $('#outparams').text(ret);\n",
              "}\n",
              "function set_valueparams(){\n",
              "   command='params = {' ;\n",
              "   var paramspasswordvar_value = document.getElementById('paramspassword').value;\n",
              "   command += '\"password\":\"' + paramspasswordvar_value + '\",';\n",
              "   var paramsservervar_value = document.getElementById('paramsserver').value;\n",
              "   command += '\"server\":\"' + paramsservervar_value + '\",';\n",
              "   var paramsusernamevar_value = document.getElementById('paramsusername').value;\n",
              "   command += '\"username\":\"' + paramsusernamevar_value + '\",';\n",
              "   command += '}';\n",
              "   var kernel = IPython.notebook.kernel;\n",
              "   kernel.execute(command);\n",
              "}\n",
              "</script>"
            ],
            "text/plain": [
              "<IPython.core.display.HTML at 0x8d7bef0>"
            ]
          },
          "execution_count": 13,
          "metadata": {},
          "output_type": "execute_result"
        }
      ],
      "source": [
        "import pyensae\n",
        "from pyquickhelper.ipythonhelper import open_html_form\n",
        "params={\"server\":\"df...fr\", \"username\":\"\", \"password\":\"\"}\n",
        "open_html_form(params=params,title=\"server + credentials\", key_save=\"params\")"
      ]
    },
    {
      "cell_type": "code",
      "execution_count": 13,
      "metadata": {},
      "outputs": [
        {
          "data": {
            "text/plain": [
              "<pyensae.remote.remote_connection.ASSHClient at 0x7bdbbb0>"
            ]
          },
          "execution_count": 14,
          "metadata": {},
          "output_type": "execute_result"
        }
      ],
      "source": [
        "import pyensae\n",
        "%load_ext pyensae\n",
        "password = params[\"password\"]\n",
        "server = params[\"server\"]\n",
        "username = params[\"username\"]\n",
        "client = %remote_open\n",
        "client"
      ]
    },
    {
      "cell_type": "markdown",
      "metadata": {},
      "source": [
        "## Upload version"
      ]
    },
    {
      "cell_type": "markdown",
      "metadata": {},
      "source": [
        "On cr\u00e9\u00e9 un r\u00e9pertoire sur le cluster :"
      ]
    },
    {
      "cell_type": "code",
      "execution_count": 14,
      "metadata": {},
      "outputs": [
        {
          "data": {
            "text/plain": [
              "('', '')"
            ]
          },
          "execution_count": 15,
          "metadata": {},
          "output_type": "execute_result"
        }
      ],
      "source": [
        "%dfs_mkdir velib_py"
      ]
    },
    {
      "cell_type": "code",
      "execution_count": 15,
      "metadata": {},
      "outputs": [
        {
          "data": {
            "text/html": [
              "<div style=\"max-height:1000px;max-width:1500px;overflow:auto;\">\n",
              "<table border=\"1\" class=\"dataframe\">\n",
              "  <thead>\n",
              "    <tr style=\"text-align: right;\">\n",
              "      <th></th>\n",
              "      <th>attributes</th>\n",
              "      <th>code</th>\n",
              "      <th>alias</th>\n",
              "      <th>folder</th>\n",
              "      <th>size</th>\n",
              "      <th>date</th>\n",
              "      <th>time</th>\n",
              "      <th>name</th>\n",
              "      <th>isdir</th>\n",
              "    </tr>\n",
              "  </thead>\n",
              "  <tbody>\n",
              "    <tr>\n",
              "      <th>0</th>\n",
              "      <td> drwx------</td>\n",
              "      <td> -</td>\n",
              "      <td> xavierdupre</td>\n",
              "      <td> xavierdupre</td>\n",
              "      <td>      0</td>\n",
              "      <td> 2014-11-21</td>\n",
              "      <td> 01:05</td>\n",
              "      <td>                                      .Trash</td>\n",
              "      <td>  True</td>\n",
              "    </tr>\n",
              "    <tr>\n",
              "      <th>1</th>\n",
              "      <td> drwx------</td>\n",
              "      <td> -</td>\n",
              "      <td> xavierdupre</td>\n",
              "      <td> xavierdupre</td>\n",
              "      <td>      0</td>\n",
              "      <td> 2014-11-21</td>\n",
              "      <td> 01:06</td>\n",
              "      <td>                                    .staging</td>\n",
              "      <td>  True</td>\n",
              "    </tr>\n",
              "    <tr>\n",
              "      <th>2</th>\n",
              "      <td> -rw-r--r--</td>\n",
              "      <td> 3</td>\n",
              "      <td> xavierdupre</td>\n",
              "      <td> xavierdupre</td>\n",
              "      <td> 132727</td>\n",
              "      <td> 2014-11-16</td>\n",
              "      <td> 02:37</td>\n",
              "      <td>          ConfLongDemo_JSI.small.example.txt</td>\n",
              "      <td> False</td>\n",
              "    </tr>\n",
              "    <tr>\n",
              "      <th>3</th>\n",
              "      <td> drwxr-xr-x</td>\n",
              "      <td> -</td>\n",
              "      <td> xavierdupre</td>\n",
              "      <td> xavierdupre</td>\n",
              "      <td>      0</td>\n",
              "      <td> 2014-11-16</td>\n",
              "      <td> 02:38</td>\n",
              "      <td> ConfLongDemo_JSI.small.example2.walking.txt</td>\n",
              "      <td>  True</td>\n",
              "    </tr>\n",
              "    <tr>\n",
              "      <th>4</th>\n",
              "      <td> -rw-r--r--</td>\n",
              "      <td> 3</td>\n",
              "      <td> xavierdupre</td>\n",
              "      <td> xavierdupre</td>\n",
              "      <td> 461444</td>\n",
              "      <td> 2014-11-20</td>\n",
              "      <td> 01:33</td>\n",
              "      <td>        paris.2014-11-11_22-00-18.331391.txt</td>\n",
              "      <td> False</td>\n",
              "    </tr>\n",
              "    <tr>\n",
              "      <th>5</th>\n",
              "      <td> drwxr-xr-x</td>\n",
              "      <td> -</td>\n",
              "      <td> xavierdupre</td>\n",
              "      <td> xavierdupre</td>\n",
              "      <td>      0</td>\n",
              "      <td> 2014-11-20</td>\n",
              "      <td> 23:43</td>\n",
              "      <td>                                    unitest2</td>\n",
              "      <td>  True</td>\n",
              "    </tr>\n",
              "    <tr>\n",
              "      <th>6</th>\n",
              "      <td> drwxr-xr-x</td>\n",
              "      <td> -</td>\n",
              "      <td> xavierdupre</td>\n",
              "      <td> xavierdupre</td>\n",
              "      <td>      0</td>\n",
              "      <td> 2014-11-20</td>\n",
              "      <td> 22:29</td>\n",
              "      <td>                                    unittest</td>\n",
              "      <td>  True</td>\n",
              "    </tr>\n",
              "    <tr>\n",
              "      <th>7</th>\n",
              "      <td> drwxr-xr-x</td>\n",
              "      <td> -</td>\n",
              "      <td> xavierdupre</td>\n",
              "      <td> xavierdupre</td>\n",
              "      <td>      0</td>\n",
              "      <td> 2014-11-21</td>\n",
              "      <td> 01:05</td>\n",
              "      <td>                                   unittest2</td>\n",
              "      <td>  True</td>\n",
              "    </tr>\n",
              "    <tr>\n",
              "      <th>8</th>\n",
              "      <td> drwxr-xr-x</td>\n",
              "      <td> -</td>\n",
              "      <td> xavierdupre</td>\n",
              "      <td> xavierdupre</td>\n",
              "      <td>      0</td>\n",
              "      <td> 2014-11-20</td>\n",
              "      <td> 01:53</td>\n",
              "      <td>                                  velib_1hjs</td>\n",
              "      <td>  True</td>\n",
              "    </tr>\n",
              "    <tr>\n",
              "      <th>9</th>\n",
              "      <td> drwxr-xr-x</td>\n",
              "      <td> -</td>\n",
              "      <td> xavierdupre</td>\n",
              "      <td> xavierdupre</td>\n",
              "      <td>      0</td>\n",
              "      <td> 2014-11-21</td>\n",
              "      <td> 01:06</td>\n",
              "      <td>                                    velib_py</td>\n",
              "      <td>  True</td>\n",
              "    </tr>\n",
              "  </tbody>\n",
              "</table>\n",
              "</div>"
            ],
            "text/plain": [
              "   attributes code        alias       folder    size        date   time  \\\n",
              "0  drwx------    -  xavierdupre  xavierdupre       0  2014-11-21  01:05   \n",
              "1  drwx------    -  xavierdupre  xavierdupre       0  2014-11-21  01:06   \n",
              "2  -rw-r--r--    3  xavierdupre  xavierdupre  132727  2014-11-16  02:37   \n",
              "3  drwxr-xr-x    -  xavierdupre  xavierdupre       0  2014-11-16  02:38   \n",
              "4  -rw-r--r--    3  xavierdupre  xavierdupre  461444  2014-11-20  01:33   \n",
              "5  drwxr-xr-x    -  xavierdupre  xavierdupre       0  2014-11-20  23:43   \n",
              "6  drwxr-xr-x    -  xavierdupre  xavierdupre       0  2014-11-20  22:29   \n",
              "7  drwxr-xr-x    -  xavierdupre  xavierdupre       0  2014-11-21  01:05   \n",
              "8  drwxr-xr-x    -  xavierdupre  xavierdupre       0  2014-11-20  01:53   \n",
              "9  drwxr-xr-x    -  xavierdupre  xavierdupre       0  2014-11-21  01:06   \n",
              "\n",
              "                                          name  isdir  \n",
              "0                                       .Trash   True  \n",
              "1                                     .staging   True  \n",
              "2           ConfLongDemo_JSI.small.example.txt  False  \n",
              "3  ConfLongDemo_JSI.small.example2.walking.txt   True  \n",
              "4         paris.2014-11-11_22-00-18.331391.txt  False  \n",
              "5                                     unitest2   True  \n",
              "6                                     unittest   True  \n",
              "7                                    unittest2   True  \n",
              "8                                   velib_1hjs   True  \n",
              "9                                     velib_py   True  "
            ]
          },
          "execution_count": 16,
          "metadata": {},
          "output_type": "execute_result"
        }
      ],
      "source": [
        "%dfs_ls ."
      ]
    },
    {
      "cell_type": "code",
      "execution_count": 16,
      "metadata": {},
      "outputs": [
        {
          "name": "stdout",
          "output_type": "stream",
          "text": [
            "0 / 61 velib\\paris.2014-11-11_22-51-17.300775.txt\n"
          ]
        }
      ],
      "source": [
        "files = [ os.path.join(\"velib\",_) for _ in os.listdir(\"velib\") if \"paris\" in _ and _.endswith(\".txt\")]\n",
        "for i,f in enumerate(files[51:]) :\n",
        "    if i % 10 == 0 : print(i,\"/\",len(files),f)\n",
        "    filename = os.path.split(f)[-1]\n",
        "    f = os.path.abspath(f)\n",
        "    client.upload_cluster(f, \"velib_py\")"
      ]
    },
    {
      "cell_type": "markdown",
      "metadata": {},
      "source": [
        "On cr\u00e9e le r\u00e9pertoire de r\u00e9sultats :"
      ]
    },
    {
      "cell_type": "code",
      "execution_count": 17,
      "metadata": {},
      "outputs": [
        {
          "data": {
            "text/plain": [
              "('', '')"
            ]
          },
          "execution_count": 18,
          "metadata": {},
          "output_type": "execute_result"
        }
      ],
      "source": [
        "%dfs_mkdir velib_py_results"
      ]
    },
    {
      "cell_type": "markdown",
      "metadata": {},
      "source": [
        "## PIG, pseudo JSON et streaming"
      ]
    },
    {
      "cell_type": "markdown",
      "metadata": {},
      "source": [
        "On a cr\u00e9\u00e9 plus haut le script python capable d'interpr\u00e9ter du python puis d'extraire les informations voulues. On va maintenant dire \u00e0 PIG d'envoyer chaque ligne qu'il va charger (instruction ``LOAD``) au script python (instruction ``STREAM``). On lui dit de r\u00e9cuper les informations selon un certain format.\n",
        "\n",
        "La seconde ligne ``DEFINE`` d\u00e9finit la commande utilis\u00e9e. Elle pr\u00e9cise \u00e9galement que le script ``pystream.py`` devra \u00eatre envoy\u00e9 \u00e0 toutes les machines du cluster participant au job. Et il faut attention, cette ligne ne comporte pas que des apostrophes, le caract\u00e8re **' inclin\u00e9** est tr\u00e8s important.\n",
        "\n",
        "Les premiers essais de streaming sont souvent douloureux."
      ]
    },
    {
      "cell_type": "code",
      "execution_count": 18,
      "metadata": {
        "collapsed": true
      },
      "outputs": [],
      "source": [
        "%%PIG json_velib.pig\n",
        "\n",
        "DEFINE pystream `python stream_json.py available_bike_stands available_bikes lat lng name status` SHIP ('stream_json.py') INPUT(stdin USING PigStreaming(',')) OUTPUT (stdout USING PigStreaming(',')) ;\n",
        "\n",
        "jspy = LOAD 'velib_py/*.txt' USING PigStorage('\\t') AS (arow:chararray);\n",
        "\n",
        "matrice = STREAM jspy THROUGH pystream AS \n",
        "                (   available_bike_stands:chararray, \n",
        "                    available_bikes:chararray, \n",
        "                    lat:double, \n",
        "                    lng:double, \n",
        "                    name:chararray, \n",
        "                    status:chararray) ;\n",
        "\n",
        "STORE matrice INTO 'velib_py_results/firstjob' USING PigStorage('\\t') ;"
      ]
    },
    {
      "cell_type": "markdown",
      "metadata": {},
      "source": [
        "Pour supprimer les pr\u00e9c\u00e9dents r\u00e9sultats :"
      ]
    },
    {
      "cell_type": "code",
      "execution_count": 19,
      "metadata": {},
      "outputs": [
        {
          "data": {
            "text/plain": [
              "(\"Moved: 'hdfs://nameservice1/user/xavierdupre/velib_py_results/firstjob' to trash at: hdfs://nameservice1/user/xavierdupre/.Trash/Current\\n\",\n",
              " '14/11/21 01:50:26 INFO fs.TrashPolicyDefault: Namenode trash configuration: Deletion interval = 1440 minutes, Emptier interval = 0 minutes.\\n')"
            ]
          },
          "execution_count": 20,
          "metadata": {},
          "output_type": "execute_result"
        }
      ],
      "source": [
        "if client.dfs_exists(\"velib_py_results/firstjob\"):\n",
        "    client.dfs_rm(\"velib_py_results/firstjob\", recursive=True)\n",
        "%dfs_mkdir velib_py_results"
      ]
    },
    {
      "cell_type": "markdown",
      "metadata": {},
      "source": [
        "On ex\u00e9cute le job :"
      ]
    },
    {
      "cell_type": "code",
      "execution_count": 20,
      "metadata": {},
      "outputs": [
        {
          "data": {
            "text/html": [
              "<pre>\n",
              "\n",
              "</pre>"
            ],
            "text/plain": [
              "<IPython.core.display.HTML at 0x7bdba70>"
            ]
          },
          "execution_count": 21,
          "metadata": {},
          "output_type": "execute_result"
        }
      ],
      "source": [
        "%pig_submit json_velib.pig stream_json.py -r redirection"
      ]
    },
    {
      "cell_type": "code",
      "execution_count": 21,
      "metadata": {},
      "outputs": [
        {
          "data": {
            "text/html": [
              "<div style=\"max-height:1000px;max-width:1500px;overflow:auto;\">\n",
              "<table border=\"1\" class=\"dataframe\">\n",
              "  <thead>\n",
              "    <tr style=\"text-align: right;\">\n",
              "      <th></th>\n",
              "      <th></th>\n",
              "      <th>attributes</th>\n",
              "      <th>code</th>\n",
              "      <th>alias</th>\n",
              "      <th>folder</th>\n",
              "      <th>size</th>\n",
              "      <th>unit</th>\n",
              "      <th>name</th>\n",
              "      <th>isdir</th>\n",
              "    </tr>\n",
              "  </thead>\n",
              "  <tbody>\n",
              "    <tr>\n",
              "      <th rowspan=\"10\" valign=\"top\">-rw-rw-r--</th>\n",
              "      <th>1</th>\n",
              "      <td> xavierdupre</td>\n",
              "      <td> xavierdupre</td>\n",
              "      <td>      0</td>\n",
              "      <td> Nov</td>\n",
              "      <td> 21</td>\n",
              "      <td> 01:43</td>\n",
              "      <td>                                dummy</td>\n",
              "      <td> False</td>\n",
              "    </tr>\n",
              "    <tr>\n",
              "      <th>1</th>\n",
              "      <td> xavierdupre</td>\n",
              "      <td> xavierdupre</td>\n",
              "      <td>    650</td>\n",
              "      <td> Nov</td>\n",
              "      <td> 21</td>\n",
              "      <td> 01:50</td>\n",
              "      <td>                       json_velib.pig</td>\n",
              "      <td> False</td>\n",
              "    </tr>\n",
              "    <tr>\n",
              "      <th>1</th>\n",
              "      <td> xavierdupre</td>\n",
              "      <td> xavierdupre</td>\n",
              "      <td> 523646</td>\n",
              "      <td> Nov</td>\n",
              "      <td> 21</td>\n",
              "      <td> 01:15</td>\n",
              "      <td> paris.2014-11-11_22-50-17.777867.txt</td>\n",
              "      <td> False</td>\n",
              "    </tr>\n",
              "    <tr>\n",
              "      <th>1</th>\n",
              "      <td> xavierdupre</td>\n",
              "      <td> xavierdupre</td>\n",
              "      <td>   3077</td>\n",
              "      <td> Nov</td>\n",
              "      <td> 21</td>\n",
              "      <td> 01:24</td>\n",
              "      <td>                pig_1416529443864.log</td>\n",
              "      <td> False</td>\n",
              "    </tr>\n",
              "    <tr>\n",
              "      <th>1</th>\n",
              "      <td> xavierdupre</td>\n",
              "      <td> xavierdupre</td>\n",
              "      <td>   3297</td>\n",
              "      <td> Nov</td>\n",
              "      <td> 21</td>\n",
              "      <td> 01:37</td>\n",
              "      <td>                pig_1416530241713.log</td>\n",
              "      <td> False</td>\n",
              "    </tr>\n",
              "    <tr>\n",
              "      <th>1</th>\n",
              "      <td> xavierdupre</td>\n",
              "      <td> xavierdupre</td>\n",
              "      <td>    672</td>\n",
              "      <td> Nov</td>\n",
              "      <td> 21</td>\n",
              "      <td> 01:43</td>\n",
              "      <td>                         pystream.pig</td>\n",
              "      <td> False</td>\n",
              "    </tr>\n",
              "    <tr>\n",
              "      <th>1</th>\n",
              "      <td> xavierdupre</td>\n",
              "      <td> xavierdupre</td>\n",
              "      <td>    382</td>\n",
              "      <td> Nov</td>\n",
              "      <td> 21</td>\n",
              "      <td> 01:43</td>\n",
              "      <td>                          pystream.py</td>\n",
              "      <td> False</td>\n",
              "    </tr>\n",
              "    <tr>\n",
              "      <th>1</th>\n",
              "      <td> xavierdupre</td>\n",
              "      <td> xavierdupre</td>\n",
              "      <td>    860</td>\n",
              "      <td> Nov</td>\n",
              "      <td> 21</td>\n",
              "      <td> 01:50</td>\n",
              "      <td>                      redirection.err</td>\n",
              "      <td> False</td>\n",
              "    </tr>\n",
              "    <tr>\n",
              "      <th>1</th>\n",
              "      <td> xavierdupre</td>\n",
              "      <td> xavierdupre</td>\n",
              "      <td>      0</td>\n",
              "      <td> Nov</td>\n",
              "      <td> 21</td>\n",
              "      <td> 01:50</td>\n",
              "      <td>                      redirection.out</td>\n",
              "      <td> False</td>\n",
              "    </tr>\n",
              "    <tr>\n",
              "      <th>1</th>\n",
              "      <td> xavierdupre</td>\n",
              "      <td> xavierdupre</td>\n",
              "      <td>    356</td>\n",
              "      <td> Nov</td>\n",
              "      <td> 21</td>\n",
              "      <td> 01:50</td>\n",
              "      <td>                       stream_json.py</td>\n",
              "      <td> False</td>\n",
              "    </tr>\n",
              "  </tbody>\n",
              "</table>\n",
              "</div>"
            ],
            "text/plain": [
              "               attributes         code   alias folder  size   unit  \\\n",
              "-rw-rw-r-- 1  xavierdupre  xavierdupre       0    Nov    21  01:43   \n",
              "           1  xavierdupre  xavierdupre     650    Nov    21  01:50   \n",
              "           1  xavierdupre  xavierdupre  523646    Nov    21  01:15   \n",
              "           1  xavierdupre  xavierdupre    3077    Nov    21  01:24   \n",
              "           1  xavierdupre  xavierdupre    3297    Nov    21  01:37   \n",
              "           1  xavierdupre  xavierdupre     672    Nov    21  01:43   \n",
              "           1  xavierdupre  xavierdupre     382    Nov    21  01:43   \n",
              "           1  xavierdupre  xavierdupre     860    Nov    21  01:50   \n",
              "           1  xavierdupre  xavierdupre       0    Nov    21  01:50   \n",
              "           1  xavierdupre  xavierdupre     356    Nov    21  01:50   \n",
              "\n",
              "                                              name  isdir  \n",
              "-rw-rw-r-- 1                                 dummy  False  \n",
              "           1                        json_velib.pig  False  \n",
              "           1  paris.2014-11-11_22-50-17.777867.txt  False  \n",
              "           1                 pig_1416529443864.log  False  \n",
              "           1                 pig_1416530241713.log  False  \n",
              "           1                          pystream.pig  False  \n",
              "           1                           pystream.py  False  \n",
              "           1                       redirection.err  False  \n",
              "           1                       redirection.out  False  \n",
              "           1                        stream_json.py  False  "
            ]
          },
          "execution_count": 22,
          "metadata": {},
          "output_type": "execute_result"
        }
      ],
      "source": [
        "%remote_ls ."
      ]
    },
    {
      "cell_type": "markdown",
      "metadata": {},
      "source": [
        "S'il se produit des erreurs, il est recommand\u00e9 d'afficher plus de lignes :"
      ]
    },
    {
      "cell_type": "code",
      "execution_count": 22,
      "metadata": {},
      "outputs": [
        {
          "data": {
            "text/html": [
              "<pre>\n",
              "Total bytes written : 4611956\n",
              "Spillable Memory Manager spill count : 0\n",
              "Total bags proactively spilled: 0\n",
              "Total records proactively spilled: 0\n",
              "\n",
              "Job DAG:\n",
              "job_1414491244634_0092\n",
              "\n",
              "\n",
              "2014-11-21 01:51:16,166 [main] INFO  org.apache.pig.backend.hadoop.executionengine.mapReduceLayer.MapReduceLauncher - Success!\n",
              "\n",
              "</pre>"
            ],
            "text/plain": [
              "<IPython.core.display.HTML at 0x7beddd0>"
            ]
          },
          "execution_count": 23,
          "metadata": {},
          "output_type": "execute_result"
        }
      ],
      "source": [
        "%remote_cmd tail redirection.pig.err"
      ]
    },
    {
      "cell_type": "markdown",
      "metadata": {},
      "source": [
        "On v\u00e9rifie que tout s'est bien pass\u00e9. La taille devrait \u00eatre \u00e9quivalent \u00e0 l'entr\u00e9e."
      ]
    },
    {
      "cell_type": "code",
      "execution_count": 23,
      "metadata": {},
      "outputs": [
        {
          "data": {
            "text/html": [
              "<div style=\"max-height:1000px;max-width:1500px;overflow:auto;\">\n",
              "<table border=\"1\" class=\"dataframe\">\n",
              "  <thead>\n",
              "    <tr style=\"text-align: right;\">\n",
              "      <th></th>\n",
              "      <th>attributes</th>\n",
              "      <th>code</th>\n",
              "      <th>alias</th>\n",
              "      <th>folder</th>\n",
              "      <th>size</th>\n",
              "      <th>date</th>\n",
              "      <th>time</th>\n",
              "      <th>name</th>\n",
              "      <th>isdir</th>\n",
              "    </tr>\n",
              "  </thead>\n",
              "  <tbody>\n",
              "    <tr>\n",
              "      <th>0</th>\n",
              "      <td> drwxr-xr-x</td>\n",
              "      <td> -</td>\n",
              "      <td> xavierdupre</td>\n",
              "      <td> xavierdupre</td>\n",
              "      <td> 0</td>\n",
              "      <td> 2014-11-21</td>\n",
              "      <td> 01:51</td>\n",
              "      <td> velib_py_results/firstjob</td>\n",
              "      <td> True</td>\n",
              "    </tr>\n",
              "  </tbody>\n",
              "</table>\n",
              "</div>"
            ],
            "text/plain": [
              "   attributes code        alias       folder size        date   time  \\\n",
              "0  drwxr-xr-x    -  xavierdupre  xavierdupre    0  2014-11-21  01:51   \n",
              "\n",
              "                        name isdir  \n",
              "0  velib_py_results/firstjob  True  "
            ]
          },
          "execution_count": 24,
          "metadata": {},
          "output_type": "execute_result"
        }
      ],
      "source": [
        "%dfs_ls velib_py_results"
      ]
    },
    {
      "cell_type": "code",
      "execution_count": 24,
      "metadata": {},
      "outputs": [
        {
          "data": {
            "text/plain": [
              "'velib_py_results/firstjob'"
            ]
          },
          "execution_count": 25,
          "metadata": {},
          "output_type": "execute_result"
        }
      ],
      "source": [
        "if os.path.exists(\"velib_hd.txt\") : os.remove(\"velib_hd.txt\")\n",
        "client.download_cluster(\"velib_py_results/firstjob\",\"velib_hd.txt\", merge=True)"
      ]
    },
    {
      "cell_type": "code",
      "execution_count": 25,
      "metadata": {},
      "outputs": [
        {
          "data": {
            "text/html": [
              "<pre>\n",
              "47\t3\t48.864527821\t2.41617072443\t31705 - CHAMPEAUX (BAGNOLET)\tOPEN\n",
              "5\t28\t48.8724200631\t2.34839523628\t10042 - POISSONNI\u00c8RE - ENGHIEN\tOPEN\n",
              "42\t1\t48.8821489456\t2.31986005477\t08020 - METRO ROME\tOPEN\n",
              "5\t31\t48.8682170168\t2.3304935114\t01022 - RUE DE LA PAIX\tOPEN\n",
              "20\t5\t48.8932686647\t2.41271573339\t35014 - DE GAULLE (PANTIN)\tOPEN\n",
              "\n",
              "</pre>"
            ],
            "text/plain": [
              "<IPython.core.display.HTML at 0x7e29c70>"
            ]
          },
          "execution_count": 26,
          "metadata": {},
          "output_type": "execute_result"
        }
      ],
      "source": [
        "%head velib_hd.txt -n 5"
      ]
    },
    {
      "cell_type": "code",
      "execution_count": 26,
      "metadata": {},
      "outputs": [
        {
          "data": {
            "text/html": [
              "<div style=\"max-height:1000px;max-width:1500px;overflow:auto;\">\n",
              "<table border=\"1\" class=\"dataframe\">\n",
              "  <thead>\n",
              "    <tr style=\"text-align: right;\">\n",
              "      <th></th>\n",
              "      <th>available_bike_stands</th>\n",
              "      <th>available_bikes</th>\n",
              "      <th>lat</th>\n",
              "      <th>lng</th>\n",
              "      <th>name</th>\n",
              "      <th>status</th>\n",
              "    </tr>\n",
              "  </thead>\n",
              "  <tbody>\n",
              "    <tr>\n",
              "      <th>0</th>\n",
              "      <td> 47</td>\n",
              "      <td>  3</td>\n",
              "      <td> 48.864528</td>\n",
              "      <td> 2.416171</td>\n",
              "      <td>   31705 - CHAMPEAUX (BAGNOLET)</td>\n",
              "      <td> OPEN</td>\n",
              "    </tr>\n",
              "    <tr>\n",
              "      <th>1</th>\n",
              "      <td>  5</td>\n",
              "      <td> 28</td>\n",
              "      <td> 48.872420</td>\n",
              "      <td> 2.348395</td>\n",
              "      <td> 10042 - POISSONNI\u00c8RE - ENGHIEN</td>\n",
              "      <td> OPEN</td>\n",
              "    </tr>\n",
              "    <tr>\n",
              "      <th>2</th>\n",
              "      <td> 42</td>\n",
              "      <td>  1</td>\n",
              "      <td> 48.882149</td>\n",
              "      <td> 2.319860</td>\n",
              "      <td>             08020 - METRO ROME</td>\n",
              "      <td> OPEN</td>\n",
              "    </tr>\n",
              "    <tr>\n",
              "      <th>3</th>\n",
              "      <td>  5</td>\n",
              "      <td> 31</td>\n",
              "      <td> 48.868217</td>\n",
              "      <td> 2.330494</td>\n",
              "      <td>         01022 - RUE DE LA PAIX</td>\n",
              "      <td> OPEN</td>\n",
              "    </tr>\n",
              "    <tr>\n",
              "      <th>4</th>\n",
              "      <td> 20</td>\n",
              "      <td>  5</td>\n",
              "      <td> 48.893269</td>\n",
              "      <td> 2.412716</td>\n",
              "      <td>     35014 - DE GAULLE (PANTIN)</td>\n",
              "      <td> OPEN</td>\n",
              "    </tr>\n",
              "  </tbody>\n",
              "</table>\n",
              "</div>"
            ],
            "text/plain": [
              "   available_bike_stands  available_bikes        lat       lng  \\\n",
              "0                     47                3  48.864528  2.416171   \n",
              "1                      5               28  48.872420  2.348395   \n",
              "2                     42                1  48.882149  2.319860   \n",
              "3                      5               31  48.868217  2.330494   \n",
              "4                     20                5  48.893269  2.412716   \n",
              "\n",
              "                             name status  \n",
              "0    31705 - CHAMPEAUX (BAGNOLET)   OPEN  \n",
              "1  10042 - POISSONNI\u00c8RE - ENGHIEN   OPEN  \n",
              "2              08020 - METRO ROME   OPEN  \n",
              "3          01022 - RUE DE LA PAIX   OPEN  \n",
              "4      35014 - DE GAULLE (PANTIN)   OPEN  "
            ]
          },
          "execution_count": 27,
          "metadata": {},
          "output_type": "execute_result"
        }
      ],
      "source": [
        "import pandas\n",
        "df = pandas.read_csv(\"velib_hd.txt\", sep=\"\\t\",names=[\"available_bike_stands\",\"available_bikes\",\"lat\",\"lng\",\"name\",\"status\"])\n",
        "df.head()"
      ]
    },
    {
      "cell_type": "code",
      "execution_count": 27,
      "metadata": {},
      "outputs": [
        {
          "data": {
            "text/plain": [
              "(73740, 6)"
            ]
          },
          "execution_count": 28,
          "metadata": {},
          "output_type": "execute_result"
        }
      ],
      "source": [
        "df.shape"
      ]
    },
    {
      "cell_type": "markdown",
      "metadata": {},
      "source": [
        "## Exercice 1 : convertir les valeurs num\u00e9riques"
      ]
    },
    {
      "cell_type": "code",
      "execution_count": 28,
      "metadata": {
        "collapsed": true
      },
      "outputs": [],
      "source": []
    },
    {
      "cell_type": "markdown",
      "metadata": {},
      "source": [
        "## Exercice 2 : stations ferm\u00e9es\n",
        "    \n",
        "Les stations ferm\u00e9es ne le sont pas tout le temps. On veut calculer le ratio v\u00e9lo/minute/station ferm\u00e9es / total des v\u00e9lo/minute/station."
      ]
    },
    {
      "cell_type": "code",
      "execution_count": 29,
      "metadata": {
        "collapsed": true
      },
      "outputs": [],
      "source": []
    },
    {
      "cell_type": "markdown",
      "metadata": {},
      "source": [
        "## Exercice 3 : stations ferm\u00e9es, journ\u00e9e compl\u00e8te\n",
        "    \n",
        "Appliquer cela \u00e0 une journ\u00e9e compl\u00e8te."
      ]
    },
    {
      "cell_type": "code",
      "execution_count": 30,
      "metadata": {
        "collapsed": true
      },
      "outputs": [],
      "source": []
    },
    {
      "cell_type": "markdown",
      "metadata": {},
      "source": [
        "## Exercice 4 : astuces\n",
        "\n",
        "Les erreurs de PIG ne sont pas tr\u00e8s explicite surtout si elles se produisent dans le script python. Un moyen simple de d\u00e9bugger est d'attraper les exceptions produites par python et de les r\u00e9cup\u00e9rer sous PIG (le reste du job est enlev\u00e9). On peut tout-\u00e0-fait imaginer ajouter la version de python install\u00e9e sur le cluster ainsi que la liste de modules"
      ]
    },
    {
      "cell_type": "code",
      "execution_count": 31,
      "metadata": {
        "collapsed": true
      },
      "outputs": [],
      "source": []
    }
  ],
  "metadata": {
    "kernelspec": {
      "display_name": "Python 3",
      "language": "python",
      "name": "python3"
    },
    "language_info": {
      "codemirror_mode": {
        "name": "ipython",
        "version": 3
      },
      "file_extension": ".py",
      "mimetype": "text/x-python",
      "name": "python",
      "nbconvert_exporter": "python",
      "pygments_lexer": "ipython3",
      "version": "3.6.4"
    }
  },
  "nbformat": 4,
  "nbformat_minor": 1
}