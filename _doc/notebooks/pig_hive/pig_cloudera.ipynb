{
  "cells": [
    {
      "cell_type": "markdown",
      "metadata": {},
      "source": [
        "# Map/Reduce avec PIG sur cloudera - \u00e9nonc\u00e9\n",
        "\n",
        "Manipulation de fichiers sur un cluster Hadoop [Cloudera](https://www.cloudera.com/), premieer job map/reduce avec [PIG](https://pig.apache.org/). Lire aussi [From Pig to Spark: An Easy Journey to Spark for Apache Pig Developers](https://mapr.com/blog/easy-journey-from-pig-to-spark-for-developers/)."
      ]
    },
    {
      "cell_type": "code",
      "execution_count": 1,
      "metadata": {},
      "outputs": [
        {
          "data": {
            "text/html": [
              "<b>Plan</b>\n",
              "<div id=\"my_menu_id\">run previous cell, wait for 2 seconds</div>\n",
              "<script>\n",
              "function repeat_indent_string(n){\n",
              "    var a = \"\" ;\n",
              "    for ( ; n > 0 ; --n) {\n",
              "        a += \"    \";\n",
              "    }\n",
              "    return a;\n",
              "}\n",
              "var update_menu_string = function(begin, lfirst, llast, sformat, send) {\n",
              "    var anchors = document.getElementsByClassName(\"section\");\n",
              "    if (anchors.length == 0) {\n",
              "        anchors = document.getElementsByClassName(\"text_cell_render rendered_html\");\n",
              "    }\n",
              "    var i,t;\n",
              "    var text_menu = begin;\n",
              "    var text_memo = \"<pre>\\nlength:\" + anchors.length + \"\\n\";\n",
              "    var ind = \"\";\n",
              "    var memo_level = 1;\n",
              "    var href;\n",
              "    var tags = [];\n",
              "    for (i = 0; i <= llast; i++) {\n",
              "        tags.push(\"h\" + i);\n",
              "    }\n",
              "\n",
              "    for (i = 0; i < anchors.length; i++) {\n",
              "        text_memo += \"**\" + anchors[i].id + \"--\\n\";\n",
              "\n",
              "        var child = null;\n",
              "        for(t = 0; t < tags.length; t++) {\n",
              "            var r = anchors[i].getElementsByTagName(tags[t]);\n",
              "            if (r.length > 0) {\n",
              "child = r[0];\n",
              "break;\n",
              "            }\n",
              "        }\n",
              "        if (child == null){\n",
              "            text_memo += \"null\\n\";\n",
              "            continue;\n",
              "        }\n",
              "\n",
              "        if (anchors[i].hasAttribute(\"id\")) {\n",
              "            // when converted in RST\n",
              "            href = anchors[i].id;\n",
              "            text_memo += \"#1-\" + href;\n",
              "            // passer \u00e0 child suivant (le chercher)\n",
              "        }\n",
              "        else if (child.hasAttribute(\"id\")) {\n",
              "            // in a notebook\n",
              "            href = child.id;\n",
              "            text_memo += \"#2-\" + href;\n",
              "        }\n",
              "        else {\n",
              "            text_memo += \"#3-\" + \"*\" + \"\\n\";\n",
              "            continue;\n",
              "        }\n",
              "        var title = child.textContent;\n",
              "        var level = parseInt(child.tagName.substring(1,2));\n",
              "\n",
              "        text_memo += \"--\" + level + \"?\" + lfirst + \"--\" + title + \"\\n\";\n",
              "\n",
              "        if ((level < lfirst) || (level > llast)) {\n",
              "            continue ;\n",
              "        }\n",
              "        if (title.endsWith('\u00b6')) {\n",
              "            title = title.substring(0,title.length-1).replace(\"<\", \"&lt;\").replace(\">\", \"&gt;\").replace(\"&\", \"&amp;\")\n",
              "        }\n",
              "\n",
              "        if (title.length == 0) {\n",
              "            continue;\n",
              "        }\n",
              "        while (level > memo_level) {\n",
              "            text_menu += \"<ul>\\n\";\n",
              "            memo_level += 1;\n",
              "        }\n",
              "        while (level < memo_level) {\n",
              "            text_menu += \"</ul>\\n\";\n",
              "            memo_level -= 1;\n",
              "        }\n",
              "        text_menu += repeat_indent_string(level-2) + sformat.replace(\"__HREF__\", href).replace(\"__TITLE__\", title);\n",
              "    }\n",
              "    while (1 < memo_level) {\n",
              "        text_menu += \"</ul>\\n\";\n",
              "        memo_level -= 1;\n",
              "    }\n",
              "    text_menu += send;\n",
              "    //text_menu += \"\\n\" + text_memo;\n",
              "    return text_menu;\n",
              "};\n",
              "var update_menu = function() {\n",
              "    var sbegin = \"\";\n",
              "    var sformat = '<li><a href=\"#__HREF__\">__TITLE__</a></li>';\n",
              "    var send = \"\";\n",
              "    var text_menu = update_menu_string(sbegin, 2, 4, sformat, send);\n",
              "    var menu = document.getElementById(\"my_menu_id\");\n",
              "    menu.innerHTML=text_menu;\n",
              "};\n",
              "window.setTimeout(update_menu,2000);\n",
              "            </script>"
            ],
            "text/plain": [
              "<IPython.core.display.HTML object>"
            ]
          },
          "execution_count": 2,
          "metadata": {},
          "output_type": "execute_result"
        }
      ],
      "source": [
        "from jyquickhelper import add_notebook_menu\n",
        "add_notebook_menu()"
      ]
    },
    {
      "cell_type": "markdown",
      "metadata": {},
      "source": [
        "## Donn\u00e9es"
      ]
    },
    {
      "cell_type": "markdown",
      "metadata": {},
      "source": [
        "On consid\u00e8re le jeu de donn\u00e9es suivant : [Localization Data for Person Activity Data Set](https://archive.ics.uci.edu/ml/datasets/Localization+Data+for+Person+Activity) qu'on r\u00e9cup\u00e8re comme suit :"
      ]
    },
    {
      "cell_type": "code",
      "execution_count": 2,
      "metadata": {},
      "outputs": [],
      "source": [
        "import pyensae\n",
        "import urllib.error\n",
        "try:\n",
        "    # ce soir \u00e7a ne marche pas...\n",
        "    pyensae.download_data(\"ConfLongDemo_JSI.txt\", \n",
        "                          website=\"https://archive.ics.uci.edu/ml/machine-learning-databases/00196/\")\n",
        "except urllib.error.URLError:\n",
        "    # donc je r\u00e9cup\u00e8re une vieille copie\n",
        "    pyensae.download_data(\"ConfLongDemo_JSI.zip\")"
      ]
    },
    {
      "cell_type": "markdown",
      "metadata": {},
      "source": [
        "On l'ins\u00e8re dans une base de donn\u00e9es SQL."
      ]
    },
    {
      "cell_type": "code",
      "execution_count": 3,
      "metadata": {},
      "outputs": [
        {
          "data": {
            "text/html": [
              "<div>\n",
              "<table border=\"1\" class=\"dataframe\">\n",
              "  <thead>\n",
              "    <tr style=\"text-align: right;\">\n",
              "      <th></th>\n",
              "      <th>sequence</th>\n",
              "      <th>tag</th>\n",
              "      <th>timestamp</th>\n",
              "      <th>dateformat</th>\n",
              "      <th>x</th>\n",
              "      <th>y</th>\n",
              "      <th>z</th>\n",
              "      <th>activity</th>\n",
              "    </tr>\n",
              "  </thead>\n",
              "  <tbody>\n",
              "    <tr>\n",
              "      <th>0</th>\n",
              "      <td>A01</td>\n",
              "      <td>010-000-024-033</td>\n",
              "      <td>633790226051280329</td>\n",
              "      <td>27.05.2009 14:03:25:127</td>\n",
              "      <td>4.062931</td>\n",
              "      <td>1.892434</td>\n",
              "      <td>0.507425</td>\n",
              "      <td>walking</td>\n",
              "    </tr>\n",
              "    <tr>\n",
              "      <th>1</th>\n",
              "      <td>A01</td>\n",
              "      <td>020-000-033-111</td>\n",
              "      <td>633790226051820913</td>\n",
              "      <td>27.05.2009 14:03:25:183</td>\n",
              "      <td>4.291954</td>\n",
              "      <td>1.781140</td>\n",
              "      <td>1.344495</td>\n",
              "      <td>walking</td>\n",
              "    </tr>\n",
              "    <tr>\n",
              "      <th>2</th>\n",
              "      <td>A01</td>\n",
              "      <td>020-000-032-221</td>\n",
              "      <td>633790226052091205</td>\n",
              "      <td>27.05.2009 14:03:25:210</td>\n",
              "      <td>4.359101</td>\n",
              "      <td>1.826456</td>\n",
              "      <td>0.968821</td>\n",
              "      <td>walking</td>\n",
              "    </tr>\n",
              "    <tr>\n",
              "      <th>3</th>\n",
              "      <td>A01</td>\n",
              "      <td>010-000-024-033</td>\n",
              "      <td>633790226052361498</td>\n",
              "      <td>27.05.2009 14:03:25:237</td>\n",
              "      <td>4.087835</td>\n",
              "      <td>1.879999</td>\n",
              "      <td>0.466983</td>\n",
              "      <td>walking</td>\n",
              "    </tr>\n",
              "    <tr>\n",
              "      <th>4</th>\n",
              "      <td>A01</td>\n",
              "      <td>010-000-030-096</td>\n",
              "      <td>633790226052631792</td>\n",
              "      <td>27.05.2009 14:03:25:263</td>\n",
              "      <td>4.324462</td>\n",
              "      <td>2.072460</td>\n",
              "      <td>0.488065</td>\n",
              "      <td>walking</td>\n",
              "    </tr>\n",
              "  </tbody>\n",
              "</table>\n",
              "</div>"
            ],
            "text/plain": [
              "  sequence              tag           timestamp               dateformat  \\\n",
              "0      A01  010-000-024-033  633790226051280329  27.05.2009 14:03:25:127   \n",
              "1      A01  020-000-033-111  633790226051820913  27.05.2009 14:03:25:183   \n",
              "2      A01  020-000-032-221  633790226052091205  27.05.2009 14:03:25:210   \n",
              "3      A01  010-000-024-033  633790226052361498  27.05.2009 14:03:25:237   \n",
              "4      A01  010-000-030-096  633790226052631792  27.05.2009 14:03:25:263   \n",
              "\n",
              "          x         y         z activity  \n",
              "0  4.062931  1.892434  0.507425  walking  \n",
              "1  4.291954  1.781140  1.344495  walking  \n",
              "2  4.359101  1.826456  0.968821  walking  \n",
              "3  4.087835  1.879999  0.466983  walking  \n",
              "4  4.324462  2.072460  0.488065  walking  "
            ]
          },
          "execution_count": 4,
          "metadata": {},
          "output_type": "execute_result"
        }
      ],
      "source": [
        "columns = \"sequence tag timestamp dateformat x y z activity\".split()\n",
        "import pandas, sqlite3, os\n",
        "df = pandas.read_csv(\"ConfLongDemo_JSI.txt\", sep=\",\", names=columns)\n",
        "if os.path.exists(\"ConfLongDemo_JSI.db3\"):\n",
        "    os.remove(\"ConfLongDemo_JSI.db3\")\n",
        "    \n",
        "con = sqlite3.connect(\"ConfLongDemo_JSI.db3\")\n",
        "df.to_sql(\"person\", con)\n",
        "con.close()\n",
        "df.head()"
      ]
    },
    {
      "cell_type": "markdown",
      "metadata": {},
      "source": [
        "On cr\u00e9e un petit exemple pour plus tard qu'on enregistre \u00e9galement dans la base de donn\u00e9es."
      ]
    },
    {
      "cell_type": "code",
      "execution_count": 4,
      "metadata": {},
      "outputs": [],
      "source": [
        "columns = \"sequence tag timestamp dateformat x y z activity\".split()\n",
        "import pandas\n",
        "df = pandas.read_csv(\"ConfLongDemo_JSI.txt\", sep=\",\", names=columns)\n",
        "dfs = df[:1000]\n",
        "dfs.to_csv(\"ConfLongDemo_JSI.small.txt\", header=False)\n",
        "\n",
        "import sqlite3\n",
        "con = sqlite3.connect(\"ConfLongDemo_JSI.db3\")\n",
        "dfs.to_sql(\"person_small\", con)\n",
        "con.close()"
      ]
    },
    {
      "cell_type": "code",
      "execution_count": 5,
      "metadata": {},
      "outputs": [
        {
          "data": {
            "text/plain": [
              "['ConfLongDemo_JSI.db3']"
            ]
          },
          "execution_count": 6,
          "metadata": {},
          "output_type": "execute_result"
        }
      ],
      "source": [
        "[ _ for _ in os.listdir(\".\") if \"db3\" in _ ]"
      ]
    },
    {
      "cell_type": "markdown",
      "metadata": {},
      "source": [
        "## Partie 0 : aper\u00e7u du cluster Teralab\n",
        "    \n",
        "Il faut se connecter au cluster avec l'url : ``https://....datascience.fr/....&login=<login>``."
      ]
    },
    {
      "cell_type": "code",
      "execution_count": 6,
      "metadata": {},
      "outputs": [
        {
          "data": {
            "image/png": "[encoded data removed]",
            "text/plain": [
              "<IPython.core.display.Image object>"
            ]
          },
          "execution_count": 7,
          "metadata": {
            "image/png": {
              "width": 500
            }
          },
          "output_type": "execute_result"
        }
      ],
      "source": [
        "from pyquickhelper.helpgen import NbImage\n",
        "NbImage(\"cluster1.png\", width=500)"
      ]
    },
    {
      "cell_type": "markdown",
      "metadata": {},
      "source": [
        "Il faut cliquer ensuite sur ``Hue Access`` une fen\u00eatre s'ouvre. Il faut ensuie trouver l'onglet qui permette d'obtenir l'image suivante et le bouton ``Upload`` :"
      ]
    },
    {
      "cell_type": "code",
      "execution_count": 7,
      "metadata": {},
      "outputs": [
        {
          "data": {
            "image/png": "[encoded data removed]",
            "text/plain": [
              "<IPython.core.display.Image object>"
            ]
          },
          "execution_count": 8,
          "metadata": {
            "image/png": {
              "width": 900
            }
          },
          "output_type": "execute_result"
        }
      ],
      "source": [
        "NbImage(\"hdfs1.png\", width=900)"
      ]
    },
    {
      "cell_type": "markdown",
      "metadata": {},
      "source": [
        "Les notebooks n'utiliseront que rarement cette interface qui est lente [Hue extremely slow in running Hive Queries](https://www.marshut.net/krrzvs/hue-extremely-slow-in-running-hive-queries.html), [hue is very slow](http://grokbase.com/p/cloudera/hue-user/141hmfp0w3/hue-is-very-slow)."
      ]
    },
    {
      "cell_type": "markdown",
      "metadata": {},
      "source": [
        "## Partie 1 :  manipulation de fichiers\n",
        "\n",
        "Avant de commencer \u00e0 d\u00e9placer des fichiers, il faut comprendre qu'il y a trois emplacements :\n",
        "\n",
        "* l'ordinateur local (celui dont vous vous servez)\n",
        "* la machine distante ou [passerelle](http://fr.wikipedia.org/wiki/Passerelle_%28informatique%29)\n",
        "* le cluster\n",
        "\n",
        "Les fichiers vont transiter sans cesse par cette passerelle. La passerelle est connect\u00e9e \u00e0 l'ordinateur local via [SSH](http://fr.wikipedia.org/wiki/Secure_Shell)."
      ]
    },
    {
      "cell_type": "code",
      "execution_count": 8,
      "metadata": {},
      "outputs": [
        {
          "data": {
            "image/png": "[encoded data removed]",
            "text/plain": [
              "<IPython.core.display.Image object>"
            ]
          },
          "execution_count": 9,
          "metadata": {},
          "output_type": "execute_result"
        }
      ],
      "source": [
        "from pyquickhelper.helpgen import NbImage\n",
        "NbImage(\"hdfspath.png\")"
      ]
    },
    {
      "cell_type": "markdown",
      "metadata": {},
      "source": [
        "On **uploade** pour le chemin bleu, on **downloade** pour le chemin rouge. La passerelle est sous linux et c'est par son interm\u00e9diaire qu'on va communiquer avec le cluster. Toutes les commandes qui suivent vont \u00eatre ex\u00e9cut\u00e9es depuis cette machine. L'outil le plus connu pour s'y connecter est [Putty](http://www.putty.org/). La commande magique ``%remote_cmd`` imite le comportement d'une fen\u00eatre ``putty``."
      ]
    },
    {
      "cell_type": "code",
      "execution_count": 9,
      "metadata": {},
      "outputs": [
        {
          "data": {
            "image/png": "[encoded data removed]",
            "text/plain": [
              "<IPython.core.display.Image object>"
            ]
          },
          "execution_count": 10,
          "metadata": {
            "image/png": {
              "width": 400
            }
          },
          "output_type": "execute_result"
        }
      ],
      "source": [
        "from pyquickhelper.helpgen import NbImage\n",
        "NbImage(\"putty1.png\", width=400)"
      ]
    },
    {
      "cell_type": "code",
      "execution_count": 10,
      "metadata": {},
      "outputs": [
        {
          "data": {
            "image/png": "[encoded data removed]",
            "text/plain": [
              "<IPython.core.display.Image object>"
            ]
          },
          "execution_count": 11,
          "metadata": {
            "image/png": {
              "width": 600
            }
          },
          "output_type": "execute_result"
        }
      ],
      "source": [
        "NbImage(\"putty2.png\", width=600)"
      ]
    },
    {
      "cell_type": "markdown",
      "metadata": {},
      "source": [
        "Le cluster [Hadoop](http://hadoop.apache.org/) inclut un syst\u00e8me de fichiers [HDFS](http://hadoop.apache.org/docs/r1.2.1/hdfs_design.html). Celui fonctionne \u00e0 peu pr\u00e8s comme un syst\u00e8me de fichiers linux avec les m\u00eames commandes \u00e0 ceci pr\u00e8s qu'un fichier n'est plus n\u00e9cessaire localis\u00e9 sur une seule machine mais peut-\u00eatre r\u00e9parti sur plusieurs. Pour \u00e9viter la perte de donn\u00e9es due \u00e0 des machines d\u00e9faillantes, les donn\u00e9es sont [r\u00e9pliqu\u00e9es trois fois](http://www.bigdataplanet.info/2013/10/Hadoop-Tutorial-Part-3-Replication-and-Read-Operations-in-HDFS.html). Les op\u00e9rations standard sont disponibles (copy, rename, delete) auxquelles on ajoute deux op\u00e9rations : upload, download. Les commandes sont presque identiques \u00e0 celles de linux mais pr\u00e9c\u00e9d\u00e9es de ``hdfs``.\n",
        "\n",
        "Pour manipuler les donn\u00e9es sur un cluster, il faut d'abord les [uploader](http://fr.wiktionary.org/wiki/uploader) sur ce cluster. Pour les r\u00e9cup\u00e9rer, il faut les [downloader](http://fr.wikipedia.org/wiki/T%C3%A9l%C3%A9chargement). Pour faciliter les choses, on va utiliser des [commandes magiques](http://ipython.org/ipython-doc/dev/interactive/magics.html?highlight=command) impl\u00e9ment\u00e9es dans le module [pyensae](http://www.xavierdupre.fr/app/pyensae/helpsphinx/) (>= 0.8). La premi\u00e8re t\u00e2che est d'enregistrer dans l'espace de travail le nom du server, votre alias et votre mot de passe dans le workspace du notebook.\n",
        "\n",
        "Le code est avant tout destin\u00e9 \u00e0 **ne pas laisser votre mot de passe en clair dans le notebook**. S'il est en clair, t\u00f4t ou tard, vous oublierez de l'effacer avant de partager votre notebook. Dans ce cas, il faut changer de mot de passe sans tarder.\n",
        "\n",
        "Le code suivant v\u00e9rifie d'abord qu'il n'existe pas de variable d'environnement ``CRTERALAB`` afin de ne pas avoir \u00e0 rentrer les mot de passe \u00e0 chaque fois (voir [Mettre ses mots de passe dans les variables d\u2019environnement](http://www.xavierdupre.fr/app/ensae_projects/helpsphinx/projects/hackathon_2015_startup.html#mettre-ses-mots-de-passe-dans-les-variables-d-environnement)). Si cette variable existe, le notebook s'attend \u00e0 trouver l'information ``server**password**username``."
      ]
    },
    {
      "cell_type": "code",
      "execution_count": 11,
      "metadata": {},
      "outputs": [
        {
          "data": {
            "text/plain": [
              "dict"
            ]
          },
          "execution_count": 12,
          "metadata": {},
          "output_type": "execute_result"
        }
      ],
      "source": [
        "import os\n",
        "if \"CRTERALAB\" in os.environ:\n",
        "    spl = os.environ[\"CRTERALAB\"].split(\"**\")\n",
        "    params=dict(server=spl[0], password=spl[1], username=spl[2])\n",
        "    r = dict\n",
        "else:\n",
        "    from pyquickhelper.ipythonhelper import open_html_form\n",
        "    params={\"server\":\"\", \"username\":\"\", \"password\":\"\"}\n",
        "    r = open_html_form(params=params,title=\"server + credentials\", key_save=\"params\")\n",
        "r"
      ]
    },
    {
      "cell_type": "markdown",
      "metadata": {},
      "source": [
        "On stocke le mot de passe dans trois variables de l'espace de travail afin que les commandes magiques trouvent ces informations."
      ]
    },
    {
      "cell_type": "code",
      "execution_count": 12,
      "metadata": {},
      "outputs": [],
      "source": [
        "password = params[\"password\"]\n",
        "server = params[\"server\"]\n",
        "username = params[\"username\"]"
      ]
    },
    {
      "cell_type": "markdown",
      "metadata": {},
      "source": [
        "On ouvre la connection SSH qui restera ouverte jusqu'\u00e0 ce qu'on la ferme."
      ]
    },
    {
      "cell_type": "code",
      "execution_count": 13,
      "metadata": {
        "scrolled": false
      },
      "outputs": [
        {
          "data": {
            "text/plain": [
              "<pyensae.remote.ssh_remote_connection.ASSHClient at 0xbb31f28>"
            ]
          },
          "execution_count": 14,
          "metadata": {},
          "output_type": "execute_result"
        }
      ],
      "source": [
        "%load_ext pyensae\n",
        "%load_ext pyenbc\n",
        "%remote_open"
      ]
    },
    {
      "cell_type": "markdown",
      "metadata": {},
      "source": [
        "On regarde le contenu du r\u00e9pertoire qui vous est associ\u00e9 sur la machine distante :"
      ]
    },
    {
      "cell_type": "code",
      "execution_count": 14,
      "metadata": {},
      "outputs": [
        {
          "data": {
            "text/html": [
              "<pre>\n",
              "total 420\n",
              "-rw-r--r-- 1 xavierdupre xavierdupre 132727 Oct 29 00:38 ConfLongDemo_JSI.small.example.is_back.txt\n",
              "-rw-rw-r-- 1 xavierdupre xavierdupre 132727 Oct 29 00:28 ConfLongDemo_JSI.small.example.txt\n",
              "-rw-rw-r-- 1 xavierdupre xavierdupre      0 Nov 24 18:00 dummy\n",
              "-rw-rw-r-- 1 xavierdupre xavierdupre   2222 Oct 29 00:57 empty.err\n",
              "-rw-rw-r-- 1 xavierdupre xavierdupre      0 Oct 29 00:57 empty.out\n",
              "-rw-rw-r-- 1 xavierdupre xavierdupre   2103 Oct 29 01:15 groupby.join.redirection.err\n",
              "-rw-rw-r-- 1 xavierdupre xavierdupre      0 Oct 29 01:15 groupby.join.redirection.out\n",
              "-rw-rw-r-- 1 xavierdupre xavierdupre   9049 Oct 29 01:10 groupby.redirection.err\n",
              "-rw-rw-r-- 1 xavierdupre xavierdupre      0 Oct 29 01:10 groupby.redirection.out\n",
              "-rw-rw-r-- 1 xavierdupre xavierdupre   2222 Oct 29 00:57 None.err\n",
              "-rw-rw-r-- 1 xavierdupre xavierdupre      0 Oct 29 00:57 None.out\n",
              "-rw-rw-r-- 1 xavierdupre xavierdupre   1449 Oct 29 00:41 pig_1446075664771.log\n",
              "-rw-rw-r-- 1 xavierdupre xavierdupre   3123 Oct 29 00:47 pig_1446076053872.log\n",
              "-rw-rw-r-- 1 xavierdupre xavierdupre   3123 Oct 29 00:49 pig_1446076194560.log\n",
              "-rw-rw-r-- 1 xavierdupre xavierdupre   3123 Oct 29 00:50 pig_1446076204158.log\n",
              "-rw-rw-r-- 1 xavierdupre xavierdupre   3123 Oct 29 00:50 pig_1446076211428.log\n",
              "-rw-rw-r-- 1 xavierdupre xavierdupre   1449 Oct 29 00:51 pig_1446076271184.log\n",
              "-rw-rw-r-- 1 xavierdupre xavierdupre   3153 Oct 29 00:56 pig_1446076561656.log\n",
              "-rw-rw-r-- 1 xavierdupre xavierdupre   3153 Oct 29 00:56 pig_1446076615152.log\n",
              "-rw-rw-r-- 1 xavierdupre xavierdupre   3153 Oct 29 00:57 pig_1446076628372.log\n",
              "-rw-rw-r-- 1 xavierdupre xavierdupre   3153 Oct 29 00:57 pig_1446076640389.log\n",
              "-rw-rw-r-- 1 xavierdupre xavierdupre   3153 Oct 29 00:59 pig_1446076767869.log\n",
              "-rw-rw-r-- 1 xavierdupre xavierdupre   3285 Oct 29 01:15 pig_1446077714461.log\n",
              "-rw-rw-r-- 1 xavierdupre xavierdupre   6296 Nov 24 18:00 pig_1448384434969.log\n",
              "-rw-rw-r-- 1 xavierdupre xavierdupre    659 Nov 24 18:00 pystream.pig\n",
              "-rw-rw-r-- 1 xavierdupre xavierdupre    382 Nov 24 18:00 pystream.py\n",
              "-rw-rw-r-- 1 xavierdupre xavierdupre   8432 Oct 29 00:52 redirection.err\n",
              "-rw-rw-r-- 1 xavierdupre xavierdupre      0 Oct 29 00:51 redirection.out\n",
              "-rw-rw-r-- 1 xavierdupre xavierdupre   8450 Oct 29 01:03 redirection.pig.err\n",
              "-rw-rw-r-- 1 xavierdupre xavierdupre      0 Oct 29 01:02 redirection.pig.out\n",
              "-rw-rw-r-- 1 xavierdupre xavierdupre    321 Oct 29 00:51 select1.pig\n",
              "-rw-rw-r-- 1 xavierdupre xavierdupre    344 Oct 29 00:59 select2.pig\n",
              "-rw-rw-r-- 1 xavierdupre xavierdupre    351 Oct 29 01:02 select3.pig\n",
              "-rw-rw-r-- 1 xavierdupre xavierdupre    428 Oct 29 01:15 solution_groupby_join.pig\n",
              "-rw-rw-r-- 1 xavierdupre xavierdupre    367 Oct 29 01:10 solution_groupby.pig\n",
              "-rw-r--r-- 1 xavierdupre xavierdupre  22166 Oct 29 01:06 toutenun.txt\n",
              "\n",
              "</pre>"
            ],
            "text/plain": [
              "<IPython.core.display.HTML object>"
            ]
          },
          "execution_count": 15,
          "metadata": {},
          "output_type": "execute_result"
        }
      ],
      "source": [
        "%remote_cmd ls -l"
      ]
    },
    {
      "cell_type": "markdown",
      "metadata": {},
      "source": [
        "On efface tout :"
      ]
    },
    {
      "cell_type": "code",
      "execution_count": 15,
      "metadata": {},
      "outputs": [
        {
          "data": {
            "text/html": [
              "<pre>\n",
              "\n",
              "</pre>"
            ],
            "text/plain": [
              "<IPython.core.display.HTML object>"
            ]
          },
          "execution_count": 16,
          "metadata": {},
          "output_type": "execute_result"
        }
      ],
      "source": [
        "%remote_cmd rm -r *"
      ]
    },
    {
      "cell_type": "code",
      "execution_count": 16,
      "metadata": {},
      "outputs": [
        {
          "data": {
            "text/html": [
              "<pre>\n",
              "total 0\n",
              "\n",
              "</pre>"
            ],
            "text/plain": [
              "<IPython.core.display.HTML object>"
            ]
          },
          "execution_count": 17,
          "metadata": {},
          "output_type": "execute_result"
        }
      ],
      "source": [
        "%remote_cmd ls -l"
      ]
    },
    {
      "cell_type": "markdown",
      "metadata": {},
      "source": [
        "C'est une commande linux. Les commandes les plus fr\u00e9quentes sont accessibles d\u00e9crites \u00e0 [Les commandes de base en console](http://doc.ubuntu-fr.org/tutoriel/console_commandes_de_base). L'instruction suivante consiste \u00e0 uploader un fichier depuis l'ordinateur local vers la passerelle."
      ]
    },
    {
      "cell_type": "code",
      "execution_count": 17,
      "metadata": {},
      "outputs": [
        {
          "data": {
            "text/plain": [
              "'ConfLongDemo_JSI.small.example.txt'"
            ]
          },
          "execution_count": 18,
          "metadata": {},
          "output_type": "execute_result"
        }
      ],
      "source": [
        "%remote_up ConfLongDemo_JSI.small.txt ConfLongDemo_JSI.small.example.txt"
      ]
    },
    {
      "cell_type": "markdown",
      "metadata": {},
      "source": [
        "On v\u00e9rifie que celui-ci a bien \u00e9t\u00e9 transf\u00e9r\u00e9 :"
      ]
    },
    {
      "cell_type": "code",
      "execution_count": 18,
      "metadata": {},
      "outputs": [
        {
          "data": {
            "text/html": [
              "<pre>\n",
              "total 132\n",
              "-rw-rw-r-- 1 xavierdupre xavierdupre 132727 Oct 29 00:28 ConfLongDemo_JSI.small.example.txt\n",
              "\n",
              "</pre>"
            ],
            "text/plain": [
              "<IPython.core.display.HTML object>"
            ]
          },
          "execution_count": 19,
          "metadata": {},
          "output_type": "execute_result"
        }
      ],
      "source": [
        "%remote_cmd ls -l"
      ]
    },
    {
      "cell_type": "markdown",
      "metadata": {},
      "source": [
        "Ensuite, on regarde le contenu du r\u00e9pertoire qui vous est associ\u00e9 sur le cluster :"
      ]
    },
    {
      "cell_type": "code",
      "execution_count": 19,
      "metadata": {},
      "outputs": [
        {
          "data": {
            "text/html": [
              "<pre>\n",
              "Found 3 items\n",
              "drwx------   - xavierdupre xavierdupre          0 2015-10-28 01:09 .Trash\n",
              "drwx------   - xavierdupre xavierdupre          0 2015-10-28 01:08 .staging\n",
              "drwxr-xr-x   - xavierdupre xavierdupre          0 2014-11-20 23:43 unitest2\n",
              "\n",
              "</pre>"
            ],
            "text/plain": [
              "<IPython.core.display.HTML object>"
            ]
          },
          "execution_count": 20,
          "metadata": {},
          "output_type": "execute_result"
        }
      ],
      "source": [
        "%remote_cmd hdfs dfs -ls"
      ]
    },
    {
      "cell_type": "markdown",
      "metadata": {},
      "source": [
        "On supprime les pr\u00e9c\u00e9dentes ex\u00e9cutions :"
      ]
    },
    {
      "cell_type": "code",
      "execution_count": 20,
      "metadata": {},
      "outputs": [
        {
          "data": {
            "text/html": [
              "<pre>\n",
              "\n",
              "</pre>"
            ],
            "text/plain": [
              "<IPython.core.display.HTML object>"
            ]
          },
          "execution_count": 21,
          "metadata": {},
          "output_type": "execute_result"
        }
      ],
      "source": [
        "%remote_cmd hdfs dfs -rm -f -R ConfLong*"
      ]
    },
    {
      "cell_type": "code",
      "execution_count": 21,
      "metadata": {},
      "outputs": [
        {
          "data": {
            "text/html": [
              "<pre>\n",
              "Found 3 items\n",
              "drwx------   - xavierdupre xavierdupre          0 2015-10-28 01:09 .Trash\n",
              "drwx------   - xavierdupre xavierdupre          0 2015-10-28 01:08 .staging\n",
              "drwxr-xr-x   - xavierdupre xavierdupre          0 2014-11-20 23:43 unitest2\n",
              "\n",
              "</pre>"
            ],
            "text/plain": [
              "<IPython.core.display.HTML object>"
            ]
          },
          "execution_count": 22,
          "metadata": {},
          "output_type": "execute_result"
        }
      ],
      "source": [
        "%remote_cmd hdfs dfs -ls "
      ]
    },
    {
      "cell_type": "markdown",
      "metadata": {},
      "source": [
        "Les commandes HDFS d\u00e9crite \u00e0 [Apache Hadoop 2.3.0](http://hadoop.apache.org/docs/r2.3.0/hadoop-project-dist/hadoop-common/FileSystemShell.html). Elles sont tr\u00e8s proches des commandes linux. Ensuite, on uploade le fichier sur le syst\u00e8me de fichier distribu\u00e9 du cluster (HDFS) :"
      ]
    },
    {
      "cell_type": "code",
      "execution_count": 22,
      "metadata": {},
      "outputs": [
        {
          "data": {
            "text/html": [
              "<pre>\n",
              "\n",
              "</pre>"
            ],
            "text/plain": [
              "<IPython.core.display.HTML object>"
            ]
          },
          "execution_count": 23,
          "metadata": {},
          "output_type": "execute_result"
        }
      ],
      "source": [
        "%remote_cmd hdfs dfs -put ConfLongDemo_JSI.small.example.txt ./ConfLongDemo_JSI.small.example.txt"
      ]
    },
    {
      "cell_type": "markdown",
      "metadata": {},
      "source": [
        "Puis on v\u00e9rifie que le fichier a bien \u00e9t\u00e9 upload\u00e9 sur le cluster :"
      ]
    },
    {
      "cell_type": "code",
      "execution_count": 23,
      "metadata": {},
      "outputs": [
        {
          "data": {
            "text/html": [
              "<pre>\n",
              "Found 4 items\n",
              "drwx------   - xavierdupre xavierdupre          0 2015-10-28 01:09 .Trash\n",
              "drwx------   - xavierdupre xavierdupre          0 2015-10-28 01:08 .staging\n",
              "-rw-r--r--   3 xavierdupre xavierdupre     132727 2015-10-29 00:38 ConfLongDemo_JSI.small.example.txt\n",
              "drwxr-xr-x   - xavierdupre xavierdupre          0 2014-11-20 23:43 unitest2\n",
              "\n",
              "</pre>"
            ],
            "text/plain": [
              "<IPython.core.display.HTML object>"
            ]
          },
          "execution_count": 24,
          "metadata": {},
          "output_type": "execute_result"
        }
      ],
      "source": [
        "%remote_cmd hdfs dfs -ls"
      ]
    },
    {
      "cell_type": "markdown",
      "metadata": {},
      "source": [
        "On regarde la fin du fichier sur le cluster :"
      ]
    },
    {
      "cell_type": "code",
      "execution_count": 24,
      "metadata": {},
      "outputs": [
        {
          "data": {
            "text/html": [
              "<pre>\n",
              "1,633790226377438480,27.05.2009 14:03:57:743,4.371500492095946,1.4781558513641355,0.5384233593940735,lying\r\n",
              "993,A01,010-000-024-033,633790226377708776,27.05.2009 14:03:57:770,3.0621800422668457,1.0790562629699707,0.6795752048492432,lying\r\n",
              "994,A01,020-000-032-221,633790226378519655,27.05.2009 14:03:57:853,4.36382532119751,1.4307395219802856,0.3206148743629456,lying\r\n",
              "995,A01,010-000-024-033,633790226378789954,27.05.2009 14:03:57:880,3.0784008502960205,1.0197675228118896,0.6061218976974487,lying\r\n",
              "996,A01,010-000-030-096,633790226379060251,27.05.2009 14:03:57:907,3.182415008544922,1.1020996570587158,0.29104289412498474,lying\r\n",
              "997,A01,020-000-033-111,633790226379330550,27.05.2009 14:03:57:933,4.7574005126953125,1.285519003868103,-0.08946932852268219,lying\r\n",
              "998,A01,020-000-032-221,633790226379600847,27.05.2009 14:03:57:960,4.3730292320251465,1.3821170330047607,0.38861045241355896,lying\r\n",
              "999,A01,010-000-024-033,633790226379871138,27.05.2009 14:03:57:987,3.198556661605835,1.1257659196853638,0.3567752242088318,lying\r\n",
              "\n",
              "</pre>"
            ],
            "text/plain": [
              "<IPython.core.display.HTML object>"
            ]
          },
          "execution_count": 25,
          "metadata": {},
          "output_type": "execute_result"
        }
      ],
      "source": [
        "%remote_cmd hdfs dfs -tail ConfLongDemo_JSI.small.example.txt"
      ]
    },
    {
      "cell_type": "markdown",
      "metadata": {},
      "source": [
        "Le fichier va suivre maintenant le chemin inverse. On le rapatrie depuis le cluster jusqu'\u00e0 l'ordinateur local. Premi\u00e8re \u00e9tape : du cluster \u00e0 la passerelle :"
      ]
    },
    {
      "cell_type": "code",
      "execution_count": 25,
      "metadata": {},
      "outputs": [
        {
          "data": {
            "text/html": [
              "<pre>\n",
              "\n",
              "</pre>"
            ],
            "text/plain": [
              "<IPython.core.display.HTML object>"
            ]
          },
          "execution_count": 26,
          "metadata": {},
          "output_type": "execute_result"
        }
      ],
      "source": [
        "%remote_cmd hdfs dfs -get ConfLongDemo_JSI.small.example.txt ConfLongDemo_JSI.small.example.is_back.txt"
      ]
    },
    {
      "cell_type": "markdown",
      "metadata": {},
      "source": [
        "On v\u00e9rifie que le fichier est sur la passerelle :"
      ]
    },
    {
      "cell_type": "code",
      "execution_count": 26,
      "metadata": {},
      "outputs": [
        {
          "data": {
            "text/html": [
              "<pre>\n",
              "total 264\n",
              "-rw-r--r-- 1 xavierdupre xavierdupre 132727 Oct 29 00:38 ConfLongDemo_JSI.small.example.is_back.txt\n",
              "-rw-rw-r-- 1 xavierdupre xavierdupre 132727 Oct 29 00:28 ConfLongDemo_JSI.small.example.txt\n",
              "\n",
              "</pre>"
            ],
            "text/plain": [
              "<IPython.core.display.HTML object>"
            ]
          },
          "execution_count": 27,
          "metadata": {},
          "output_type": "execute_result"
        }
      ],
      "source": [
        "%remote_cmd ls -l"
      ]
    },
    {
      "cell_type": "markdown",
      "metadata": {},
      "source": [
        "On supprime le fichier de la pr\u00e9c\u00e9dente ex\u00e9cution :"
      ]
    },
    {
      "cell_type": "code",
      "execution_count": 27,
      "metadata": {},
      "outputs": [],
      "source": [
        "import os\n",
        "if os.path.exists(\"ConfLongDemo_JSI.small.example.is_back_local.txt\") : \n",
        "    os.remove(\"ConfLongDemo_JSI.small.example.is_back_local.txt\")"
      ]
    },
    {
      "cell_type": "code",
      "execution_count": 28,
      "metadata": {},
      "outputs": [
        {
          "data": {
            "text/plain": [
              "['ConfLongDemo_JSI.small.txt', 'ConfLongDemo_JSI.txt']"
            ]
          },
          "execution_count": 29,
          "metadata": {},
          "output_type": "execute_result"
        }
      ],
      "source": [
        "[ _ for _ in os.listdir(\".\") if \"txt\" in _ ]"
      ]
    },
    {
      "cell_type": "markdown",
      "metadata": {},
      "source": [
        "Second transfert depuis la passerelle jusqu'\u00e0 l'ordinateur local :"
      ]
    },
    {
      "cell_type": "code",
      "execution_count": 29,
      "metadata": {},
      "outputs": [
        {
          "data": {
            "text/plain": [
              "'ConfLongDemo_JSI.small.example.is_back_local.txt'"
            ]
          },
          "execution_count": 30,
          "metadata": {},
          "output_type": "execute_result"
        }
      ],
      "source": [
        "%remote_down ConfLongDemo_JSI.small.example.is_back.txt ConfLongDemo_JSI.small.example.is_back_local.txt"
      ]
    },
    {
      "cell_type": "code",
      "execution_count": 30,
      "metadata": {},
      "outputs": [
        {
          "data": {
            "text/plain": [
              "['ConfLongDemo_JSI.small.example.is_back_local.txt',\n",
              " 'ConfLongDemo_JSI.small.txt',\n",
              " 'ConfLongDemo_JSI.txt']"
            ]
          },
          "execution_count": 31,
          "metadata": {},
          "output_type": "execute_result"
        }
      ],
      "source": [
        "[ _ for _ in os.listdir(\".\") if \"txt\" in _ ]"
      ]
    },
    {
      "cell_type": "code",
      "execution_count": 31,
      "metadata": {},
      "outputs": [
        {
          "data": {
            "text/plain": [
              "True"
            ]
          },
          "execution_count": 32,
          "metadata": {},
          "output_type": "execute_result"
        }
      ],
      "source": [
        "%remote_close"
      ]
    },
    {
      "cell_type": "markdown",
      "metadata": {},
      "source": [
        "## Partie 2 : premier job map/reduce avec PIG\n",
        "\n",
        "Pour cette partie, l'id\u00e9e d'ex\u00e9cuter des jobs Map/Reduce sur le fichier ``ConfLongDemo_JSI.small.example.txt`` puis de v\u00e9rifier qu'on obtient bien les m\u00eame r\u00e9sultats sur le m\u00eame fichier en utilisant une requ\u00eate SQL. Le code pour cr\u00e9er la connexion \u00e0 la passerelle est recopi\u00e9 ci-dessous mais il n'est pas n\u00e9cessaire de l'ex\u00e9cuter si la connexion n'a pas \u00e9t\u00e9 interrompue."
      ]
    },
    {
      "cell_type": "code",
      "execution_count": 32,
      "metadata": {},
      "outputs": [
        {
          "data": {
            "text/html": [
              "<div style=\"background-color:gainsboro; padding:2px; border:0px;\"><b>server + credentials</b>\n",
              "<br />password <input type=\"password\" id=\"paramspassword\" value=\"\" size=\"80\" />\n",
              "<br />server <input type=\"text\" id=\"paramsserver\" value=\"df...fr\" size=\"80\" />\n",
              "<br />username <input type=\"text\" id=\"paramsusername\" value=\"\" size=\"80\" />\n",
              "<br /><button onclick=\"set_valueparams()\">Ok</button></div>\n",
              "<script type=\"text/Javascript\">\n",
              "function set_valueparams(){\n",
              "   command='params = {' ;\n",
              "   var paramspasswordvar_value = document.getElementById('paramspassword').value;\n",
              "   command += '\"password\":\"' + paramspasswordvar_value + '\",';\n",
              "   var paramsservervar_value = document.getElementById('paramsserver').value;\n",
              "   command += '\"server\":\"' + paramsservervar_value + '\",';\n",
              "   var paramsusernamevar_value = document.getElementById('paramsusername').value;\n",
              "   command += '\"username\":\"' + paramsusernamevar_value + '\",';\n",
              "   command += '}';\n",
              "   var kernel = IPython.notebook.kernel;\n",
              "   kernel.execute(command);\n",
              "}\n",
              "</script>"
            ],
            "text/plain": [
              "<IPython.core.display.HTML at 0x7bcf230>"
            ]
          },
          "execution_count": 33,
          "metadata": {},
          "output_type": "execute_result"
        }
      ],
      "source": [
        "import pyensae\n",
        "from pyquickhelper.ipythonhelper import open_html_form\n",
        "open_html_form(params=params,title=\"server + credentials\", key_save=\"params\")"
      ]
    },
    {
      "cell_type": "code",
      "execution_count": 33,
      "metadata": {},
      "outputs": [],
      "source": [
        "password = params[\"password\"]\n",
        "server = params[\"server\"]\n",
        "username = params[\"username\"]"
      ]
    },
    {
      "cell_type": "code",
      "execution_count": 34,
      "metadata": {},
      "outputs": [
        {
          "data": {
            "text/plain": [
              "<pyensae.remote.ssh_remote_connection.ASSHClient at 0xa499908>"
            ]
          },
          "execution_count": 35,
          "metadata": {},
          "output_type": "execute_result"
        }
      ],
      "source": [
        "ssh = %remote_open\n",
        "ssh"
      ]
    },
    {
      "cell_type": "markdown",
      "metadata": {},
      "source": [
        "<h4 id=\"job\">JOBS</h4>\n",
        "\n",
        "Un job d\u00e9finit l'ensemble des traitements que vous souhaitez effectuer sur un ou plusieurs fichiers. Le langage [PIG](http://pig.apache.org/docs/r0.12.1/basic.html) permet de d\u00e9crire ces traitements. Le programme est ensuite interpr\u00e9t\u00e9 puis soumis \u00e0 Hadoop qui s'occupe de r\u00e9partir de traitements sur l'ensemble des resources dont il dispose. La commande suivante permet d'obtenir l'ensemble des t\u00e2ches associ\u00e9s aux jobs :"
      ]
    },
    {
      "cell_type": "code",
      "execution_count": 35,
      "metadata": {},
      "outputs": [
        {
          "data": {
            "text/html": [
              "<pre>\n",
              "Usage: mapred [--config confdir] COMMAND\n",
              "       where COMMAND is one of:\n",
              "  pipes                run a Pipes job\n",
              "  job                  manipulate MapReduce jobs\n",
              "  queue                get information regarding JobQueues\n",
              "  classpath            prints the class path needed for running\n",
              "                       mapreduce subcommands\n",
              "  historyserver        run job history servers as a standalone daemon\n",
              "  distcp <srcurl> <desturl> copy file or directories recursively\n",
              "  archive -archiveName NAME -p <parent path> <src>* <dest> create a hadoop archive\n",
              "  hsadmin              job history server admin interface\n",
              "\n",
              "Most commands print help when invoked w/o parameters.\n",
              "\n",
              "</pre>"
            ],
            "text/plain": [
              "<IPython.core.display.HTML object>"
            ]
          },
          "execution_count": 36,
          "metadata": {},
          "output_type": "execute_result"
        }
      ],
      "source": [
        "%remote_cmd mapred --help"
      ]
    },
    {
      "cell_type": "markdown",
      "metadata": {},
      "source": [
        "Et plus sp\u00e9cifiquement pour la commande ``mapred job`` :\n",
        "\n",
        "    Usage: CLI <command> <args>\n",
        "        [-submit <job-file>]\n",
        "        [-status <job-id>]\n",
        "        [-counter <job-id> <group-name> <counter-name>]\n",
        "        [-kill <job-id>]\n",
        "        [-set-priority <job-id> <priority>]. Valid values for priorities are: VERY_HIGH HIGH NORMAL LOW VERY_LOW\n",
        "        [-events <job-id> <from-event-#> <#-of-events>]\n",
        "        [-history <jobHistoryFile>]\n",
        "        [-list [all]]\n",
        "        [-list-active-trackers]\n",
        "        [-list-blacklisted-trackers]\n",
        "        [-list-attempt-ids <job-id> <task-type> <task-state>]. Valid values for <task-type> are REDUCE MAP. Valid values for <task-state> are running, completed\n",
        "        [-kill-task <task-attempt-id>]\n",
        "        [-fail-task <task-attempt-id>]\n",
        "        [-logs <job-id> <task-attempt-id>]\n",
        "    "
      ]
    },
    {
      "cell_type": "markdown",
      "metadata": {},
      "source": [
        "D'autres commandes sont disponibles avec la commande ``pig`` :"
      ]
    },
    {
      "cell_type": "code",
      "execution_count": 36,
      "metadata": {},
      "outputs": [
        {
          "data": {
            "text/html": [
              "<pre>\n",
              "\n",
              "Apache Pig version 0.12.0-cdh5.0.2 (rexported) \n",
              "compiled Jun 09 2014, 11:14:51\n",
              "\n",
              "USAGE: Pig [options] [-] : Run interactively in grunt shell.\n",
              "       Pig [options] -e[xecute] cmd [cmd ...] : Run cmd(s).\n",
              "       Pig [options] [-f[ile]] file : Run cmds found in file.\n",
              "  options include:\n",
              "    -4, -log4jconf - Log4j configuration file, overrides log conf\n",
              "    -b, -brief - Brief logging (no timestamps)\n",
              "    -c, -check - Syntax check\n",
              "    -d, -debug - Debug level, INFO is default\n",
              "    -e, -execute - Commands to execute (within quotes)\n",
              "    -f, -file - Path to the script to execute\n",
              "    -g, -embedded - ScriptEngine classname or keyword for the ScriptEngine\n",
              "    -h, -help - Display this message. You can specify topic to get help for that topic.\n",
              "        properties is the only topic currently supported: -h properties.\n",
              "    -i, -version - Display version information\n",
              "    -l, -logfile - Path to client side log file; default is current working directory.\n",
              "    -m, -param_file - Path to the parameter file\n",
              "    -p, -param - Key value pair of the form param=val\n",
              "    -r, -dryrun - Produces script with substituted parameters. Script is not executed.\n",
              "    -t, -optimizer_off - Turn optimizations off. The following values are supported:\n",
              "            SplitFilter - Split filter conditions\n",
              "            PushUpFilter - Filter as early as possible\n",
              "            MergeFilter - Merge filter conditions\n",
              "            PushDownForeachFlatten - Join or explode as late as possible\n",
              "            LimitOptimizer - Limit as early as possible\n",
              "            ColumnMapKeyPrune - Remove unused data\n",
              "            AddForEach - Add ForEach to remove unneeded columns\n",
              "            MergeForEach - Merge adjacent ForEach\n",
              "            GroupByConstParallelSetter - Force parallel 1 for \"group all\" statement\n",
              "            All - Disable all optimizations\n",
              "        All optimizations listed here are enabled by default. Optimization values are case insensitive.\n",
              "    -v, -verbose - Print all error messages to screen\n",
              "    -w, -warning - Turn warning logging on; also turns warning aggregation off\n",
              "    -x, -exectype - Set execution mode: local|mapreduce, default is mapreduce.\n",
              "    -F, -stop_on_failure - Aborts execution on the first failed job; default is off\n",
              "    -M, -no_multiquery - Turn multiquery optimization off; default is on\n",
              "    -P, -propertyFile - Path to property file\n",
              "    -printCmdDebug - Overrides anything else and prints the actual command used to run Pig, including\n",
              "                     any environment variables that are set by the pig command.\n",
              "\n",
              "</pre>"
            ],
            "text/plain": [
              "<IPython.core.display.HTML object>"
            ]
          },
          "execution_count": 37,
          "metadata": {},
          "output_type": "execute_result"
        }
      ],
      "source": [
        "%remote_cmd pig --help"
      ]
    },
    {
      "cell_type": "markdown",
      "metadata": {},
      "source": [
        "Le job suit le processus suivant :\n",
        "    \n",
        "* Le job est soumis \u00e0 Hadoop.\n",
        "* Il est ensuite plac\u00e9 dans une file d'attente avec une priorit\u00e9 qui d\u00e9termine son ordre d'ex\u00e9cution (**queue**).\n",
        "* Il est ex\u00e9cut\u00e9."
      ]
    },
    {
      "cell_type": "markdown",
      "metadata": {},
      "source": [
        "<h4 id=\"select\">SELECT ... WHERE</h4>"
      ]
    },
    {
      "cell_type": "code",
      "execution_count": 37,
      "metadata": {},
      "outputs": [
        {
          "data": {
            "text/html": [
              "<div>\n",
              "<table border=\"1\" class=\"dataframe\">\n",
              "  <thead>\n",
              "    <tr style=\"text-align: right;\">\n",
              "      <th></th>\n",
              "      <th>index</th>\n",
              "      <th>sequence</th>\n",
              "      <th>tag</th>\n",
              "      <th>timestamp</th>\n",
              "      <th>dateformat</th>\n",
              "      <th>x</th>\n",
              "      <th>y</th>\n",
              "      <th>z</th>\n",
              "      <th>activity</th>\n",
              "    </tr>\n",
              "  </thead>\n",
              "  <tbody>\n",
              "    <tr>\n",
              "      <th>165</th>\n",
              "      <td>698</td>\n",
              "      <td>A01</td>\n",
              "      <td>010-000-030-096</td>\n",
              "      <td>633790226277429870</td>\n",
              "      <td>27.05.2009 14:03:47:743</td>\n",
              "      <td>2.965434</td>\n",
              "      <td>1.782434</td>\n",
              "      <td>0.228563</td>\n",
              "      <td>walking</td>\n",
              "    </tr>\n",
              "    <tr>\n",
              "      <th>166</th>\n",
              "      <td>699</td>\n",
              "      <td>A01</td>\n",
              "      <td>020-000-032-221</td>\n",
              "      <td>633790226277970452</td>\n",
              "      <td>27.05.2009 14:03:47:797</td>\n",
              "      <td>4.322405</td>\n",
              "      <td>1.571452</td>\n",
              "      <td>1.400499</td>\n",
              "      <td>walking</td>\n",
              "    </tr>\n",
              "    <tr>\n",
              "      <th>167</th>\n",
              "      <td>700</td>\n",
              "      <td>A01</td>\n",
              "      <td>010-000-024-033</td>\n",
              "      <td>633790226278240749</td>\n",
              "      <td>27.05.2009 14:03:47:823</td>\n",
              "      <td>3.133065</td>\n",
              "      <td>1.769329</td>\n",
              "      <td>-0.022590</td>\n",
              "      <td>walking</td>\n",
              "    </tr>\n",
              "    <tr>\n",
              "      <th>168</th>\n",
              "      <td>701</td>\n",
              "      <td>A01</td>\n",
              "      <td>020-000-033-111</td>\n",
              "      <td>633790226278781331</td>\n",
              "      <td>27.05.2009 14:03:47:877</td>\n",
              "      <td>3.121254</td>\n",
              "      <td>1.549842</td>\n",
              "      <td>1.048139</td>\n",
              "      <td>walking</td>\n",
              "    </tr>\n",
              "    <tr>\n",
              "      <th>169</th>\n",
              "      <td>702</td>\n",
              "      <td>A01</td>\n",
              "      <td>020-000-032-221</td>\n",
              "      <td>633790226279051629</td>\n",
              "      <td>27.05.2009 14:03:47:907</td>\n",
              "      <td>3.281498</td>\n",
              "      <td>1.498734</td>\n",
              "      <td>0.620412</td>\n",
              "      <td>walking</td>\n",
              "    </tr>\n",
              "  </tbody>\n",
              "</table>\n",
              "</div>"
            ],
            "text/plain": [
              "     index sequence              tag           timestamp  \\\n",
              "165    698      A01  010-000-030-096  633790226277429870   \n",
              "166    699      A01  020-000-032-221  633790226277970452   \n",
              "167    700      A01  010-000-024-033  633790226278240749   \n",
              "168    701      A01  020-000-033-111  633790226278781331   \n",
              "169    702      A01  020-000-032-221  633790226279051629   \n",
              "\n",
              "                  dateformat         x         y         z activity  \n",
              "165  27.05.2009 14:03:47:743  2.965434  1.782434  0.228563  walking  \n",
              "166  27.05.2009 14:03:47:797  4.322405  1.571452  1.400499  walking  \n",
              "167  27.05.2009 14:03:47:823  3.133065  1.769329 -0.022590  walking  \n",
              "168  27.05.2009 14:03:47:877  3.121254  1.549842  1.048139  walking  \n",
              "169  27.05.2009 14:03:47:907  3.281498  1.498734  0.620412  walking  "
            ]
          },
          "execution_count": 38,
          "metadata": {},
          "output_type": "execute_result"
        }
      ],
      "source": [
        "import sqlite3\n",
        "con = sqlite3.connect(\"ConfLongDemo_JSI.db3\")\n",
        "\n",
        "import pandas.io.sql as psql\n",
        "sql = 'SELECT * FROM person_small WHERE activity == \"walking\"'\n",
        "df = psql.read_sql(sql, con)\n",
        "con.close()\n",
        "df.tail()"
      ]
    },
    {
      "cell_type": "markdown",
      "metadata": {},
      "source": [
        "Avec [PIG](http://en.wikipedia.org/wiki/Pig_Latin) ([syntaxe](http://pig.apache.org/docs/r0.12.0/basic.html)), le programme inclut trois \u00e9tapes :\n",
        "\n",
        "* la d\u00e9claration de l'entr\u00e9e (le fichier ``ConfLongDemo_JSI.small.example.txt``) (voir [LOAD](https://pig.apache.org/docs/r0.9.1/basic.html#load))\n",
        "* la t\u00e2che \u00e0 proprement parler (voir [FILTER](https://pig.apache.org/docs/r0.9.1/basic.html#filter))\n",
        "* la cr\u00e9ation de la sortie (le fichier ``ConfLongDemo_JSI.small.example.walking.txt``) (voir [STORE](https://pig.apache.org/docs/r0.9.1/basic.html#store))\n",
        "\n",
        "La commande magique permet d'\u00e9crire un fichier ``select1.pig`` avec l'encoding ``utf-8`` (les caract\u00e8res accentu\u00e9es sont possibles)."
      ]
    },
    {
      "cell_type": "code",
      "execution_count": 38,
      "metadata": {},
      "outputs": [],
      "source": [
        "%%PIG select1.pig\n",
        "\n",
        "myinput = LOAD 'ConfLongDemo_JSI.small.example.txt' USING PigStorage(',') AS \n",
        "    (index:long, sequence, tag, timestamp:long, dateformat, x:double,y:double, z:double, activity) ;\n",
        "filt = FILTER myinput BY activity == \"walking\" ;\n",
        "\n",
        "STORE filt INTO 'ConfLongDemo_JSI.small.example.walking_test.txt' USING PigStorage() ;"
      ]
    },
    {
      "cell_type": "markdown",
      "metadata": {},
      "source": [
        "La commande suivante uploade le script et v\u00e9rifie sa syntaxe (commande ``pig -check <jobname>``) :"
      ]
    },
    {
      "cell_type": "code",
      "execution_count": 39,
      "metadata": {},
      "outputs": [
        {
          "data": {
            "text/html": [
              "<pre>\n",
              "2015-10-29 00:51:11,187 [main] INFO  org.apache.pig.Main - Apache Pig version 0.12.0-cdh5.0.2 (rexported) compiled Jun 09 2014, 11:14:51\n",
              "2015-10-29 00:51:11,188 [main] INFO  org.apache.pig.Main - Logging error messages to: /home/xavierdupre/pig_1446076271184.log\n",
              "2015-10-29 00:51:12,294 [main] INFO  org.apache.pig.impl.util.Utils - Default bootup file /home/xavierdupre/.pigbootup not found\n",
              "2015-10-29 00:51:12,536 [main] INFO  org.apache.hadoop.conf.Configuration.deprecation - mapred.job.tracker is deprecated. Instead, use mapreduce.jobtracker.address\n",
              "2015-10-29 00:51:12,537 [main] INFO  org.apache.hadoop.conf.Configuration.deprecation - fs.default.name is deprecated. Instead, use fs.defaultFS\n",
              "2015-10-29 00:51:12,537 [main] INFO  org.apache.pig.backend.hadoop.executionengine.HExecutionEngine - Connecting to hadoop file system at: hdfs://nameservice1\n",
              "2015-10-29 00:51:13,309 [main] INFO  org.apache.hadoop.conf.Configuration.deprecation - fs.default.name is deprecated. Instead, use fs.defaultFS\n",
              "<file select1.pig, line 4, column 37>  Unexpected character '\"'\n",
              "2015-10-29 00:51:14,225 [main] ERROR org.apache.pig.tools.grunt.Grunt - ERROR 1200: <file select1.pig, line 4, column 37>  Unexpected character '\"'\n",
              "Details at logfile: /home/xavierdupre/pig_1446076271184.log\n",
              "\n",
              "</pre>"
            ],
            "text/plain": [
              "<IPython.core.display.HTML object>"
            ]
          },
          "execution_count": 40,
          "metadata": {},
          "output_type": "execute_result"
        }
      ],
      "source": [
        "%job_syntax select1.pig"
      ]
    },
    {
      "cell_type": "markdown",
      "metadata": {},
      "source": [
        "Les guillemets ne font pas partie de la syntaxe du langage :"
      ]
    },
    {
      "cell_type": "code",
      "execution_count": 40,
      "metadata": {},
      "outputs": [],
      "source": [
        "%%PIG select2.pig\n",
        "\n",
        "myinput = LOAD 'ConfLongDemo_JSI.small.example.txt' \n",
        "          using PigStorage(',') \n",
        "          AS (index:long, sequence, tag, timestamp:long, dateformat, x:double,y:double, z:double, activity) ;\n",
        "\n",
        "filt = FILTER myinput BY activity == 'walking' ;\n",
        "\n",
        "STORE filt INTO 'ConfLongDemo_JSI.small.example2.walking_test20.txt' USING PigStorage() ;"
      ]
    },
    {
      "cell_type": "markdown",
      "metadata": {},
      "source": [
        "La commande suivante fait deux choses : elle uploade le job sur la passerelle et le soumet via la commande ``pig -execute -f <filenme>``. S'il n'y a pas d'erreur, il rejoint la file d'attente."
      ]
    },
    {
      "cell_type": "code",
      "execution_count": 41,
      "metadata": {
        "scrolled": false
      },
      "outputs": [
        {
          "data": {
            "text/html": [
              "<pre>\n",
              "2015-10-29 00:59:45,391 [main] INFO  org.apache.pig.Main - Apache Pig version 0.12.0-cdh5.0.2 (rexported) compiled Jun 09 2014, 11:14:51\n",
              "2015-10-29 00:59:45,392 [main] INFO  org.apache.pig.Main - Logging error messages to: /home/xavierdupre/pig_1446076785387.log\n",
              "2015-10-29 00:59:46,194 [main] INFO  org.apache.pig.impl.util.Utils - Default bootup file /home/xavierdupre/.pigbootup not found\n",
              "2015-10-29 00:59:46,430 [main] INFO  org.apache.hadoop.conf.Configuration.deprecation - mapred.job.tracker is deprecated. Instead, use mapreduce.jobtracker.address\n",
              "2015-10-29 00:59:46,430 [main] INFO  org.apache.hadoop.conf.Configuration.deprecation - fs.default.name is deprecated. Instead, use fs.defaultFS\n",
              "2015-10-29 00:59:46,431 [main] INFO  org.apache.pig.backend.hadoop.executionengine.HExecutionEngine - Connecting to hadoop file system at: hdfs://nameservice1\n",
              "2015-10-29 00:59:48,188 [main] WARN  org.apache.pig.PigServer - Encountered Warning IMPLICIT_CAST_TO_CHARARRAY 1 time(s).\n",
              "2015-10-29 00:59:48,211 [main] INFO  org.apache.pig.tools.pigstats.ScriptState - Pig features used in the script: FILTER\n",
              "2015-10-29 00:59:48,285 [main] INFO  org.apache.pig.newplan.logical.optimizer.LogicalPlanOptimizer - {RULES_ENABLED=[AddForEach, ColumnMapKeyPrune, DuplicateForEachColumnRewrite, GroupByConstParallelSetter, ImplicitSplitInserter, LimitOptimizer, LoadTypeCastInserter, MergeFilter, MergeForEach, NewPartitionFilterOptimizer, PartitionFilterOptimizer, PushDownForEachFlatten, PushUpFilter, SplitFilter, StreamTypeCastInserter], RULES_DISABLED=[FilterLogicExpressionSimplifier]}\n",
              "2015-10-29 00:59:48,333 [main] INFO  org.apache.hadoop.conf.Configuration.deprecation - mapred.textoutputformat.separator is deprecated. Instead, use mapreduce.output.textoutputformat.separator\n",
              "2015-10-29 00:59:48,511 [main] INFO  org.apache.pig.backend.hadoop.executionengine.mapReduceLayer.MRCompiler - File concatenation threshold: 100 optimistic? false\n",
              "2015-10-29 00:59:48,564 [main] INFO  org.apache.pig.backend.hadoop.executionengine.mapReduceLayer.MultiQueryOptimizer - MR plan size before optimization: 1\n",
              "2015-10-29 00:59:48,565 [main] INFO  org.apache.pig.backend.hadoop.executionengine.mapReduceLayer.MultiQueryOptimizer - MR plan size after optimization: 1\n",
              "2015-10-29 00:59:48,728 [main] INFO  org.apache.hadoop.yarn.client.RMProxy - Connecting to ResourceManager at ws09-sr1.tl.teralab-datascience.fr/10.200.209.11:8032\n",
              "2015-10-29 00:59:48,926 [main] INFO  org.apache.pig.tools.pigstats.ScriptState - Pig script settings are added to the job\n",
              "2015-10-29 00:59:49,021 [main] INFO  org.apache.hadoop.conf.Configuration.deprecation - mapred.job.reduce.markreset.buffer.percent is deprecated. Instead, use mapreduce.reduce.markreset.buffer.percent\n",
              "2015-10-29 00:59:49,021 [main] INFO  org.apache.pig.backend.hadoop.executionengine.mapReduceLayer.JobControlCompiler - mapred.job.reduce.markreset.buffer.percent is not set, set to default 0.3\n",
              "2015-10-29 00:59:49,022 [main] INFO  org.apache.hadoop.conf.Configuration.deprecation - mapred.output.compress is deprecated. Instead, use mapreduce.output.fileoutputformat.compress\n",
              "2015-10-29 00:59:49,025 [main] INFO  org.apache.pig.backend.hadoop.executionengine.mapReduceLayer.JobControlCompiler - creating jar file Job6897107947228914959.jar\n",
              "2015-10-29 00:59:53,488 [main] INFO  org.apache.pig.backend.hadoop.executionengine.mapReduceLayer.JobControlCompiler - jar file Job6897107947228914959.jar created\n",
              "2015-10-29 00:59:53,489 [main] INFO  org.apache.hadoop.conf.Configuration.deprecation - mapred.jar is deprecated. Instead, use mapreduce.job.jar\n",
              "2015-10-29 00:59:53,538 [main] INFO  org.apache.pig.backend.hadoop.executionengine.mapReduceLayer.JobControlCompiler - Setting up single store job\n",
              "2015-10-29 00:59:53,556 [main] INFO  org.apache.pig.data.SchemaTupleFrontend - Key [pig.schematuple] is false, will not generate code.\n",
              "2015-10-29 00:59:53,557 [main] INFO  org.apache.pig.data.SchemaTupleFrontend - Starting process to move generated code to distributed cache\n",
              "2015-10-29 00:59:53,559 [main] INFO  org.apache.pig.data.SchemaTupleFrontend - Setting key [pig.schematuple.classes] with classes to deserialize []\n",
              "2015-10-29 00:59:53,654 [main] INFO  org.apache.pig.backend.hadoop.executionengine.mapReduceLayer.MapReduceLauncher - 1 map-reduce job(s) waiting for submission.\n",
              "2015-10-29 00:59:53,656 [main] INFO  org.apache.hadoop.conf.Configuration.deprecation - mapred.job.tracker.http.address is deprecated. Instead, use mapreduce.jobtracker.http.address\n",
              "2015-10-29 00:59:53,668 [JobControl] INFO  org.apache.hadoop.yarn.client.RMProxy - Connecting to ResourceManager at ws09-sr1.tl.teralab-datascience.fr/10.200.209.11:8032\n",
              "2015-10-29 00:59:53,752 [JobControl] INFO  org.apache.hadoop.conf.Configuration.deprecation - fs.default.name is deprecated. Instead, use fs.defaultFS\n",
              "2015-10-29 00:59:55,086 [JobControl] INFO  org.apache.hadoop.mapreduce.lib.input.FileInputFormat - Total input paths to process : 1\n",
              "2015-10-29 00:59:55,086 [JobControl] INFO  org.apache.pig.backend.hadoop.executionengine.util.MapRedUtil - Total input paths to process : 1\n",
              "2015-10-29 00:59:55,127 [JobControl] INFO  org.apache.pig.backend.hadoop.executionengine.util.MapRedUtil - Total input paths (combined) to process : 1\n",
              "2015-10-29 00:59:55,999 [JobControl] INFO  org.apache.hadoop.mapreduce.JobSubmitter - number of splits:1\n",
              "2015-10-29 00:59:56,108 [JobControl] INFO  org.apache.hadoop.conf.Configuration.deprecation - fs.default.name is deprecated. Instead, use fs.defaultFS\n",
              "2015-10-29 00:59:56,748 [JobControl] INFO  org.apache.hadoop.mapreduce.JobSubmitter - Submitting tokens for job: job_1444669880271_0036\n",
              "2015-10-29 00:59:57,100 [JobControl] INFO  org.apache.hadoop.yarn.client.api.impl.YarnClientImpl - Submitted application application_1444669880271_0036\n",
              "2015-10-29 00:59:57,172 [JobControl] INFO  org.apache.hadoop.mapreduce.Job - The url to track the job: http://ws09-sr1.tl.teralab-datascience.fr:8088/proxy/application_1444669880271_0036/\n",
              "2015-10-29 00:59:57,173 [main] INFO  org.apache.pig.backend.hadoop.executionengine.mapReduceLayer.MapReduceLauncher - HadoopJobId: job_1444669880271_0036\n",
              "2015-10-29 00:59:57,173 [main] INFO  org.apache.pig.backend.hadoop.executionengine.mapReduceLayer.MapReduceLauncher - Processing aliases filt,myinput\n",
              "2015-10-29 00:59:57,174 [main] INFO  org.apache.pig.backend.hadoop.executionengine.mapReduceLayer.MapReduceLauncher - detailed locations: M: myinput[2,10],filt[6,7],myinput[-1,-1] C:  R: \n",
              "2015-10-29 00:59:57,233 [main] INFO  org.apache.pig.backend.hadoop.executionengine.mapReduceLayer.MapReduceLauncher - 0% complete\n",
              "2015-10-29 01:00:15,280 [main] INFO  org.apache.pig.backend.hadoop.executionengine.mapReduceLayer.MapReduceLauncher - 50% complete\n",
              "2015-10-29 01:00:22,643 [main] INFO  org.apache.hadoop.mapred.ClientServiceDelegate - Application state is completed. FinalApplicationStatus=SUCCEEDED. Redirecting to job history server\n",
              "2015-10-29 01:00:22,911 [main] INFO  org.apache.hadoop.conf.Configuration.deprecation - mapred.reduce.tasks is deprecated. Instead, use mapreduce.job.reduces\n",
              "2015-10-29 01:00:22,984 [main] INFO  org.apache.pig.backend.hadoop.executionengine.mapReduceLayer.MapReduceLauncher - 100% complete\n",
              "2015-10-29 01:00:22,988 [main] INFO  org.apache.pig.tools.pigstats.SimplePigStats - Script Statistics: \n",
              "\n",
              "HadoopVersion\tPigVersion\tUserId\tStartedAt\tFinishedAt\tFeatures\n",
              "2.3.0-cdh5.0.2\t0.12.0-cdh5.0.2\txavierdupre\t2015-10-29 00:59:48\t2015-10-29 01:00:22\tFILTER\n",
              "\n",
              "Success!\n",
              "\n",
              "Job Stats (time in seconds):\n",
              "JobId\tMaps\tReduces\tMaxMapTime\tMinMapTIme\tAvgMapTime\tMedianMapTime\tMaxReduceTime\tMinReduceTime\tAvgReduceTime\tMedianReducetime\tAlias\tFeature\tOutputs\n",
              "job_1444669880271_0036\t1\t0\t4\t4\t4\t4\tn/a\tn/a\tn/a\tn/a\tfilt,myinput\tMAP_ONLY\thdfs://nameservice1/user/xavierdupre/ConfLongDemo_JSI.small.example2.walking_test20.txt,\n",
              "\n",
              "Input(s):\n",
              "Successfully read 1000 records (133117 bytes) from: \"hdfs://nameservice1/user/xavierdupre/ConfLongDemo_JSI.small.example.txt\"\n",
              "\n",
              "Output(s):\n",
              "Successfully stored 170 records (22166 bytes) in: \"hdfs://nameservice1/user/xavierdupre/ConfLongDemo_JSI.small.example2.walking_test20.txt\"\n",
              "\n",
              "Counters:\n",
              "Total records written : 170\n",
              "Total bytes written : 22166\n",
              "Spillable Memory Manager spill count : 0\n",
              "Total bags proactively spilled: 0\n",
              "Total records proactively spilled: 0\n",
              "\n",
              "Job DAG:\n",
              "job_1444669880271_0036\n",
              "\n",
              "\n",
              "2015-10-29 01:00:23,159 [main] INFO  org.apache.pig.backend.hadoop.executionengine.mapReduceLayer.MapReduceLauncher - Success!\n",
              "\n",
              "</pre>"
            ],
            "text/plain": [
              "<IPython.core.display.HTML object>"
            ]
          },
          "execution_count": 42,
          "metadata": {},
          "output_type": "execute_result"
        }
      ],
      "source": [
        "%pig_submit select2.pig -r None"
      ]
    },
    {
      "cell_type": "markdown",
      "metadata": {},
      "source": [
        "Derri\u00e8re cette command magique, il y a la fonction [pig_submit](http://www.xavierdupre.fr/app/pyensae/helpsphinx/pyensae/remote/ssh_remote_connection.html?highlight=pig_submit#pyensae.remote.ssh_remote_connection.ASSHClient.pig_submit)."
      ]
    },
    {
      "cell_type": "code",
      "execution_count": 42,
      "metadata": {},
      "outputs": [
        {
          "name": "stdout",
          "output_type": "stream",
          "text": [
            "Help on method pig_submit in module pyensae.remote.ssh_remote_connection:\n",
            "\n",
            "pig_submit(pig_file, dependencies=None, params=None, redirection='redirection.pig', local=False, stop_on_failure=False, check=False, no_exception=True, fLOG=<function noLOG at 0x000000000573E620>) method of pyensae.remote.ssh_remote_connection.ASSHClient instance\n",
            "    submits a PIG script, it first upload the script\n",
            "    to the default folder and submit it\n",
            "    \n",
            "    @param      pig_file        pig script (local)\n",
            "    @param      dependencies    others files to upload (still in the default folder)\n",
            "    @param      params          parameters to send to the job\n",
            "    @param      redirection     string empty or not\n",
            "    @param      local           local run or not (option `-x local <https://cwiki.apache.org/confluence/display/PIG/PigTutorial>`_)  (in that case, redirection will be empty)\n",
            "    @param      stop_on_failure if True, add option ``-stop_on_failure`` on the command line\n",
            "    @param      check           if True, add option ``-check`` (in that case, redirection will be empty)\n",
            "    @param      no_exception    sent to @see me execute_command\n",
            "    @param      fLOG            logging function\n",
            "    @return                     out, err from @see me execute_command\n",
            "    \n",
            "    If *redirection* is not empty, the job is submitted but\n",
            "    the function returns after the standard output and error were\n",
            "    redirected to ``redirection.out`` and ``redirection.err``.\n",
            "    \n",
            "    The first file will contain the results of commands\n",
            "    `DESCRIBE <http://pig.apache.org/docs/r0.14.0/test.html#describe>`_\n",
            "    `DUMP <http://pig.apache.org/docs/r0.14.0/test.html#dump>`_,\n",
            "    `EXPLAIN <http://pig.apache.org/docs/r0.14.0/test.html#explain>`_.\n",
            "    The standard error receives logs and exceptions.\n",
            "    \n",
            "    The function executes the command line::\n",
            "    \n",
            "        pig -execute -f <filename>\n",
            "    \n",
            "    With redirection::\n",
            "    \n",
            "        pig -execute -f <filename> 2> redirection.pig.err 1> redirection.pig.out &\n",
            "    \n",
            "    .. versionadded:: 1.1\n",
            "\n"
          ]
        }
      ],
      "source": [
        "help(ssh.pig_submit)"
      ]
    },
    {
      "cell_type": "markdown",
      "metadata": {},
      "source": [
        "On retrouve bien les m\u00eames r\u00e9sultats. Cependant, on n'a pas envie d'attendre la fin d'un job pour reprendre la main sur le notebook. Pour ce faire, on cr\u00e9e un second job."
      ]
    },
    {
      "cell_type": "code",
      "execution_count": 43,
      "metadata": {
        "collapsed": true
      },
      "outputs": [],
      "source": [
        "%%PIG select3.pig\n",
        "\n",
        "myinput = LOAD 'ConfLongDemo_JSI.small.example.txt' \n",
        "          using PigStorage(',') \n",
        "          AS (index:long, sequence, tag, timestamp:long, dateformat, x:double,y:double, z:double, activity) ;\n",
        "\n",
        "filt = FILTER myinput BY activity == 'walking' ;\n",
        "\n",
        "STORE filt INTO 'ConfLongDemo_JSI.small.example2.walking_test30_nowait.txt' USING PigStorage() ;"
      ]
    },
    {
      "cell_type": "code",
      "execution_count": 44,
      "metadata": {},
      "outputs": [
        {
          "data": {
            "text/html": [
              "<pre>\n",
              "\n",
              "</pre>"
            ],
            "text/plain": [
              "<IPython.core.display.HTML object>"
            ]
          },
          "execution_count": 45,
          "metadata": {},
          "output_type": "execute_result"
        }
      ],
      "source": [
        "%pig_submit select3.pig"
      ]
    },
    {
      "cell_type": "code",
      "execution_count": 45,
      "metadata": {},
      "outputs": [
        {
          "data": {
            "text/html": [
              "<pre>\n",
              "Output(s):\n",
              "Successfully stored 170 records (22166 bytes) in: \"hdfs://nameservice1/user/xavierdupre/ConfLongDemo_JSI.small.example2.walking_test30_nowait.txt\"\n",
              "\n",
              "Counters:\n",
              "Total records written : 170\n",
              "Total bytes written : 22166\n",
              "Spillable Memory Manager spill count : 0\n",
              "Total bags proactively spilled: 0\n",
              "Total records proactively spilled: 0\n",
              "\n",
              "Job DAG:\n",
              "job_1444669880271_0037\n",
              "\n",
              "\n",
              "2015-10-29 01:03:14,257 [main] INFO  org.apache.pig.backend.hadoop.executionengine.mapReduceLayer.MapReduceLauncher - Success!\n",
              "\n",
              "</pre>"
            ],
            "text/plain": [
              "<IPython.core.display.HTML object>"
            ]
          },
          "execution_count": 46,
          "metadata": {},
          "output_type": "execute_result"
        }
      ],
      "source": [
        "%remote_cmd tail redirection.pig.err -n 15"
      ]
    },
    {
      "cell_type": "markdown",
      "metadata": {},
      "source": [
        "On v\u00e9rifie le contenu du cluster :"
      ]
    },
    {
      "cell_type": "code",
      "execution_count": 46,
      "metadata": {},
      "outputs": [
        {
          "data": {
            "text/html": [
              "<pre>\n",
              "Found 9 items\n",
              "drwx------   - xavierdupre xavierdupre          0 2015-10-29 01:00 .Trash\n",
              "drwx------   - xavierdupre xavierdupre          0 2015-10-29 01:03 .staging\n",
              "-rw-r--r--   3 xavierdupre xavierdupre     132727 2015-10-29 00:38 ConfLongDemo_JSI.small.example.txt\n",
              "drwxr-xr-x   - xavierdupre xavierdupre          0 2015-10-29 00:42 ConfLongDemo_JSI.small.example2.walking.txt\n",
              "drwxr-xr-x   - xavierdupre xavierdupre          0 2015-10-29 00:52 ConfLongDemo_JSI.small.example2.walking_test.txt\n",
              "drwxr-xr-x   - xavierdupre xavierdupre          0 2015-10-29 00:53 ConfLongDemo_JSI.small.example2.walking_test2.txt\n",
              "drwxr-xr-x   - xavierdupre xavierdupre          0 2015-10-29 01:00 ConfLongDemo_JSI.small.example2.walking_test20.txt\n",
              "drwxr-xr-x   - xavierdupre xavierdupre          0 2015-10-29 01:03 ConfLongDemo_JSI.small.example2.walking_test30_nowait.txt\n",
              "drwxr-xr-x   - xavierdupre xavierdupre          0 2014-11-20 23:43 unitest2\n",
              "\n",
              "</pre>"
            ],
            "text/plain": [
              "<IPython.core.display.HTML object>"
            ]
          },
          "execution_count": 47,
          "metadata": {},
          "output_type": "execute_result"
        }
      ],
      "source": [
        "%remote_cmd hdfs dfs -ls "
      ]
    },
    {
      "cell_type": "markdown",
      "metadata": {},
      "source": [
        "La sortie n'est pas un fichier mais un r\u00e9pertoire. Chaque partie provient d'une machine diff\u00e9rente. Dans notre cas, les donn\u00e9es \u00e9tant de petite taille le calcul n'a pas \u00e9t\u00e9 distribu\u00e9."
      ]
    },
    {
      "cell_type": "code",
      "execution_count": 47,
      "metadata": {},
      "outputs": [
        {
          "data": {
            "text/html": [
              "<pre>\n",
              "6618983\t27.05.2009 14:03:47:663\t3.066070079803467\t1.6573837995529177\t1.0677484273910522\twalking\n",
              "696\tA01\t020-000-032-221\t633790226276889279\t27.05.2009 14:03:47:690\t4.3041510581970215\t1.6276369094848633\t1.2260531187057495\twalking\n",
              "697\tA01\t010-000-024-033\t633790226277159576\t27.05.2009 14:03:47:717\t3.1501431465148926\t1.8083082437515257\t-0.015722407028079033\twalking\n",
              "698\tA01\t010-000-030-096\t633790226277429870\t27.05.2009 14:03:47:743\t2.9654340744018555\t1.7824335098266602\t0.2285633087158203\twalking\n",
              "699\tA01\t020-000-032-221\t633790226277970452\t27.05.2009 14:03:47:797\t4.3224053382873535\t1.5714523792266846\t1.4004991054534912\twalking\n",
              "700\tA01\t010-000-024-033\t633790226278240749\t27.05.2009 14:03:47:823\t3.1330645084381104\t1.7693294286727903\t-0.022590305656194687\twalking\n",
              "701\tA01\t020-000-033-111\t633790226278781331\t27.05.2009 14:03:47:877\t3.121254205703736\t1.5498417615890503\t1.0481393337249756\twalking\n",
              "702\tA01\t020-000-032-221\t633790226279051629\t27.05.2009 14:03:47:907\t3.281498432159424\t1.4987335205078125\t0.6204121708869934\twalking\n",
              "\n",
              "</pre>"
            ],
            "text/plain": [
              "<IPython.core.display.HTML object>"
            ]
          },
          "execution_count": 48,
          "metadata": {},
          "output_type": "execute_result"
        }
      ],
      "source": [
        "%remote_cmd hdfs dfs -tail ConfLongDemo_JSI.small.example2.walking.txt/part-m-00000"
      ]
    },
    {
      "cell_type": "markdown",
      "metadata": {},
      "source": [
        "On retrouve bien les m\u00eames r\u00e9sultats. Cependant, on n'a pas envie d'attendre la fin d'un job pour reprendre la main sur le notebook. Pour ce faire, on cr\u00e9e un second job."
      ]
    },
    {
      "cell_type": "markdown",
      "metadata": {},
      "source": [
        "On regarde la liste des jobs en cours avec [hadoop queue](http://hadoop.apache.org/docs/r1.0.4/commands_manual.html#queue) :"
      ]
    },
    {
      "cell_type": "code",
      "execution_count": 48,
      "metadata": {},
      "outputs": [
        {
          "data": {
            "text/html": [
              "<pre>\n",
              "======================\n",
              "Queue Name : root.xavierdupre \n",
              "Queue State : running \n",
              "Scheduling Info : Capacity: 0.0, MaximumCapacity: UNDEFINED, CurrentCapacity: 0.0 \n",
              "Total jobs:0\n",
              "                  JobId\t     State\t     StartTime\t    UserName\t       Queue\t  Priority\t UsedContainers\t RsvdContainers\t UsedMem\t RsvdMem\t NeededMem\t   AM info\n",
              "\n",
              "</pre>"
            ],
            "text/plain": [
              "<IPython.core.display.HTML object>"
            ]
          },
          "execution_count": 49,
          "metadata": {},
          "output_type": "execute_result"
        }
      ],
      "source": [
        "%remote_cmd hadoop queue -info root.xavierdupre -showJobs"
      ]
    },
    {
      "cell_type": "code",
      "execution_count": 49,
      "metadata": {},
      "outputs": [
        {
          "data": {
            "text/html": [
              "<pre>\n",
              "Found 2 items\n",
              "-rw-r--r--   3 xavierdupre xavierdupre          0 2015-10-29 01:03 ConfLongDemo_JSI.small.example2.walking_test30_nowait.txt/_SUCCESS\n",
              "-rw-r--r--   3 xavierdupre xavierdupre      22166 2015-10-29 01:03 ConfLongDemo_JSI.small.example2.walking_test30_nowait.txt/part-m-00000\n",
              "\n",
              "</pre>"
            ],
            "text/plain": [
              "<IPython.core.display.HTML object>"
            ]
          },
          "execution_count": 50,
          "metadata": {},
          "output_type": "execute_result"
        }
      ],
      "source": [
        "%remote_cmd hdfs dfs -ls ConfLongDemo_JSI.small.example2.walking_test30_nowait.txt"
      ]
    },
    {
      "cell_type": "markdown",
      "metadata": {},
      "source": [
        "C'est plus pratique mais la correction des erreurs quand elles se produisent n'est plus aussi pratique. On termine par une instruction qui permet de r\u00e9cup\u00e9rer tous les fichiers d'un m\u00eame rep\u00e9rtoire en une seule fois :"
      ]
    },
    {
      "cell_type": "code",
      "execution_count": 50,
      "metadata": {},
      "outputs": [
        {
          "data": {
            "text/html": [
              "<pre>\n",
              "\n",
              "</pre>"
            ],
            "text/plain": [
              "<IPython.core.display.HTML object>"
            ]
          },
          "execution_count": 51,
          "metadata": {},
          "output_type": "execute_result"
        }
      ],
      "source": [
        "%remote_cmd hdfs dfs -getmerge ConfLongDemo_JSI.small.example2.walking_test30_nowait.txt toutenun.txt"
      ]
    },
    {
      "cell_type": "markdown",
      "metadata": {},
      "source": [
        "Le fichier est maintenant sur la passerelle."
      ]
    },
    {
      "cell_type": "code",
      "execution_count": 51,
      "metadata": {},
      "outputs": [
        {
          "data": {
            "text/html": [
              "<pre>\n",
              "-rw-r--r-- 1 xavierdupre xavierdupre 22166 Oct 29 01:06 toutenun.txt\n",
              "\n",
              "</pre>"
            ],
            "text/plain": [
              "<IPython.core.display.HTML object>"
            ]
          },
          "execution_count": 52,
          "metadata": {},
          "output_type": "execute_result"
        }
      ],
      "source": [
        "%remote_cmd ls -l tout*"
      ]
    },
    {
      "cell_type": "markdown",
      "metadata": {},
      "source": [
        "Lorsqu'on lance des jobs cons\u00e9quent, il est important de savoir comment les arr\u00eater avec [hadoop job](http://hadoop.apache.org/docs/r1.0.4/commands_manual.html#job) ``-kill jobid`` :"
      ]
    },
    {
      "cell_type": "code",
      "execution_count": 52,
      "metadata": {},
      "outputs": [
        {
          "data": {
            "text/html": [
              "<pre>\n",
              "Total jobs:28\n",
              "                  JobId\t     State\t     StartTime\t    UserName\t       Queue\t  Priority\t UsedContainers\t RsvdContainers\t UsedMem\t RsvdMem\t NeededMem\t   AM info\n",
              " job_1444669880271_0009\t SUCCEEDED\t 1444779082040\t xavierdupre\troot.xavierdupre\t    NORMAL\t              0\t              0\t      0M\t      0M\t        0M\thttp://ws09-sr1.tl.teralab-datascience.fr:8088/proxy/application_1444669880271_0009/jobhistory/job/job_1444669880271_0009\n",
              " job_1444669880271_0010\t SUCCEEDED\t 1444779114402\t xavierdupre\troot.xavierdupre\t    NORMAL\t              0\t              0\t      0M\t      0M\t        0M\thttp://ws09-sr1.tl.teralab-datascience.fr:8088/proxy/application_1444669880271_0010/jobhistory/job/job_1444669880271_0010\n",
              " job_1444669880271_0018\t SUCCEEDED\t 1444781859339\t xavierdupre\troot.xavierdupre\t    NORMAL\t              0\t              0\t      0M\t      0M\t        0M\thttp://ws09-sr1.tl.teralab-datascience.fr:8088/proxy/application_1444669880271_0018/jobhistory/job/job_1444669880271_0018\n",
              " job_1444669880271_0033\t SUCCEEDED\t 1446076296449\t xavierdupre\troot.xavierdupre\t    NORMAL\t              0\t              0\t      0M\t      0M\t        0M\thttp://ws09-sr1.tl.teralab-datascience.fr:8088/proxy/application_1444669880271_0033/jobhistory/job/job_1444669880271_0033\n",
              " job_1444669880271_0007\t SUCCEEDED\t 1444778960311\t xavierdupre\troot.xavierdupre\t    NORMAL\t              0\t              0\t      0M\t      0M\t        0M\thttp://ws09-sr1.tl.teralab-datascience.fr:8088/proxy/application_1444669880271_0007/jobhistory/job/job_1444669880271_0007\n",
              " job_1444669880271_0025\t SUCCEEDED\t 1444812309930\t xavierdupre\troot.xavierdupre\t    NORMAL\t              0\t              0\t      0M\t      0M\t        0M\thttp://ws09-sr1.tl.teralab-datascience.fr:8088/proxy/application_1444669880271_0025/jobhistory/job/job_1444669880271_0025\n",
              " job_1444669880271_0036\t SUCCEEDED\t 1446076797029\t xavierdupre\troot.xavierdupre\t    NORMAL\t              0\t              0\t      0M\t      0M\t        0M\thttp://ws09-sr1.tl.teralab-datascience.fr:8088/proxy/application_1444669880271_0036/jobhistory/job/job_1444669880271_0036\n",
              " job_1444669880271_0022\t SUCCEEDED\t 1444782235940\t xavierdupre\troot.xavierdupre\t    NORMAL\t              0\t              0\t      0M\t      0M\t        0M\thttp://ws09-sr1.tl.teralab-datascience.fr:8088/proxy/application_1444669880271_0022/jobhistory/job/job_1444669880271_0022\n",
              " job_1444669880271_0013\t    FAILED\t 1444780493283\t xavierdupre\troot.xavierdupre\t    NORMAL\t              0\t              0\t      0M\t      0M\t        0M\thttp://ws09-sr1.tl.teralab-datascience.fr:8088/proxy/application_1444669880271_0013/jobhistory/job/job_1444669880271_0013\n",
              " job_1444669880271_0008\t SUCCEEDED\t 1444778993134\t xavierdupre\troot.xavierdupre\t    NORMAL\t              0\t              0\t      0M\t      0M\t        0M\thttp://ws09-sr1.tl.teralab-datascience.fr:8088/proxy/application_1444669880271_0008/jobhistory/job/job_1444669880271_0008\n",
              " job_1444669880271_0035\t SUCCEEDED\t 1446076394207\t xavierdupre\troot.xavierdupre\t    NORMAL\t              0\t              0\t      0M\t      0M\t        0M\thttp://ws09-sr1.tl.teralab-datascience.fr:8088/proxy/application_1444669880271_0035/jobhistory/job/job_1444669880271_0035\n",
              " job_1444669880271_0001\t SUCCEEDED\t 1444778245903\t xavierdupre\troot.xavierdupre\t    NORMAL\t              0\t              0\t      0M\t      0M\t        0M\thttp://ws09-sr1.tl.teralab-datascience.fr:8088/proxy/application_1444669880271_0001/jobhistory/job/job_1444669880271_0001\n",
              " job_1444669880271_0005\t SUCCEEDED\t 1444778822775\t xavierdupre\troot.xavierdupre\t    NORMAL\t              0\t              0\t      0M\t      0M\t        0M\thttp://ws09-sr1.tl.teralab-datascience.fr:8088/proxy/application_1444669880271_0005/jobhistory/job/job_1444669880271_0005\n",
              " job_1444669880271_0028\t SUCCEEDED\t 1444948433254\t xavierdupre\troot.xavierdupre\t    NORMAL\t              0\t              0\t      0M\t      0M\t        0M\thttp://ws09-sr1.tl.teralab-datascience.fr:8088/proxy/application_1444669880271_0028/jobhistory/job/job_1444669880271_0028\n",
              " job_1444669880271_0002\t SUCCEEDED\t 1444778285584\t xavierdupre\troot.xavierdupre\t    NORMAL\t              0\t              0\t      0M\t      0M\t        0M\thttp://ws09-sr1.tl.teralab-datascience.fr:8088/proxy/application_1444669880271_0002/jobhistory/job/job_1444669880271_0002\n",
              " job_1444669880271_0030\t SUCCEEDED\t 1445990873471\t xavierdupre\troot.xavierdupre\t    NORMAL\t              0\t              0\t      0M\t      0M\t        0M\thttp://ws09-sr1.tl.teralab-datascience.fr:8088/proxy/application_1444669880271_0030/jobhistory/job/job_1444669880271_0030\n",
              " job_1444669880271_0027\t SUCCEEDED\t 1444948400340\t xavierdupre\troot.xavierdupre\t    NORMAL\t              0\t              0\t      0M\t      0M\t        0M\thttp://ws09-sr1.tl.teralab-datascience.fr:8088/proxy/application_1444669880271_0027/jobhistory/job/job_1444669880271_0027\n",
              " job_1444669880271_0024\t SUCCEEDED\t 1444812276836\t xavierdupre\troot.xavierdupre\t    NORMAL\t              0\t              0\t      0M\t      0M\t        0M\thttp://ws09-sr1.tl.teralab-datascience.fr:8088/proxy/application_1444669880271_0024/jobhistory/job/job_1444669880271_0024\n",
              " job_1444669880271_0019\t SUCCEEDED\t 1444781890983\t xavierdupre\troot.xavierdupre\t    NORMAL\t              0\t              0\t      0M\t      0M\t        0M\thttp://ws09-sr1.tl.teralab-datascience.fr:8088/proxy/application_1444669880271_0019/jobhistory/job/job_1444669880271_0019\n",
              " job_1444669880271_0003\t SUCCEEDED\t 1444778547755\t xavierdupre\troot.xavierdupre\t    NORMAL\t              0\t              0\t      0M\t      0M\t        0M\thttp://ws09-sr1.tl.teralab-datascience.fr:8088/proxy/application_1444669880271_0003/jobhistory/job/job_1444669880271_0003\n",
              " job_1444669880271_0006\t SUCCEEDED\t 1444778856950\t xavierdupre\troot.xavierdupre\t    NORMAL\t              0\t              0\t      0M\t      0M\t        0M\thttp://ws09-sr1.tl.teralab-datascience.fr:8088/proxy/application_1444669880271_0006/jobhistory/job/job_1444669880271_0006\n",
              " job_1444669880271_0032\t SUCCEEDED\t 1446075704284\t xavierdupre\troot.xavierdupre\t    NORMAL\t              0\t              0\t      0M\t      0M\t        0M\thttp://ws09-sr1.tl.teralab-datascience.fr:8088/proxy/application_1444669880271_0032/jobhistory/job/job_1444669880271_0032\n",
              " job_1444669880271_0021\t SUCCEEDED\t 1444782202256\t xavierdupre\troot.xavierdupre\t    NORMAL\t              0\t              0\t      0M\t      0M\t        0M\thttp://ws09-sr1.tl.teralab-datascience.fr:8088/proxy/application_1444669880271_0021/jobhistory/job/job_1444669880271_0021\n",
              " job_1444669880271_0037\t SUCCEEDED\t 1446076967758\t xavierdupre\troot.xavierdupre\t    NORMAL\t              0\t              0\t      0M\t      0M\t        0M\thttp://ws09-sr1.tl.teralab-datascience.fr:8088/proxy/application_1444669880271_0037/jobhistory/job/job_1444669880271_0037\n",
              " job_1444669880271_0031\t SUCCEEDED\t 1445990906117\t xavierdupre\troot.xavierdupre\t    NORMAL\t              0\t              0\t      0M\t      0M\t        0M\thttp://ws09-sr1.tl.teralab-datascience.fr:8088/proxy/application_1444669880271_0031/jobhistory/job/job_1444669880271_0031\n",
              " job_1444669880271_0004\t SUCCEEDED\t 1444778575799\t xavierdupre\troot.xavierdupre\t    NORMAL\t              0\t              0\t      0M\t      0M\t        0M\thttp://ws09-sr1.tl.teralab-datascience.fr:8088/proxy/application_1444669880271_0004/jobhistory/job/job_1444669880271_0004\n",
              " job_1444669880271_0034\t SUCCEEDED\t 1446076302576\t xavierdupre\troot.xavierdupre\t    NORMAL\t              0\t              0\t      0M\t      0M\t        0M\thttp://ws09-sr1.tl.teralab-datascience.fr:8088/proxy/application_1444669880271_0034/jobhistory/job/job_1444669880271_0034\n",
              " job_1444669880271_0012\t SUCCEEDED\t 1444780465372\t xavierdupre\troot.xavierdupre\t    NORMAL\t              0\t              0\t      0M\t      0M\t        0M\thttp://ws09-sr1.tl.teralab-datascience.fr:8088/proxy/application_1444669880271_0012/jobhistory/job/job_1444669880271_0012\n",
              "\n",
              "</pre>"
            ],
            "text/plain": [
              "<IPython.core.display.HTML object>"
            ]
          },
          "execution_count": 53,
          "metadata": {},
          "output_type": "execute_result"
        }
      ],
      "source": [
        "%remote_cmd hadoop job -list all"
      ]
    },
    {
      "cell_type": "markdown",
      "metadata": {},
      "source": [
        "On peut tuer un job lorsqu'il est dans la file d'attente ou en train de s'ex\u00e9cuter."
      ]
    },
    {
      "cell_type": "code",
      "execution_count": 53,
      "metadata": {},
      "outputs": [],
      "source": [
        "#%remote_cmd hadoop job -kill job_1414491244634_0002"
      ]
    },
    {
      "cell_type": "markdown",
      "metadata": {},
      "source": [
        "## Partie 3 : syntaxe PIG et exercices\n",
        "\n",
        "Dans cette partie, l'objectif est de transcrire un ``GROUP BY`` en PIG, un ``JOIN`` et de combiner toutes ces op\u00e9rations en un seul job au cours du second exercice. Ces exemples utilisent de petits fichiers. Utiliser un job Map/Reduce n'a pas beaucoup d'int\u00e9r\u00eat \u00e0 moins que la taille de ces fichiers n'atteigne un giga-octets. Les instructions sont \u00e0 chercher dans cette page : [Pig Latin Basics](http://pig.apache.org/docs/r0.12.0/basic.html)."
      ]
    },
    {
      "cell_type": "markdown",
      "metadata": {},
      "source": [
        "### Exercice 1 : GROUP BY"
      ]
    },
    {
      "cell_type": "code",
      "execution_count": 54,
      "metadata": {},
      "outputs": [
        {
          "data": {
            "text/html": [
              "<div>\n",
              "<table border=\"1\" class=\"dataframe\">\n",
              "  <thead>\n",
              "    <tr style=\"text-align: right;\">\n",
              "      <th></th>\n",
              "      <th>activity</th>\n",
              "      <th>nb</th>\n",
              "    </tr>\n",
              "  </thead>\n",
              "  <tbody>\n",
              "    <tr>\n",
              "      <th>0</th>\n",
              "      <td>falling</td>\n",
              "      <td>2973</td>\n",
              "    </tr>\n",
              "    <tr>\n",
              "      <th>1</th>\n",
              "      <td>lying</td>\n",
              "      <td>54480</td>\n",
              "    </tr>\n",
              "    <tr>\n",
              "      <th>2</th>\n",
              "      <td>lying down</td>\n",
              "      <td>6168</td>\n",
              "    </tr>\n",
              "    <tr>\n",
              "      <th>3</th>\n",
              "      <td>on all fours</td>\n",
              "      <td>5210</td>\n",
              "    </tr>\n",
              "    <tr>\n",
              "      <th>4</th>\n",
              "      <td>sitting</td>\n",
              "      <td>27244</td>\n",
              "    </tr>\n",
              "  </tbody>\n",
              "</table>\n",
              "</div>"
            ],
            "text/plain": [
              "       activity     nb\n",
              "0       falling   2973\n",
              "1         lying  54480\n",
              "2    lying down   6168\n",
              "3  on all fours   5210\n",
              "4       sitting  27244"
            ]
          },
          "execution_count": 55,
          "metadata": {},
          "output_type": "execute_result"
        }
      ],
      "source": [
        "import pandas, sqlite3\n",
        "con = sqlite3.connect(\"ConfLongDemo_JSI.db3\")\n",
        "df = pandas.read_sql(\"\"\"SELECT activity, count(*) as nb FROM person GROUP BY activity\"\"\", con)\n",
        "con.close()\n",
        "df.head()"
      ]
    },
    {
      "cell_type": "markdown",
      "metadata": {},
      "source": [
        "Il faut maintenant le faire avec PIG."
      ]
    },
    {
      "cell_type": "code",
      "execution_count": 55,
      "metadata": {},
      "outputs": [],
      "source": []
    },
    {
      "cell_type": "markdown",
      "metadata": {},
      "source": [
        "### Exercice 2 : JOIN"
      ]
    },
    {
      "cell_type": "code",
      "execution_count": 56,
      "metadata": {},
      "outputs": [
        {
          "data": {
            "text/html": [
              "<div style=\"max-height:1000px;max-width:1500px;overflow:auto;\">\n",
              "<table border=\"1\" class=\"dataframe\">\n",
              "  <thead>\n",
              "    <tr style=\"text-align: right;\">\n",
              "      <th></th>\n",
              "      <th>index</th>\n",
              "      <th>sequence</th>\n",
              "      <th>tag</th>\n",
              "      <th>timestamp</th>\n",
              "      <th>dateformat</th>\n",
              "      <th>x</th>\n",
              "      <th>y</th>\n",
              "      <th>z</th>\n",
              "      <th>activity</th>\n",
              "      <th>nb</th>\n",
              "    </tr>\n",
              "  </thead>\n",
              "  <tbody>\n",
              "    <tr>\n",
              "      <th>0</th>\n",
              "      <td> 0</td>\n",
              "      <td> A01</td>\n",
              "      <td> 010-000-024-033</td>\n",
              "      <td> 633790226051280329</td>\n",
              "      <td> 27.05.2009 14:03:25:127</td>\n",
              "      <td> 4.062931</td>\n",
              "      <td> 1.892434</td>\n",
              "      <td> 0.507425</td>\n",
              "      <td> walking</td>\n",
              "      <td> 32710</td>\n",
              "    </tr>\n",
              "    <tr>\n",
              "      <th>1</th>\n",
              "      <td> 1</td>\n",
              "      <td> A01</td>\n",
              "      <td> 020-000-033-111</td>\n",
              "      <td> 633790226051820913</td>\n",
              "      <td> 27.05.2009 14:03:25:183</td>\n",
              "      <td> 4.291954</td>\n",
              "      <td> 1.781140</td>\n",
              "      <td> 1.344495</td>\n",
              "      <td> walking</td>\n",
              "      <td> 32710</td>\n",
              "    </tr>\n",
              "    <tr>\n",
              "      <th>2</th>\n",
              "      <td> 2</td>\n",
              "      <td> A01</td>\n",
              "      <td> 020-000-032-221</td>\n",
              "      <td> 633790226052091205</td>\n",
              "      <td> 27.05.2009 14:03:25:210</td>\n",
              "      <td> 4.359101</td>\n",
              "      <td> 1.826456</td>\n",
              "      <td> 0.968821</td>\n",
              "      <td> walking</td>\n",
              "      <td> 32710</td>\n",
              "    </tr>\n",
              "    <tr>\n",
              "      <th>3</th>\n",
              "      <td> 3</td>\n",
              "      <td> A01</td>\n",
              "      <td> 010-000-024-033</td>\n",
              "      <td> 633790226052361498</td>\n",
              "      <td> 27.05.2009 14:03:25:237</td>\n",
              "      <td> 4.087835</td>\n",
              "      <td> 1.879999</td>\n",
              "      <td> 0.466983</td>\n",
              "      <td> walking</td>\n",
              "      <td> 32710</td>\n",
              "    </tr>\n",
              "    <tr>\n",
              "      <th>4</th>\n",
              "      <td> 4</td>\n",
              "      <td> A01</td>\n",
              "      <td> 010-000-030-096</td>\n",
              "      <td> 633790226052631792</td>\n",
              "      <td> 27.05.2009 14:03:25:263</td>\n",
              "      <td> 4.324462</td>\n",
              "      <td> 2.072460</td>\n",
              "      <td> 0.488065</td>\n",
              "      <td> walking</td>\n",
              "      <td> 32710</td>\n",
              "    </tr>\n",
              "  </tbody>\n",
              "</table>\n",
              "</div>"
            ],
            "text/plain": [
              "   index sequence              tag           timestamp  \\\n",
              "0      0      A01  010-000-024-033  633790226051280329   \n",
              "1      1      A01  020-000-033-111  633790226051820913   \n",
              "2      2      A01  020-000-032-221  633790226052091205   \n",
              "3      3      A01  010-000-024-033  633790226052361498   \n",
              "4      4      A01  010-000-030-096  633790226052631792   \n",
              "\n",
              "                dateformat         x         y         z activity     nb  \n",
              "0  27.05.2009 14:03:25:127  4.062931  1.892434  0.507425  walking  32710  \n",
              "1  27.05.2009 14:03:25:183  4.291954  1.781140  1.344495  walking  32710  \n",
              "2  27.05.2009 14:03:25:210  4.359101  1.826456  0.968821  walking  32710  \n",
              "3  27.05.2009 14:03:25:237  4.087835  1.879999  0.466983  walking  32710  \n",
              "4  27.05.2009 14:03:25:263  4.324462  2.072460  0.488065  walking  32710  "
            ]
          },
          "execution_count": 57,
          "metadata": {},
          "output_type": "execute_result"
        }
      ],
      "source": [
        "con = sqlite3.connect(\"ConfLongDemo_JSI.db3\")\n",
        "df = pandas.read_sql(\"\"\"SELECT person.*, A.nb FROM person INNER JOIN (\n",
        "                            SELECT activity, count(*) as nb FROM person GROUP BY activity) AS A\n",
        "                            ON person.activity == A.activity\"\"\", con)\n",
        "con.close()\n",
        "df.head()"
      ]
    },
    {
      "cell_type": "markdown",
      "metadata": {},
      "source": [
        "Idem, maintenant il faut le faire avec PIG."
      ]
    },
    {
      "cell_type": "code",
      "execution_count": 57,
      "metadata": {},
      "outputs": [],
      "source": []
    }
  ],
  "metadata": {
    "kernelspec": {
      "display_name": "Python 3",
      "language": "python",
      "name": "python3"
    },
    "language_info": {
      "codemirror_mode": {
        "name": "ipython",
        "version": 3
      },
      "file_extension": ".py",
      "mimetype": "text/x-python",
      "name": "python",
      "nbconvert_exporter": "python",
      "pygments_lexer": "ipython3",
      "version": "3.6.4"
    },
    "widgets": {
      "state": {},
      "version": "1.1.2"
    }
  },
  "nbformat": 4,
  "nbformat_minor": 1
}