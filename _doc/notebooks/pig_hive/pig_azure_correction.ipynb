{
  "cells": [
    {
      "cell_type": "markdown",
      "metadata": {},
      "source": [
        "# Map/Reduce avec PIG sur Azure - correction"
      ]
    },
    {
      "cell_type": "code",
      "execution_count": 1,
      "metadata": {},
      "outputs": [
        {
          "data": {
            "text/html": [
              "<b>Plan</b>\n",
              "<div id=\"my_menu_id\">run previous cell, wait for 2 seconds</div>\n",
              "<script>\n",
              "function repeat_indent_string(n){\n",
              "    var a = \"\" ;\n",
              "    for ( ; n > 0 ; --n) {\n",
              "        a += \"    \";\n",
              "    }\n",
              "    return a;\n",
              "}\n",
              "var update_menu_string = function(begin, lfirst, llast, sformat, send) {\n",
              "    var anchors = document.getElementsByClassName(\"section\");\n",
              "    if (anchors.length == 0) {\n",
              "        anchors = document.getElementsByClassName(\"text_cell_render rendered_html\");\n",
              "    }\n",
              "    var i,t;\n",
              "    var text_menu = begin;\n",
              "    var text_memo = \"<pre>\\nlength:\" + anchors.length + \"\\n\";\n",
              "    var ind = \"\";\n",
              "    var memo_level = 1;\n",
              "    var href;\n",
              "    var tags = [];\n",
              "    for (i = 0; i <= llast; i++) {\n",
              "        tags.push(\"h\" + i);\n",
              "    }\n",
              "\n",
              "    for (i = 0; i < anchors.length; i++) {\n",
              "        text_memo += \"**\" + anchors[i].id + \"--\\n\";\n",
              "\n",
              "        var child = null;\n",
              "        for(t = 0; t < tags.length; t++) {\n",
              "            var r = anchors[i].getElementsByTagName(tags[t]);\n",
              "            if (r.length > 0) {\n",
              "child = r[0];\n",
              "break;\n",
              "            }\n",
              "        }\n",
              "        if (child == null){\n",
              "            text_memo += \"null\\n\";\n",
              "            continue;\n",
              "        }\n",
              "\n",
              "        if (anchors[i].hasAttribute(\"id\")) {\n",
              "            // when converted in RST\n",
              "            href = anchors[i].id;\n",
              "            text_memo += \"#1-\" + href;\n",
              "            // passer \u00e0 child suivant (le chercher)\n",
              "        }\n",
              "        else if (child.hasAttribute(\"id\")) {\n",
              "            // in a notebook\n",
              "            href = child.id;\n",
              "            text_memo += \"#2-\" + href;\n",
              "        }\n",
              "        else {\n",
              "            text_memo += \"#3-\" + \"*\" + \"\\n\";\n",
              "            continue;\n",
              "        }\n",
              "        var title = child.textContent;\n",
              "        var level = parseInt(child.tagName.substring(1,2));\n",
              "\n",
              "        text_memo += \"--\" + level + \"?\" + lfirst + \"--\" + title + \"\\n\";\n",
              "\n",
              "        if ((level < lfirst) || (level > llast)) {\n",
              "            continue ;\n",
              "        }\n",
              "        if (title.endsWith('\u00b6')) {\n",
              "            title = title.substring(0,title.length-1).replace(\"<\", \"&lt;\").replace(\">\", \"&gt;\").replace(\"&\", \"&amp;\")\n",
              "        }\n",
              "\n",
              "        if (title.length == 0) {\n",
              "            continue;\n",
              "        }\n",
              "        while (level > memo_level) {\n",
              "            text_menu += \"<ul>\\n\";\n",
              "            memo_level += 1;\n",
              "        }\n",
              "        while (level < memo_level) {\n",
              "            text_menu += \"</ul>\\n\";\n",
              "            memo_level -= 1;\n",
              "        }\n",
              "        text_menu += repeat_indent_string(level-2) + sformat.replace(\"__HREF__\", href).replace(\"__TITLE__\", title);\n",
              "    }\n",
              "    while (1 < memo_level) {\n",
              "        text_menu += \"</ul>\\n\";\n",
              "        memo_level -= 1;\n",
              "    }\n",
              "    text_menu += send;\n",
              "    //text_menu += \"\\n\" + text_memo;\n",
              "    return text_menu;\n",
              "};\n",
              "var update_menu = function() {\n",
              "    var sbegin = \"\";\n",
              "    var sformat = '<li><a href=\"#__HREF__\">__TITLE__</a></li>';\n",
              "    var send = \"\";\n",
              "    var text_menu = update_menu_string(sbegin, 2, 4, sformat, send);\n",
              "    var menu = document.getElementById(\"my_menu_id\");\n",
              "    menu.innerHTML=text_menu;\n",
              "};\n",
              "window.setTimeout(update_menu,2000);\n",
              "            </script>"
            ],
            "text/plain": [
              "<IPython.core.display.HTML object>"
            ]
          },
          "execution_count": 2,
          "metadata": {},
          "output_type": "execute_result"
        }
      ],
      "source": [
        "from jyquickhelper import add_notebook_menu\n",
        "add_notebook_menu()"
      ]
    },
    {
      "cell_type": "markdown",
      "metadata": {},
      "source": [
        "## Donn\u00e9es\n",
        "\n",
        "On consid\u00e8re le jeu de donn\u00e9es suivant : [Localization Data for Person Activity Data Set](https://archive.ics.uci.edu/ml/datasets/Localization+Data+for+Person+Activity) qu'on r\u00e9cup\u00e8re comme indiqu\u00e9 dans le notebook de l'\u00e9nonc\u00e9."
      ]
    },
    {
      "cell_type": "code",
      "execution_count": 2,
      "metadata": {},
      "outputs": [
        {
          "data": {
            "text/html": [
              "<div style=\"background-color:gainsboro; padding:2px; border:0px;\"><b>server + hadoop + credentials</b>\n",
              "<br />blob_storage <input type=\"text\" id=\"blobhpblob_storage\" value=\"\" size=\"80\" />\n",
              "<br />hadoop_server <input type=\"text\" id=\"blobhphadoop_server\" value=\"\" size=\"80\" />\n",
              "<br />password1 <input type=\"password\" id=\"blobhppassword1\" value=\"\" size=\"80\" />\n",
              "<br />password2 <input type=\"password\" id=\"blobhppassword2\" value=\"\" size=\"80\" />\n",
              "<br />username <input type=\"text\" id=\"blobhpusername\" value=\"xavierdupre\" size=\"80\" />\n",
              "<br /><button onclick=\"set_valueblobhp()\">Ok</button></div>\n",
              "<script type=\"text/Javascript\">\n",
              "function blobhpcallback(msg) {\n",
              "   var ret = msg.content.data['text/plain'];\n",
              "   $('#outblobhp').text(ret);\n",
              "}\n",
              "function set_valueblobhp(){\n",
              "   command='blobhp = {' ;\n",
              "   var blobhpblob_storagevar_value = document.getElementById('blobhpblob_storage').value;\n",
              "   command += '\"blob_storage\":\"' + blobhpblob_storagevar_value + '\",';\n",
              "   var blobhphadoop_servervar_value = document.getElementById('blobhphadoop_server').value;\n",
              "   command += '\"hadoop_server\":\"' + blobhphadoop_servervar_value + '\",';\n",
              "   var blobhppassword1var_value = document.getElementById('blobhppassword1').value;\n",
              "   command += '\"password1\":\"' + blobhppassword1var_value + '\",';\n",
              "   var blobhppassword2var_value = document.getElementById('blobhppassword2').value;\n",
              "   command += '\"password2\":\"' + blobhppassword2var_value + '\",';\n",
              "   var blobhpusernamevar_value = document.getElementById('blobhpusername').value;\n",
              "   command += '\"username\":\"' + blobhpusernamevar_value + '\",';\n",
              "   command += '}';\n",
              "   var kernel = IPython.notebook.kernel;\n",
              "   kernel.execute(command);\n",
              "}\n",
              "</script>"
            ],
            "text/plain": [
              "<IPython.core.display.HTML object>"
            ]
          },
          "execution_count": 3,
          "metadata": {},
          "output_type": "execute_result"
        }
      ],
      "source": [
        "from pyquickhelper.ipythonhelper import open_html_form\n",
        "params={\"blob_storage\":\"\", \"password1\":\"\", \"hadoop_server\":\"\", \"password2\":\"\", \"username\":\"xavierdupre\"}\n",
        "open_html_form(params=params,title=\"server + hadoop + credentials\", key_save=\"blobhp\")"
      ]
    },
    {
      "cell_type": "code",
      "execution_count": 3,
      "metadata": {},
      "outputs": [],
      "source": [
        "blobstorage = blobhp[\"blob_storage\"]\n",
        "blobpassword = blobhp[\"password1\"]\n",
        "hadoop_server = blobhp[\"hadoop_server\"]\n",
        "hadoop_password = blobhp[\"password2\"]\n",
        "username = blobhp[\"username\"]"
      ]
    },
    {
      "cell_type": "code",
      "execution_count": 4,
      "metadata": {},
      "outputs": [
        {
          "data": {
            "text/plain": [
              "(<pyensae.remote.azure_connection.AzureClient at 0xafe7e10>,\n",
              " <azure.storage.blob.blobservice.BlobService at 0xafe7e48>)"
            ]
          },
          "execution_count": 5,
          "metadata": {},
          "output_type": "execute_result"
        }
      ],
      "source": [
        "import pyensae\n",
        "%load_ext pyensae\n",
        "%load_ext pyenbc\n",
        "%hd_open"
      ]
    },
    {
      "cell_type": "markdown",
      "metadata": {},
      "source": [
        "## Exercice 1 : GROUP BY"
      ]
    },
    {
      "cell_type": "code",
      "execution_count": 5,
      "metadata": {},
      "outputs": [
        {
          "data": {
            "text/html": [
              "<div>\n",
              "<table border=\"1\" class=\"dataframe\">\n",
              "  <thead>\n",
              "    <tr style=\"text-align: right;\">\n",
              "      <th></th>\n",
              "      <th>activity</th>\n",
              "      <th>nb</th>\n",
              "    </tr>\n",
              "  </thead>\n",
              "  <tbody>\n",
              "    <tr>\n",
              "      <th>0</th>\n",
              "      <td>falling</td>\n",
              "      <td>2973</td>\n",
              "    </tr>\n",
              "    <tr>\n",
              "      <th>1</th>\n",
              "      <td>lying</td>\n",
              "      <td>54480</td>\n",
              "    </tr>\n",
              "    <tr>\n",
              "      <th>2</th>\n",
              "      <td>lying down</td>\n",
              "      <td>6168</td>\n",
              "    </tr>\n",
              "    <tr>\n",
              "      <th>3</th>\n",
              "      <td>on all fours</td>\n",
              "      <td>5210</td>\n",
              "    </tr>\n",
              "    <tr>\n",
              "      <th>4</th>\n",
              "      <td>sitting</td>\n",
              "      <td>27244</td>\n",
              "    </tr>\n",
              "  </tbody>\n",
              "</table>\n",
              "</div>"
            ],
            "text/plain": [
              "       activity     nb\n",
              "0       falling   2973\n",
              "1         lying  54480\n",
              "2    lying down   6168\n",
              "3  on all fours   5210\n",
              "4       sitting  27244"
            ]
          },
          "execution_count": 6,
          "metadata": {},
          "output_type": "execute_result"
        }
      ],
      "source": [
        "import pandas, sqlite3\n",
        "con = sqlite3.connect(\"ConfLongDemo_JSI.db3\")\n",
        "df = pandas.read_sql(\"\"\"SELECT activity, count(*) as nb FROM person GROUP BY activity\"\"\", con)\n",
        "con.close()\n",
        "df.head()"
      ]
    },
    {
      "cell_type": "markdown",
      "metadata": {},
      "source": [
        "On v\u00e9rifie que le fichier qu'on veut traiter est bien l\u00e0 :"
      ]
    },
    {
      "cell_type": "code",
      "execution_count": 6,
      "metadata": {},
      "outputs": [
        {
          "data": {
            "text/html": [
              "<div>\n",
              "<table border=\"1\" class=\"dataframe\">\n",
              "  <thead>\n",
              "    <tr style=\"text-align: right;\">\n",
              "      <th></th>\n",
              "      <th>name</th>\n",
              "      <th>last_modified</th>\n",
              "      <th>content_type</th>\n",
              "      <th>content_length</th>\n",
              "      <th>blob_type</th>\n",
              "    </tr>\n",
              "  </thead>\n",
              "  <tbody>\n",
              "    <tr>\n",
              "      <th>0</th>\n",
              "      <td>testensae/ConfLongDemo_JSI.small.txt</td>\n",
              "      <td>Thu, 29 Oct 2015 00:23:00 GMT</td>\n",
              "      <td>application/octet-stream</td>\n",
              "      <td>132727</td>\n",
              "      <td>BlockBlob</td>\n",
              "    </tr>\n",
              "  </tbody>\n",
              "</table>\n",
              "</div>"
            ],
            "text/plain": [
              "                                   name                  last_modified  \\\n",
              "0  testensae/ConfLongDemo_JSI.small.txt  Thu, 29 Oct 2015 00:23:00 GMT   \n",
              "\n",
              "               content_type  content_length  blob_type  \n",
              "0  application/octet-stream          132727  BlockBlob  "
            ]
          },
          "execution_count": 7,
          "metadata": {},
          "output_type": "execute_result"
        }
      ],
      "source": [
        "%blob_ls /testensae/ConfLongDemo_JSI.small.txt"
      ]
    },
    {
      "cell_type": "markdown",
      "metadata": {},
      "source": [
        "Il faut maintenant le faire avec PIG."
      ]
    },
    {
      "cell_type": "code",
      "execution_count": 7,
      "metadata": {},
      "outputs": [],
      "source": [
        "%%PIG_azure solution_groupby.pig\n",
        "\n",
        "myinput = LOAD '$CONTAINER/testensae/ConfLongDemo_JSI.small.txt' \n",
        "          using PigStorage(',') \n",
        "          AS (index:long, sequence, tag, timestamp:long, dateformat, x:double,y:double, z:double, activity) ;\n",
        "\n",
        "gr = GROUP myinput BY activity ;\n",
        "avgact = FOREACH gr GENERATE group, COUNT(myinput) ; \n",
        "\n",
        "STORE avgact INTO '$CONTAINER/$PSEUDO/testensae/ConfLongDemo_JSI.small.group.2015.txt' USING PigStorage() ;"
      ]
    },
    {
      "cell_type": "markdown",
      "metadata": {},
      "source": [
        "On soumet le job :"
      ]
    },
    {
      "cell_type": "code",
      "execution_count": 8,
      "metadata": {},
      "outputs": [
        {
          "data": {
            "text/plain": [
              "{'id': 'job_1445989166328_0009'}"
            ]
          },
          "execution_count": 9,
          "metadata": {},
          "output_type": "execute_result"
        }
      ],
      "source": [
        "jid = %hd_pig_submit solution_groupby.pig\n",
        "jid"
      ]
    },
    {
      "cell_type": "markdown",
      "metadata": {},
      "source": [
        "On v\u00e9rifie le status du job :"
      ]
    },
    {
      "cell_type": "code",
      "execution_count": 9,
      "metadata": {},
      "outputs": [
        {
          "data": {
            "text/plain": [
              "('job_1445989166328_0009', '100% complete', None, False, 'RUNNING')"
            ]
          },
          "execution_count": 10,
          "metadata": {},
          "output_type": "execute_result"
        }
      ],
      "source": [
        "st = %hd_job_status jid[\"id\"]\n",
        "st[\"id\"],st[\"percentComplete\"],st[\"completed\"],st[\"status\"][\"jobComplete\"],st[\"status\"][\"state\"]"
      ]
    },
    {
      "cell_type": "markdown",
      "metadata": {},
      "source": [
        "On regarde si la compilation s'est bien pass\u00e9e :"
      ]
    },
    {
      "cell_type": "code",
      "execution_count": 10,
      "metadata": {},
      "outputs": [
        {
          "data": {
            "text/html": [
              "<pre>\n",
              "\n",
              "Job DAG:\n",
              "job_1445989166328_0010\n",
              "\n",
              "\n",
              "2015-10-29 00:55:14,395 [main] INFO  org.apache.hadoop.yarn.client.api.impl.TimelineClientImpl - Timeline service address: http://headnodehost:8188/ws/v1/timeline/\n",
              "2015-10-29 00:55:14,395 [main] INFO  org.apache.hadoop.yarn.client.RMProxy - Connecting to ResourceManager at headnodehost/100.89.100.164:9010\n",
              "2015-10-29 00:55:14,395 [main] INFO  org.apache.hadoop.yarn.client.AHSProxy - Connecting to Application History server at headnodehost/100.89.100.164:10200\n",
              "2015-10-29 00:55:14,473 [main] INFO  org.apache.hadoop.mapred.ClientServiceDelegate - Application state is completed. FinalApplicationStatus=SUCCEEDED. Redirecting to job history server\n",
              "2015-10-29 00:55:14,676 [main] INFO  org.apache.hadoop.yarn.client.api.impl.TimelineClientImpl - Timeline service address: http://headnodehost:8188/ws/v1/timeline/\n",
              "2015-10-29 00:55:14,676 [main] INFO  org.apache.hadoop.yarn.client.RMProxy - Connecting to ResourceManager at headnodehost/100.89.100.164:9010\n",
              "2015-10-29 00:55:14,676 [main] INFO  org.apache.hadoop.yarn.client.AHSProxy - Connecting to Application History server at headnodehost/100.89.100.164:10200\n",
              "2015-10-29 00:55:14,754 [main] INFO  org.apache.hadoop.mapred.ClientServiceDelegate - Application state is completed. FinalApplicationStatus=SUCCEEDED. Redirecting to job history server\n",
              "2015-10-29 00:55:14,957 [main] INFO  org.apache.hadoop.yarn.client.api.impl.TimelineClientImpl - Timeline service address: http://headnodehost:8188/ws/v1/timeline/\n",
              "2015-10-29 00:55:14,957 [main] INFO  org.apache.hadoop.yarn.client.RMProxy - Connecting to ResourceManager at headnodehost/100.89.100.164:9010\n",
              "2015-10-29 00:55:14,957 [main] INFO  org.apache.hadoop.yarn.client.AHSProxy - Connecting to Application History server at headnodehost/100.89.100.164:10200\n",
              "2015-10-29 00:55:15,020 [main] INFO  org.apache.hadoop.mapred.ClientServiceDelegate - Application state is completed. FinalApplicationStatus=SUCCEEDED. Redirecting to job history server\n",
              "2015-10-29 00:55:15,082 [main] INFO  org.apache.pig.backend.hadoop.executionengine.mapReduceLayer.MapReduceLauncher - Success!\n",
              "2015-10-29 00:55:15,113 [main] INFO  org.apache.pig.Main - Pig script completed in 49 seconds and 706 milliseconds (49706 ms)\n",
              "\n",
              "</pre><br />"
            ],
            "text/plain": [
              "<IPython.core.display.HTML object>"
            ]
          },
          "execution_count": 11,
          "metadata": {},
          "output_type": "execute_result"
        }
      ],
      "source": [
        "%hd_tail_stderr jid[\"id\"]"
      ]
    },
    {
      "cell_type": "markdown",
      "metadata": {},
      "source": [
        "On regarde le contenu du r\u00e9pertoire sur le blob storage :"
      ]
    },
    {
      "cell_type": "code",
      "execution_count": 11,
      "metadata": {},
      "outputs": [
        {
          "data": {
            "text/plain": [
              "['xavierdupre/testensae',\n",
              " 'xavierdupre/testensae/ConfLongDemo_JSI.small.group.2015.txt',\n",
              " 'xavierdupre/testensae/ConfLongDemo_JSI.small.group.2015.txt/_SUCCESS',\n",
              " 'xavierdupre/testensae/ConfLongDemo_JSI.small.group.2015.txt/part-r-00000',\n",
              " 'xavierdupre/testensae/ConfLongDemo_JSI.small.group.join.txt',\n",
              " 'xavierdupre/testensae/ConfLongDemo_JSI.small.group.join.txt/_SUCCESS',\n",
              " 'xavierdupre/testensae/ConfLongDemo_JSI.small.group.join.txt/part-r-00000',\n",
              " 'xavierdupre/testensae/ConfLongDemo_JSI.small.group.txt',\n",
              " 'xavierdupre/testensae/ConfLongDemo_JSI.small.group.txt/_SUCCESS',\n",
              " 'xavierdupre/testensae/ConfLongDemo_JSI.small.group.txt/part-r-00000',\n",
              " 'xavierdupre/testensae/ConfLongDemo_JSI.small.keep_walking.txt',\n",
              " 'xavierdupre/testensae/ConfLongDemo_JSI.small.keep_walking.txt/_SUCCESS',\n",
              " 'xavierdupre/testensae/ConfLongDemo_JSI.small.keep_walking.txt/part-m-00000',\n",
              " 'xavierdupre/testensae/ConfLongDemo_JSI.small.walking2015.txt',\n",
              " 'xavierdupre/testensae/ConfLongDemo_JSI.small.walking2015.txt/_SUCCESS',\n",
              " 'xavierdupre/testensae/ConfLongDemo_JSI.small.walking2015.txt/part-m-00000',\n",
              " 'xavierdupre/testensae/ConfLongDemo_JSI.small.walking_2015.txt',\n",
              " 'xavierdupre/testensae/ConfLongDemo_JSI.small.walking_2015.txt/_SUCCESS',\n",
              " 'xavierdupre/testensae/ConfLongDemo_JSI.small.walking_2015.txt/part-m-00000']"
            ]
          },
          "execution_count": 12,
          "metadata": {},
          "output_type": "execute_result"
        }
      ],
      "source": [
        "df=%blob_ls /$PSEUDO/testensae\n",
        "list(df[\"name\"])"
      ]
    },
    {
      "cell_type": "code",
      "execution_count": 12,
      "metadata": {},
      "outputs": [
        {
          "data": {
            "text/plain": [
              "'results.group.2015.txt'"
            ]
          },
          "execution_count": 13,
          "metadata": {},
          "output_type": "execute_result"
        }
      ],
      "source": [
        "import os\n",
        "if os.path.exists(\"results.group.2015.xt\") : os.remove(\"results.group.2015.txt\")\n",
        "%blob_downmerge /$PSEUDO/testensae/ConfLongDemo_JSI.small.group.2015.txt results.group.2015.txt"
      ]
    },
    {
      "cell_type": "code",
      "execution_count": 13,
      "metadata": {},
      "outputs": [
        {
          "data": {
            "text/html": [
              "<div>\n",
              "<table border=\"1\" class=\"dataframe\">\n",
              "  <thead>\n",
              "    <tr style=\"text-align: right;\">\n",
              "      <th></th>\n",
              "      <th>directory</th>\n",
              "      <th>last_modified</th>\n",
              "      <th>name</th>\n",
              "      <th>size</th>\n",
              "    </tr>\n",
              "  </thead>\n",
              "  <tbody>\n",
              "    <tr>\n",
              "      <th>0</th>\n",
              "      <td>False</td>\n",
              "      <td>2015-10-29 01:56:11.025867</td>\n",
              "      <td>.\\results.group.2015.txt</td>\n",
              "      <td>89</td>\n",
              "    </tr>\n",
              "    <tr>\n",
              "      <th>1</th>\n",
              "      <td>False</td>\n",
              "      <td>2015-10-29 01:46:45.425028</td>\n",
              "      <td>.\\results.txt</td>\n",
              "      <td>21.65 Kb</td>\n",
              "    </tr>\n",
              "    <tr>\n",
              "      <th>2</th>\n",
              "      <td>False</td>\n",
              "      <td>2015-10-29 01:46:46.705466</td>\n",
              "      <td>.\\results_allfiles.txt</td>\n",
              "      <td>21.65 Kb</td>\n",
              "    </tr>\n",
              "  </tbody>\n",
              "</table>\n",
              "</div>"
            ],
            "text/plain": [
              "  directory              last_modified                      name      size\n",
              "0     False 2015-10-29 01:56:11.025867  .\\results.group.2015.txt        89\n",
              "1     False 2015-10-29 01:46:45.425028             .\\results.txt  21.65 Kb\n",
              "2     False 2015-10-29 01:46:46.705466    .\\results_allfiles.txt  21.65 Kb"
            ]
          },
          "execution_count": 14,
          "metadata": {},
          "output_type": "execute_result"
        }
      ],
      "source": [
        "%lsr res.*[.]txt"
      ]
    },
    {
      "cell_type": "code",
      "execution_count": 14,
      "metadata": {},
      "outputs": [
        {
          "data": {
            "text/html": [
              "<pre>\n",
              "lying\t267\n",
              "falling\t30\n",
              "sitting\t435\n",
              "walking\t170\n",
              "sitting down\t56\n",
              "standing up from sitting\t42\n",
              "\n",
              "</pre>"
            ],
            "text/plain": [
              "<IPython.core.display.HTML object>"
            ]
          },
          "execution_count": 15,
          "metadata": {},
          "output_type": "execute_result"
        }
      ],
      "source": [
        "%head results.group.2015.txt"
      ]
    },
    {
      "cell_type": "markdown",
      "metadata": {},
      "source": [
        "## Exercice 2 : JOIN"
      ]
    },
    {
      "cell_type": "code",
      "execution_count": 15,
      "metadata": {},
      "outputs": [
        {
          "data": {
            "text/html": [
              "<div>\n",
              "<table border=\"1\" class=\"dataframe\">\n",
              "  <thead>\n",
              "    <tr style=\"text-align: right;\">\n",
              "      <th></th>\n",
              "      <th>index</th>\n",
              "      <th>sequence</th>\n",
              "      <th>tag</th>\n",
              "      <th>timestamp</th>\n",
              "      <th>dateformat</th>\n",
              "      <th>x</th>\n",
              "      <th>y</th>\n",
              "      <th>z</th>\n",
              "      <th>activity</th>\n",
              "      <th>nb</th>\n",
              "    </tr>\n",
              "  </thead>\n",
              "  <tbody>\n",
              "    <tr>\n",
              "      <th>0</th>\n",
              "      <td>0</td>\n",
              "      <td>A01</td>\n",
              "      <td>010-000-024-033</td>\n",
              "      <td>633790226051280329</td>\n",
              "      <td>27.05.2009 14:03:25:127</td>\n",
              "      <td>4.062931</td>\n",
              "      <td>1.892434</td>\n",
              "      <td>0.507425</td>\n",
              "      <td>walking</td>\n",
              "      <td>32710</td>\n",
              "    </tr>\n",
              "    <tr>\n",
              "      <th>1</th>\n",
              "      <td>1</td>\n",
              "      <td>A01</td>\n",
              "      <td>020-000-033-111</td>\n",
              "      <td>633790226051820913</td>\n",
              "      <td>27.05.2009 14:03:25:183</td>\n",
              "      <td>4.291954</td>\n",
              "      <td>1.781140</td>\n",
              "      <td>1.344495</td>\n",
              "      <td>walking</td>\n",
              "      <td>32710</td>\n",
              "    </tr>\n",
              "    <tr>\n",
              "      <th>2</th>\n",
              "      <td>2</td>\n",
              "      <td>A01</td>\n",
              "      <td>020-000-032-221</td>\n",
              "      <td>633790226052091205</td>\n",
              "      <td>27.05.2009 14:03:25:210</td>\n",
              "      <td>4.359101</td>\n",
              "      <td>1.826456</td>\n",
              "      <td>0.968821</td>\n",
              "      <td>walking</td>\n",
              "      <td>32710</td>\n",
              "    </tr>\n",
              "    <tr>\n",
              "      <th>3</th>\n",
              "      <td>3</td>\n",
              "      <td>A01</td>\n",
              "      <td>010-000-024-033</td>\n",
              "      <td>633790226052361498</td>\n",
              "      <td>27.05.2009 14:03:25:237</td>\n",
              "      <td>4.087835</td>\n",
              "      <td>1.879999</td>\n",
              "      <td>0.466983</td>\n",
              "      <td>walking</td>\n",
              "      <td>32710</td>\n",
              "    </tr>\n",
              "    <tr>\n",
              "      <th>4</th>\n",
              "      <td>4</td>\n",
              "      <td>A01</td>\n",
              "      <td>010-000-030-096</td>\n",
              "      <td>633790226052631792</td>\n",
              "      <td>27.05.2009 14:03:25:263</td>\n",
              "      <td>4.324462</td>\n",
              "      <td>2.072460</td>\n",
              "      <td>0.488065</td>\n",
              "      <td>walking</td>\n",
              "      <td>32710</td>\n",
              "    </tr>\n",
              "  </tbody>\n",
              "</table>\n",
              "</div>"
            ],
            "text/plain": [
              "   index sequence              tag           timestamp  \\\n",
              "0      0      A01  010-000-024-033  633790226051280329   \n",
              "1      1      A01  020-000-033-111  633790226051820913   \n",
              "2      2      A01  020-000-032-221  633790226052091205   \n",
              "3      3      A01  010-000-024-033  633790226052361498   \n",
              "4      4      A01  010-000-030-096  633790226052631792   \n",
              "\n",
              "                dateformat         x         y         z activity     nb  \n",
              "0  27.05.2009 14:03:25:127  4.062931  1.892434  0.507425  walking  32710  \n",
              "1  27.05.2009 14:03:25:183  4.291954  1.781140  1.344495  walking  32710  \n",
              "2  27.05.2009 14:03:25:210  4.359101  1.826456  0.968821  walking  32710  \n",
              "3  27.05.2009 14:03:25:237  4.087835  1.879999  0.466983  walking  32710  \n",
              "4  27.05.2009 14:03:25:263  4.324462  2.072460  0.488065  walking  32710  "
            ]
          },
          "execution_count": 16,
          "metadata": {},
          "output_type": "execute_result"
        }
      ],
      "source": [
        "con = sqlite3.connect(\"ConfLongDemo_JSI.db3\")\n",
        "df = pandas.read_sql(\"\"\"SELECT person.*, A.nb FROM person INNER JOIN (\n",
        "                            SELECT activity, count(*) as nb FROM person GROUP BY activity) AS A\n",
        "                            ON person.activity == A.activity\"\"\", con)\n",
        "con.close()\n",
        "df.head()"
      ]
    },
    {
      "cell_type": "markdown",
      "metadata": {},
      "source": [
        "Idem, maintenant il faut le faire avec PIG."
      ]
    },
    {
      "cell_type": "code",
      "execution_count": 16,
      "metadata": {},
      "outputs": [],
      "source": [
        "%%PIG_azure solution_groupby_join.pig\n",
        "\n",
        "myinput = LOAD '$CONTAINER/testensae/ConfLongDemo_JSI.small.txt' \n",
        "          using PigStorage(',') \n",
        "          AS (index:long, sequence, tag, timestamp:long, dateformat, x:double,y:double, z:double, activity) ;\n",
        "\n",
        "gr = GROUP myinput BY activity ;\n",
        "avgact = FOREACH gr GENERATE group, COUNT(myinput) ; \n",
        "\n",
        "joined = JOIN myinput BY activity, avgact BY group ;\n",
        "\n",
        "STORE joined INTO '$CONTAINER/$PSEUDO/testensae/ConfLongDemo_JSI.small.group.join.2015.txt' USING PigStorage() ;"
      ]
    },
    {
      "cell_type": "code",
      "execution_count": 17,
      "metadata": {},
      "outputs": [
        {
          "data": {
            "text/plain": [
              "{'id': 'job_1445989166328_0011'}"
            ]
          },
          "execution_count": 18,
          "metadata": {},
          "output_type": "execute_result"
        }
      ],
      "source": [
        "jid = %hd_pig_submit solution_groupby_join.pig\n",
        "jid"
      ]
    },
    {
      "cell_type": "code",
      "execution_count": 18,
      "metadata": {},
      "outputs": [
        {
          "data": {
            "text/plain": [
              "('job_1445989166328_0011',\n",
              " '100% complete',\n",
              " 'done',\n",
              " True,\n",
              " 'SUCCEEDED',\n",
              " 'wasb://hdblobstorage@hdblobstorage.blob.core.windows.net/xavierdupre/scripts/pig/solution_groupby_join.pig')"
            ]
          },
          "execution_count": 19,
          "metadata": {},
          "output_type": "execute_result"
        }
      ],
      "source": [
        "st = %hd_job_status jid[\"id\"]\n",
        "st[\"id\"],st[\"percentComplete\"],st[\"completed\"],st[\"status\"][\"jobComplete\"],st[\"status\"][\"state\"], st[\"userargs\"][\"file\"]"
      ]
    },
    {
      "cell_type": "code",
      "execution_count": 19,
      "metadata": {},
      "outputs": [
        {
          "data": {
            "text/html": [
              "<div>\n",
              "<table border=\"1\" class=\"dataframe\">\n",
              "  <thead>\n",
              "    <tr style=\"text-align: right;\">\n",
              "      <th></th>\n",
              "      <th>name</th>\n",
              "      <th>last_modified</th>\n",
              "      <th>content_type</th>\n",
              "      <th>content_length</th>\n",
              "      <th>blob_type</th>\n",
              "    </tr>\n",
              "  </thead>\n",
              "  <tbody>\n",
              "    <tr>\n",
              "      <th>0</th>\n",
              "      <td>xavierdupre/testensae</td>\n",
              "      <td>Tue, 25 Nov 2014 00:50:34 GMT</td>\n",
              "      <td>application/octet-stream</td>\n",
              "      <td>0</td>\n",
              "      <td>BlockBlob</td>\n",
              "    </tr>\n",
              "    <tr>\n",
              "      <th>1</th>\n",
              "      <td>xavierdupre/testensae/ConfLongDemo_JSI.small.g...</td>\n",
              "      <td>Thu, 29 Oct 2015 00:55:09 GMT</td>\n",
              "      <td></td>\n",
              "      <td>0</td>\n",
              "      <td>BlockBlob</td>\n",
              "    </tr>\n",
              "    <tr>\n",
              "      <th>2</th>\n",
              "      <td>xavierdupre/testensae/ConfLongDemo_JSI.small.g...</td>\n",
              "      <td>Thu, 29 Oct 2015 00:55:09 GMT</td>\n",
              "      <td>application/octet-stream</td>\n",
              "      <td>0</td>\n",
              "      <td>BlockBlob</td>\n",
              "    </tr>\n",
              "    <tr>\n",
              "      <th>3</th>\n",
              "      <td>xavierdupre/testensae/ConfLongDemo_JSI.small.g...</td>\n",
              "      <td>Thu, 29 Oct 2015 00:55:08 GMT</td>\n",
              "      <td>application/octet-stream</td>\n",
              "      <td>89</td>\n",
              "      <td>BlockBlob</td>\n",
              "    </tr>\n",
              "    <tr>\n",
              "      <th>4</th>\n",
              "      <td>xavierdupre/testensae/ConfLongDemo_JSI.small.g...</td>\n",
              "      <td>Thu, 29 Oct 2015 00:58:43 GMT</td>\n",
              "      <td></td>\n",
              "      <td>0</td>\n",
              "      <td>BlockBlob</td>\n",
              "    </tr>\n",
              "    <tr>\n",
              "      <th>5</th>\n",
              "      <td>xavierdupre/testensae/ConfLongDemo_JSI.small.g...</td>\n",
              "      <td>Thu, 29 Oct 2015 00:58:43 GMT</td>\n",
              "      <td>application/octet-stream</td>\n",
              "      <td>0</td>\n",
              "      <td>BlockBlob</td>\n",
              "    </tr>\n",
              "    <tr>\n",
              "      <th>6</th>\n",
              "      <td>xavierdupre/testensae/ConfLongDemo_JSI.small.g...</td>\n",
              "      <td>Thu, 29 Oct 2015 00:58:42 GMT</td>\n",
              "      <td>application/octet-stream</td>\n",
              "      <td>144059</td>\n",
              "      <td>BlockBlob</td>\n",
              "    </tr>\n",
              "    <tr>\n",
              "      <th>7</th>\n",
              "      <td>xavierdupre/testensae/ConfLongDemo_JSI.small.g...</td>\n",
              "      <td>Tue, 25 Nov 2014 01:16:11 GMT</td>\n",
              "      <td></td>\n",
              "      <td>0</td>\n",
              "      <td>BlockBlob</td>\n",
              "    </tr>\n",
              "    <tr>\n",
              "      <th>8</th>\n",
              "      <td>xavierdupre/testensae/ConfLongDemo_JSI.small.g...</td>\n",
              "      <td>Tue, 25 Nov 2014 01:16:11 GMT</td>\n",
              "      <td>application/octet-stream</td>\n",
              "      <td>0</td>\n",
              "      <td>BlockBlob</td>\n",
              "    </tr>\n",
              "    <tr>\n",
              "      <th>9</th>\n",
              "      <td>xavierdupre/testensae/ConfLongDemo_JSI.small.g...</td>\n",
              "      <td>Tue, 25 Nov 2014 01:16:10 GMT</td>\n",
              "      <td>application/octet-stream</td>\n",
              "      <td>144059</td>\n",
              "      <td>BlockBlob</td>\n",
              "    </tr>\n",
              "    <tr>\n",
              "      <th>10</th>\n",
              "      <td>xavierdupre/testensae/ConfLongDemo_JSI.small.g...</td>\n",
              "      <td>Tue, 25 Nov 2014 01:12:49 GMT</td>\n",
              "      <td></td>\n",
              "      <td>0</td>\n",
              "      <td>BlockBlob</td>\n",
              "    </tr>\n",
              "    <tr>\n",
              "      <th>11</th>\n",
              "      <td>xavierdupre/testensae/ConfLongDemo_JSI.small.g...</td>\n",
              "      <td>Tue, 25 Nov 2014 01:12:49 GMT</td>\n",
              "      <td>application/octet-stream</td>\n",
              "      <td>0</td>\n",
              "      <td>BlockBlob</td>\n",
              "    </tr>\n",
              "    <tr>\n",
              "      <th>12</th>\n",
              "      <td>xavierdupre/testensae/ConfLongDemo_JSI.small.g...</td>\n",
              "      <td>Tue, 25 Nov 2014 01:12:49 GMT</td>\n",
              "      <td>application/octet-stream</td>\n",
              "      <td>89</td>\n",
              "      <td>BlockBlob</td>\n",
              "    </tr>\n",
              "    <tr>\n",
              "      <th>13</th>\n",
              "      <td>xavierdupre/testensae/ConfLongDemo_JSI.small.k...</td>\n",
              "      <td>Tue, 25 Nov 2014 00:50:45 GMT</td>\n",
              "      <td></td>\n",
              "      <td>0</td>\n",
              "      <td>BlockBlob</td>\n",
              "    </tr>\n",
              "    <tr>\n",
              "      <th>14</th>\n",
              "      <td>xavierdupre/testensae/ConfLongDemo_JSI.small.k...</td>\n",
              "      <td>Tue, 25 Nov 2014 00:50:46 GMT</td>\n",
              "      <td>application/octet-stream</td>\n",
              "      <td>0</td>\n",
              "      <td>BlockBlob</td>\n",
              "    </tr>\n",
              "    <tr>\n",
              "      <th>15</th>\n",
              "      <td>xavierdupre/testensae/ConfLongDemo_JSI.small.k...</td>\n",
              "      <td>Tue, 25 Nov 2014 00:50:45 GMT</td>\n",
              "      <td>application/octet-stream</td>\n",
              "      <td>22166</td>\n",
              "      <td>BlockBlob</td>\n",
              "    </tr>\n",
              "    <tr>\n",
              "      <th>16</th>\n",
              "      <td>xavierdupre/testensae/ConfLongDemo_JSI.small.w...</td>\n",
              "      <td>Thu, 29 Oct 2015 00:28:30 GMT</td>\n",
              "      <td></td>\n",
              "      <td>0</td>\n",
              "      <td>BlockBlob</td>\n",
              "    </tr>\n",
              "    <tr>\n",
              "      <th>17</th>\n",
              "      <td>xavierdupre/testensae/ConfLongDemo_JSI.small.w...</td>\n",
              "      <td>Thu, 29 Oct 2015 00:28:30 GMT</td>\n",
              "      <td>application/octet-stream</td>\n",
              "      <td>0</td>\n",
              "      <td>BlockBlob</td>\n",
              "    </tr>\n",
              "    <tr>\n",
              "      <th>18</th>\n",
              "      <td>xavierdupre/testensae/ConfLongDemo_JSI.small.w...</td>\n",
              "      <td>Thu, 29 Oct 2015 00:28:30 GMT</td>\n",
              "      <td>application/octet-stream</td>\n",
              "      <td>22166</td>\n",
              "      <td>BlockBlob</td>\n",
              "    </tr>\n",
              "    <tr>\n",
              "      <th>19</th>\n",
              "      <td>xavierdupre/testensae/ConfLongDemo_JSI.small.w...</td>\n",
              "      <td>Thu, 29 Oct 2015 00:46:05 GMT</td>\n",
              "      <td></td>\n",
              "      <td>0</td>\n",
              "      <td>BlockBlob</td>\n",
              "    </tr>\n",
              "    <tr>\n",
              "      <th>20</th>\n",
              "      <td>xavierdupre/testensae/ConfLongDemo_JSI.small.w...</td>\n",
              "      <td>Thu, 29 Oct 2015 00:46:05 GMT</td>\n",
              "      <td>application/octet-stream</td>\n",
              "      <td>0</td>\n",
              "      <td>BlockBlob</td>\n",
              "    </tr>\n",
              "    <tr>\n",
              "      <th>21</th>\n",
              "      <td>xavierdupre/testensae/ConfLongDemo_JSI.small.w...</td>\n",
              "      <td>Thu, 29 Oct 2015 00:46:04 GMT</td>\n",
              "      <td>application/octet-stream</td>\n",
              "      <td>22166</td>\n",
              "      <td>BlockBlob</td>\n",
              "    </tr>\n",
              "  </tbody>\n",
              "</table>\n",
              "</div>"
            ],
            "text/plain": [
              "                                                 name  \\\n",
              "0                               xavierdupre/testensae   \n",
              "1   xavierdupre/testensae/ConfLongDemo_JSI.small.g...   \n",
              "2   xavierdupre/testensae/ConfLongDemo_JSI.small.g...   \n",
              "3   xavierdupre/testensae/ConfLongDemo_JSI.small.g...   \n",
              "4   xavierdupre/testensae/ConfLongDemo_JSI.small.g...   \n",
              "5   xavierdupre/testensae/ConfLongDemo_JSI.small.g...   \n",
              "6   xavierdupre/testensae/ConfLongDemo_JSI.small.g...   \n",
              "7   xavierdupre/testensae/ConfLongDemo_JSI.small.g...   \n",
              "8   xavierdupre/testensae/ConfLongDemo_JSI.small.g...   \n",
              "9   xavierdupre/testensae/ConfLongDemo_JSI.small.g...   \n",
              "10  xavierdupre/testensae/ConfLongDemo_JSI.small.g...   \n",
              "11  xavierdupre/testensae/ConfLongDemo_JSI.small.g...   \n",
              "12  xavierdupre/testensae/ConfLongDemo_JSI.small.g...   \n",
              "13  xavierdupre/testensae/ConfLongDemo_JSI.small.k...   \n",
              "14  xavierdupre/testensae/ConfLongDemo_JSI.small.k...   \n",
              "15  xavierdupre/testensae/ConfLongDemo_JSI.small.k...   \n",
              "16  xavierdupre/testensae/ConfLongDemo_JSI.small.w...   \n",
              "17  xavierdupre/testensae/ConfLongDemo_JSI.small.w...   \n",
              "18  xavierdupre/testensae/ConfLongDemo_JSI.small.w...   \n",
              "19  xavierdupre/testensae/ConfLongDemo_JSI.small.w...   \n",
              "20  xavierdupre/testensae/ConfLongDemo_JSI.small.w...   \n",
              "21  xavierdupre/testensae/ConfLongDemo_JSI.small.w...   \n",
              "\n",
              "                    last_modified              content_type  content_length  \\\n",
              "0   Tue, 25 Nov 2014 00:50:34 GMT  application/octet-stream               0   \n",
              "1   Thu, 29 Oct 2015 00:55:09 GMT                                         0   \n",
              "2   Thu, 29 Oct 2015 00:55:09 GMT  application/octet-stream               0   \n",
              "3   Thu, 29 Oct 2015 00:55:08 GMT  application/octet-stream              89   \n",
              "4   Thu, 29 Oct 2015 00:58:43 GMT                                         0   \n",
              "5   Thu, 29 Oct 2015 00:58:43 GMT  application/octet-stream               0   \n",
              "6   Thu, 29 Oct 2015 00:58:42 GMT  application/octet-stream          144059   \n",
              "7   Tue, 25 Nov 2014 01:16:11 GMT                                         0   \n",
              "8   Tue, 25 Nov 2014 01:16:11 GMT  application/octet-stream               0   \n",
              "9   Tue, 25 Nov 2014 01:16:10 GMT  application/octet-stream          144059   \n",
              "10  Tue, 25 Nov 2014 01:12:49 GMT                                         0   \n",
              "11  Tue, 25 Nov 2014 01:12:49 GMT  application/octet-stream               0   \n",
              "12  Tue, 25 Nov 2014 01:12:49 GMT  application/octet-stream              89   \n",
              "13  Tue, 25 Nov 2014 00:50:45 GMT                                         0   \n",
              "14  Tue, 25 Nov 2014 00:50:46 GMT  application/octet-stream               0   \n",
              "15  Tue, 25 Nov 2014 00:50:45 GMT  application/octet-stream           22166   \n",
              "16  Thu, 29 Oct 2015 00:28:30 GMT                                         0   \n",
              "17  Thu, 29 Oct 2015 00:28:30 GMT  application/octet-stream               0   \n",
              "18  Thu, 29 Oct 2015 00:28:30 GMT  application/octet-stream           22166   \n",
              "19  Thu, 29 Oct 2015 00:46:05 GMT                                         0   \n",
              "20  Thu, 29 Oct 2015 00:46:05 GMT  application/octet-stream               0   \n",
              "21  Thu, 29 Oct 2015 00:46:04 GMT  application/octet-stream           22166   \n",
              "\n",
              "    blob_type  \n",
              "0   BlockBlob  \n",
              "1   BlockBlob  \n",
              "2   BlockBlob  \n",
              "3   BlockBlob  \n",
              "4   BlockBlob  \n",
              "5   BlockBlob  \n",
              "6   BlockBlob  \n",
              "7   BlockBlob  \n",
              "8   BlockBlob  \n",
              "9   BlockBlob  \n",
              "10  BlockBlob  \n",
              "11  BlockBlob  \n",
              "12  BlockBlob  \n",
              "13  BlockBlob  \n",
              "14  BlockBlob  \n",
              "15  BlockBlob  \n",
              "16  BlockBlob  \n",
              "17  BlockBlob  \n",
              "18  BlockBlob  \n",
              "19  BlockBlob  \n",
              "20  BlockBlob  \n",
              "21  BlockBlob  "
            ]
          },
          "execution_count": 20,
          "metadata": {},
          "output_type": "execute_result"
        }
      ],
      "source": [
        "df=%blob_ls /$PSEUDO/testensae\n",
        "df"
      ]
    },
    {
      "cell_type": "code",
      "execution_count": 20,
      "metadata": {},
      "outputs": [
        {
          "data": {
            "text/plain": [
              "{'xavierdupre/testensae',\n",
              " 'xavierdupre/testensae/ConfLongDemo_JSI.small.group.2015.txt',\n",
              " 'xavierdupre/testensae/ConfLongDemo_JSI.small.group.2015.txt/_SUCCESS',\n",
              " 'xavierdupre/testensae/ConfLongDemo_JSI.small.group.2015.txt/part-r-00000',\n",
              " 'xavierdupre/testensae/ConfLongDemo_JSI.small.group.join.2015.txt',\n",
              " 'xavierdupre/testensae/ConfLongDemo_JSI.small.group.join.2015.txt/_SUCCESS',\n",
              " 'xavierdupre/testensae/ConfLongDemo_JSI.small.group.join.2015.txt/part-r-00000',\n",
              " 'xavierdupre/testensae/ConfLongDemo_JSI.small.group.join.txt',\n",
              " 'xavierdupre/testensae/ConfLongDemo_JSI.small.group.join.txt/_SUCCESS',\n",
              " 'xavierdupre/testensae/ConfLongDemo_JSI.small.group.join.txt/part-r-00000',\n",
              " 'xavierdupre/testensae/ConfLongDemo_JSI.small.group.txt',\n",
              " 'xavierdupre/testensae/ConfLongDemo_JSI.small.group.txt/_SUCCESS',\n",
              " 'xavierdupre/testensae/ConfLongDemo_JSI.small.group.txt/part-r-00000',\n",
              " 'xavierdupre/testensae/ConfLongDemo_JSI.small.keep_walking.txt',\n",
              " 'xavierdupre/testensae/ConfLongDemo_JSI.small.keep_walking.txt/_SUCCESS',\n",
              " 'xavierdupre/testensae/ConfLongDemo_JSI.small.keep_walking.txt/part-m-00000',\n",
              " 'xavierdupre/testensae/ConfLongDemo_JSI.small.walking2015.txt',\n",
              " 'xavierdupre/testensae/ConfLongDemo_JSI.small.walking2015.txt/_SUCCESS',\n",
              " 'xavierdupre/testensae/ConfLongDemo_JSI.small.walking2015.txt/part-m-00000',\n",
              " 'xavierdupre/testensae/ConfLongDemo_JSI.small.walking_2015.txt',\n",
              " 'xavierdupre/testensae/ConfLongDemo_JSI.small.walking_2015.txt/_SUCCESS',\n",
              " 'xavierdupre/testensae/ConfLongDemo_JSI.small.walking_2015.txt/part-m-00000'}"
            ]
          },
          "execution_count": 21,
          "metadata": {},
          "output_type": "execute_result"
        }
      ],
      "source": [
        "set(df.name)"
      ]
    },
    {
      "cell_type": "code",
      "execution_count": 21,
      "metadata": {},
      "outputs": [
        {
          "data": {
            "text/plain": [
              "'results.join.2015.txt'"
            ]
          },
          "execution_count": 22,
          "metadata": {},
          "output_type": "execute_result"
        }
      ],
      "source": [
        "if os.path.exists(\"results.join.2015.txt\") : os.remove(\"results.join.2015.txt\")\n",
        "%blob_downmerge /$PSEUDO/testensae/ConfLongDemo_JSI.small.group.join.2015.txt results.join.2015.txt"
      ]
    },
    {
      "cell_type": "code",
      "execution_count": 22,
      "metadata": {},
      "outputs": [
        {
          "data": {
            "text/html": [
              "<pre>\n",
              "999\tA01\t010-000-024-033\t633790226379871138\t27.05.2009 14:03:57:987\t3.198556661605835\t1.1257659196853638\t0.3567752242088318\tlying\tlying\t267\n",
              "998\tA01\t020-000-032-221\t633790226379600847\t27.05.2009 14:03:57:960\t4.3730292320251465\t1.3821170330047607\t0.38861045241355896\tlying\tlying\t267\n",
              "997\tA01\t020-000-033-111\t633790226379330550\t27.05.2009 14:03:57:933\t4.7574005126953125\t1.285519003868103\t-0.08946932852268219\tlying\tlying\t267\n",
              "996\tA01\t010-000-030-096\t633790226379060251\t27.05.2009 14:03:57:907\t3.182415008544922\t1.1020996570587158\t0.29104289412498474\tlying\tlying\t267\n",
              "995\tA01\t010-000-024-033\t633790226378789954\t27.05.2009 14:03:57:880\t3.0784008502960205\t1.0197675228118896\t0.6061218976974487\tlying\tlying\t267\n",
              "994\tA01\t020-000-032-221\t633790226378519655\t27.05.2009 14:03:57:853\t4.36382532119751\t1.4307395219802856\t0.3206148743629456\tlying\tlying\t267\n",
              "993\tA01\t010-000-024-033\t633790226377708776\t27.05.2009 14:03:57:770\t3.0621800422668457\t1.0790562629699707\t0.6795752048492432\tlying\tlying\t267\n",
              "992\tA01\t020-000-032-221\t633790226377438480\t27.05.2009 14:03:57:743\t4.371500492095946\t1.4781558513641355\t0.5384233593940735\tlying\tlying\t267\n",
              "991\tA01\t020-000-033-111\t633790226377168187\t27.05.2009 14:03:57:717\t4.918898105621338\t1.1530661582946775\t0.19635945558547974\tlying\tlying\t267\n",
              "990\tA01\t010-000-030-096\t633790226376897895\t27.05.2009 14:03:57:690\t3.208510637283325\t1.1156394481658936\t0.3381773829460144\tlying\tlying\t267\n",
              "\n",
              "</pre>"
            ],
            "text/plain": [
              "<IPython.core.display.HTML object>"
            ]
          },
          "execution_count": 23,
          "metadata": {},
          "output_type": "execute_result"
        }
      ],
      "source": [
        "%head results.join.2015.txt"
      ]
    },
    {
      "cell_type": "markdown",
      "metadata": {},
      "source": [
        "<h3 id=\"prol\">Prolongements</h3>\n",
        "\n",
        "[PIG](http://pig.apache.org/) n'est pas la seule fa\u00e7on d'ex\u00e9cuter des jobs Map/Reduce. [Hive](https://hive.apache.org/) est un langage dont la syntaxe est tr\u00e8s proche de celle du SQL. L'article [Comparing Pig Latin and SQL for Constructing Data Processing Pipelines](https://developer.yahoo.com/blogs/hadoop/comparing-pig-latin-sql-constructing-data-processing-pipelines-444.html) explicite les diff\u00e9rences des deux approches.\n",
        "\n",
        "**langage haut niveau**\n",
        "\n",
        "Ce qu'il faut retenir est que le langage PIG est un langage haut niveau. Le programme est compil\u00e9 en une s\u00e9quence d'op\u00e9rations Map/Reduce transparente pour l'utilisateur. Le temps de d\u00e9veloppement est tr\u00e8s r\u00e9duit lorsqu'on le compare au m\u00eame programme \u00e9crit en Java. Le compilateur construit un plan d'ex\u00e9cution ([quelques exemples ici](http://chimera.labs.oreilly.com/books/1234000001811/ch07.html#explain)) et inf\u00e8re le nombre de machines requises pour distribuer le job. Cela suffit pour la plupart des besoins, cela n\u00e9cessite.\n",
        "\n",
        "**petits jeux**\n",
        "\n",
        "Certains jobs peuvent durer des heures, il est conseill\u00e9e de les essayer sur des petits jeux de donn\u00e9es avant de les faire tourner sur les vrais donn\u00e9es. Il est toujours frustrant de s'apercevoir qu'un job a plant\u00e9 au bout de deux heures car une cha\u00eene de caract\u00e8res est vide et que ce cas n'a pas \u00e9t\u00e9 pr\u00e9vu.\n",
        "\n",
        "Avec ces petits jeux, il est possible de faire tourner et conseill\u00e9 de tester le job d'abord sur la passerelle ([ex\u00e9cution local](http://archive.cloudera.com/cdh/3/pig/tutorial.html#Running+the+Pig+Scripts+in+Local+Mode)) avant de le lancer sur le cluster. Avec pyensae, il faut ajouter l'option ``-local`` \u00e0 la commande [hd_pig_submit](http://www.xavierdupre.fr/app/pyensae/helpsphinx/pyensae/remote/magic_azure.html?highlight=hd_pig_submit#pyensae.remote.magic_azure.MagicAzure.hd_pig_submit).\n",
        "\n",
        "**concat\u00e9ner les fichiers divis\u00e9s**\n",
        "\n",
        "Un programme PIG ne produit pas un fichier mais plusieurs fichiers dans un r\u00e9pertoire. La commande [getmerge](http://hadoop.apache.org/docs/r2.3.0/hadoop-project-dist/hadoop-common/FileSystemShell.html) t\u00e9l\u00e9charge ces fichiers sur la passerelle et les fusionne en un seul.\n",
        "\n",
        "**ordre des lignes**\n",
        "\n",
        "Les jobs sont distribu\u00e9s, m\u00eame en faisant rien (LOAD + STORE), il n'est pas garanti que l'ordre des lignes soit pr\u00e9serv\u00e9. La probabili\u00e9 que ce soit le cas est quasi nulle."
      ]
    },
    {
      "cell_type": "code",
      "execution_count": 23,
      "metadata": {},
      "outputs": [],
      "source": []
    }
  ],
  "metadata": {
    "kernelspec": {
      "display_name": "Python 3",
      "language": "python",
      "name": "python3"
    },
    "language_info": {
      "codemirror_mode": {
        "name": "ipython",
        "version": 3
      },
      "file_extension": ".py",
      "mimetype": "text/x-python",
      "name": "python",
      "nbconvert_exporter": "python",
      "pygments_lexer": "ipython3",
      "version": "3.6.4"
    }
  },
  "nbformat": 4,
  "nbformat_minor": 1
}