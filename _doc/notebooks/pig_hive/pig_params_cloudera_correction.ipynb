{
  "cells": [
    {
      "cell_type": "markdown",
      "metadata": {},
      "source": [
        "# PIG et Param\u00e8tres (Cloudera) (correction)\n",
        "\n",
        "Correction."
      ]
    },
    {
      "cell_type": "code",
      "execution_count": 1,
      "metadata": {},
      "outputs": [
        {
          "data": {
            "text/html": [
              "<b>Plan</b>\n",
              "<div id=\"my_menu_id\">run previous cell, wait for 2 seconds</div>\n",
              "<script>\n",
              "function repeat_indent_string(n){\n",
              "    var a = \"\" ;\n",
              "    for ( ; n > 0 ; --n) {\n",
              "        a += \"    \";\n",
              "    }\n",
              "    return a;\n",
              "}\n",
              "var update_menu_string = function(begin, lfirst, llast, sformat, send) {\n",
              "    var anchors = document.getElementsByClassName(\"section\");\n",
              "    if (anchors.length == 0) {\n",
              "        anchors = document.getElementsByClassName(\"text_cell_render rendered_html\");\n",
              "    }\n",
              "    var i,t;\n",
              "    var text_menu = begin;\n",
              "    var text_memo = \"<pre>\\nlength:\" + anchors.length + \"\\n\";\n",
              "    var ind = \"\";\n",
              "    var memo_level = 1;\n",
              "    var href;\n",
              "    var tags = [];\n",
              "    for (i = 0; i <= llast; i++) {\n",
              "        tags.push(\"h\" + i);\n",
              "    }\n",
              "\n",
              "    for (i = 0; i < anchors.length; i++) {\n",
              "        text_memo += \"**\" + anchors[i].id + \"--\\n\";\n",
              "\n",
              "        var child = null;\n",
              "        for(t = 0; t < tags.length; t++) {\n",
              "            var r = anchors[i].getElementsByTagName(tags[t]);\n",
              "            if (r.length > 0) {\n",
              "child = r[0];\n",
              "break;\n",
              "            }\n",
              "        }\n",
              "        if (child == null){\n",
              "            text_memo += \"null\\n\";\n",
              "            continue;\n",
              "        }\n",
              "\n",
              "        if (anchors[i].hasAttribute(\"id\")) {\n",
              "            // when converted in RST\n",
              "            href = anchors[i].id;\n",
              "            text_memo += \"#1-\" + href;\n",
              "            // passer \u00e0 child suivant (le chercher)\n",
              "        }\n",
              "        else if (child.hasAttribute(\"id\")) {\n",
              "            // in a notebook\n",
              "            href = child.id;\n",
              "            text_memo += \"#2-\" + href;\n",
              "        }\n",
              "        else {\n",
              "            text_memo += \"#3-\" + \"*\" + \"\\n\";\n",
              "            continue;\n",
              "        }\n",
              "        var title = child.textContent;\n",
              "        var level = parseInt(child.tagName.substring(1,2));\n",
              "\n",
              "        text_memo += \"--\" + level + \"?\" + lfirst + \"--\" + title + \"\\n\";\n",
              "\n",
              "        if ((level < lfirst) || (level > llast)) {\n",
              "            continue ;\n",
              "        }\n",
              "        if (title.endsWith('\u00b6')) {\n",
              "            title = title.substring(0,title.length-1).replace(\"<\", \"&lt;\").replace(\">\", \"&gt;\").replace(\"&\", \"&amp;\")\n",
              "        }\n",
              "\n",
              "        if (title.length == 0) {\n",
              "            continue;\n",
              "        }\n",
              "        while (level > memo_level) {\n",
              "            text_menu += \"<ul>\\n\";\n",
              "            memo_level += 1;\n",
              "        }\n",
              "        while (level < memo_level) {\n",
              "            text_menu += \"</ul>\\n\";\n",
              "            memo_level -= 1;\n",
              "        }\n",
              "        text_menu += repeat_indent_string(level-2) + sformat.replace(\"__HREF__\", href).replace(\"__TITLE__\", title);\n",
              "    }\n",
              "    while (1 < memo_level) {\n",
              "        text_menu += \"</ul>\\n\";\n",
              "        memo_level -= 1;\n",
              "    }\n",
              "    text_menu += send;\n",
              "    //text_menu += \"\\n\" + text_memo;\n",
              "    return text_menu;\n",
              "};\n",
              "var update_menu = function() {\n",
              "    var sbegin = \"\";\n",
              "    var sformat = '<li><a href=\"#__HREF__\">__TITLE__</a></li>';\n",
              "    var send = \"\";\n",
              "    var text_menu = update_menu_string(sbegin, 2, 4, sformat, send);\n",
              "    var menu = document.getElementById(\"my_menu_id\");\n",
              "    menu.innerHTML=text_menu;\n",
              "};\n",
              "window.setTimeout(update_menu,2000);\n",
              "            </script>"
            ],
            "text/plain": [
              "<IPython.core.display.HTML object>"
            ]
          },
          "execution_count": 2,
          "metadata": {},
          "output_type": "execute_result"
        }
      ],
      "source": [
        "from jyquickhelper import add_notebook_menu\n",
        "add_notebook_menu()"
      ]
    },
    {
      "cell_type": "markdown",
      "metadata": {},
      "source": [
        "## Connexion au cluster\n",
        "\n",
        "On prend le cluster [Cloudera](http://www.xavierdupre.fr/app/ensae_teaching_cs/helpsphinx3/notebooks/td3a_cenonce_session6.html#p2). Il faut ex\u00e9cuter ce script pour pouvoir notifier au notebook que la variable ``params`` existe."
      ]
    },
    {
      "cell_type": "code",
      "execution_count": 2,
      "metadata": {},
      "outputs": [
        {
          "data": {
            "text/html": [
              "<div style=\"background-color:gainsboro; padding:2px; border:0px;\"><b>server + credentials</b>\n",
              "<br />password <input type=\"password\" id=\"paramspassword\" value=\"\" size=\"80\" />\n",
              "<br />server <input type=\"text\" id=\"paramsserver\" value=\"df...fr\" size=\"80\" />\n",
              "<br />username <input type=\"text\" id=\"paramsusername\" value=\"\" size=\"80\" />\n",
              "<br /><button onclick=\"set_valueparams()\">Ok</button></div>\n",
              "<script type=\"text/Javascript\">\n",
              "function paramscallback(msg) {\n",
              "   var ret = msg.content.data['text/plain'];\n",
              "   $('#outparams').text(ret);\n",
              "}\n",
              "function set_valueparams(){\n",
              "   command='params = {' ;\n",
              "   var paramspasswordvar_value = document.getElementById('paramspassword').value;\n",
              "   command += '\"password\":\"' + paramspasswordvar_value + '\",';\n",
              "   var paramsservervar_value = document.getElementById('paramsserver').value;\n",
              "   command += '\"server\":\"' + paramsservervar_value + '\",';\n",
              "   var paramsusernamevar_value = document.getElementById('paramsusername').value;\n",
              "   command += '\"username\":\"' + paramsusernamevar_value + '\",';\n",
              "   command += '}';\n",
              "   var kernel = IPython.notebook.kernel;\n",
              "   kernel.execute(command);\n",
              "}\n",
              "</script>"
            ],
            "text/plain": [
              "<IPython.core.display.HTML at 0x70af190>"
            ]
          },
          "execution_count": 3,
          "metadata": {},
          "output_type": "execute_result"
        }
      ],
      "source": [
        "import pyensae\n",
        "from pyquickhelper.ipythonhelper import open_html_form\n",
        "params={\"server\":\"df...fr\", \"username\":\"\", \"password\":\"\"}\n",
        "open_html_form(params=params,title=\"server + credentials\", key_save=\"params\")"
      ]
    },
    {
      "cell_type": "code",
      "execution_count": 3,
      "metadata": {},
      "outputs": [
        {
          "data": {
            "text/plain": [
              "<pyensae.remote.ssh_remote_connection.ASSHClient at 0x9e20910>"
            ]
          },
          "execution_count": 4,
          "metadata": {},
          "output_type": "execute_result"
        }
      ],
      "source": [
        "import pyensae\n",
        "%load_ext pyensae\n",
        "%load_ext pyenbc\n",
        "password = params[\"password\"]\n",
        "server = params[\"server\"]\n",
        "username = params[\"username\"]\n",
        "client = %remote_open\n",
        "client"
      ]
    },
    {
      "cell_type": "markdown",
      "metadata": {},
      "source": [
        "## Exercice 1 : min, max\n",
        "\n",
        "On ajoute deux param\u00e8tres pour construire l'histogramme entre deux valeurs ``a``,``b``. Ajouter ces deux param\u00e8tres au nom du fichier de sortie peut para\u00eetre raisonnable mais l'interpr\u00e9teur a du mal \u00e0 identifier les param\u00e8tres ``Undefined parameter : bins_``. On utilise des tirets."
      ]
    },
    {
      "cell_type": "code",
      "execution_count": 4,
      "metadata": {},
      "outputs": [],
      "source": [
        "%%PIG histogramab.pig\n",
        "\n",
        "values = LOAD 'random/random.sample.txt' USING PigStorage('\\t') AS (x:double);\n",
        "\n",
        "values_f = FILTER values BY x >= $a AND x <= $b ;   -- ligne ajout\u00e9e\n",
        "\n",
        "values_h = FOREACH values_f GENERATE x, ((int)(x / $bins)) * $bins AS h ;\n",
        "\n",
        "hist_group = GROUP values_h BY h ;\n",
        "\n",
        "hist = FOREACH hist_group GENERATE group, COUNT(values_h) AS nb ;\n",
        "\n",
        "STORE hist INTO 'random/histo_$bins-$a-$b.txt' USING PigStorage('\\t') ;"
      ]
    },
    {
      "cell_type": "code",
      "execution_count": 5,
      "metadata": {},
      "outputs": [],
      "source": [
        "if client.dfs_exists(\"random/histo_0.1-0.2-0.8.txt\"):\n",
        "    client.dfs_rm(\"random/histo_0.1-0.2-0.8.txt\", recursive=True)"
      ]
    },
    {
      "cell_type": "code",
      "execution_count": 6,
      "metadata": {},
      "outputs": [
        {
          "data": {
            "text/plain": [
              "('', '')"
            ]
          },
          "execution_count": 7,
          "metadata": {},
          "output_type": "execute_result"
        }
      ],
      "source": [
        "client.pig_submit(\"histogramab.pig\", redirection=\"redirection\", \n",
        "                  params =dict(bins=\"0.1\", a=\"0.2\", b=\"0.8\") )"
      ]
    },
    {
      "cell_type": "code",
      "execution_count": 7,
      "metadata": {},
      "outputs": [
        {
          "data": {
            "text/html": [
              "<pre>\n",
              "Spillable Memory Manager spill count : 0\n",
              "Total bags proactively spilled: 0\n",
              "Total records proactively spilled: 0\n",
              "\n",
              "Job DAG:\n",
              "job_1414491244634_0189\n",
              "\n",
              "\n",
              "2014-12-03 22:55:47,929 [main] INFO  org.apache.hadoop.mapred.ClientServiceDelegate - Application state is completed. FinalApplicationStatus=SUCCEEDED. Redirecting to job history server\n",
              "2014-12-03 22:55:48,031 [main] INFO  org.apache.pig.backend.hadoop.executionengine.mapReduceLayer.MapReduceLauncher - Success!\n",
              "\n",
              "</pre>"
            ],
            "text/plain": [
              "<IPython.core.display.HTML at 0xa076c10>"
            ]
          },
          "execution_count": 8,
          "metadata": {},
          "output_type": "execute_result"
        }
      ],
      "source": [
        "%remote_cmd tail redirection.err"
      ]
    },
    {
      "cell_type": "code",
      "execution_count": 8,
      "metadata": {},
      "outputs": [
        {
          "data": {
            "text/html": [
              "<div style=\"max-height:1000px;max-width:1500px;overflow:auto;\">\n",
              "<table border=\"1\" class=\"dataframe\">\n",
              "  <thead>\n",
              "    <tr style=\"text-align: right;\">\n",
              "      <th></th>\n",
              "      <th>attributes</th>\n",
              "      <th>code</th>\n",
              "      <th>alias</th>\n",
              "      <th>folder</th>\n",
              "      <th>size</th>\n",
              "      <th>date</th>\n",
              "      <th>time</th>\n",
              "      <th>name</th>\n",
              "      <th>isdir</th>\n",
              "    </tr>\n",
              "  </thead>\n",
              "  <tbody>\n",
              "    <tr>\n",
              "      <th>0</th>\n",
              "      <td> drwxr-xr-x</td>\n",
              "      <td> -</td>\n",
              "      <td> xavierdupre</td>\n",
              "      <td> xavierdupre</td>\n",
              "      <td>      0</td>\n",
              "      <td> 2014-12-03</td>\n",
              "      <td> 22:55</td>\n",
              "      <td> random/histo_0.1-0.2-0.8.txt</td>\n",
              "      <td>  True</td>\n",
              "    </tr>\n",
              "    <tr>\n",
              "      <th>1</th>\n",
              "      <td> drwxr-xr-x</td>\n",
              "      <td> -</td>\n",
              "      <td> xavierdupre</td>\n",
              "      <td> xavierdupre</td>\n",
              "      <td>      0</td>\n",
              "      <td> 2014-11-28</td>\n",
              "      <td> 00:11</td>\n",
              "      <td>         random/histo_0.1.txt</td>\n",
              "      <td>  True</td>\n",
              "    </tr>\n",
              "    <tr>\n",
              "      <th>2</th>\n",
              "      <td> -rw-r--r--</td>\n",
              "      <td> 3</td>\n",
              "      <td> xavierdupre</td>\n",
              "      <td> xavierdupre</td>\n",
              "      <td> 202586</td>\n",
              "      <td> 2014-11-27</td>\n",
              "      <td> 23:38</td>\n",
              "      <td>     random/random.sample.txt</td>\n",
              "      <td> False</td>\n",
              "    </tr>\n",
              "  </tbody>\n",
              "</table>\n",
              "</div>"
            ],
            "text/plain": [
              "   attributes code        alias       folder    size        date   time  \\\n",
              "0  drwxr-xr-x    -  xavierdupre  xavierdupre       0  2014-12-03  22:55   \n",
              "1  drwxr-xr-x    -  xavierdupre  xavierdupre       0  2014-11-28  00:11   \n",
              "2  -rw-r--r--    3  xavierdupre  xavierdupre  202586  2014-11-27  23:38   \n",
              "\n",
              "                           name  isdir  \n",
              "0  random/histo_0.1-0.2-0.8.txt   True  \n",
              "1          random/histo_0.1.txt   True  \n",
              "2      random/random.sample.txt  False  "
            ]
          },
          "execution_count": 9,
          "metadata": {},
          "output_type": "execute_result"
        }
      ],
      "source": [
        "%dfs_ls random"
      ]
    },
    {
      "cell_type": "code",
      "execution_count": 9,
      "metadata": {},
      "outputs": [
        {
          "data": {
            "text/plain": [
              "'random/histo_0.1-0.2-0.8.txt'"
            ]
          },
          "execution_count": 10,
          "metadata": {},
          "output_type": "execute_result"
        }
      ],
      "source": [
        "if os.path.exists(\"histo.txt\") : os.remove(\"histo.txt\")\n",
        "client.download_cluster(\"random/histo_0.1-0.2-0.8.txt\",\"histo.txt\", merge=True)"
      ]
    },
    {
      "cell_type": "code",
      "execution_count": 10,
      "metadata": {},
      "outputs": [
        {
          "data": {
            "text/plain": [
              "<matplotlib.axes._subplots.AxesSubplot at 0xa0c5c70>"
            ]
          },
          "execution_count": 11,
          "metadata": {},
          "output_type": "execute_result"
        },
        {
          "data": {
            "image/png": "[encoded data removed]",
            "text/plain": [
              "<matplotlib.figure.Figure at 0xa11ec70>"
            ]
          },
          "metadata": {},
          "output_type": "display_data"
        }
      ],
      "source": [
        "import matplotlib.pyplot as plt\n",
        "plt.style.use('ggplot')\n",
        "import pandas\n",
        "df = pandas.read_csv(\"histo.txt\", sep=\"\\t\",names=[\"bin\",\"nb\"])\n",
        "df.plot(x=\"bin\",y=\"nb\",kind=\"bar\")"
      ]
    },
    {
      "cell_type": "code",
      "execution_count": 11,
      "metadata": {},
      "outputs": [],
      "source": []
    }
  ],
  "metadata": {
    "kernelspec": {
      "display_name": "Python 3",
      "language": "python",
      "name": "python3"
    },
    "language_info": {
      "codemirror_mode": {
        "name": "ipython",
        "version": 3
      },
      "file_extension": ".py",
      "mimetype": "text/x-python",
      "name": "python",
      "nbconvert_exporter": "python",
      "pygments_lexer": "ipython3",
      "version": "3.6.4"
    }
  },
  "nbformat": 4,
  "nbformat_minor": 1
}