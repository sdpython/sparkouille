{
  "cells": [
    {
      "cell_type": "markdown",
      "metadata": {},
      "source": [
        "# PIG et JSON et streaming avec les donn\u00e9es v\u00e9lib - correction avec cloudera\n",
        "\n",
        "Correction."
      ]
    },
    {
      "cell_type": "code",
      "execution_count": 1,
      "metadata": {},
      "outputs": [
        {
          "data": {
            "text/html": [
              "<b>Plan</b>\n",
              "<div id=\"my_menu_id\">run previous cell, wait for 2 seconds</div>\n",
              "<script>\n",
              "function repeat_indent_string(n){\n",
              "    var a = \"\" ;\n",
              "    for ( ; n > 0 ; --n) {\n",
              "        a += \"    \";\n",
              "    }\n",
              "    return a;\n",
              "}\n",
              "var update_menu_string = function(begin, lfirst, llast, sformat, send) {\n",
              "    var anchors = document.getElementsByClassName(\"section\");\n",
              "    if (anchors.length == 0) {\n",
              "        anchors = document.getElementsByClassName(\"text_cell_render rendered_html\");\n",
              "    }\n",
              "    var i,t;\n",
              "    var text_menu = begin;\n",
              "    var text_memo = \"<pre>\\nlength:\" + anchors.length + \"\\n\";\n",
              "    var ind = \"\";\n",
              "    var memo_level = 1;\n",
              "    var href;\n",
              "    var tags = [];\n",
              "    for (i = 0; i <= llast; i++) {\n",
              "        tags.push(\"h\" + i);\n",
              "    }\n",
              "\n",
              "    for (i = 0; i < anchors.length; i++) {\n",
              "        text_memo += \"**\" + anchors[i].id + \"--\\n\";\n",
              "\n",
              "        var child = null;\n",
              "        for(t = 0; t < tags.length; t++) {\n",
              "            var r = anchors[i].getElementsByTagName(tags[t]);\n",
              "            if (r.length > 0) {\n",
              "child = r[0];\n",
              "break;\n",
              "            }\n",
              "        }\n",
              "        if (child == null){\n",
              "            text_memo += \"null\\n\";\n",
              "            continue;\n",
              "        }\n",
              "\n",
              "        if (anchors[i].hasAttribute(\"id\")) {\n",
              "            // when converted in RST\n",
              "            href = anchors[i].id;\n",
              "            text_memo += \"#1-\" + href;\n",
              "            // passer \u00e0 child suivant (le chercher)\n",
              "        }\n",
              "        else if (child.hasAttribute(\"id\")) {\n",
              "            // in a notebook\n",
              "            href = child.id;\n",
              "            text_memo += \"#2-\" + href;\n",
              "        }\n",
              "        else {\n",
              "            text_memo += \"#3-\" + \"*\" + \"\\n\";\n",
              "            continue;\n",
              "        }\n",
              "        var title = child.textContent;\n",
              "        var level = parseInt(child.tagName.substring(1,2));\n",
              "\n",
              "        text_memo += \"--\" + level + \"?\" + lfirst + \"--\" + title + \"\\n\";\n",
              "\n",
              "        if ((level < lfirst) || (level > llast)) {\n",
              "            continue ;\n",
              "        }\n",
              "        if (title.endsWith('\u00b6')) {\n",
              "            title = title.substring(0,title.length-1).replace(\"<\", \"&lt;\").replace(\">\", \"&gt;\").replace(\"&\", \"&amp;\")\n",
              "        }\n",
              "\n",
              "        if (title.length == 0) {\n",
              "            continue;\n",
              "        }\n",
              "        while (level > memo_level) {\n",
              "            text_menu += \"<ul>\\n\";\n",
              "            memo_level += 1;\n",
              "        }\n",
              "        while (level < memo_level) {\n",
              "            text_menu += \"</ul>\\n\";\n",
              "            memo_level -= 1;\n",
              "        }\n",
              "        text_menu += repeat_indent_string(level-2) + sformat.replace(\"__HREF__\", href).replace(\"__TITLE__\", title);\n",
              "    }\n",
              "    while (1 < memo_level) {\n",
              "        text_menu += \"</ul>\\n\";\n",
              "        memo_level -= 1;\n",
              "    }\n",
              "    text_menu += send;\n",
              "    //text_menu += \"\\n\" + text_memo;\n",
              "    return text_menu;\n",
              "};\n",
              "var update_menu = function() {\n",
              "    var sbegin = \"\";\n",
              "    var sformat = '<li><a href=\"#__HREF__\">__TITLE__</a></li>';\n",
              "    var send = \"\";\n",
              "    var text_menu = update_menu_string(sbegin, 2, 4, sformat, send);\n",
              "    var menu = document.getElementById(\"my_menu_id\");\n",
              "    menu.innerHTML=text_menu;\n",
              "};\n",
              "window.setTimeout(update_menu,2000);\n",
              "            </script>"
            ],
            "text/plain": [
              "<IPython.core.display.HTML object>"
            ]
          },
          "execution_count": 2,
          "metadata": {},
          "output_type": "execute_result"
        }
      ],
      "source": [
        "from jyquickhelper import add_notebook_menu\n",
        "add_notebook_menu()"
      ]
    },
    {
      "cell_type": "markdown",
      "metadata": {},
      "source": [
        "## R\u00e9cup\u00e9ration des donn\u00e9es\n",
        "\n",
        "Le code suivant t\u00e9l\u00e9charge les donn\u00e9es n\u00e9cessaires [data_velib_paris_2014-11-11_22-23.zip](http://www.xavierdupre.fr/enseignement/complements/data_velib_paris_2014-11-11_22-23.zip)."
      ]
    },
    {
      "cell_type": "code",
      "execution_count": 2,
      "metadata": {},
      "outputs": [
        {
          "data": {
            "text/plain": [
              "['velib\\\\paris.2014-11-11_22-00-18.331391.txt',\n",
              " 'velib\\\\paris.2014-11-11_22-01-17.859194.txt']"
            ]
          },
          "execution_count": 3,
          "metadata": {},
          "output_type": "execute_result"
        }
      ],
      "source": [
        "import pyensae.datasource\n",
        "import os, datetime\n",
        "if not os.path.exists(\"velib\"):\n",
        "    os.mkdir(\"velib\")\n",
        "files=pyensae.datasource.download_data(\"data_velib_paris_2014-11-11_22-23.zip\", website=\"xdtd\", whereTo=\"velib\")\n",
        "files[:2]"
      ]
    },
    {
      "cell_type": "markdown",
      "metadata": {},
      "source": [
        "## Connexion au cluster\n"
      ]
    },
    {
      "cell_type": "code",
      "execution_count": 3,
      "metadata": {},
      "outputs": [
        {
          "data": {
            "text/html": [
              "<div style=\"background-color:gainsboro; padding:2px; border:0px;\"><b>server + credentials</b>\n",
              "<br />password <input type=\"password\" id=\"paramspassword\" value=\"\" size=\"80\" />\n",
              "<br />server <input type=\"text\" id=\"paramsserver\" value=\"df...fr\" size=\"80\" />\n",
              "<br />username <input type=\"text\" id=\"paramsusername\" value=\"\" size=\"80\" />\n",
              "<br /><button onclick=\"set_valueparams()\">Ok</button></div>\n",
              "<script type=\"text/Javascript\">\n",
              "function paramscallback(msg) {\n",
              "   var ret = msg.content.data['text/plain'];\n",
              "   $('#outparams').text(ret);\n",
              "}\n",
              "function set_valueparams(){\n",
              "   command='params = {' ;\n",
              "   var paramspasswordvar_value = document.getElementById('paramspassword').value;\n",
              "   command += '\"password\":\"' + paramspasswordvar_value + '\",';\n",
              "   var paramsservervar_value = document.getElementById('paramsserver').value;\n",
              "   command += '\"server\":\"' + paramsservervar_value + '\",';\n",
              "   var paramsusernamevar_value = document.getElementById('paramsusername').value;\n",
              "   command += '\"username\":\"' + paramsusernamevar_value + '\",';\n",
              "   command += '}';\n",
              "   var kernel = IPython.notebook.kernel;\n",
              "   kernel.execute(command);\n",
              "}\n",
              "</script>"
            ],
            "text/plain": [
              "<IPython.core.display.HTML at 0x5752a90>"
            ]
          },
          "execution_count": 4,
          "metadata": {},
          "output_type": "execute_result"
        }
      ],
      "source": [
        "import pyensae\n",
        "%load_ext pyensae\n",
        "%load_ext pyenbc\n",
        "from pyquickhelper.ipythonhelper import open_html_form\n",
        "params={\"server\":\"df...fr\", \"username\":\"\", \"password\":\"\"}\n",
        "open_html_form(params=params,title=\"server + credentials\", key_save=\"params\")"
      ]
    },
    {
      "cell_type": "code",
      "execution_count": 4,
      "metadata": {},
      "outputs": [
        {
          "data": {
            "text/plain": [
              "<pyensae.remote.remote_connection.ASSHClient at 0x5b43bb0>"
            ]
          },
          "execution_count": 5,
          "metadata": {},
          "output_type": "execute_result"
        }
      ],
      "source": [
        "import pyensae\n",
        "%load_ext pyensae\n",
        "password = params[\"password\"]\n",
        "server = params[\"server\"]\n",
        "username = params[\"username\"]\n",
        "client = %remote_open\n",
        "client"
      ]
    },
    {
      "cell_type": "markdown",
      "metadata": {},
      "source": [
        "## Exercice 1 : convertir les valeurs num\u00e9riques\n",
        "\n",
        "Le programme suivant prend comme argument les colonnes \u00e0 extraire des fichiers textes qui sont enregistr\u00e9s au format \"python\"."
      ]
    },
    {
      "cell_type": "code",
      "execution_count": 5,
      "metadata": {},
      "outputs": [],
      "source": [
        "%%PYTHON stream_json.py\n",
        "\n",
        "import sys, datetime\n",
        "cols = [ _ for _ in sys.argv if \".py\" not in _ ]\n",
        "for row in sys.stdin:\n",
        "    row = row.strip()\n",
        "    if len(row) == 0 :\n",
        "        continue\n",
        "    js = eval(row)\n",
        "    for station in js:\n",
        "        vals = [ str(station[c]) for c in cols ]\n",
        "        sys.stdout.write(\",\".join(vals))\n",
        "        sys.stdout.write(\"\\n\")\n",
        "        sys.stdout.flush()"
      ]
    },
    {
      "cell_type": "markdown",
      "metadata": {},
      "source": [
        "On v\u00e9rifie qu'il fonctionne en lui faisant ing\u00e9rer les deux lignes suivantes :"
      ]
    },
    {
      "cell_type": "code",
      "execution_count": 6,
      "metadata": {},
      "outputs": [
        {
          "data": {
            "text/html": [
              "<pre>\n",
              "31705 - CHAMPEAUX (BAGNOLET),OPEN\n",
              "31705 - CHAMPEAUX (BAGNOLET),OPEN\n",
              "\n",
              "</pre>"
            ],
            "text/plain": [
              "<IPython.core.display.HTML at 0x96b1330>"
            ]
          },
          "execution_count": 7,
          "metadata": {},
          "output_type": "execute_result"
        }
      ],
      "source": [
        "%%runpy stream_json.py name status\n",
        "[{'address': 'RUE DES CHAMPEAUX (PRES DE LA GARE ROUTIERE) - 93170 BAGNOLET', 'collect_date': datetime.datetime(2014, 11, 11, 22, 2, 18, 47270), 'lng': 2.416170724425901, 'contract_name': 'Paris', 'name': '31705 - CHAMPEAUX (BAGNOLET)', 'banking': 0, 'lat': 48.8645278209514, 'bonus': 0, 'status': 'OPEN', 'available_bikes': 1, 'last_update': datetime.datetime(2014, 11, 11, 21, 55, 22), 'number': 31705, 'available_bike_stands': 49, 'bike_stands': 50}]\n",
        "[{'address': 'RUE DES CHAMPEAUX (PRES DE LA GARE ROUTIERE) - 93170 BAGNOLET', 'collect_date': datetime.datetime(2014, 11, 11, 22, 2, 18, 47270), 'lng': 2.416170724425901, 'contract_name': 'Paris', 'name': '31705 - CHAMPEAUX (BAGNOLET)', 'banking': 0, 'lat': 48.8645278209514, 'bonus': 0, 'status': 'OPEN', 'available_bikes': 1, 'last_update': datetime.datetime(2014, 11, 11, 21, 55, 22), 'number': 31705, 'available_bike_stands': 49, 'bike_stands': 50}]"
      ]
    },
    {
      "cell_type": "markdown",
      "metadata": {},
      "source": [
        "On \u00e9crit le script PIG qui utilise plus de colonnes :"
      ]
    },
    {
      "cell_type": "code",
      "execution_count": 7,
      "metadata": {},
      "outputs": [],
      "source": [
        "%%PIG json_velib.pig\n",
        "\n",
        "DEFINE pystream `python stream_json.py available_bike_stands available_bikes lat lng name status` \n",
        "   SHIP ('stream_json.py') INPUT(stdin USING PigStreaming(',')) OUTPUT (stdout USING PigStreaming(',')) ;\n",
        "\n",
        "jspy = LOAD 'velib_py/*.txt' USING PigStorage('\\t') AS (arow:chararray);\n",
        "\n",
        "matrice = STREAM jspy THROUGH pystream AS \n",
        "                (   available_bike_stands:int, \n",
        "                    available_bikes:int, \n",
        "                    lat:double, \n",
        "                    lng:double, \n",
        "                    name:chararray, \n",
        "                    status:chararray) ;\n",
        "\n",
        "STORE matrice INTO 'velib_py_results/firstjob' USING PigStorage('\\t') ;"
      ]
    },
    {
      "cell_type": "markdown",
      "metadata": {},
      "source": [
        "On supprime la pr\u00e9c\u00e9dente ex\u00e9cution si besoin puis on v\u00e9rifie que le r\u00e9pertoire contenant les r\u00e9sultats est vide :"
      ]
    },
    {
      "cell_type": "code",
      "execution_count": 8,
      "metadata": {},
      "outputs": [
        {
          "data": {
            "text/plain": [
              "(\"Moved: 'hdfs://nameservice1/user/xavierdupre/velib_py_results/firstjob' to trash at: hdfs://nameservice1/user/xavierdupre/.Trash/Current\\n\",\n",
              " '14/11/23 20:35:18 INFO fs.TrashPolicyDefault: Namenode trash configuration: Deletion interval = 1440 minutes, Emptier interval = 0 minutes.\\n')"
            ]
          },
          "execution_count": 9,
          "metadata": {},
          "output_type": "execute_result"
        }
      ],
      "source": [
        "if client.dfs_exists(\"velib_py_results/firstjob\"):\n",
        "    client.dfs_rm(\"velib_py_results/firstjob\", recursive=True)\n",
        "%dfs_mkdir velib_py_results"
      ]
    },
    {
      "cell_type": "code",
      "execution_count": 9,
      "metadata": {},
      "outputs": [
        {
          "data": {
            "text/html": [
              "<div style=\"max-height:1000px;max-width:1500px;overflow:auto;\">\n",
              "<table border=\"1\" class=\"dataframe\">\n",
              "  <thead>\n",
              "    <tr style=\"text-align: right;\">\n",
              "      <th></th>\n",
              "      <th>attributes</th>\n",
              "      <th>code</th>\n",
              "      <th>alias</th>\n",
              "      <th>folder</th>\n",
              "      <th>size</th>\n",
              "      <th>date</th>\n",
              "      <th>time</th>\n",
              "      <th>name</th>\n",
              "    </tr>\n",
              "  </thead>\n",
              "  <tbody>\n",
              "  </tbody>\n",
              "</table>\n",
              "</div>"
            ],
            "text/plain": [
              "Empty DataFrame\n",
              "Columns: [attributes, code, alias, folder, size, date, time, name]\n",
              "Index: []"
            ]
          },
          "execution_count": 10,
          "metadata": {},
          "output_type": "execute_result"
        }
      ],
      "source": [
        "%dfs_ls velib_py_results/"
      ]
    },
    {
      "cell_type": "code",
      "execution_count": 10,
      "metadata": {},
      "outputs": [
        {
          "data": {
            "text/html": [
              "<pre>\n",
              "\n",
              "</pre>"
            ],
            "text/plain": [
              "<IPython.core.display.HTML at 0x888ddb0>"
            ]
          },
          "execution_count": 11,
          "metadata": {},
          "output_type": "execute_result"
        }
      ],
      "source": [
        "%pig_submit json_velib.pig stream_json.py -r redirection"
      ]
    },
    {
      "cell_type": "code",
      "execution_count": 11,
      "metadata": {},
      "outputs": [
        {
          "data": {
            "text/html": [
              "<pre>\n",
              "Total bytes written : 4611956\n",
              "Spillable Memory Manager spill count : 0\n",
              "Total bags proactively spilled: 0\n",
              "Total records proactively spilled: 0\n",
              "\n",
              "Job DAG:\n",
              "job_1414491244634_0119\n",
              "\n",
              "\n",
              "2014-11-23 20:36:50,180 [main] INFO  org.apache.pig.backend.hadoop.executionengine.mapReduceLayer.MapReduceLauncher - Success!\n",
              "\n",
              "</pre>"
            ],
            "text/plain": [
              "<IPython.core.display.HTML at 0x888de50>"
            ]
          },
          "execution_count": 12,
          "metadata": {},
          "output_type": "execute_result"
        }
      ],
      "source": [
        "%remote_cmd tail redirection.pig.err"
      ]
    },
    {
      "cell_type": "markdown",
      "metadata": {},
      "source": [
        "On r\u00e9cup\u00e8re les informations qu'on affiche sous forme de dataframe :"
      ]
    },
    {
      "cell_type": "code",
      "execution_count": 12,
      "metadata": {},
      "outputs": [
        {
          "data": {
            "text/plain": [
              "'velib_py_results/firstjob'"
            ]
          },
          "execution_count": 13,
          "metadata": {},
          "output_type": "execute_result"
        }
      ],
      "source": [
        "if os.path.exists(\"velib_exo1.txt\") : os.remove(\"velib_exo1.txt\")\n",
        "client.download_cluster(\"velib_py_results/firstjob\",\"velib_exo1.txt\", merge=True)"
      ]
    },
    {
      "cell_type": "code",
      "execution_count": 13,
      "metadata": {},
      "outputs": [
        {
          "data": {
            "text/html": [
              "<div style=\"max-height:1000px;max-width:1500px;overflow:auto;\">\n",
              "<table border=\"1\" class=\"dataframe\">\n",
              "  <thead>\n",
              "    <tr style=\"text-align: right;\">\n",
              "      <th></th>\n",
              "      <th>available_bike_stands</th>\n",
              "      <th>available_bikes</th>\n",
              "      <th>lat</th>\n",
              "      <th>lng</th>\n",
              "      <th>name</th>\n",
              "      <th>status</th>\n",
              "    </tr>\n",
              "  </thead>\n",
              "  <tbody>\n",
              "    <tr>\n",
              "      <th>0</th>\n",
              "      <td> 47</td>\n",
              "      <td>  3</td>\n",
              "      <td> 48.864528</td>\n",
              "      <td> 2.416171</td>\n",
              "      <td>   31705 - CHAMPEAUX (BAGNOLET)</td>\n",
              "      <td> OPEN</td>\n",
              "    </tr>\n",
              "    <tr>\n",
              "      <th>1</th>\n",
              "      <td>  5</td>\n",
              "      <td> 28</td>\n",
              "      <td> 48.872420</td>\n",
              "      <td> 2.348395</td>\n",
              "      <td> 10042 - POISSONNI\u00c8RE - ENGHIEN</td>\n",
              "      <td> OPEN</td>\n",
              "    </tr>\n",
              "    <tr>\n",
              "      <th>2</th>\n",
              "      <td> 42</td>\n",
              "      <td>  1</td>\n",
              "      <td> 48.882149</td>\n",
              "      <td> 2.319860</td>\n",
              "      <td>             08020 - METRO ROME</td>\n",
              "      <td> OPEN</td>\n",
              "    </tr>\n",
              "    <tr>\n",
              "      <th>3</th>\n",
              "      <td>  5</td>\n",
              "      <td> 31</td>\n",
              "      <td> 48.868217</td>\n",
              "      <td> 2.330494</td>\n",
              "      <td>         01022 - RUE DE LA PAIX</td>\n",
              "      <td> OPEN</td>\n",
              "    </tr>\n",
              "    <tr>\n",
              "      <th>4</th>\n",
              "      <td> 20</td>\n",
              "      <td>  5</td>\n",
              "      <td> 48.893269</td>\n",
              "      <td> 2.412716</td>\n",
              "      <td>     35014 - DE GAULLE (PANTIN)</td>\n",
              "      <td> OPEN</td>\n",
              "    </tr>\n",
              "  </tbody>\n",
              "</table>\n",
              "</div>"
            ],
            "text/plain": [
              "   available_bike_stands  available_bikes        lat       lng  \\\n",
              "0                     47                3  48.864528  2.416171   \n",
              "1                      5               28  48.872420  2.348395   \n",
              "2                     42                1  48.882149  2.319860   \n",
              "3                      5               31  48.868217  2.330494   \n",
              "4                     20                5  48.893269  2.412716   \n",
              "\n",
              "                             name status  \n",
              "0    31705 - CHAMPEAUX (BAGNOLET)   OPEN  \n",
              "1  10042 - POISSONNI\u00c8RE - ENGHIEN   OPEN  \n",
              "2              08020 - METRO ROME   OPEN  \n",
              "3          01022 - RUE DE LA PAIX   OPEN  \n",
              "4      35014 - DE GAULLE (PANTIN)   OPEN  "
            ]
          },
          "execution_count": 14,
          "metadata": {},
          "output_type": "execute_result"
        }
      ],
      "source": [
        "import pandas\n",
        "df = pandas.read_csv(\"velib_hd.txt\", sep=\"\\t\",names=[\"available_bike_stands\",\"available_bikes\",\"lat\",\"lng\",\"name\",\"status\"])\n",
        "df.head()"
      ]
    },
    {
      "cell_type": "markdown",
      "metadata": {},
      "source": [
        "## Exercice 2 : stations ferm\u00e9es\n",
        "    \n",
        "Les stations ferm\u00e9es ne le sont pas tout le temps. On veut calculer le ratio minutes/stations ferm\u00e9es / total des minutes/stations. Le script python permettant de lire les donn\u00e9es ne change pas, il suffit juste de d\u00e9clarer les sorties num\u00e9riques comme telles. Quelques d\u00e9tails sur les tables :\n",
        "\n",
        "* ``jspy`` : contient les donn\u00e9es brutes dans une liste de fichiers\n",
        "* ``matrice`` : d'apr\u00e8s le job qui pr\u00e9c\u00e8de, la table contient une ligne par stations et par minute, chaque ligne d\u00e9crit le status de la station\n",
        "* ``grstation`` : table ``matrice`` group\u00e9e par status\n",
        "* ``fermees`` : pour chaque groupe, on aggr\u00e9g\u00e9 le nombre de minutes multipli\u00e9s par le nombre de v\u00e9los\n",
        "* ``gr*,dist*`` : distribution du nombre de stations (Y) en fonction du nombre de v\u00e9los ou places disponibles"
      ]
    },
    {
      "cell_type": "markdown",
      "metadata": {},
      "source": [
        "En cas d'ex\u00e9cution pr\u00e9c\u00e9dentes :"
      ]
    },
    {
      "cell_type": "code",
      "execution_count": 14,
      "metadata": {},
      "outputs": [
        {
          "data": {
            "text/plain": [
              "(\"Moved: 'hdfs://nameservice1/user/xavierdupre/velib_py_results/distribution_stands.txt' to trash at: hdfs://nameservice1/user/xavierdupre/.Trash/Current\\n\",\n",
              " '14/11/23 21:33:49 INFO fs.TrashPolicyDefault: Namenode trash configuration: Deletion interval = 1440 minutes, Emptier interval = 0 minutes.\\n')"
            ]
          },
          "execution_count": 15,
          "metadata": {},
          "output_type": "execute_result"
        }
      ],
      "source": [
        "%dfs_rmr velib_py_results/fermees.txt\n",
        "%dfs_rmr velib_py_results/distribution_bikes.txt\n",
        "%dfs_rmr velib_py_results/distribution_stands.txt"
      ]
    },
    {
      "cell_type": "code",
      "execution_count": 15,
      "metadata": {},
      "outputs": [],
      "source": [
        "%%PIG json_fermee.pig\n",
        "\n",
        "DEFINE pystream `python stream_json.py available_bike_stands available_bikes lat lng name status` \n",
        "   SHIP ('stream_json.py') INPUT(stdin USING PigStreaming(',')) OUTPUT (stdout USING PigStreaming(',')) ;\n",
        "\n",
        "jspy = LOAD 'velib_py/*.txt' USING PigStorage('\\t') AS (arow:chararray);\n",
        "\n",
        "matrice = STREAM jspy THROUGH pystream AS \n",
        "                (   available_bike_stands:int, \n",
        "                    available_bikes:int, \n",
        "                    lat:double, \n",
        "                    lng:double, \n",
        "                    name:chararray, \n",
        "                    status:chararray) ;\n",
        "                \n",
        "grstation = GROUP matrice BY status ;  \n",
        "\n",
        "fermees = FOREACH grstation GENERATE\n",
        "                 group\n",
        "                ,SUM(matrice.available_bikes) AS available_bikes\n",
        "                ,SUM(matrice.available_bike_stands) AS available_bike_stands \n",
        "                ;\n",
        "\n",
        "gr_av   = GROUP matrice BY available_bikes ;\n",
        "dist_av = FOREACH gr_av GENERATE group, COUNT(matrice) ;\n",
        "gr_pl   = GROUP matrice BY available_bike_stands ;\n",
        "dist_pl = FOREACH gr_pl GENERATE group, COUNT(matrice) ;\n",
        "\n",
        "STORE fermees INTO 'velib_py_results/fermees.txt' USING PigStorage('\\t') ;\n",
        "STORE dist_av INTO 'velib_py_results/distribution_bikes.txt' USING PigStorage('\\t') ;\n",
        "STORE dist_pl INTO 'velib_py_results/distribution_stands.txt' USING PigStorage('\\t') ;"
      ]
    },
    {
      "cell_type": "code",
      "execution_count": 16,
      "metadata": {},
      "outputs": [
        {
          "data": {
            "text/html": [
              "<pre>\n",
              "\n",
              "</pre>"
            ],
            "text/plain": [
              "<IPython.core.display.HTML at 0x9f62710>"
            ]
          },
          "execution_count": 17,
          "metadata": {},
          "output_type": "execute_result"
        }
      ],
      "source": [
        "%pig_submit json_fermee.pig stream_json.py -r redirection"
      ]
    },
    {
      "cell_type": "code",
      "execution_count": 17,
      "metadata": {},
      "outputs": [
        {
          "data": {
            "text/html": [
              "<pre>\n",
              "Total bytes written : 1009\n",
              "Spillable Memory Manager spill count : 0\n",
              "Total bags proactively spilled: 0\n",
              "Total records proactively spilled: 0\n",
              "\n",
              "Job DAG:\n",
              "job_1414491244634_0124\n",
              "\n",
              "\n",
              "2014-11-23 21:35:28,238 [main] INFO  org.apache.pig.backend.hadoop.executionengine.mapReduceLayer.MapReduceLauncher - Success!\n",
              "\n",
              "</pre>"
            ],
            "text/plain": [
              "<IPython.core.display.HTML at 0x8975df0>"
            ]
          },
          "execution_count": 18,
          "metadata": {},
          "output_type": "execute_result"
        }
      ],
      "source": [
        "%remote_cmd tail redirection.pig.err "
      ]
    },
    {
      "cell_type": "code",
      "execution_count": 18,
      "metadata": {},
      "outputs": [
        {
          "data": {
            "text/html": [
              "<div style=\"max-height:1000px;max-width:1500px;overflow:auto;\">\n",
              "<table border=\"1\" class=\"dataframe\">\n",
              "  <thead>\n",
              "    <tr style=\"text-align: right;\">\n",
              "      <th></th>\n",
              "      <th>attributes</th>\n",
              "      <th>code</th>\n",
              "      <th>alias</th>\n",
              "      <th>folder</th>\n",
              "      <th>size</th>\n",
              "      <th>date</th>\n",
              "      <th>time</th>\n",
              "      <th>name</th>\n",
              "      <th>isdir</th>\n",
              "    </tr>\n",
              "  </thead>\n",
              "  <tbody>\n",
              "    <tr>\n",
              "      <th>0</th>\n",
              "      <td> drwxr-xr-x</td>\n",
              "      <td> -</td>\n",
              "      <td> xavierdupre</td>\n",
              "      <td> xavierdupre</td>\n",
              "      <td> 0</td>\n",
              "      <td> 2014-11-23</td>\n",
              "      <td> 20:54</td>\n",
              "      <td>  velib_py_results/distribution_bikes.txt</td>\n",
              "      <td> True</td>\n",
              "    </tr>\n",
              "    <tr>\n",
              "      <th>1</th>\n",
              "      <td> drwxr-xr-x</td>\n",
              "      <td> -</td>\n",
              "      <td> xavierdupre</td>\n",
              "      <td> xavierdupre</td>\n",
              "      <td> 0</td>\n",
              "      <td> 2014-11-23</td>\n",
              "      <td> 20:54</td>\n",
              "      <td> velib_py_results/distribution_stands.txt</td>\n",
              "      <td> True</td>\n",
              "    </tr>\n",
              "    <tr>\n",
              "      <th>2</th>\n",
              "      <td> drwxr-xr-x</td>\n",
              "      <td> -</td>\n",
              "      <td> xavierdupre</td>\n",
              "      <td> xavierdupre</td>\n",
              "      <td> 0</td>\n",
              "      <td> 2014-11-23</td>\n",
              "      <td> 20:36</td>\n",
              "      <td>                velib_py_results/firstjob</td>\n",
              "      <td> True</td>\n",
              "    </tr>\n",
              "  </tbody>\n",
              "</table>\n",
              "</div>"
            ],
            "text/plain": [
              "   attributes code        alias       folder size        date   time  \\\n",
              "0  drwxr-xr-x    -  xavierdupre  xavierdupre    0  2014-11-23  20:54   \n",
              "1  drwxr-xr-x    -  xavierdupre  xavierdupre    0  2014-11-23  20:54   \n",
              "2  drwxr-xr-x    -  xavierdupre  xavierdupre    0  2014-11-23  20:36   \n",
              "\n",
              "                                       name isdir  \n",
              "0   velib_py_results/distribution_bikes.txt  True  \n",
              "1  velib_py_results/distribution_stands.txt  True  \n",
              "2                 velib_py_results/firstjob  True  "
            ]
          },
          "execution_count": 19,
          "metadata": {},
          "output_type": "execute_result"
        }
      ],
      "source": [
        "%dfs_ls velib_py_results"
      ]
    },
    {
      "cell_type": "code",
      "execution_count": 19,
      "metadata": {},
      "outputs": [
        {
          "data": {
            "text/plain": [
              "'distribution_bikes.txt'"
            ]
          },
          "execution_count": 20,
          "metadata": {},
          "output_type": "execute_result"
        }
      ],
      "source": [
        "if os.path.exists(\"distribution_bikes.txt\") : os.remove(\"distribution_bikes.txt\")\n",
        "%remote_down_cluster_merge velib_py_results/distribution_bikes.txt distribution_bikes.txt"
      ]
    },
    {
      "cell_type": "code",
      "execution_count": 20,
      "metadata": {},
      "outputs": [
        {
          "data": {
            "text/html": [
              "<div style=\"max-height:1000px;max-width:1500px;overflow:auto;\">\n",
              "<table border=\"1\" class=\"dataframe\">\n",
              "  <thead>\n",
              "    <tr style=\"text-align: right;\">\n",
              "      <th></th>\n",
              "      <th>nb_velos</th>\n",
              "      <th>nb_stations_minutes</th>\n",
              "    </tr>\n",
              "  </thead>\n",
              "  <tbody>\n",
              "    <tr>\n",
              "      <th>0</th>\n",
              "      <td> 0</td>\n",
              "      <td> 8445</td>\n",
              "    </tr>\n",
              "    <tr>\n",
              "      <th>1</th>\n",
              "      <td> 1</td>\n",
              "      <td> 6589</td>\n",
              "    </tr>\n",
              "    <tr>\n",
              "      <th>2</th>\n",
              "      <td> 2</td>\n",
              "      <td> 4825</td>\n",
              "    </tr>\n",
              "    <tr>\n",
              "      <th>3</th>\n",
              "      <td> 3</td>\n",
              "      <td> 3793</td>\n",
              "    </tr>\n",
              "    <tr>\n",
              "      <th>4</th>\n",
              "      <td> 4</td>\n",
              "      <td> 2839</td>\n",
              "    </tr>\n",
              "  </tbody>\n",
              "</table>\n",
              "</div>"
            ],
            "text/plain": [
              "   nb_velos  nb_stations_minutes\n",
              "0         0                 8445\n",
              "1         1                 6589\n",
              "2         2                 4825\n",
              "3         3                 3793\n",
              "4         4                 2839"
            ]
          },
          "execution_count": 21,
          "metadata": {},
          "output_type": "execute_result"
        }
      ],
      "source": [
        "import pandas\n",
        "df = pandas.read_csv(\"distribution_bikes.txt\", sep=\"\\t\", names=[\"nb_velos\", \"nb_stations_minutes\"])\n",
        "df.head()"
      ]
    },
    {
      "cell_type": "code",
      "execution_count": 21,
      "metadata": {},
      "outputs": [
        {
          "data": {
            "text/plain": [
              "<matplotlib.axes.AxesSubplot at 0x9f3c4d0>"
            ]
          },
          "execution_count": 22,
          "metadata": {},
          "output_type": "execute_result"
        },
        {
          "data": {
            "image/png": "[encoded data removed]",
            "text/plain": [
              "<matplotlib.figure.Figure at 0x9f7b0b0>"
            ]
          },
          "metadata": {},
          "output_type": "display_data"
        }
      ],
      "source": [
        "df.plot(x=\"nb_velos\",y=\"nb_stations_minutes\",kind=\"bar\",figsize=(16,4))"
      ]
    },
    {
      "cell_type": "code",
      "execution_count": 22,
      "metadata": {},
      "outputs": [
        {
          "data": {
            "text/plain": [
              "'distribution_stands.txt'"
            ]
          },
          "execution_count": 23,
          "metadata": {},
          "output_type": "execute_result"
        }
      ],
      "source": [
        "if os.path.exists(\"distribution_stands.txt\") : os.remove(\"distribution_stands.txt\")\n",
        "%remote_down_cluster_merge velib_py_results/distribution_stands.txt distribution_stands.txt"
      ]
    },
    {
      "cell_type": "code",
      "execution_count": 23,
      "metadata": {},
      "outputs": [
        {
          "data": {
            "text/plain": [
              "<matplotlib.axes.AxesSubplot at 0xa04d390>"
            ]
          },
          "execution_count": 24,
          "metadata": {},
          "output_type": "execute_result"
        },
        {
          "data": {
            "image/png": "[encoded data removed]",
            "text/plain": [
              "<matplotlib.figure.Figure at 0xa094850>"
            ]
          },
          "metadata": {},
          "output_type": "display_data"
        }
      ],
      "source": [
        "df = pandas.read_csv(\"distribution_stands.txt\", sep=\"\\t\", names=[\"nb_places\", \"nb_stations_minutes\"])\n",
        "df.plot(x=\"nb_places\",y=\"nb_stations_minutes\",kind=\"bar\",figsize=(16,4))"
      ]
    },
    {
      "cell_type": "code",
      "execution_count": 24,
      "metadata": {},
      "outputs": [
        {
          "data": {
            "text/plain": [
              "'fermees.txt'"
            ]
          },
          "execution_count": 25,
          "metadata": {},
          "output_type": "execute_result"
        }
      ],
      "source": [
        "if os.path.exists(\"fermees.txt\") : os.remove(\"fermees.txt\")\n",
        "%remote_down_cluster_merge velib_py_results/fermees.txt fermees.txt"
      ]
    },
    {
      "cell_type": "code",
      "execution_count": 25,
      "metadata": {},
      "outputs": [
        {
          "data": {
            "text/html": [
              "<div style=\"max-height:1000px;max-width:1500px;overflow:auto;\">\n",
              "<table border=\"1\" class=\"dataframe\">\n",
              "  <thead>\n",
              "    <tr style=\"text-align: right;\">\n",
              "      <th>status</th>\n",
              "      <th>OPEN</th>\n",
              "      <th>CLOSED</th>\n",
              "      <th>%close</th>\n",
              "    </tr>\n",
              "  </thead>\n",
              "  <tbody>\n",
              "    <tr>\n",
              "      <th>nb_velos_stations_minutes</th>\n",
              "      <td> 1048654</td>\n",
              "      <td> 3060</td>\n",
              "      <td> 0.002910</td>\n",
              "    </tr>\n",
              "    <tr>\n",
              "      <th>nb_places_stations_minutes</th>\n",
              "      <td> 1255146</td>\n",
              "      <td>  120</td>\n",
              "      <td> 0.000096</td>\n",
              "    </tr>\n",
              "  </tbody>\n",
              "</table>\n",
              "</div>"
            ],
            "text/plain": [
              "status                         OPEN  CLOSED    %close\n",
              "nb_velos_stations_minutes   1048654    3060  0.002910\n",
              "nb_places_stations_minutes  1255146     120  0.000096"
            ]
          },
          "execution_count": 26,
          "metadata": {},
          "output_type": "execute_result"
        }
      ],
      "source": [
        "df = pandas.read_csv(\"fermees.txt\", sep=\"\\t\", names=[\"status\", \"nb_velos_stations_minutes\", \"nb_places_stations_minutes\"])\n",
        "df=df.set_index(\"status\")\n",
        "df = df.T\n",
        "df[\"%close\"] = df.CLOSED / (df.CLOSED + df.OPEN)\n",
        "df"
      ]
    },
    {
      "cell_type": "markdown",
      "metadata": {},
      "source": [
        "Ce dernier tableau n'est vrai que dans la mesure o\u00f9 les nombres report\u00e9es sont fiables lorsque les stations sont ferm\u00e9es."
      ]
    },
    {
      "cell_type": "markdown",
      "metadata": {},
      "source": [
        "## Exercice 3 : stations ferm\u00e9es, journ\u00e9e compl\u00e8te\n",
        "    \n",
        "Appliquer cela \u00e0 une journ\u00e9e compl\u00e8te revient \u00e0 lancer le m\u00eame job sur des donn\u00e9es plus grandes. On verra bient\u00f4t commencer \u00e9viter de recopier le job une seconde fois (introduisant une source potentielle d'erreur)."
      ]
    },
    {
      "cell_type": "code",
      "execution_count": 26,
      "metadata": {},
      "outputs": [
        {
          "data": {
            "text/html": [
              "<div style=\"max-height:1000px;max-width:1500px;overflow:auto;\">\n",
              "<table border=\"1\" class=\"dataframe\">\n",
              "  <thead>\n",
              "    <tr style=\"text-align: right;\">\n",
              "      <th></th>\n",
              "      <th>attributes</th>\n",
              "      <th>code</th>\n",
              "      <th>alias</th>\n",
              "      <th>folder</th>\n",
              "      <th>size</th>\n",
              "      <th>date</th>\n",
              "      <th>time</th>\n",
              "      <th>name</th>\n",
              "      <th>isdir</th>\n",
              "    </tr>\n",
              "  </thead>\n",
              "  <tbody>\n",
              "    <tr>\n",
              "      <th>0 </th>\n",
              "      <td> drwx------</td>\n",
              "      <td> -</td>\n",
              "      <td> xavierdupre</td>\n",
              "      <td> xavierdupre</td>\n",
              "      <td>      0</td>\n",
              "      <td> 2014-11-23</td>\n",
              "      <td> 17:55</td>\n",
              "      <td>                          /user/xavierdupre/.Trash</td>\n",
              "      <td>  True</td>\n",
              "    </tr>\n",
              "    <tr>\n",
              "      <th>1 </th>\n",
              "      <td> drwx------</td>\n",
              "      <td> -</td>\n",
              "      <td> xavierdupre</td>\n",
              "      <td> xavierdupre</td>\n",
              "      <td>      0</td>\n",
              "      <td> 2014-11-23</td>\n",
              "      <td> 21:41</td>\n",
              "      <td>                        /user/xavierdupre/.staging</td>\n",
              "      <td>  True</td>\n",
              "    </tr>\n",
              "    <tr>\n",
              "      <th>2 </th>\n",
              "      <td> -rw-r--r--</td>\n",
              "      <td> 3</td>\n",
              "      <td> xavierdupre</td>\n",
              "      <td> xavierdupre</td>\n",
              "      <td> 132727</td>\n",
              "      <td> 2014-11-16</td>\n",
              "      <td> 02:37</td>\n",
              "      <td> /user/xavierdupre/ConfLongDemo_JSI.small.examp...</td>\n",
              "      <td> False</td>\n",
              "    </tr>\n",
              "    <tr>\n",
              "      <th>3 </th>\n",
              "      <td> drwxr-xr-x</td>\n",
              "      <td> -</td>\n",
              "      <td> xavierdupre</td>\n",
              "      <td> xavierdupre</td>\n",
              "      <td>      0</td>\n",
              "      <td> 2014-11-16</td>\n",
              "      <td> 02:38</td>\n",
              "      <td> /user/xavierdupre/ConfLongDemo_JSI.small.examp...</td>\n",
              "      <td>  True</td>\n",
              "    </tr>\n",
              "    <tr>\n",
              "      <th>4 </th>\n",
              "      <td> -rw-r--r--</td>\n",
              "      <td> 3</td>\n",
              "      <td> xavierdupre</td>\n",
              "      <td> xavierdupre</td>\n",
              "      <td> 461444</td>\n",
              "      <td> 2014-11-20</td>\n",
              "      <td> 01:33</td>\n",
              "      <td> /user/xavierdupre/paris.2014-11-11_22-00-18.33...</td>\n",
              "      <td> False</td>\n",
              "    </tr>\n",
              "    <tr>\n",
              "      <th>5 </th>\n",
              "      <td> drwxr-xr-x</td>\n",
              "      <td> -</td>\n",
              "      <td> xavierdupre</td>\n",
              "      <td> xavierdupre</td>\n",
              "      <td>      0</td>\n",
              "      <td> 2014-11-20</td>\n",
              "      <td> 23:43</td>\n",
              "      <td>                        /user/xavierdupre/unitest2</td>\n",
              "      <td>  True</td>\n",
              "    </tr>\n",
              "    <tr>\n",
              "      <th>6 </th>\n",
              "      <td> drwxr-xr-x</td>\n",
              "      <td> -</td>\n",
              "      <td> xavierdupre</td>\n",
              "      <td> xavierdupre</td>\n",
              "      <td>      0</td>\n",
              "      <td> 2014-11-23</td>\n",
              "      <td> 21:42</td>\n",
              "      <td>                        /user/xavierdupre/unittest</td>\n",
              "      <td>  True</td>\n",
              "    </tr>\n",
              "    <tr>\n",
              "      <th>7 </th>\n",
              "      <td> drwxr-xr-x</td>\n",
              "      <td> -</td>\n",
              "      <td> xavierdupre</td>\n",
              "      <td> xavierdupre</td>\n",
              "      <td>      0</td>\n",
              "      <td> 2014-11-23</td>\n",
              "      <td> 21:41</td>\n",
              "      <td>                       /user/xavierdupre/unittest2</td>\n",
              "      <td>  True</td>\n",
              "    </tr>\n",
              "    <tr>\n",
              "      <th>8 </th>\n",
              "      <td> drwxr-xr-x</td>\n",
              "      <td> -</td>\n",
              "      <td> xavierdupre</td>\n",
              "      <td> xavierdupre</td>\n",
              "      <td>      0</td>\n",
              "      <td> 2014-11-20</td>\n",
              "      <td> 01:53</td>\n",
              "      <td>                      /user/xavierdupre/velib_1hjs</td>\n",
              "      <td>  True</td>\n",
              "    </tr>\n",
              "    <tr>\n",
              "      <th>9 </th>\n",
              "      <td> drwxr-xr-x</td>\n",
              "      <td> -</td>\n",
              "      <td> xavierdupre</td>\n",
              "      <td> xavierdupre</td>\n",
              "      <td>      0</td>\n",
              "      <td> 2014-11-21</td>\n",
              "      <td> 01:17</td>\n",
              "      <td>                        /user/xavierdupre/velib_py</td>\n",
              "      <td>  True</td>\n",
              "    </tr>\n",
              "    <tr>\n",
              "      <th>10</th>\n",
              "      <td> drwxr-xr-x</td>\n",
              "      <td> -</td>\n",
              "      <td> xavierdupre</td>\n",
              "      <td> xavierdupre</td>\n",
              "      <td>      0</td>\n",
              "      <td> 2014-11-23</td>\n",
              "      <td> 21:34</td>\n",
              "      <td>                /user/xavierdupre/velib_py_results</td>\n",
              "      <td>  True</td>\n",
              "    </tr>\n",
              "    <tr>\n",
              "      <th>11</th>\n",
              "      <td> drwxr-xr-x</td>\n",
              "      <td> -</td>\n",
              "      <td> xavierdupre</td>\n",
              "      <td> xavierdupre</td>\n",
              "      <td>      0</td>\n",
              "      <td> 2014-11-21</td>\n",
              "      <td> 11:08</td>\n",
              "      <td>              /user/xavierdupre/velib_several_days</td>\n",
              "      <td>  True</td>\n",
              "    </tr>\n",
              "  </tbody>\n",
              "</table>\n",
              "</div>"
            ],
            "text/plain": [
              "    attributes code        alias       folder    size        date   time  \\\n",
              "0   drwx------    -  xavierdupre  xavierdupre       0  2014-11-23  17:55   \n",
              "1   drwx------    -  xavierdupre  xavierdupre       0  2014-11-23  21:41   \n",
              "2   -rw-r--r--    3  xavierdupre  xavierdupre  132727  2014-11-16  02:37   \n",
              "3   drwxr-xr-x    -  xavierdupre  xavierdupre       0  2014-11-16  02:38   \n",
              "4   -rw-r--r--    3  xavierdupre  xavierdupre  461444  2014-11-20  01:33   \n",
              "5   drwxr-xr-x    -  xavierdupre  xavierdupre       0  2014-11-20  23:43   \n",
              "6   drwxr-xr-x    -  xavierdupre  xavierdupre       0  2014-11-23  21:42   \n",
              "7   drwxr-xr-x    -  xavierdupre  xavierdupre       0  2014-11-23  21:41   \n",
              "8   drwxr-xr-x    -  xavierdupre  xavierdupre       0  2014-11-20  01:53   \n",
              "9   drwxr-xr-x    -  xavierdupre  xavierdupre       0  2014-11-21  01:17   \n",
              "10  drwxr-xr-x    -  xavierdupre  xavierdupre       0  2014-11-23  21:34   \n",
              "11  drwxr-xr-x    -  xavierdupre  xavierdupre       0  2014-11-21  11:08   \n",
              "\n",
              "                                                 name  isdir  \n",
              "0                            /user/xavierdupre/.Trash   True  \n",
              "1                          /user/xavierdupre/.staging   True  \n",
              "2   /user/xavierdupre/ConfLongDemo_JSI.small.examp...  False  \n",
              "3   /user/xavierdupre/ConfLongDemo_JSI.small.examp...   True  \n",
              "4   /user/xavierdupre/paris.2014-11-11_22-00-18.33...  False  \n",
              "5                          /user/xavierdupre/unitest2   True  \n",
              "6                          /user/xavierdupre/unittest   True  \n",
              "7                         /user/xavierdupre/unittest2   True  \n",
              "8                        /user/xavierdupre/velib_1hjs   True  \n",
              "9                          /user/xavierdupre/velib_py   True  \n",
              "10                 /user/xavierdupre/velib_py_results   True  \n",
              "11               /user/xavierdupre/velib_several_days   True  "
            ]
          },
          "execution_count": 27,
          "metadata": {},
          "output_type": "execute_result"
        }
      ],
      "source": [
        "%dfs_ls /user/xavierdupre/"
      ]
    },
    {
      "cell_type": "code",
      "execution_count": 27,
      "metadata": {},
      "outputs": [],
      "source": [
        "%%PIG json_fermee.pig\n",
        "\n",
        "DEFINE pystream `python stream_json.py available_bike_stands available_bikes lat lng name status` \n",
        "   SHIP ('stream_json.py') INPUT(stdin USING PigStreaming(',')) OUTPUT (stdout USING PigStreaming(',')) ;\n",
        "\n",
        "jspy = LOAD '/user/xavierdupre/velib_several_days/*.txt' USING PigStorage('\\t') AS (arow:chararray);\n",
        "\n",
        "matrice = STREAM jspy THROUGH pystream AS \n",
        "                (   available_bike_stands:int, \n",
        "                    available_bikes:int, \n",
        "                    lat:double, \n",
        "                    lng:double, \n",
        "                    name:chararray, \n",
        "                    status:chararray) ;\n",
        "                \n",
        "grstation = GROUP matrice BY status ;  \n",
        "\n",
        "fermees = FOREACH grstation GENERATE\n",
        "                 group\n",
        "                ,SUM(matrice.available_bikes) AS available_bikes\n",
        "                ,SUM(matrice.available_bike_stands) AS available_bike_stands \n",
        "                ;\n",
        "\n",
        "gr_av   = GROUP matrice BY available_bikes ;\n",
        "dist_av = FOREACH gr_av GENERATE group, COUNT(matrice) ;\n",
        "gr_pl   = GROUP matrice BY available_bike_stands ;\n",
        "dist_pl = FOREACH gr_pl GENERATE group, COUNT(matrice) ;\n",
        "\n",
        "STORE fermees INTO 'velib_py_results_3days/fermees.txt' USING PigStorage('\\t') ;\n",
        "STORE dist_av INTO 'velib_py_results_3days/distribution_bikes.txt' USING PigStorage('\\t') ;\n",
        "STORE dist_pl INTO 'velib_py_results_3days/distribution_stands.txt' USING PigStorage('\\t') ;"
      ]
    },
    {
      "cell_type": "code",
      "execution_count": 28,
      "metadata": {},
      "outputs": [
        {
          "data": {
            "text/html": [
              "<pre>\n",
              "\n",
              "</pre>"
            ],
            "text/plain": [
              "<IPython.core.display.HTML at 0xad1ce70>"
            ]
          },
          "execution_count": 29,
          "metadata": {},
          "output_type": "execute_result"
        }
      ],
      "source": [
        "%pigsubmit json_fermee.pig stream_json.py redirection"
      ]
    },
    {
      "cell_type": "code",
      "execution_count": 29,
      "metadata": {},
      "outputs": [
        {
          "data": {
            "text/html": [
              "<pre>\n",
              "Total bytes written : 1306\n",
              "Spillable Memory Manager spill count : 0\n",
              "Total bags proactively spilled: 0\n",
              "Total records proactively spilled: 0\n",
              "\n",
              "Job DAG:\n",
              "job_1414491244634_0128\n",
              "\n",
              "\n",
              "2014-11-23 21:55:06,336 [main] INFO  org.apache.pig.backend.hadoop.executionengine.mapReduceLayer.MapReduceLauncher - Success!\n",
              "\n",
              "</pre>"
            ],
            "text/plain": [
              "<IPython.core.display.HTML at 0xaaa3490>"
            ]
          },
          "execution_count": 30,
          "metadata": {},
          "output_type": "execute_result"
        }
      ],
      "source": [
        "%remote_cmd tail redirection.err"
      ]
    },
    {
      "cell_type": "code",
      "execution_count": 30,
      "metadata": {},
      "outputs": [
        {
          "data": {
            "text/html": [
              "<div style=\"max-height:1000px;max-width:1500px;overflow:auto;\">\n",
              "<table border=\"1\" class=\"dataframe\">\n",
              "  <thead>\n",
              "    <tr style=\"text-align: right;\">\n",
              "      <th></th>\n",
              "      <th>attributes</th>\n",
              "      <th>code</th>\n",
              "      <th>alias</th>\n",
              "      <th>folder</th>\n",
              "      <th>size</th>\n",
              "      <th>date</th>\n",
              "      <th>time</th>\n",
              "      <th>name</th>\n",
              "      <th>isdir</th>\n",
              "    </tr>\n",
              "  </thead>\n",
              "  <tbody>\n",
              "    <tr>\n",
              "      <th>0 </th>\n",
              "      <td> -rw-r--r--</td>\n",
              "      <td> 3</td>\n",
              "      <td> xavierdupre</td>\n",
              "      <td> xavierdupre</td>\n",
              "      <td>   0</td>\n",
              "      <td> 2014-11-23</td>\n",
              "      <td> 21:54</td>\n",
              "      <td> velib_py_results_3days/distribution_bikes.txt/...</td>\n",
              "      <td> False</td>\n",
              "    </tr>\n",
              "    <tr>\n",
              "      <th>1 </th>\n",
              "      <td> -rw-r--r--</td>\n",
              "      <td> 3</td>\n",
              "      <td> xavierdupre</td>\n",
              "      <td> xavierdupre</td>\n",
              "      <td> 210</td>\n",
              "      <td> 2014-11-23</td>\n",
              "      <td> 21:54</td>\n",
              "      <td> velib_py_results_3days/distribution_bikes.txt/...</td>\n",
              "      <td> False</td>\n",
              "    </tr>\n",
              "    <tr>\n",
              "      <th>2 </th>\n",
              "      <td> -rw-r--r--</td>\n",
              "      <td> 3</td>\n",
              "      <td> xavierdupre</td>\n",
              "      <td> xavierdupre</td>\n",
              "      <td> 208</td>\n",
              "      <td> 2014-11-23</td>\n",
              "      <td> 21:54</td>\n",
              "      <td> velib_py_results_3days/distribution_bikes.txt/...</td>\n",
              "      <td> False</td>\n",
              "    </tr>\n",
              "    <tr>\n",
              "      <th>3 </th>\n",
              "      <td> -rw-r--r--</td>\n",
              "      <td> 3</td>\n",
              "      <td> xavierdupre</td>\n",
              "      <td> xavierdupre</td>\n",
              "      <td> 216</td>\n",
              "      <td> 2014-11-23</td>\n",
              "      <td> 21:54</td>\n",
              "      <td> velib_py_results_3days/distribution_bikes.txt/...</td>\n",
              "      <td> False</td>\n",
              "    </tr>\n",
              "    <tr>\n",
              "      <th>4 </th>\n",
              "      <td> -rw-r--r--</td>\n",
              "      <td> 3</td>\n",
              "      <td> xavierdupre</td>\n",
              "      <td> xavierdupre</td>\n",
              "      <td>   0</td>\n",
              "      <td> 2014-11-23</td>\n",
              "      <td> 21:54</td>\n",
              "      <td> velib_py_results_3days/distribution_stands.txt...</td>\n",
              "      <td> False</td>\n",
              "    </tr>\n",
              "    <tr>\n",
              "      <th>5 </th>\n",
              "      <td> -rw-r--r--</td>\n",
              "      <td> 3</td>\n",
              "      <td> xavierdupre</td>\n",
              "      <td> xavierdupre</td>\n",
              "      <td> 210</td>\n",
              "      <td> 2014-11-23</td>\n",
              "      <td> 21:54</td>\n",
              "      <td> velib_py_results_3days/distribution_stands.txt...</td>\n",
              "      <td> False</td>\n",
              "    </tr>\n",
              "    <tr>\n",
              "      <th>6 </th>\n",
              "      <td> -rw-r--r--</td>\n",
              "      <td> 3</td>\n",
              "      <td> xavierdupre</td>\n",
              "      <td> xavierdupre</td>\n",
              "      <td> 208</td>\n",
              "      <td> 2014-11-23</td>\n",
              "      <td> 21:54</td>\n",
              "      <td> velib_py_results_3days/distribution_stands.txt...</td>\n",
              "      <td> False</td>\n",
              "    </tr>\n",
              "    <tr>\n",
              "      <th>7 </th>\n",
              "      <td> -rw-r--r--</td>\n",
              "      <td> 3</td>\n",
              "      <td> xavierdupre</td>\n",
              "      <td> xavierdupre</td>\n",
              "      <td> 210</td>\n",
              "      <td> 2014-11-23</td>\n",
              "      <td> 21:54</td>\n",
              "      <td> velib_py_results_3days/distribution_stands.txt...</td>\n",
              "      <td> False</td>\n",
              "    </tr>\n",
              "    <tr>\n",
              "      <th>8 </th>\n",
              "      <td> -rw-r--r--</td>\n",
              "      <td> 3</td>\n",
              "      <td> xavierdupre</td>\n",
              "      <td> xavierdupre</td>\n",
              "      <td>   0</td>\n",
              "      <td> 2014-11-23</td>\n",
              "      <td> 21:54</td>\n",
              "      <td>       velib_py_results_3days/fermees.txt/_SUCCESS</td>\n",
              "      <td> False</td>\n",
              "    </tr>\n",
              "    <tr>\n",
              "      <th>9 </th>\n",
              "      <td> -rw-r--r--</td>\n",
              "      <td> 3</td>\n",
              "      <td> xavierdupre</td>\n",
              "      <td> xavierdupre</td>\n",
              "      <td>  20</td>\n",
              "      <td> 2014-11-23</td>\n",
              "      <td> 21:54</td>\n",
              "      <td>   velib_py_results_3days/fermees.txt/part-r-00000</td>\n",
              "      <td> False</td>\n",
              "    </tr>\n",
              "    <tr>\n",
              "      <th>10</th>\n",
              "      <td> -rw-r--r--</td>\n",
              "      <td> 3</td>\n",
              "      <td> xavierdupre</td>\n",
              "      <td> xavierdupre</td>\n",
              "      <td>   0</td>\n",
              "      <td> 2014-11-23</td>\n",
              "      <td> 21:54</td>\n",
              "      <td>   velib_py_results_3days/fermees.txt/part-r-00001</td>\n",
              "      <td> False</td>\n",
              "    </tr>\n",
              "    <tr>\n",
              "      <th>11</th>\n",
              "      <td> -rw-r--r--</td>\n",
              "      <td> 3</td>\n",
              "      <td> xavierdupre</td>\n",
              "      <td> xavierdupre</td>\n",
              "      <td>  24</td>\n",
              "      <td> 2014-11-23</td>\n",
              "      <td> 21:54</td>\n",
              "      <td>   velib_py_results_3days/fermees.txt/part-r-00002</td>\n",
              "      <td> False</td>\n",
              "    </tr>\n",
              "  </tbody>\n",
              "</table>\n",
              "</div>"
            ],
            "text/plain": [
              "    attributes code        alias       folder size        date   time  \\\n",
              "0   -rw-r--r--    3  xavierdupre  xavierdupre    0  2014-11-23  21:54   \n",
              "1   -rw-r--r--    3  xavierdupre  xavierdupre  210  2014-11-23  21:54   \n",
              "2   -rw-r--r--    3  xavierdupre  xavierdupre  208  2014-11-23  21:54   \n",
              "3   -rw-r--r--    3  xavierdupre  xavierdupre  216  2014-11-23  21:54   \n",
              "4   -rw-r--r--    3  xavierdupre  xavierdupre    0  2014-11-23  21:54   \n",
              "5   -rw-r--r--    3  xavierdupre  xavierdupre  210  2014-11-23  21:54   \n",
              "6   -rw-r--r--    3  xavierdupre  xavierdupre  208  2014-11-23  21:54   \n",
              "7   -rw-r--r--    3  xavierdupre  xavierdupre  210  2014-11-23  21:54   \n",
              "8   -rw-r--r--    3  xavierdupre  xavierdupre    0  2014-11-23  21:54   \n",
              "9   -rw-r--r--    3  xavierdupre  xavierdupre   20  2014-11-23  21:54   \n",
              "10  -rw-r--r--    3  xavierdupre  xavierdupre    0  2014-11-23  21:54   \n",
              "11  -rw-r--r--    3  xavierdupre  xavierdupre   24  2014-11-23  21:54   \n",
              "\n",
              "                                                 name  isdir  \n",
              "0   velib_py_results_3days/distribution_bikes.txt/...  False  \n",
              "1   velib_py_results_3days/distribution_bikes.txt/...  False  \n",
              "2   velib_py_results_3days/distribution_bikes.txt/...  False  \n",
              "3   velib_py_results_3days/distribution_bikes.txt/...  False  \n",
              "4   velib_py_results_3days/distribution_stands.txt...  False  \n",
              "5   velib_py_results_3days/distribution_stands.txt...  False  \n",
              "6   velib_py_results_3days/distribution_stands.txt...  False  \n",
              "7   velib_py_results_3days/distribution_stands.txt...  False  \n",
              "8         velib_py_results_3days/fermees.txt/_SUCCESS  False  \n",
              "9     velib_py_results_3days/fermees.txt/part-r-00000  False  \n",
              "10    velib_py_results_3days/fermees.txt/part-r-00001  False  \n",
              "11    velib_py_results_3days/fermees.txt/part-r-00002  False  "
            ]
          },
          "execution_count": 31,
          "metadata": {},
          "output_type": "execute_result"
        }
      ],
      "source": [
        "%dfs_ls velib_py_results_3days/*"
      ]
    },
    {
      "cell_type": "markdown",
      "metadata": {},
      "source": [
        "On voit que le job a \u00e9t\u00e9 distribu\u00e9 sur trois machines."
      ]
    },
    {
      "cell_type": "markdown",
      "metadata": {},
      "source": [
        "## Exercice 4 : astuces\n",
        "\n",
        "Les erreurs de PIG ne sont pas tr\u00e8s explicite surtout si elles se produisent dans le script python. Un moyen simple de d\u00e9bugger est d'attraper les exceptions produites par python et de les r\u00e9cup\u00e9rer sous PIG (le reste du job est enlev\u00e9). On peut tout-\u00e0-fait imaginer ajouter la version de python install\u00e9e sur le cluster ainsi que la liste de modules"
      ]
    },
    {
      "cell_type": "code",
      "execution_count": 31,
      "metadata": {},
      "outputs": [],
      "source": [
        "%%PYTHON stream_json_err.py\n",
        "\n",
        "import sys, os\n",
        "for row in sys.stdin:\n",
        "    sys.stdout.write(sys.executable + \"\\n\")\n",
        "    sys.stdout.write(str(sys.version) + \"\\n\")\n",
        "    sys.stdout.write(row + \"\\n\")\n",
        "    # pour obtenir les variables d'environnement\n",
        "    #for k in os.environ:\n",
        "    #    sys.stdout.write(\"%s=%s\\n\" % (k,os.environ[k]))\n",
        "    sys.stdout.flush()"
      ]
    },
    {
      "cell_type": "code",
      "execution_count": 32,
      "metadata": {},
      "outputs": [
        {
          "data": {
            "text/html": [
              "<pre>\n",
              "C:\\Python34\\python.exe\n",
              "3.4.1 (v3.4.1:c0e311e010fc, May 18 2014, 10:38:22) [MSC v.1600 32 bit (Intel)]\n",
              "n'importe quoi\n",
              "\n",
              "</pre>"
            ],
            "text/plain": [
              "<IPython.core.display.HTML at 0xaaa5210>"
            ]
          },
          "execution_count": 33,
          "metadata": {},
          "output_type": "execute_result"
        }
      ],
      "source": [
        "%%runpy stream_json_err.py\n",
        "n'importe quoi"
      ]
    },
    {
      "cell_type": "code",
      "execution_count": 33,
      "metadata": {},
      "outputs": [],
      "source": [
        "%%PIG test.pig\n",
        "\n",
        "DEFINE pystream `python stream_json_err.py` \n",
        "   SHIP ('stream_json_err.py') INPUT(stdin USING PigStreaming(',')) OUTPUT (stdout USING PigStreaming(',')) ;\n",
        "\n",
        "jspy = LOAD 'velib_py/*.txt' USING PigStorage('\\t') AS (arow:chararray);\n",
        "one = LIMIT jspy 1 ;\n",
        "info = STREAM one THROUGH pystream AS (row:chararray) ;\n",
        "STORE info INTO 'python_info2.txt' ;"
      ]
    },
    {
      "cell_type": "code",
      "execution_count": 34,
      "metadata": {},
      "outputs": [
        {
          "data": {
            "text/html": [
              "<pre>\n",
              "\n",
              "</pre>"
            ],
            "text/plain": [
              "<IPython.core.display.HTML at 0xaaa5630>"
            ]
          },
          "execution_count": 35,
          "metadata": {},
          "output_type": "execute_result"
        }
      ],
      "source": [
        "%pig_submit test.pig stream_json_err.py -r redirection"
      ]
    },
    {
      "cell_type": "code",
      "execution_count": 35,
      "metadata": {},
      "outputs": [
        {
          "data": {
            "text/html": [
              "<pre>\n",
              "2014-11-23 22:07:20,132 [main] INFO  org.apache.hadoop.ipc.Client - Retrying connect to server: dn05.dzr323.dza.datazoomr.com/10.58.223.25:59338. Already tried 1 time(s); retry policy is RetryUpToMaximumCountWithFixedSleep(maxRetries=3, sleepTime=1000 MILLISECONDS)\n",
              "2014-11-23 22:07:21,134 [main] INFO  org.apache.hadoop.ipc.Client - Retrying connect to server: dn05.dzr323.dza.datazoomr.com/10.58.223.25:59338. Already tried 2 time(s); retry policy is RetryUpToMaximumCountWithFixedSleep(maxRetries=3, sleepTime=1000 MILLISECONDS)\n",
              "2014-11-23 22:07:21,251 [main] INFO  org.apache.hadoop.mapred.ClientServiceDelegate - Application state is completed. FinalApplicationStatus=SUCCEEDED. Redirecting to job history server\n",
              "2014-11-23 22:07:21,471 [main] INFO  org.apache.hadoop.mapred.ClientServiceDelegate - Application state is completed. FinalApplicationStatus=SUCCEEDED. Redirecting to job history server\n",
              "2014-11-23 22:07:21,574 [main] INFO  org.apache.pig.backend.hadoop.executionengine.mapReduceLayer.MapReduceLauncher - Success!\n",
              "\n",
              "</pre>"
            ],
            "text/plain": [
              "<IPython.core.display.HTML at 0xaaa5890>"
            ]
          },
          "execution_count": 36,
          "metadata": {},
          "output_type": "execute_result"
        }
      ],
      "source": [
        "%remote_cmd tail redirection.pig.err -n 5"
      ]
    },
    {
      "cell_type": "code",
      "execution_count": 36,
      "metadata": {},
      "outputs": [
        {
          "data": {
            "text/plain": [
              "'python_info2.txt'"
            ]
          },
          "execution_count": 37,
          "metadata": {},
          "output_type": "execute_result"
        }
      ],
      "source": [
        "if os.path.exists(\"python_info2.txt\") : os.remove(\"python_info2.txt\")\n",
        "%remote_down_cluster_merge python_info2.txt python_info2.txt"
      ]
    },
    {
      "cell_type": "code",
      "execution_count": 37,
      "metadata": {},
      "outputs": [
        {
          "data": {
            "text/html": [
              "<pre>\n",
              "/usr/bin/python\n",
              "2.6.6 (r266:84292\n",
              "[GCC 4.4.7 20120313 (Red Hat 4.4.7-3)]\n",
              "[{'address': 'RUE DES CHAMPEAUX (PRES DE LA GARE ROUTIERE) - 93170 BAGNOLET'\n",
              "\n",
              "\n",
              "</pre>"
            ],
            "text/plain": [
              "<IPython.core.display.HTML at 0xaaa5cf0>"
            ]
          },
          "execution_count": 38,
          "metadata": {},
          "output_type": "execute_result"
        }
      ],
      "source": [
        "%head python_info2.txt"
      ]
    },
    {
      "cell_type": "code",
      "execution_count": 38,
      "metadata": {},
      "outputs": [],
      "source": []
    }
  ],
  "metadata": {
    "kernelspec": {
      "display_name": "Python 3",
      "language": "python",
      "name": "python3"
    },
    "language_info": {
      "codemirror_mode": {
        "name": "ipython",
        "version": 3
      },
      "file_extension": ".py",
      "mimetype": "text/x-python",
      "name": "python",
      "nbconvert_exporter": "python",
      "pygments_lexer": "ipython3",
      "version": "3.6.4"
    }
  },
  "nbformat": 4,
  "nbformat_minor": 1
}