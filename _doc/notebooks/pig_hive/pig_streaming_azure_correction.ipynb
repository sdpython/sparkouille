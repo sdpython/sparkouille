{
  "cells": [
    {
      "cell_type": "markdown",
      "metadata": {},
      "source": [
        "# PIG et JSON et streaming avec les donn\u00e9es v\u00e9lib - correction avec Azure\n",
        "\n",
        "Correction."
      ]
    },
    {
      "cell_type": "code",
      "execution_count": 1,
      "metadata": {},
      "outputs": [
        {
          "data": {
            "text/html": [
              "<b>Plan</b>\n",
              "<div id=\"my_menu_id\">run previous cell, wait for 2 seconds</div>\n",
              "<script>\n",
              "function repeat_indent_string(n){\n",
              "    var a = \"\" ;\n",
              "    for ( ; n > 0 ; --n) {\n",
              "        a += \"    \";\n",
              "    }\n",
              "    return a;\n",
              "}\n",
              "var update_menu_string = function(begin, lfirst, llast, sformat, send) {\n",
              "    var anchors = document.getElementsByClassName(\"section\");\n",
              "    if (anchors.length == 0) {\n",
              "        anchors = document.getElementsByClassName(\"text_cell_render rendered_html\");\n",
              "    }\n",
              "    var i,t;\n",
              "    var text_menu = begin;\n",
              "    var text_memo = \"<pre>\\nlength:\" + anchors.length + \"\\n\";\n",
              "    var ind = \"\";\n",
              "    var memo_level = 1;\n",
              "    var href;\n",
              "    var tags = [];\n",
              "    for (i = 0; i <= llast; i++) {\n",
              "        tags.push(\"h\" + i);\n",
              "    }\n",
              "\n",
              "    for (i = 0; i < anchors.length; i++) {\n",
              "        text_memo += \"**\" + anchors[i].id + \"--\\n\";\n",
              "\n",
              "        var child = null;\n",
              "        for(t = 0; t < tags.length; t++) {\n",
              "            var r = anchors[i].getElementsByTagName(tags[t]);\n",
              "            if (r.length > 0) {\n",
              "child = r[0];\n",
              "break;\n",
              "            }\n",
              "        }\n",
              "        if (child == null){\n",
              "            text_memo += \"null\\n\";\n",
              "            continue;\n",
              "        }\n",
              "\n",
              "        if (anchors[i].hasAttribute(\"id\")) {\n",
              "            // when converted in RST\n",
              "            href = anchors[i].id;\n",
              "            text_memo += \"#1-\" + href;\n",
              "            // passer \u00e0 child suivant (le chercher)\n",
              "        }\n",
              "        else if (child.hasAttribute(\"id\")) {\n",
              "            // in a notebook\n",
              "            href = child.id;\n",
              "            text_memo += \"#2-\" + href;\n",
              "        }\n",
              "        else {\n",
              "            text_memo += \"#3-\" + \"*\" + \"\\n\";\n",
              "            continue;\n",
              "        }\n",
              "        var title = child.textContent;\n",
              "        var level = parseInt(child.tagName.substring(1,2));\n",
              "\n",
              "        text_memo += \"--\" + level + \"?\" + lfirst + \"--\" + title + \"\\n\";\n",
              "\n",
              "        if ((level < lfirst) || (level > llast)) {\n",
              "            continue ;\n",
              "        }\n",
              "        if (title.endsWith('\u00b6')) {\n",
              "            title = title.substring(0,title.length-1).replace(\"<\", \"&lt;\").replace(\">\", \"&gt;\").replace(\"&\", \"&amp;\")\n",
              "        }\n",
              "\n",
              "        if (title.length == 0) {\n",
              "            continue;\n",
              "        }\n",
              "        while (level > memo_level) {\n",
              "            text_menu += \"<ul>\\n\";\n",
              "            memo_level += 1;\n",
              "        }\n",
              "        while (level < memo_level) {\n",
              "            text_menu += \"</ul>\\n\";\n",
              "            memo_level -= 1;\n",
              "        }\n",
              "        text_menu += repeat_indent_string(level-2) + sformat.replace(\"__HREF__\", href).replace(\"__TITLE__\", title);\n",
              "    }\n",
              "    while (1 < memo_level) {\n",
              "        text_menu += \"</ul>\\n\";\n",
              "        memo_level -= 1;\n",
              "    }\n",
              "    text_menu += send;\n",
              "    //text_menu += \"\\n\" + text_memo;\n",
              "    return text_menu;\n",
              "};\n",
              "var update_menu = function() {\n",
              "    var sbegin = \"\";\n",
              "    var sformat = '<li><a href=\"#__HREF__\">__TITLE__</a></li>';\n",
              "    var send = \"\";\n",
              "    var text_menu = update_menu_string(sbegin, 2, 4, sformat, send);\n",
              "    var menu = document.getElementById(\"my_menu_id\");\n",
              "    menu.innerHTML=text_menu;\n",
              "};\n",
              "window.setTimeout(update_menu,2000);\n",
              "            </script>"
            ],
            "text/plain": [
              "<IPython.core.display.HTML object>"
            ]
          },
          "execution_count": 2,
          "metadata": {},
          "output_type": "execute_result"
        }
      ],
      "source": [
        "from jyquickhelper import add_notebook_menu\n",
        "add_notebook_menu()"
      ]
    },
    {
      "cell_type": "markdown",
      "metadata": {},
      "source": [
        "## R\u00e9cup\u00e9ration des donn\u00e9es\n",
        "\n",
        "Le code suivant t\u00e9l\u00e9charge les donn\u00e9es n\u00e9cessaires [data_velib_paris_2014-11-11_22-23.zip](http://www.xavierdupre.fr/enseignement/complements/data_velib_paris_2014-11-11_22-23.zip)."
      ]
    },
    {
      "cell_type": "code",
      "execution_count": 2,
      "metadata": {},
      "outputs": [
        {
          "data": {
            "text/plain": [
              "['velib\\\\paris.2014-11-11_22-00-18.331391.txt',\n",
              " 'velib\\\\paris.2014-11-11_22-01-17.859194.txt']"
            ]
          },
          "execution_count": 3,
          "metadata": {},
          "output_type": "execute_result"
        }
      ],
      "source": [
        "import os, datetime\n",
        "from pyensae.datasource import download_data\n",
        "if not os.path.exists(\"velib\"):\n",
        "    os.mkdir(\"velib\")\n",
        "files=download_data(\"data_velib_paris_2014-11-11_22-23.zip\", website=\"xdtd\", whereTo=\"velib\")\n",
        "files[:2]"
      ]
    },
    {
      "cell_type": "markdown",
      "metadata": {},
      "source": [
        "## Connexion au cluster et import des donn\u00e9es"
      ]
    },
    {
      "cell_type": "code",
      "execution_count": 3,
      "metadata": {},
      "outputs": [
        {
          "data": {
            "text/plain": [
              "dict"
            ]
          },
          "execution_count": 4,
          "metadata": {},
          "output_type": "execute_result"
        }
      ],
      "source": [
        "import os\n",
        "blobhp = {}\n",
        "if \"HDCREDENTIALS\" in os.environ:\n",
        "    blobhp[\"blob_storage\"], blobhp[\"password1\"], blobhp[\"hadoop_server\"], blobhp[\"password2\"], blobhp[\"username\"] = \\\n",
        "        os.environ[\"HDCREDENTIALS\"].split(\"**\")\n",
        "    r = type(blobhp)\n",
        "else:\n",
        "    from pyquickhelper.ipythonhelper import open_html_form\n",
        "    params={\"blob_storage\":\"\", \"password1\":\"\", \"hadoop_server\":\"\", \"password2\":\"\", \"username\":\"axavier\"}\n",
        "    r = open_html_form(params=params,title=\"server + hadoop + credentials\", key_save=\"blobhp\")\n",
        "r"
      ]
    },
    {
      "cell_type": "code",
      "execution_count": 4,
      "metadata": {},
      "outputs": [
        {
          "data": {
            "text/plain": [
              "(<pyensae.remote.azure_connection.AzureClient at 0x955cd68>,\n",
              " <azure.storage.blob.blobservice.BlobService at 0x955cda0>)"
            ]
          },
          "execution_count": 5,
          "metadata": {},
          "output_type": "execute_result"
        }
      ],
      "source": [
        "import pyensae\n",
        "%load_ext pyensae\n",
        "%load_ext pyenbc\n",
        "blobstorage = blobhp[\"blob_storage\"]\n",
        "blobpassword = blobhp[\"password1\"]\n",
        "hadoop_server = blobhp[\"hadoop_server\"]\n",
        "hadoop_password = blobhp[\"password2\"]\n",
        "username = blobhp[\"username\"] + \"az\"\n",
        "client, bs =  %hd_open\n",
        "client, bs"
      ]
    },
    {
      "cell_type": "markdown",
      "metadata": {},
      "source": [
        "On uploade les donn\u00e9es (sauf si vous l'avez d\u00e9j\u00e0 fait une fois) :"
      ]
    },
    {
      "cell_type": "code",
      "execution_count": 5,
      "metadata": {},
      "outputs": [],
      "source": [
        "files = [ os.path.join(\"velib\",_) for _ in os.listdir(\"velib\") if \".txt\" in _]"
      ]
    },
    {
      "cell_type": "code",
      "execution_count": 6,
      "metadata": {},
      "outputs": [
        {
          "data": {
            "text/plain": [
              "['velib_1h1/paris.2014-11-11_22-00-18.331391.txt',\n",
              " 'velib_1h1/paris.2014-11-11_22-01-17.859194.txt',\n",
              " 'velib_1h1/paris.2014-11-11_22-02-17.544368.txt',\n",
              " 'velib_1h1/paris.2014-11-11_22-03-17.229557.txt',\n",
              " 'velib_1h1/paris.2014-11-11_22-04-18.204200.txt',\n",
              " 'velib_1h1/paris.2014-11-11_22-05-17.959874.txt',\n",
              " 'velib_1h1/paris.2014-11-11_22-06-17.495408.txt',\n",
              " 'velib_1h1/paris.2014-11-11_22-07-18.217540.txt',\n",
              " 'velib_1h1/paris.2014-11-11_22-08-17.761467.txt',\n",
              " 'velib_1h1/paris.2014-11-11_22-09-17.284280.txt',\n",
              " 'velib_1h1/paris.2014-11-11_22-10-18.054360.txt',\n",
              " 'velib_1h1/paris.2014-11-11_22-11-17.581191.txt',\n",
              " 'velib_1h1/paris.2014-11-11_22-12-18.331078.txt',\n",
              " 'velib_1h1/paris.2014-11-11_22-13-17.895678.txt',\n",
              " 'velib_1h1/paris.2014-11-11_22-14-17.444188.txt',\n",
              " 'velib_1h1/paris.2014-11-11_22-15-18.366028.txt',\n",
              " 'velib_1h1/paris.2014-11-11_22-16-18.098484.txt',\n",
              " 'velib_1h1/paris.2014-11-11_22-17-17.794206.txt',\n",
              " 'velib_1h1/paris.2014-11-11_22-18-17.563061.txt',\n",
              " 'velib_1h1/paris.2014-11-11_22-19-17.295153.txt',\n",
              " 'velib_1h1/paris.2014-11-11_22-20-18.337927.txt',\n",
              " 'velib_1h1/paris.2014-11-11_22-21-18.038686.txt',\n",
              " 'velib_1h1/paris.2014-11-11_22-22-17.728834.txt',\n",
              " 'velib_1h1/paris.2014-11-11_22-23-17.480023.txt',\n",
              " 'velib_1h1/paris.2014-11-11_22-24-17.218630.txt',\n",
              " 'velib_1h1/paris.2014-11-11_22-25-18.119732.txt',\n",
              " 'velib_1h1/paris.2014-11-11_22-26-17.878431.txt',\n",
              " 'velib_1h1/paris.2014-11-11_22-27-17.636192.txt',\n",
              " 'velib_1h1/paris.2014-11-11_22-28-17.300711.txt',\n",
              " 'velib_1h1/paris.2014-11-11_22-29-18.265290.txt',\n",
              " 'velib_1h1/paris.2014-11-11_22-30-18.018554.txt',\n",
              " 'velib_1h1/paris.2014-11-11_22-31-17.718195.txt',\n",
              " 'velib_1h1/paris.2014-11-11_22-32-17.393348.txt',\n",
              " 'velib_1h1/paris.2014-11-11_22-33-18.293394.txt',\n",
              " 'velib_1h1/paris.2014-11-11_22-34-17.948293.txt',\n",
              " 'velib_1h1/paris.2014-11-11_22-35-17.638521.txt',\n",
              " 'velib_1h1/paris.2014-11-11_22-36-17.359977.txt',\n",
              " 'velib_1h1/paris.2014-11-11_22-37-18.204045.txt',\n",
              " 'velib_1h1/paris.2014-11-11_22-38-17.783810.txt',\n",
              " 'velib_1h1/paris.2014-11-11_22-39-17.498726.txt',\n",
              " 'velib_1h1/paris.2014-11-11_22-40-18.375180.txt',\n",
              " 'velib_1h1/paris.2014-11-11_22-41-18.081499.txt',\n",
              " 'velib_1h1/paris.2014-11-11_22-42-17.771645.txt',\n",
              " 'velib_1h1/paris.2014-11-11_22-43-17.425107.txt',\n",
              " 'velib_1h1/paris.2014-11-11_22-44-18.335702.txt',\n",
              " 'velib_1h1/paris.2014-11-11_22-45-17.847913.txt',\n",
              " 'velib_1h1/paris.2014-11-11_22-46-17.364178.txt',\n",
              " 'velib_1h1/paris.2014-11-11_22-47-18.092905.txt',\n",
              " 'velib_1h1/paris.2014-11-11_22-48-17.600068.txt',\n",
              " 'velib_1h1/paris.2014-11-11_22-49-18.295991.txt',\n",
              " 'velib_1h1/paris.2014-11-11_22-50-17.777867.txt',\n",
              " 'velib_1h1/paris.2014-11-11_22-51-17.300775.txt',\n",
              " 'velib_1h1/paris.2014-11-11_22-52-18.039108.txt',\n",
              " 'velib_1h1/paris.2014-11-11_22-53-17.577011.txt',\n",
              " 'velib_1h1/paris.2014-11-11_22-54-18.248272.txt',\n",
              " 'velib_1h1/paris.2014-11-11_22-55-17.775525.txt',\n",
              " 'velib_1h1/paris.2014-11-11_22-56-17.319040.txt',\n",
              " 'velib_1h1/paris.2014-11-11_22-57-18.088550.txt',\n",
              " 'velib_1h1/paris.2014-11-11_22-58-17.579701.txt',\n",
              " 'velib_1h1/paris.2014-11-11_22-59-18.340122.txt',\n",
              " 'velib_1h1/paris.2014-11-11_23-00-17.841170.txt']"
            ]
          },
          "execution_count": 7,
          "metadata": {},
          "output_type": "execute_result"
        }
      ],
      "source": [
        "if not client.exists(bs, \"hdblobstorage\", \"velib_1h1/paris.2014-11-11_22-00-18.331391.txt\"):\n",
        "    client.upload(bs, \"hdblobstorage\", \"velib_1h1\", files)"
      ]
    },
    {
      "cell_type": "code",
      "execution_count": 7,
      "metadata": {},
      "outputs": [
        {
          "data": {
            "text/html": [
              "<div>\n",
              "<table border=\"1\" class=\"dataframe\">\n",
              "  <thead>\n",
              "    <tr style=\"text-align: right;\">\n",
              "      <th></th>\n",
              "      <th>name</th>\n",
              "      <th>last_modified</th>\n",
              "      <th>content_type</th>\n",
              "      <th>content_length</th>\n",
              "      <th>blob_type</th>\n",
              "    </tr>\n",
              "  </thead>\n",
              "  <tbody>\n",
              "    <tr>\n",
              "      <th>0</th>\n",
              "      <td>velib_1h1</td>\n",
              "      <td>Wed, 04 Feb 2015 14:30:15 GMT</td>\n",
              "      <td>application/octet-stream Charset=UTF-8</td>\n",
              "      <td>0</td>\n",
              "      <td>BlockBlob</td>\n",
              "    </tr>\n",
              "    <tr>\n",
              "      <th>1</th>\n",
              "      <td>velib_1h1/paris.2014-11-11_22-00-18.331391.txt</td>\n",
              "      <td>Sun, 15 Nov 2015 17:11:59 GMT</td>\n",
              "      <td>application/octet-stream</td>\n",
              "      <td>523646</td>\n",
              "      <td>BlockBlob</td>\n",
              "    </tr>\n",
              "    <tr>\n",
              "      <th>2</th>\n",
              "      <td>velib_1h1/paris.2014-11-11_22-01-17.859194.txt</td>\n",
              "      <td>Sun, 15 Nov 2015 17:12:30 GMT</td>\n",
              "      <td>application/octet-stream</td>\n",
              "      <td>523470</td>\n",
              "      <td>BlockBlob</td>\n",
              "    </tr>\n",
              "    <tr>\n",
              "      <th>3</th>\n",
              "      <td>velib_1h1/paris.2014-11-11_22-02-17.544368.txt</td>\n",
              "      <td>Sun, 15 Nov 2015 17:12:55 GMT</td>\n",
              "      <td>application/octet-stream</td>\n",
              "      <td>522057</td>\n",
              "      <td>BlockBlob</td>\n",
              "    </tr>\n",
              "    <tr>\n",
              "      <th>4</th>\n",
              "      <td>velib_1h1/paris.2014-11-11_22-03-17.229557.txt</td>\n",
              "      <td>Sun, 15 Nov 2015 17:13:32 GMT</td>\n",
              "      <td>application/octet-stream</td>\n",
              "      <td>523165</td>\n",
              "      <td>BlockBlob</td>\n",
              "    </tr>\n",
              "  </tbody>\n",
              "</table>\n",
              "</div>"
            ],
            "text/plain": [
              "                                             name  \\\n",
              "0                                       velib_1h1   \n",
              "1  velib_1h1/paris.2014-11-11_22-00-18.331391.txt   \n",
              "2  velib_1h1/paris.2014-11-11_22-01-17.859194.txt   \n",
              "3  velib_1h1/paris.2014-11-11_22-02-17.544368.txt   \n",
              "4  velib_1h1/paris.2014-11-11_22-03-17.229557.txt   \n",
              "\n",
              "                   last_modified                            content_type  \\\n",
              "0  Wed, 04 Feb 2015 14:30:15 GMT  application/octet-stream Charset=UTF-8   \n",
              "1  Sun, 15 Nov 2015 17:11:59 GMT                application/octet-stream   \n",
              "2  Sun, 15 Nov 2015 17:12:30 GMT                application/octet-stream   \n",
              "3  Sun, 15 Nov 2015 17:12:55 GMT                application/octet-stream   \n",
              "4  Sun, 15 Nov 2015 17:13:32 GMT                application/octet-stream   \n",
              "\n",
              "   content_length  blob_type  \n",
              "0               0  BlockBlob  \n",
              "1          523646  BlockBlob  \n",
              "2          523470  BlockBlob  \n",
              "3          522057  BlockBlob  \n",
              "4          523165  BlockBlob  "
            ]
          },
          "execution_count": 8,
          "metadata": {},
          "output_type": "execute_result"
        }
      ],
      "source": [
        "df=%blob_ls hdblobstorage/velib_1h1\n",
        "df.head()"
      ]
    },
    {
      "cell_type": "markdown",
      "metadata": {},
      "source": [
        "## Exercice 1 : convertir les valeurs num\u00e9riques\n",
        "\n",
        "Le programme suivant prend comme argument les colonnes \u00e0 extraire des fichiers textes qui sont enregistr\u00e9s au format \"python\". Le streaming sur Azure est sensiblement diff\u00e9rent du streaming pr\u00e9sent\u00e9 avec Cloudera. Cette version fonctionne \u00e9galement avec Cloudera. La r\u00e9ciproque n'est pas vraie. Les scripts python sont interpr\u00e9t\u00e9s avec la machine virtuelle java tout comme pig. La solution suivante s'inspire de [Utilisation de Python avec Hive et Pig dans HDInsight](http://azure.microsoft.com/fr-fr/documentation/articles/hdinsight-python/). Voir \u00e9galement [Writing Jython UDFs](https://help.mortardata.com/technologies/pig/writing_jython_udfs).\n",
        "\n",
        "Cette \u00e9criture impose de comprendre la fa\u00e7on dont PIG d\u00e9crit les donn\u00e9es et l'utilisation de [schema](http://pig.apache.org/docs/r0.9.1/basic.html#Schemas). Le nom du script doit \u00eatre **jython.py** pour ce notebook sinon le compilateur PIG ne sait pas dans quel langage interpr\u00e9ter ce script.\n",
        "\n",
        "La version de jython utilis\u00e9e sur le cluster est ``2.5.3 (2.5:c56500f08d34+, Aug 13 2012, 14:54:35) [OpenJDK 64-Bit Server VM (Azul Systems, Inc.)]``.\n",
        "\n",
        "**La correction inclut encore un bug mais cela devrait \u00eatre bient\u00f4t corrig\u00e9. Cela est d\u00fb aux diff\u00e9rences Python/Jython.**"
      ]
    },
    {
      "cell_type": "code",
      "execution_count": 8,
      "metadata": {},
      "outputs": [],
      "source": [
        "import pyensae"
      ]
    },
    {
      "cell_type": "code",
      "execution_count": 9,
      "metadata": {},
      "outputs": [],
      "source": [
        "%%PYTHON jython.py\n",
        "\n",
        "import datetime, sys, re\n",
        "\n",
        "@outputSchema(\"brow: {(available_bike_stands:int, available_bikes:int, lat:double, lng:double, name:chararray, status:chararray)}\")\n",
        "def extract_columns_from_js(row):\n",
        "    # pour un programmeur python, les sch\u00e9ma sont contre plut\u00f4t intuitifs, \n",
        "    # { } veut dire une liste, \n",
        "    # ( ) un tuple dont chaque colonne est nomm\u00e9\n",
        "    # j'\u00e9crirai peut-\u00eatre une fonction d\u00e9termine le sch\u00e9ma en fonction des donn\u00e9es\n",
        "        \n",
        "    # il faut utiliser des expressions r\u00e9guli\u00e8res pour d\u00e9couper la ligne\n",
        "    # car cette expression ne fonctionne pas sur des lignes trop longues\n",
        "    # eval ( row )  --> revient \u00e0 \u00e9valuer une ligne de 500 Ko\n",
        "    # Hadoop s'arr\u00eate sans r\u00e9ellement proposer de message d'erreurs qui mettent sur la bonne voie\n",
        "    # dans ces cas-l\u00e0, il faut relancer le job apr\u00e8s avoir commenter des lignes\n",
        "    # jusqu'\u00e0 trouver celle qui provoque l'arr\u00eat brutal du programme\n",
        "    # arr\u00eat qui ne se v\u00e9rifie pas en local\n",
        "    \n",
        "    cols = [\"available_bike_stands\",\"available_bikes\",\"lat\",\"lng\",\"name\",\"status\"]\n",
        "    exp = re.compile (\"(\\\\{.*?\\\\})\")\n",
        "    rec = exp.findall(row)\n",
        "    res = []\n",
        "    for r in rec :\n",
        "        station = eval(r)\n",
        "        vals = [ str(station[c]) for c in cols ]\n",
        "        res.append(tuple(vals))\n",
        "    return res"
      ]
    },
    {
      "cell_type": "markdown",
      "metadata": {},
      "source": [
        "La v\u00e9rification qui suit ne fonctionne que si la fonction \u00e0 tester prend comme entr\u00e9e une cha\u00eene de caract\u00e8res mais rien n'emp\u00eache de de cr\u00e9er une telle fonction de fa\u00e7on temporaire juste pour v\u00e9rifier que le script fonctionne (avec Jython 2.5.3) :"
      ]
    },
    {
      "cell_type": "code",
      "execution_count": 10,
      "metadata": {},
      "outputs": [
        {
          "data": {
            "text/html": [
              "<pre>\n",
              "[('49', '1', '48.864527821', '2.41617072443', '31705 - CHAMPEAUX (BAGNOLET)', 'OPEN')]\n",
              "[('49', '1', '48.864527821', '2.41617072443', '31705 - CHAMPEAUX (BAGNOLET)', 'OPEN')]\n",
              "\n",
              "</pre>"
            ],
            "text/plain": [
              "<IPython.core.display.HTML object>"
            ]
          },
          "execution_count": 11,
          "metadata": {},
          "output_type": "execute_result"
        }
      ],
      "source": [
        "%%jython jython.py extract_columns_from_js\n",
        "[{'address': 'RUE DES CHAMPEAUX (PRES DE LA GARE ROUTIERE) - 93170 BAGNOLET', 'collect_date': datetime.datetime(2014, 11, 11, 22, 2, 18, 47270), 'lng': 2.416170724425901, 'contract_name': 'Paris', 'name': '31705 - CHAMPEAUX (BAGNOLET)', 'banking': 0, 'lat': 48.8645278209514, 'bonus': 0, 'status': 'OPEN', 'available_bikes': 1, 'last_update': datetime.datetime(2014, 11, 11, 21, 55, 22), 'number': 31705, 'available_bike_stands': 49, 'bike_stands': 50}]\n",
        "[{'address': 'RUE DES CHAMPEAUX (PRES DE LA GARE ROUTIERE) - 93170 BAGNOLET', 'collect_date': datetime.datetime(2014, 11, 11, 22, 2, 18, 47270), 'lng': 2.416170724425901, 'contract_name': 'Paris', 'name': '31705 - CHAMPEAUX (BAGNOLET)', 'banking': 0, 'lat': 48.8645278209514, 'bonus': 0, 'status': 'OPEN', 'available_bikes': 1, 'last_update': datetime.datetime(2014, 11, 11, 21, 55, 22), 'number': 31705, 'available_bike_stands': 49, 'bike_stands': 50}]"
      ]
    },
    {
      "cell_type": "markdown",
      "metadata": {},
      "source": [
        "On supprime la pr\u00e9c\u00e9dente ex\u00e9cution si besoin puis on v\u00e9rifie que le r\u00e9pertoire contenant les r\u00e9sultats est vide :"
      ]
    },
    {
      "cell_type": "code",
      "execution_count": 11,
      "metadata": {},
      "outputs": [
        {
          "name": "stdout",
          "output_type": "stream",
          "text": [
            "['axavieraz/velibpy_results/firstjob', 'axavieraz/velibpy_results/firstjob/_SUCCESS', 'axavieraz/velibpy_results/firstjob/part-m-00000']\n"
          ]
        }
      ],
      "source": [
        "if client.exists(bs, client.account_name, \"$PSEUDO/velibpy_results/firstjob\"):\n",
        "    r = client.delete_folder (bs, client.account_name, \"$PSEUDO/velibpy_results/firstjob\")\n",
        "    print(r)"
      ]
    },
    {
      "cell_type": "markdown",
      "metadata": {},
      "source": [
        "On \u00e9crit le script PIG qui utilise plus de colonnes :"
      ]
    },
    {
      "cell_type": "code",
      "execution_count": 12,
      "metadata": {},
      "outputs": [],
      "source": [
        "%%PIG json_velib_python.pig\n",
        "\n",
        "REGISTER '$CONTAINER/$SCRIPTPIG/jython.py' using jython as myfuncs;\n",
        "\n",
        "jspy = LOAD '$CONTAINER/velib_1h1/paris.*.txt' \n",
        "       USING PigStorage('\\t') AS (arow:chararray);\n",
        "\n",
        "DESCRIBE jspy ;\n",
        "\n",
        "matrice = FOREACH jspy GENERATE myfuncs.extract_columns_from_js(arow);\n",
        "DESCRIBE matrice ;\n",
        "\n",
        "multiply = FOREACH matrice GENERATE FLATTEN(brow) ;\n",
        "DESCRIBE multiply ;\n",
        "\n",
        "STORE multiply INTO '$CONTAINER/$PSEUDO/velibpy_results/firstjob' USING PigStorage('\\t') ;"
      ]
    },
    {
      "cell_type": "markdown",
      "metadata": {},
      "source": [
        "On soumet le job :"
      ]
    },
    {
      "cell_type": "code",
      "execution_count": 13,
      "metadata": {},
      "outputs": [
        {
          "data": {
            "text/plain": [
              "{'id': 'job_1446540516812_0222'}"
            ]
          },
          "execution_count": 14,
          "metadata": {},
          "output_type": "execute_result"
        }
      ],
      "source": [
        "jid = %hd_pig_submit json_velib_python.pig -d jython.py -o --stop-on-failure\n",
        "jid"
      ]
    },
    {
      "cell_type": "markdown",
      "metadata": {},
      "source": [
        "On regarde son statut : "
      ]
    },
    {
      "cell_type": "code",
      "execution_count": 14,
      "metadata": {},
      "outputs": [
        {
          "data": {
            "text/plain": [
              "('job_1446540516812_0222', '100% complete', 'done', True, 'SUCCEEDED')"
            ]
          },
          "execution_count": 15,
          "metadata": {},
          "output_type": "execute_result"
        }
      ],
      "source": [
        "st = %hd_job_status jid[\"id\"]\n",
        "(st[\"id\"],st[\"percentComplete\"],st[\"completed\"],\n",
        "st[\"status\"][\"jobComplete\"],st[\"status\"][\"state\"])"
      ]
    },
    {
      "cell_type": "markdown",
      "metadata": {},
      "source": [
        "On r\u00e9cup\u00e8re l'erreur :"
      ]
    },
    {
      "cell_type": "code",
      "execution_count": 15,
      "metadata": {
        "scrolled": false
      },
      "outputs": [
        {
          "data": {
            "text/html": [
              "<pre>\n",
              "\tat org.apache.hadoop.mapreduce.lib.input.FileInputFormat.listStatus(FileInputFormat.java:264)\n",
              "\tat org.apache.pig.backend.hadoop.executionengine.mapReduceLayer.PigTextInputFormat.listStatus(PigTextInputFormat.java:36)\n",
              "\tat org.apache.hadoop.mapreduce.lib.input.FileInputFormat.getSplits(FileInputFormat.java:385)\n",
              "\tat org.apache.pig.backend.hadoop.executionengine.mapReduceLayer.PigInputFormat.getSplits(PigInputFormat.java:265)\n",
              "\t... 18 more\n",
              "2015-11-15 18:30:24,368 [main] INFO  org.apache.pig.backend.hadoop.executionengine.mapReduceLayer.MapReduceLauncher - HadoopJobId: job_1446540516812_0223\n",
              "2015-11-15 18:30:24,368 [main] INFO  org.apache.pig.backend.hadoop.executionengine.mapReduceLayer.MapReduceLauncher - Processing aliases jspy,multiply\n",
              "2015-11-15 18:30:24,368 [main] INFO  org.apache.pig.backend.hadoop.executionengine.mapReduceLayer.MapReduceLauncher - detailed locations: M: jspy[4,7],multiply[-1,-1] C:  R: \n",
              "2015-11-15 18:30:24,368 [main] INFO  org.apache.pig.backend.hadoop.executionengine.mapReduceLayer.MapReduceLauncher - 0% complete\n",
              "2015-11-15 18:30:29,411 [main] WARN  org.apache.pig.backend.hadoop.executionengine.mapReduceLayer.MapReduceLauncher - Ooops! Some job has failed! Specify -stop_on_failure if you want Pig to stop immediately on failure.\n",
              "2015-11-15 18:30:29,411 [main] INFO  org.apache.pig.backend.hadoop.executionengine.mapReduceLayer.MapReduceLauncher - job job_1446540516812_0223 has failed! Stop running all dependent jobs\n",
              "2015-11-15 18:30:29,411 [main] INFO  org.apache.pig.backend.hadoop.executionengine.mapReduceLayer.MapReduceLauncher - 100% complete\n",
              "2015-11-15 18:30:29,661 [main] INFO  org.apache.hadoop.yarn.client.api.impl.TimelineClientImpl - Timeline service address: http://headnodehost:8188/ws/v1/timeline/\n",
              "2015-11-15 18:30:29,661 [main] INFO  org.apache.hadoop.yarn.client.RMProxy - Connecting to ResourceManager at headnodehost/100.89.128.19:9010\n",
              "2015-11-15 18:30:29,661 [main] INFO  org.apache.hadoop.yarn.client.AHSProxy - Connecting to Application History server at headnodehost/100.89.128.19:10200\n",
              "2015-11-15 18:30:29,880 [main] INFO  org.apache.hadoop.mapred.ClientServiceDelegate - Could not get Job info from RM for job job_1446540516812_0223. Redirecting to job history server.\n",
              "2015-11-15 18:30:30,724 [main] <b><font color=\"#DD0000\">ERROR</font></b> org.apache.pig.tools.pigstats.PigStats - <b><font color=\"#DD0000\">ERROR</font></b> 0: java.lang.IllegalStateException: Job in state DEFINE instead of RUNNING\n",
              "2015-11-15 18:30:30,724 [main] <b><font color=\"#DD0000\">ERROR</font></b> org.apache.pig.tools.pigstats.mapreduce.MRPigStatsUtil - 1 map reduce job(s) failed!\n",
              "2015-11-15 18:30:30,724 [main] INFO  org.apache.pig.tools.pigstats.mapreduce.SimplePigStats - Script Statistics: \n",
              "\n",
              "HadoopVersion\tPigVersion\tUserId\tStartedAt\tFinishedAt\tFeatures\n",
              "2.6.0.2.2.7.1-33\t0.14.0.2.2.7.1-33\thdp\t2015-11-15 18:30:20\t2015-11-15 18:30:30\tUNKNOWN\n",
              "\n",
              "Failed!\n",
              "\n",
              "Failed Jobs:\n",
              "JobId\tAlias\tFeature\tMessage\tOutputs\n",
              "job_1446540516812_0223\tjspy,multiply\tMAP_ONLY\tMessage: org.apache.pig.backend.executionengine.ExecException: <b><font color=\"#DD0000\">ERROR</font></b> 2118: Input Pattern wasb://hdblobstorage@hdblobstorage.blob.core.windows.net/velib_1h1/paris.*.txt matches 0 files\n",
              "\tat org.apache.pig.backend.hadoop.executionengine.mapReduceLayer.PigInputFormat.getSplits(PigInputFormat.java:279)\n",
              "\tat org.apache.hadoop.mapreduce.JobSubmitter.writeNewSplits(JobSubmitter.java:597)\n",
              "\tat org.apache.hadoop.mapreduce.JobSubmitter.writeSplits(JobSubmitter.java:614)\n",
              "\tat org.apache.hadoop.mapreduce.JobSubmitter.submitJobInternal(JobSubmitter.java:492)\n",
              "\tat org.apache.hadoop.mapreduce.Job$10.run(Job.java:1296)\n",
              "\tat org.apache.hadoop.mapreduce.Job$10.run(Job.java:1293)\n",
              "\tat java.security.AccessController.doPrivileged(Native Method)\n",
              "\tat javax.security.auth.Subject.doAs(Subject.java:415)\n",
              "\tat org.apache.hadoop.security.UserGroupInformation.doAs(UserGroupInformation.java:1628)\n",
              "\tat org.apache.hadoop.mapreduce.Job.submit(Job.java:1293)\n",
              "\tat org.apache.hadoop.mapreduce.lib.jobcontrol.ControlledJob.submit(ControlledJob.java:335)\n",
              "\tat sun.reflect.NativeMethodAccessorImpl.invoke0(Native Method)\n",
              "\tat sun.reflect.NativeMethodAccessorImpl.invoke(NativeMethodAccessorImpl.java:57)\n",
              "\tat sun.reflect.DelegatingMethodAccessorImpl.invoke(DelegatingMethodAccessorImpl.java:43)\n",
              "\tat java.lang.reflect.Method.invoke(Method.java:606)\n",
              "\tat org.apache.pig.backend.hadoop23.PigJobControl.submit(PigJobControl.java:128)\n",
              "\tat org.apache.pig.backend.hadoop23.PigJobControl.run(PigJobControl.java:194)\n",
              "\tat java.lang.Thread.run(Thread.java:745)\n",
              "\tat org.apache.pig.backend.hadoop.executionengine.mapReduceLayer.MapReduceLauncher$1.run(MapReduceLauncher.java:276)\n",
              "Caused by: org.apache.hadoop.mapreduce.lib.input.InvalidInputException: Input Pattern wasb://hdblobstorage@hdblobstorage.blob.core.windows.net/velib_1h1/paris.*.txt matches 0 files\n",
              "\tat org.apache.hadoop.mapreduce.lib.input.FileInputFormat.singleThreadedListStatus(FileInputFormat.java:321)\n",
              "\tat org.apache.hadoop.mapreduce.lib.input.FileInputFormat.listStatus(FileInputFormat.java:264)\n",
              "\tat org.apache.pig.backend.hadoop.executionengine.mapReduceLayer.PigTextInputFormat.listStatus(PigTextInputFormat.java:36)\n",
              "\tat org.apache.hadoop.mapreduce.lib.input.FileInputFormat.getSplits(FileInputFormat.java:385)\n",
              "\tat org.apache.pig.backend.hadoop.executionengine.mapReduceLayer.PigInputFormat.getSplits(PigInputFormat.java:265)\n",
              "\t... 18 more\n",
              "\twasb://hdblobstorage@hdblobstorage.blob.core.windows.net//axavieraz/velibpy_results/firstjob,\n",
              "\n",
              "Input(s):\n",
              "Failed to read data from \"wasb://hdblobstorage@hdblobstorage.blob.core.windows.net//velib_1h1/paris.*.txt\"\n",
              "\n",
              "Output(s):\n",
              "Failed to produce result in \"wasb://hdblobstorage@hdblobstorage.blob.core.windows.net//axavieraz/velibpy_results/firstjob\"\n",
              "\n",
              "Counters:\n",
              "Total records written : 0\n",
              "Total bytes written : 0\n",
              "Spillable Memory Manager spill count : 0\n",
              "Total bags proactively spilled: 0\n",
              "Total records proactively spilled: 0\n",
              "\n",
              "Job DAG:\n",
              "job_1446540516812_0223\n",
              "\n",
              "\n",
              "2015-11-15 18:30:30,724 [main] INFO  org.apache.pig.backend.hadoop.executionengine.mapReduceLayer.MapReduceLauncher - Failed!\n",
              "2015-11-15 18:30:30,755 [main] <b><font color=\"#DD0000\">ERROR</font></b> org.apache.pig.tools.grunt.GruntParser - <b><font color=\"#DD0000\">ERROR</font></b> 0: java.lang.IllegalStateException: Job in state DEFINE instead of RUNNING\n",
              "2015-11-15 18:30:30,755 [main] <b><font color=\"#DD0000\">ERROR</font></b> org.apache.pig.tools.grunt.GruntParser - org.apache.pig.backend.executionengine.ExecException: <b><font color=\"#DD0000\">ERROR</font></b> 0: java.lang.IllegalStateException: Job in state DEFINE instead of RUNNING\n",
              "\tat org.apache.pig.backend.hadoop.executionengine.mapReduceLayer.MapReduceLauncher.getStats(MapReduceLauncher.java:822)\n",
              "\tat org.apache.pig.backend.hadoop.executionengine.mapReduceLayer.MapReduceLauncher.launchPig(MapReduceLauncher.java:452)\n",
              "\tat org.apache.pig.backend.hadoop.executionengine.HExecutionEngine.launchPig(HExecutionEngine.java:282)\n",
              "\tat org.apache.pig.PigServer.launchPlan(PigServer.java:1390)\n",
              "\tat org.apache.pig.PigServer.executeCompiledLogicalPlan(PigServer.java:1375)\n",
              "\tat org.apache.pig.PigServer.execute(PigServer.java:1364)\n",
              "\tat org.apache.pig.PigServer.executeBatch(PigServer.java:415)\n",
              "\tat org.apache.pig.PigServer.executeBatch(PigServer.java:398)\n",
              "\tat org.apache.pig.tools.grunt.GruntParser.executeBatch(GruntParser.java:171)\n",
              "\tat org.apache.pig.tools.grunt.GruntParser.parseStopOnError(GruntParser.java:234)\n",
              "\tat org.apache.pig.tools.grunt.GruntParser.parseStopOnError(GruntParser.java:205)\n",
              "\tat org.apache.pig.tools.grunt.Grunt.exec(Grunt.java:81)\n",
              "\tat org.apache.pig.Main.run(Main.java:495)\n",
              "\tat org.apache.pig.Main.main(Main.java:170)\n",
              "Caused by: java.lang.IllegalStateException: Job in state DEFINE instead of RUNNING\n",
              "\tat org.apache.hadoop.mapreduce.Job.ensureState(Job.java:294)\n",
              "\tat org.apache.hadoop.mapreduce.Job.getTaskReports(Job.java:540)\n",
              "\tat org.apache.pig.backend.hadoop.executionengine.shims.HadoopShims.getTaskReports(HadoopShims.java:235)\n",
              "\tat org.apache.pig.backend.hadoop.executionengine.mapReduceLayer.MapReduceLauncher.getStats(MapReduceLauncher.java:801)\n",
              "\t... 13 more\n",
              "\n",
              "Details also at logfile: C:\\apps\\dist\\hadoop-2.6.0.2.2.7.1-33\\logs\\pig_1447612207167.log\n",
              "2015-11-15 18:30:30,786 [main] INFO  org.apache.pig.Main - Pig script completed in 23 seconds and 933 milliseconds (23933 ms)\n",
              "\n",
              "</pre><br /><b>OUT:</b><br /><pre>\n",
              "jspy: {arow: chararray}\n",
              "matrice: {brow: {(available_bike_stands: int,available_bikes: int,lat: double,lng: double,name: chararray,status: chararray)}}\n",
              "multiply: {brow::available_bike_stands: int,brow::available_bikes: int,brow::lat: double,brow::lng: double,brow::name: chararray,brow::status: chararray}\n",
              "\n",
              "</pre>"
            ],
            "text/plain": [
              "<IPython.core.display.HTML object>"
            ]
          },
          "execution_count": 16,
          "metadata": {},
          "output_type": "execute_result"
        }
      ],
      "source": [
        "%hd_tail_stderr jid[\"id\"] -n 100"
      ]
    },
    {
      "cell_type": "code",
      "execution_count": 16,
      "metadata": {},
      "outputs": [
        {
          "data": {
            "text/html": [
              "<div>\n",
              "<table border=\"1\" class=\"dataframe\">\n",
              "  <thead>\n",
              "    <tr style=\"text-align: right;\">\n",
              "      <th></th>\n",
              "      <th>name</th>\n",
              "      <th>last_modified</th>\n",
              "      <th>content_type</th>\n",
              "      <th>content_length</th>\n",
              "      <th>blob_type</th>\n",
              "    </tr>\n",
              "  </thead>\n",
              "  <tbody>\n",
              "    <tr>\n",
              "      <th>0</th>\n",
              "      <td>axavieraz/velibpy_results</td>\n",
              "      <td>Sun, 15 Nov 2015 18:24:17 GMT</td>\n",
              "      <td>application/octet-stream</td>\n",
              "      <td>0</td>\n",
              "      <td>BlockBlob</td>\n",
              "    </tr>\n",
              "    <tr>\n",
              "      <th>1</th>\n",
              "      <td>axavieraz/velibpy_results/firstjob</td>\n",
              "      <td>Sun, 15 Nov 2015 18:24:42 GMT</td>\n",
              "      <td></td>\n",
              "      <td>0</td>\n",
              "      <td>BlockBlob</td>\n",
              "    </tr>\n",
              "    <tr>\n",
              "      <th>2</th>\n",
              "      <td>axavieraz/velibpy_results/firstjob/_SUCCESS</td>\n",
              "      <td>Sun, 15 Nov 2015 18:24:42 GMT</td>\n",
              "      <td>application/octet-stream</td>\n",
              "      <td>0</td>\n",
              "      <td>BlockBlob</td>\n",
              "    </tr>\n",
              "    <tr>\n",
              "      <th>3</th>\n",
              "      <td>axavieraz/velibpy_results/firstjob/part-m-00000</td>\n",
              "      <td>Sun, 15 Nov 2015 18:24:42 GMT</td>\n",
              "      <td>application/octet-stream</td>\n",
              "      <td>76956</td>\n",
              "      <td>BlockBlob</td>\n",
              "    </tr>\n",
              "  </tbody>\n",
              "</table>\n",
              "</div>"
            ],
            "text/plain": [
              "                                              name  \\\n",
              "0                        axavieraz/velibpy_results   \n",
              "1               axavieraz/velibpy_results/firstjob   \n",
              "2      axavieraz/velibpy_results/firstjob/_SUCCESS   \n",
              "3  axavieraz/velibpy_results/firstjob/part-m-00000   \n",
              "\n",
              "                   last_modified              content_type  content_length  \\\n",
              "0  Sun, 15 Nov 2015 18:24:17 GMT  application/octet-stream               0   \n",
              "1  Sun, 15 Nov 2015 18:24:42 GMT                                         0   \n",
              "2  Sun, 15 Nov 2015 18:24:42 GMT  application/octet-stream               0   \n",
              "3  Sun, 15 Nov 2015 18:24:42 GMT  application/octet-stream           76956   \n",
              "\n",
              "   blob_type  \n",
              "0  BlockBlob  \n",
              "1  BlockBlob  \n",
              "2  BlockBlob  \n",
              "3  BlockBlob  "
            ]
          },
          "execution_count": 17,
          "metadata": {},
          "output_type": "execute_result"
        }
      ],
      "source": [
        "%blob_ls /$PSEUDO/velibpy_results"
      ]
    },
    {
      "cell_type": "markdown",
      "metadata": {},
      "source": [
        "On r\u00e9cup\u00e8re les informations qu'on affiche sous forme de dataframe :"
      ]
    },
    {
      "cell_type": "code",
      "execution_count": 17,
      "metadata": {},
      "outputs": [
        {
          "data": {
            "text/plain": [
              "'velib_exo1.txt'"
            ]
          },
          "execution_count": 18,
          "metadata": {},
          "output_type": "execute_result"
        }
      ],
      "source": [
        "if os.path.exists(\"velib_exo1.txt\") : os.remove(\"velib_exo1.txt\")\n",
        "%blob_downmerge /$PSEUDO/velibpy_results/firstjob velib_exo1.txt"
      ]
    },
    {
      "cell_type": "code",
      "execution_count": 18,
      "metadata": {},
      "outputs": [
        {
          "data": {
            "text/html": [
              "<pre>\n",
              "47\t3\t48.864527821\t2.41617072443\t31705 - CHAMPEAUX (BAGNOLET)\tOPEN\n",
              "5\t28\t48.8724200631\t2.34839523628\t10042 - POISSONNI\u00c3\u0088RE - ENGHIEN\tOPEN\n",
              "42\t1\t48.8821489456\t2.31986005477\t08020 - METRO ROME\tOPEN\n",
              "5\t31\t48.8682170168\t2.3304935114\t01022 - RUE DE LA PAIX\tOPEN\n",
              "20\t5\t48.8932686647\t2.41271573339\t35014 - DE GAULLE (PANTIN)\tOPEN\n",
              "23\t3\t48.8703936716\t2.38422247271\t20040 - PARC DE BELLEVILLE\tOPEN\n",
              "0\t60\t48.884478\t2.24772065\t28002 - SOLJENITSYNE (PUTEAUX)\tOPEN\n",
              "12\t12\t48.8346588628\t2.29578948032\t15111 - SERRES\tOPEN\n",
              "2\t51\t48.8390411459\t2.43765533908\t12124 - PYRAMIDE ARTILLERIE\tCLOSED\n",
              "16\t6\t48.8778722783\t2.3374468042\t09021 - SAINT GEORGES\tOPEN\n",
              "\n",
              "</pre>"
            ],
            "text/plain": [
              "<IPython.core.display.HTML at 0xaa9fb70>"
            ]
          },
          "execution_count": 19,
          "metadata": {},
          "output_type": "execute_result"
        }
      ],
      "source": [
        "%head velib_exo1.txt"
      ]
    },
    {
      "cell_type": "code",
      "execution_count": 19,
      "metadata": {},
      "outputs": [
        {
          "data": {
            "text/html": [
              "<div style=\"max-height:1000px;max-width:1500px;overflow:auto;\">\n",
              "<table border=\"1\" class=\"dataframe\">\n",
              "  <thead>\n",
              "    <tr style=\"text-align: right;\">\n",
              "      <th></th>\n",
              "      <th>available_bike_stands</th>\n",
              "      <th>available_bikes</th>\n",
              "      <th>lat</th>\n",
              "      <th>lng</th>\n",
              "      <th>name</th>\n",
              "      <th>status</th>\n",
              "    </tr>\n",
              "  </thead>\n",
              "  <tbody>\n",
              "    <tr>\n",
              "      <th>0</th>\n",
              "      <td> 47</td>\n",
              "      <td>  3</td>\n",
              "      <td> 48.864528</td>\n",
              "      <td> 2.416171</td>\n",
              "      <td>   31705 - CHAMPEAUX (BAGNOLET)</td>\n",
              "      <td> OPEN</td>\n",
              "    </tr>\n",
              "    <tr>\n",
              "      <th>1</th>\n",
              "      <td>  5</td>\n",
              "      <td> 28</td>\n",
              "      <td> 48.872420</td>\n",
              "      <td> 2.348395</td>\n",
              "      <td> 10042 - POISSONNI\u00c8RE - ENGHIEN</td>\n",
              "      <td> OPEN</td>\n",
              "    </tr>\n",
              "    <tr>\n",
              "      <th>2</th>\n",
              "      <td> 42</td>\n",
              "      <td>  1</td>\n",
              "      <td> 48.882149</td>\n",
              "      <td> 2.319860</td>\n",
              "      <td>             08020 - METRO ROME</td>\n",
              "      <td> OPEN</td>\n",
              "    </tr>\n",
              "    <tr>\n",
              "      <th>3</th>\n",
              "      <td>  5</td>\n",
              "      <td> 31</td>\n",
              "      <td> 48.868217</td>\n",
              "      <td> 2.330494</td>\n",
              "      <td>         01022 - RUE DE LA PAIX</td>\n",
              "      <td> OPEN</td>\n",
              "    </tr>\n",
              "    <tr>\n",
              "      <th>4</th>\n",
              "      <td> 20</td>\n",
              "      <td>  5</td>\n",
              "      <td> 48.893269</td>\n",
              "      <td> 2.412716</td>\n",
              "      <td>     35014 - DE GAULLE (PANTIN)</td>\n",
              "      <td> OPEN</td>\n",
              "    </tr>\n",
              "  </tbody>\n",
              "</table>\n",
              "</div>"
            ],
            "text/plain": [
              "   available_bike_stands  available_bikes        lat       lng  \\\n",
              "0                     47                3  48.864528  2.416171   \n",
              "1                      5               28  48.872420  2.348395   \n",
              "2                     42                1  48.882149  2.319860   \n",
              "3                      5               31  48.868217  2.330494   \n",
              "4                     20                5  48.893269  2.412716   \n",
              "\n",
              "                             name status  \n",
              "0    31705 - CHAMPEAUX (BAGNOLET)   OPEN  \n",
              "1  10042 - POISSONNI\u00c8RE - ENGHIEN   OPEN  \n",
              "2              08020 - METRO ROME   OPEN  \n",
              "3          01022 - RUE DE LA PAIX   OPEN  \n",
              "4      35014 - DE GAULLE (PANTIN)   OPEN  "
            ]
          },
          "execution_count": 20,
          "metadata": {},
          "output_type": "execute_result"
        }
      ],
      "source": [
        "import pandas\n",
        "df = pandas.read_csv(\"velib_hd.txt\", sep=\"\\t\",\n",
        "                     names=[\"available_bike_stands\",\"available_bikes\",\"lat\",\"lng\",\"name\",\"status\"])\n",
        "df.head()"
      ]
    },
    {
      "cell_type": "markdown",
      "metadata": {},
      "source": [
        "## Exercice 2 : stations ferm\u00e9es\n",
        "    \n",
        "Les stations ferm\u00e9es ne le sont pas tout le temps. On veut calculer le ratio minutes/stations ferm\u00e9es / total des minutes/stations. Le script python permettant de lire les donn\u00e9es ne change pas, il suffit juste de d\u00e9clarer les sorties num\u00e9riques comme telles. Quelques d\u00e9tails sur les tables :\n",
        "\n",
        "* ``jspy`` : contient les donn\u00e9es brutes dans une liste de fichiers\n",
        "* ``matrice`` : d'apr\u00e8s le job qui pr\u00e9c\u00e8de, la table contient une ligne par stations et par minute, chaque ligne d\u00e9crit le status de la station\n",
        "* ``grstation`` : table ``matrice`` group\u00e9e par status\n",
        "* ``fermees`` : pour chaque groupe, on aggr\u00e9g\u00e9 le nombre de minutes multipli\u00e9s par le nombre de v\u00e9los\n",
        "* ``gr*,dist*`` : distribution du nombre de stations (Y) en fonction du nombre de v\u00e9los ou places disponibles"
      ]
    },
    {
      "cell_type": "markdown",
      "metadata": {},
      "source": [
        "En cas d'ex\u00e9cution pr\u00e9c\u00e9dentes :"
      ]
    },
    {
      "cell_type": "code",
      "execution_count": 20,
      "metadata": {},
      "outputs": [
        {
          "name": "stdout",
          "output_type": "stream",
          "text": [
            "['xavierdupre/velibpy_results/fermees.txt']\n",
            "['xavierdupre/velibpy_results/distribution_bikes.txt']\n",
            "['xavierdupre/velibpy_results/distribution_stands.txt']\n"
          ]
        }
      ],
      "source": [
        "for sub in [ \"multiply.txt\"]:\n",
        "    if client.exists(bs, client.account_name, \"$PSEUDO/velibpy_results/\" + sub):\n",
        "        r = client.delete_folder (bs, client.account_name, \"$PSEUDO/velibpy_results/\" + sub)\n",
        "        print(r)"
      ]
    },
    {
      "cell_type": "markdown",
      "metadata": {},
      "source": [
        "On va ex\u00e9cuter le job en deux fois. Le premier job met tout \u00e0 plat. Le second calcule les aggr\u00e9gations. La plupart du temps, le travaille de recherche concerne la seconde partie. Mais si le job n'est pas scind\u00e9, la premi\u00e8re partie est toujours ex\u00e9cut\u00e9e \u00e0 chaque it\u00e9ration. Dans ce cas-ci, on scinde le job en deux. La premi\u00e8re partie forme une table \u00e0 partir des donn\u00e9es initiales. La seconde les agr\u00e8gre."
      ]
    },
    {
      "cell_type": "code",
      "execution_count": 21,
      "metadata": {},
      "outputs": [],
      "source": [
        "%%PIG json_velib_python2.pig\n",
        "\n",
        "REGISTER '$CONTAINER/$SCRIPTPIG/jython.py' using jython as myfuncs;\n",
        "\n",
        "jspy = LOAD '$CONTAINER/velib_1h1/*.txt' USING PigStorage('\\t') AS (arow:chararray);\n",
        "\n",
        "DESCRIBE jspy ;\n",
        "\n",
        "matrice = FOREACH jspy GENERATE myfuncs.extract_columns_from_js(arow);\n",
        "DESCRIBE matrice ;\n",
        "\n",
        "multiply = FOREACH matrice GENERATE FLATTEN(brow) ;\n",
        "DESCRIBE multiply ;\n",
        "\n",
        "STORE multiply INTO '$CONTAINER/$PSEUDO/velibpy_results/multiply.txt' USING PigStorage('\\t') ;"
      ]
    },
    {
      "cell_type": "code",
      "execution_count": 22,
      "metadata": {},
      "outputs": [
        {
          "data": {
            "text/plain": [
              "{'id': 'job_1416874839254_0125'}"
            ]
          },
          "execution_count": 23,
          "metadata": {},
          "output_type": "execute_result"
        }
      ],
      "source": [
        "jid = %hd_pig_submit json_velib_python2.pig -d jython.py --stop-on-failure\n",
        "jid"
      ]
    },
    {
      "cell_type": "code",
      "execution_count": 23,
      "metadata": {},
      "outputs": [
        {
          "data": {
            "text/plain": [
              "('job_1416874839254_0125', '100% complete', True)"
            ]
          },
          "execution_count": 24,
          "metadata": {},
          "output_type": "execute_result"
        }
      ],
      "source": [
        "st = %hd_job_status jid[\"id\"]\n",
        "st[\"id\"],st[\"percentComplete\"],st[\"status\"][\"jobComplete\"]"
      ]
    },
    {
      "cell_type": "code",
      "execution_count": 24,
      "metadata": {},
      "outputs": [
        {
          "data": {
            "text/html": [
              "<div style=\"max-height:1000px;max-width:1500px;overflow:auto;\">\n",
              "<table border=\"1\" class=\"dataframe\">\n",
              "  <thead>\n",
              "    <tr style=\"text-align: right;\">\n",
              "      <th></th>\n",
              "      <th>name</th>\n",
              "      <th>last_modified</th>\n",
              "      <th>content_type</th>\n",
              "      <th>content_length</th>\n",
              "      <th>blob_type</th>\n",
              "    </tr>\n",
              "  </thead>\n",
              "  <tbody>\n",
              "    <tr>\n",
              "      <th>0</th>\n",
              "      <td>          xavierdupre/velibpy_results/multiply.txt</td>\n",
              "      <td> Fri, 28 Nov 2014 01:46:41 GMT</td>\n",
              "      <td>                         </td>\n",
              "      <td>       0</td>\n",
              "      <td> BlockBlob</td>\n",
              "    </tr>\n",
              "    <tr>\n",
              "      <th>1</th>\n",
              "      <td> xavierdupre/velibpy_results/multiply.txt/_SUCCESS</td>\n",
              "      <td> Fri, 28 Nov 2014 01:46:41 GMT</td>\n",
              "      <td> application/octet-stream</td>\n",
              "      <td>       0</td>\n",
              "      <td> BlockBlob</td>\n",
              "    </tr>\n",
              "    <tr>\n",
              "      <th>2</th>\n",
              "      <td> xavierdupre/velibpy_results/multiply.txt/part-...</td>\n",
              "      <td> Fri, 28 Nov 2014 01:46:41 GMT</td>\n",
              "      <td> application/octet-stream</td>\n",
              "      <td> 4693699</td>\n",
              "      <td> BlockBlob</td>\n",
              "    </tr>\n",
              "  </tbody>\n",
              "</table>\n",
              "</div>"
            ],
            "text/plain": [
              "                                                name  \\\n",
              "0           xavierdupre/velibpy_results/multiply.txt   \n",
              "1  xavierdupre/velibpy_results/multiply.txt/_SUCCESS   \n",
              "2  xavierdupre/velibpy_results/multiply.txt/part-...   \n",
              "\n",
              "                   last_modified              content_type  content_length  \\\n",
              "0  Fri, 28 Nov 2014 01:46:41 GMT                                         0   \n",
              "1  Fri, 28 Nov 2014 01:46:41 GMT  application/octet-stream               0   \n",
              "2  Fri, 28 Nov 2014 01:46:41 GMT  application/octet-stream         4693699   \n",
              "\n",
              "   blob_type  \n",
              "0  BlockBlob  \n",
              "1  BlockBlob  \n",
              "2  BlockBlob  "
            ]
          },
          "execution_count": 25,
          "metadata": {},
          "output_type": "execute_result"
        }
      ],
      "source": [
        "%blob_ls /$PSEUDO/velibpy_results/multiply.txt"
      ]
    },
    {
      "cell_type": "code",
      "execution_count": 25,
      "metadata": {},
      "outputs": [
        {
          "name": "stdout",
          "output_type": "stream",
          "text": [
            "['xavierdupre/velibpy_results/fermees.txt', 'xavierdupre/velibpy_results/fermees.txt/_temporary', 'xavierdupre/velibpy_results/fermees.txt/_temporary/1']\n",
            "['xavierdupre/velibpy_results/distribution_bikes.txt', 'xavierdupre/velibpy_results/distribution_bikes.txt/_temporary', 'xavierdupre/velibpy_results/distribution_bikes.txt/_temporary/1']\n",
            "['xavierdupre/velibpy_results/distribution_stands.txt', 'xavierdupre/velibpy_results/distribution_stands.txt/_temporary', 'xavierdupre/velibpy_results/distribution_stands.txt/_temporary/1']\n"
          ]
        }
      ],
      "source": [
        "for sub in [\"fermees.txt\", \"distribution_bikes.txt\", \"distribution_stands.txt\"]:\n",
        "    if client.exists(bs, client.account_name, \"$PSEUDO/velibpy_results/\" + sub):\n",
        "        r = client.delete_folder (bs, client.account_name, \"$PSEUDO/velibpy_results/\" + sub)\n",
        "        print(r)"
      ]
    },
    {
      "cell_type": "code",
      "execution_count": 26,
      "metadata": {},
      "outputs": [],
      "source": [
        "%%PIG json_velib_python3.pig\n",
        "\n",
        "multiply = LOAD '$CONTAINER/$PSEUDO/velibpy_results/multiply.txt' USING PigStorage('\\t') AS \n",
        "        (available_bike_stands:int, available_bikes:int, lat:double, lng:double, name:chararray, status:chararray) ;\n",
        "DESCRIBE multiply ;    \n",
        "\n",
        "grstation = GROUP multiply BY status ;  \n",
        "DESCRIBE grstation ;\n",
        "\n",
        "fermees = FOREACH grstation GENERATE\n",
        "                 group\n",
        "                ,SUM(multiply.available_bikes) AS available_bikes\n",
        "                ,SUM(multiply.available_bike_stands) AS available_bike_stands \n",
        "                ;\n",
        "DESCRIBE fermees ;                \n",
        "\n",
        "gr_av   = GROUP multiply BY available_bikes ;\n",
        "DESCRIBE gr_av;\n",
        "\n",
        "dist_av = FOREACH gr_av GENERATE group, COUNT(multiply) ;\n",
        "DESCRIBE dist_av;\n",
        "\n",
        "gr_pl   = GROUP multiply BY available_bike_stands ;\n",
        "DESCRIBE gr_pl;\n",
        "\n",
        "dist_pl = FOREACH gr_pl GENERATE group, COUNT(multiply) ;\n",
        "DESCRIBE dist_pl;\n",
        "\n",
        "STORE fermees INTO '$CONTAINER/$PSEUDO/velibpy_results/fermees.txt' USING PigStorage('\\t') ;\n",
        "STORE dist_av INTO '$CONTAINER/$PSEUDO/velibpy_results/distribution_bikes.txt' USING PigStorage('\\t') ;\n",
        "STORE dist_pl INTO '$CONTAINER/$PSEUDO/velibpy_results/distribution_stands.txt' USING PigStorage('\\t') ;"
      ]
    },
    {
      "cell_type": "code",
      "execution_count": 27,
      "metadata": {},
      "outputs": [
        {
          "data": {
            "text/plain": [
              "{'id': 'job_1416874839254_0127'}"
            ]
          },
          "execution_count": 28,
          "metadata": {},
          "output_type": "execute_result"
        }
      ],
      "source": [
        "jid = %hd_pig_submit json_velib_python3.pig --stop-on-failure\n",
        "jid"
      ]
    },
    {
      "cell_type": "code",
      "execution_count": 28,
      "metadata": {},
      "outputs": [
        {
          "data": {
            "text/plain": [
              "('job_1416874839254_0127', '100% complete', True)"
            ]
          },
          "execution_count": 29,
          "metadata": {},
          "output_type": "execute_result"
        }
      ],
      "source": [
        "st = %hd_job_status jid[\"id\"]\n",
        "st[\"id\"],st[\"percentComplete\"],st[\"status\"][\"jobComplete\"]"
      ]
    },
    {
      "cell_type": "code",
      "execution_count": 29,
      "metadata": {},
      "outputs": [
        {
          "data": {
            "text/html": [
              "<pre>\n",
              "job_1416874839254_0128\n",
              "\n",
              "\n",
              "2014-11-28 01:51:00,154 [main] WARN  org.apache.pig.backend.hadoop.executionengine.mapReduceLayer.MapReduceLauncher - No FileSystem for scheme: wasb. Not creating success file\n",
              "2014-11-28 01:51:00,154 [main] WARN  org.apache.pig.backend.hadoop.executionengine.mapReduceLayer.MapReduceLauncher - No FileSystem for scheme: wasb. Not creating success file\n",
              "2014-11-28 01:51:00,154 [main] WARN  org.apache.pig.backend.hadoop.executionengine.mapReduceLayer.MapReduceLauncher - No FileSystem for scheme: wasb. Not creating success file\n",
              "2014-11-28 01:51:00,154 [main] INFO  org.apache.hadoop.yarn.client.RMProxy - Connecting to ResourceManager at headnodehost/100.74.20.101:9010\n",
              "2014-11-28 01:51:00,279 [main] INFO  org.apache.hadoop.mapred.ClientServiceDelegate - Application state is completed. FinalApplicationStatus=SUCCEEDED. Redirecting to job history server\n",
              "2014-11-28 01:51:01,592 [main] INFO  org.apache.pig.backend.hadoop.executionengine.mapReduceLayer.MapReduceLauncher - Success!\n",
              "\n",
              "</pre><br /><b>OUT:</b><br /><pre>\n",
              "multiply: {available_bike_stands: int,available_bikes: int,lat: double,lng: double,name: chararray,status: chararray}\n",
              "grstation: {group: chararray,multiply: {(available_bike_stands: int,available_bikes: int,lat: double,lng: double,name: chararray,status: chararray)}}\n",
              "fermees: {group: chararray,available_bikes: long,available_bike_stands: long}\n",
              "gr_av: {group: int,multiply: {(available_bike_stands: int,available_bikes: int,lat: double,lng: double,name: chararray,status: chararray)}}\n",
              "dist_av: {group: int,long}\n",
              "gr_pl: {group: int,multiply: {(available_bike_stands: int,available_bikes: int,lat: double,lng: double,name: chararray,status: chararray)}}\n",
              "dist_pl: {group: int,long}\n",
              "\n",
              "</pre>"
            ],
            "text/plain": [
              "<IPython.core.display.HTML at 0xc285b50>"
            ]
          },
          "execution_count": 30,
          "metadata": {},
          "output_type": "execute_result"
        }
      ],
      "source": [
        "%tail_stderr jid[\"id\"] 10"
      ]
    },
    {
      "cell_type": "code",
      "execution_count": 30,
      "metadata": {},
      "outputs": [
        {
          "data": {
            "text/html": [
              "<div style=\"max-height:1000px;max-width:1500px;overflow:auto;\">\n",
              "<table border=\"1\" class=\"dataframe\">\n",
              "  <thead>\n",
              "    <tr style=\"text-align: right;\">\n",
              "      <th></th>\n",
              "      <th>name</th>\n",
              "      <th>last_modified</th>\n",
              "      <th>content_type</th>\n",
              "      <th>content_length</th>\n",
              "      <th>blob_type</th>\n",
              "    </tr>\n",
              "  </thead>\n",
              "  <tbody>\n",
              "    <tr>\n",
              "      <th>0 </th>\n",
              "      <td>                       xavierdupre/velibpy_results</td>\n",
              "      <td> Thu, 27 Nov 2014 08:56:03 GMT</td>\n",
              "      <td> application/octet-stream</td>\n",
              "      <td>       0</td>\n",
              "      <td> BlockBlob</td>\n",
              "    </tr>\n",
              "    <tr>\n",
              "      <th>1 </th>\n",
              "      <td> xavierdupre/velibpy_results/distribution_bikes...</td>\n",
              "      <td> Fri, 28 Nov 2014 01:50:54 GMT</td>\n",
              "      <td>                         </td>\n",
              "      <td>       0</td>\n",
              "      <td> BlockBlob</td>\n",
              "    </tr>\n",
              "    <tr>\n",
              "      <th>2 </th>\n",
              "      <td> xavierdupre/velibpy_results/distribution_bikes...</td>\n",
              "      <td> Fri, 28 Nov 2014 01:50:54 GMT</td>\n",
              "      <td> application/octet-stream</td>\n",
              "      <td>       0</td>\n",
              "      <td> BlockBlob</td>\n",
              "    </tr>\n",
              "    <tr>\n",
              "      <th>3 </th>\n",
              "      <td> xavierdupre/velibpy_results/distribution_bikes...</td>\n",
              "      <td> Fri, 28 Nov 2014 01:50:54 GMT</td>\n",
              "      <td> application/octet-stream</td>\n",
              "      <td>     497</td>\n",
              "      <td> BlockBlob</td>\n",
              "    </tr>\n",
              "    <tr>\n",
              "      <th>4 </th>\n",
              "      <td> xavierdupre/velibpy_results/distribution_stand...</td>\n",
              "      <td> Fri, 28 Nov 2014 01:50:55 GMT</td>\n",
              "      <td>                         </td>\n",
              "      <td>       0</td>\n",
              "      <td> BlockBlob</td>\n",
              "    </tr>\n",
              "    <tr>\n",
              "      <th>5 </th>\n",
              "      <td> xavierdupre/velibpy_results/distribution_stand...</td>\n",
              "      <td> Fri, 28 Nov 2014 01:50:55 GMT</td>\n",
              "      <td> application/octet-stream</td>\n",
              "      <td>       0</td>\n",
              "      <td> BlockBlob</td>\n",
              "    </tr>\n",
              "    <tr>\n",
              "      <th>6 </th>\n",
              "      <td> xavierdupre/velibpy_results/distribution_stand...</td>\n",
              "      <td> Fri, 28 Nov 2014 01:50:55 GMT</td>\n",
              "      <td> application/octet-stream</td>\n",
              "      <td>     477</td>\n",
              "      <td> BlockBlob</td>\n",
              "    </tr>\n",
              "    <tr>\n",
              "      <th>7 </th>\n",
              "      <td>           xavierdupre/velibpy_results/fermees.txt</td>\n",
              "      <td> Fri, 28 Nov 2014 01:50:54 GMT</td>\n",
              "      <td>                         </td>\n",
              "      <td>       0</td>\n",
              "      <td> BlockBlob</td>\n",
              "    </tr>\n",
              "    <tr>\n",
              "      <th>8 </th>\n",
              "      <td>  xavierdupre/velibpy_results/fermees.txt/_SUCCESS</td>\n",
              "      <td> Fri, 28 Nov 2014 01:50:54 GMT</td>\n",
              "      <td> application/octet-stream</td>\n",
              "      <td>       0</td>\n",
              "      <td> BlockBlob</td>\n",
              "    </tr>\n",
              "    <tr>\n",
              "      <th>9 </th>\n",
              "      <td> xavierdupre/velibpy_results/fermees.txt/part-r...</td>\n",
              "      <td> Fri, 28 Nov 2014 01:50:53 GMT</td>\n",
              "      <td> application/octet-stream</td>\n",
              "      <td>      37</td>\n",
              "      <td> BlockBlob</td>\n",
              "    </tr>\n",
              "    <tr>\n",
              "      <th>10</th>\n",
              "      <td>              xavierdupre/velibpy_results/firstjob</td>\n",
              "      <td> Thu, 27 Nov 2014 22:39:39 GMT</td>\n",
              "      <td>                         </td>\n",
              "      <td>       0</td>\n",
              "      <td> BlockBlob</td>\n",
              "    </tr>\n",
              "    <tr>\n",
              "      <th>11</th>\n",
              "      <td>     xavierdupre/velibpy_results/firstjob/_SUCCESS</td>\n",
              "      <td> Thu, 27 Nov 2014 22:39:39 GMT</td>\n",
              "      <td> application/octet-stream</td>\n",
              "      <td>       0</td>\n",
              "      <td> BlockBlob</td>\n",
              "    </tr>\n",
              "    <tr>\n",
              "      <th>12</th>\n",
              "      <td> xavierdupre/velibpy_results/firstjob/part-m-00000</td>\n",
              "      <td> Thu, 27 Nov 2014 22:39:39 GMT</td>\n",
              "      <td> application/octet-stream</td>\n",
              "      <td> 4693699</td>\n",
              "      <td> BlockBlob</td>\n",
              "    </tr>\n",
              "    <tr>\n",
              "      <th>13</th>\n",
              "      <td>          xavierdupre/velibpy_results/multiply.txt</td>\n",
              "      <td> Fri, 28 Nov 2014 01:46:41 GMT</td>\n",
              "      <td>                         </td>\n",
              "      <td>       0</td>\n",
              "      <td> BlockBlob</td>\n",
              "    </tr>\n",
              "    <tr>\n",
              "      <th>14</th>\n",
              "      <td> xavierdupre/velibpy_results/multiply.txt/_SUCCESS</td>\n",
              "      <td> Fri, 28 Nov 2014 01:46:41 GMT</td>\n",
              "      <td> application/octet-stream</td>\n",
              "      <td>       0</td>\n",
              "      <td> BlockBlob</td>\n",
              "    </tr>\n",
              "    <tr>\n",
              "      <th>15</th>\n",
              "      <td> xavierdupre/velibpy_results/multiply.txt/part-...</td>\n",
              "      <td> Fri, 28 Nov 2014 01:46:41 GMT</td>\n",
              "      <td> application/octet-stream</td>\n",
              "      <td> 4693699</td>\n",
              "      <td> BlockBlob</td>\n",
              "    </tr>\n",
              "  </tbody>\n",
              "</table>\n",
              "</div>"
            ],
            "text/plain": [
              "                                                 name  \\\n",
              "0                         xavierdupre/velibpy_results   \n",
              "1   xavierdupre/velibpy_results/distribution_bikes...   \n",
              "2   xavierdupre/velibpy_results/distribution_bikes...   \n",
              "3   xavierdupre/velibpy_results/distribution_bikes...   \n",
              "4   xavierdupre/velibpy_results/distribution_stand...   \n",
              "5   xavierdupre/velibpy_results/distribution_stand...   \n",
              "6   xavierdupre/velibpy_results/distribution_stand...   \n",
              "7             xavierdupre/velibpy_results/fermees.txt   \n",
              "8    xavierdupre/velibpy_results/fermees.txt/_SUCCESS   \n",
              "9   xavierdupre/velibpy_results/fermees.txt/part-r...   \n",
              "10               xavierdupre/velibpy_results/firstjob   \n",
              "11      xavierdupre/velibpy_results/firstjob/_SUCCESS   \n",
              "12  xavierdupre/velibpy_results/firstjob/part-m-00000   \n",
              "13           xavierdupre/velibpy_results/multiply.txt   \n",
              "14  xavierdupre/velibpy_results/multiply.txt/_SUCCESS   \n",
              "15  xavierdupre/velibpy_results/multiply.txt/part-...   \n",
              "\n",
              "                    last_modified              content_type  content_length  \\\n",
              "0   Thu, 27 Nov 2014 08:56:03 GMT  application/octet-stream               0   \n",
              "1   Fri, 28 Nov 2014 01:50:54 GMT                                         0   \n",
              "2   Fri, 28 Nov 2014 01:50:54 GMT  application/octet-stream               0   \n",
              "3   Fri, 28 Nov 2014 01:50:54 GMT  application/octet-stream             497   \n",
              "4   Fri, 28 Nov 2014 01:50:55 GMT                                         0   \n",
              "5   Fri, 28 Nov 2014 01:50:55 GMT  application/octet-stream               0   \n",
              "6   Fri, 28 Nov 2014 01:50:55 GMT  application/octet-stream             477   \n",
              "7   Fri, 28 Nov 2014 01:50:54 GMT                                         0   \n",
              "8   Fri, 28 Nov 2014 01:50:54 GMT  application/octet-stream               0   \n",
              "9   Fri, 28 Nov 2014 01:50:53 GMT  application/octet-stream              37   \n",
              "10  Thu, 27 Nov 2014 22:39:39 GMT                                         0   \n",
              "11  Thu, 27 Nov 2014 22:39:39 GMT  application/octet-stream               0   \n",
              "12  Thu, 27 Nov 2014 22:39:39 GMT  application/octet-stream         4693699   \n",
              "13  Fri, 28 Nov 2014 01:46:41 GMT                                         0   \n",
              "14  Fri, 28 Nov 2014 01:46:41 GMT  application/octet-stream               0   \n",
              "15  Fri, 28 Nov 2014 01:46:41 GMT  application/octet-stream         4693699   \n",
              "\n",
              "    blob_type  \n",
              "0   BlockBlob  \n",
              "1   BlockBlob  \n",
              "2   BlockBlob  \n",
              "3   BlockBlob  \n",
              "4   BlockBlob  \n",
              "5   BlockBlob  \n",
              "6   BlockBlob  \n",
              "7   BlockBlob  \n",
              "8   BlockBlob  \n",
              "9   BlockBlob  \n",
              "10  BlockBlob  \n",
              "11  BlockBlob  \n",
              "12  BlockBlob  \n",
              "13  BlockBlob  \n",
              "14  BlockBlob  \n",
              "15  BlockBlob  "
            ]
          },
          "execution_count": 31,
          "metadata": {},
          "output_type": "execute_result"
        }
      ],
      "source": [
        "%blob_ls /$PSEUDO/velibpy_results"
      ]
    },
    {
      "cell_type": "code",
      "execution_count": 31,
      "metadata": {},
      "outputs": [
        {
          "data": {
            "text/plain": [
              "'distribution_bikes.txt'"
            ]
          },
          "execution_count": 32,
          "metadata": {},
          "output_type": "execute_result"
        }
      ],
      "source": [
        "if os.path.exists(\"distribution_bikes.txt\") : os.remove(\"distribution_bikes.txt\")\n",
        "%blob_downmerge /$PSEUDO/velibpy_results/distribution_bikes.txt distribution_bikes.txt"
      ]
    },
    {
      "cell_type": "code",
      "execution_count": 32,
      "metadata": {},
      "outputs": [
        {
          "data": {
            "text/html": [
              "<div style=\"max-height:1000px;max-width:1500px;overflow:auto;\">\n",
              "<table border=\"1\" class=\"dataframe\">\n",
              "  <thead>\n",
              "    <tr style=\"text-align: right;\">\n",
              "      <th></th>\n",
              "      <th>nb_velos</th>\n",
              "      <th>nb_stations_minutes</th>\n",
              "    </tr>\n",
              "  </thead>\n",
              "  <tbody>\n",
              "    <tr>\n",
              "      <th>0</th>\n",
              "      <td> 0</td>\n",
              "      <td> 8586</td>\n",
              "    </tr>\n",
              "    <tr>\n",
              "      <th>1</th>\n",
              "      <td> 1</td>\n",
              "      <td> 6698</td>\n",
              "    </tr>\n",
              "    <tr>\n",
              "      <th>2</th>\n",
              "      <td> 2</td>\n",
              "      <td> 4904</td>\n",
              "    </tr>\n",
              "    <tr>\n",
              "      <th>3</th>\n",
              "      <td> 3</td>\n",
              "      <td> 3863</td>\n",
              "    </tr>\n",
              "    <tr>\n",
              "      <th>4</th>\n",
              "      <td> 4</td>\n",
              "      <td> 2887</td>\n",
              "    </tr>\n",
              "  </tbody>\n",
              "</table>\n",
              "</div>"
            ],
            "text/plain": [
              "   nb_velos  nb_stations_minutes\n",
              "0         0                 8586\n",
              "1         1                 6698\n",
              "2         2                 4904\n",
              "3         3                 3863\n",
              "4         4                 2887"
            ]
          },
          "execution_count": 33,
          "metadata": {},
          "output_type": "execute_result"
        }
      ],
      "source": [
        "import pandas\n",
        "df = pandas.read_csv(\"distribution_bikes.txt\", sep=\"\\t\", names=[\"nb_velos\", \"nb_stations_minutes\"])\n",
        "df.head()"
      ]
    },
    {
      "cell_type": "code",
      "execution_count": 33,
      "metadata": {},
      "outputs": [
        {
          "data": {
            "text/plain": [
              "<matplotlib.axes._subplots.AxesSubplot at 0xae39f90>"
            ]
          },
          "execution_count": 34,
          "metadata": {},
          "output_type": "execute_result"
        },
        {
          "data": {
            "image/png": "[encoded data removed]",
            "text/plain": [
              "<matplotlib.figure.Figure at 0xc27b170>"
            ]
          },
          "metadata": {},
          "output_type": "display_data"
        }
      ],
      "source": [
        "import matplotlib.pyplot as plt\n",
        "plt.style.use('ggplot')\n",
        "df.plot(x=\"nb_velos\",y=\"nb_stations_minutes\",kind=\"bar\",figsize=(16,4))"
      ]
    },
    {
      "cell_type": "code",
      "execution_count": 34,
      "metadata": {},
      "outputs": [
        {
          "data": {
            "text/plain": [
              "'distribution_stands.txt'"
            ]
          },
          "execution_count": 35,
          "metadata": {},
          "output_type": "execute_result"
        }
      ],
      "source": [
        "if os.path.exists(\"distribution_stands.txt\") : os.remove(\"distribution_stands.txt\")\n",
        "%blob_downmerge /$PSEUDO/velibpy_results/distribution_stands.txt distribution_stands.txt"
      ]
    },
    {
      "cell_type": "code",
      "execution_count": 35,
      "metadata": {},
      "outputs": [
        {
          "data": {
            "text/plain": [
              "<matplotlib.axes._subplots.AxesSubplot at 0xab50d50>"
            ]
          },
          "execution_count": 36,
          "metadata": {},
          "output_type": "execute_result"
        },
        {
          "data": {
            "image/png": "[encoded data removed]",
            "text/plain": [
              "<matplotlib.figure.Figure at 0xab24030>"
            ]
          },
          "metadata": {},
          "output_type": "display_data"
        }
      ],
      "source": [
        "df = pandas.read_csv(\"distribution_stands.txt\", sep=\"\\t\", names=[\"nb_places\", \"nb_stations_minutes\"])\n",
        "df.plot(x=\"nb_places\",y=\"nb_stations_minutes\",kind=\"bar\",figsize=(16,4))"
      ]
    },
    {
      "cell_type": "code",
      "execution_count": 36,
      "metadata": {},
      "outputs": [
        {
          "data": {
            "text/plain": [
              "'fermees.txt'"
            ]
          },
          "execution_count": 37,
          "metadata": {},
          "output_type": "execute_result"
        }
      ],
      "source": [
        "if os.path.exists(\"fermees.txt\") : os.remove(\"fermees.txt\")\n",
        "%blob_downmerge /$PSEUDO/velibpy_results/fermees.txt fermees.txt"
      ]
    },
    {
      "cell_type": "code",
      "execution_count": 37,
      "metadata": {},
      "outputs": [
        {
          "data": {
            "text/html": [
              "<div style=\"max-height:1000px;max-width:1500px;overflow:auto;\">\n",
              "<table border=\"1\" class=\"dataframe\">\n",
              "  <thead>\n",
              "    <tr style=\"text-align: right;\">\n",
              "      <th>status</th>\n",
              "      <th>OPEN</th>\n",
              "      <th>CLOSED</th>\n",
              "      <th>%close</th>\n",
              "    </tr>\n",
              "  </thead>\n",
              "  <tbody>\n",
              "    <tr>\n",
              "      <th>nb_velos_stations_minutes</th>\n",
              "      <td> 1066055</td>\n",
              "      <td> 3111</td>\n",
              "      <td> 0.002910</td>\n",
              "    </tr>\n",
              "    <tr>\n",
              "      <th>nb_places_stations_minutes</th>\n",
              "      <td> 1276138</td>\n",
              "      <td>  122</td>\n",
              "      <td> 0.000096</td>\n",
              "    </tr>\n",
              "  </tbody>\n",
              "</table>\n",
              "</div>"
            ],
            "text/plain": [
              "status                         OPEN  CLOSED    %close\n",
              "nb_velos_stations_minutes   1066055    3111  0.002910\n",
              "nb_places_stations_minutes  1276138     122  0.000096"
            ]
          },
          "execution_count": 38,
          "metadata": {},
          "output_type": "execute_result"
        }
      ],
      "source": [
        "df = pandas.read_csv(\"fermees.txt\", sep=\"\\t\", names=[\"status\", \"nb_velos_stations_minutes\", \"nb_places_stations_minutes\"])\n",
        "df=df.set_index(\"status\")\n",
        "df = df.T\n",
        "df[\"%close\"] = df.CLOSED / (df.CLOSED + df.OPEN)\n",
        "df"
      ]
    },
    {
      "cell_type": "markdown",
      "metadata": {},
      "source": [
        "Ce dernier tableau n'est vrai que dans la mesure o\u00f9 les nombres report\u00e9es sont fiables lorsque les stations sont ferm\u00e9es."
      ]
    },
    {
      "cell_type": "markdown",
      "metadata": {},
      "source": [
        "## Exercice 3 : stations ferm\u00e9es, journ\u00e9e compl\u00e8te\n",
        "    \n",
        "Appliquer cela \u00e0 une journ\u00e9e compl\u00e8te revient \u00e0 lancer le m\u00eame job sur des donn\u00e9es plus grandes. On verra bient\u00f4t commencer \u00e9viter de recopier le job une seconde fois (introduisant une source potentielle d'erreur)."
      ]
    },
    {
      "cell_type": "code",
      "execution_count": 38,
      "metadata": {},
      "outputs": [],
      "source": []
    },
    {
      "cell_type": "markdown",
      "metadata": {},
      "source": [
        "## Exercice 4 : astuces\n",
        "\n",
        "Les erreurs de PIG ne sont pas tr\u00e8s explicite surtout si elles se produisent dans le script python. Un moyen simple de d\u00e9bugger est d'attraper les exceptions produites par python et de les r\u00e9cup\u00e9rer sous PIG (le reste du job est enlev\u00e9). On peut tout-\u00e0-fait imaginer ajouter la version de python install\u00e9e sur le cluster ainsi que la liste de modules"
      ]
    },
    {
      "cell_type": "code",
      "execution_count": 39,
      "metadata": {},
      "outputs": [],
      "source": [
        "%%PYTHON jython.py\n",
        "\n",
        "import sys\n",
        "\n",
        "@outputSchema(\"brow:chararray\")\n",
        "def information(row):\n",
        "    return (\";\".join([str(sys.version), str(sys.executable)])).replace(\"\\n\",\" \")"
      ]
    },
    {
      "cell_type": "markdown",
      "metadata": {},
      "source": [
        "On v\u00e9rifie que le script fonctionne avec jython :"
      ]
    },
    {
      "cell_type": "code",
      "execution_count": 40,
      "metadata": {},
      "outputs": [
        {
          "data": {
            "text/html": [
              "<pre>\n",
              "2.5.3 (2.5:c56500f08d34+, Aug 13 2012, 14:54:35)  [Java HotSpot(TM) 64-Bit Server VM (Oracle Corporation)];None\n",
              "\n",
              "</pre>"
            ],
            "text/plain": [
              "<IPython.core.display.HTML at 0xb066630>"
            ]
          },
          "execution_count": 41,
          "metadata": {},
          "output_type": "execute_result"
        }
      ],
      "source": [
        "%%jython jython.py information\n",
        "n'importe quoi"
      ]
    },
    {
      "cell_type": "code",
      "execution_count": 41,
      "metadata": {},
      "outputs": [],
      "source": [
        "%%PIG info.pig\n",
        "\n",
        "REGISTER '$CONTAINER/$SCRIPTPIG/jython.py' using jython as myfuncs;\n",
        "\n",
        "jspy = LOAD '$CONTAINER/velib_1h1/*.txt' USING PigStorage('\\t') AS (arow:chararray);\n",
        "one = LIMIT jspy 1 ;\n",
        "infos  = FOREACH one GENERATE myfuncs.information(arow);\n",
        "STORE infos INTO '$CONTAINER/$PSEUDO/results/infos' USING PigStorage('\\t') ;"
      ]
    },
    {
      "cell_type": "code",
      "execution_count": 42,
      "metadata": {},
      "outputs": [],
      "source": [
        "if client.exists(bs, client.account_name, \"$PSEUDO/results/infos\"):\n",
        "    r = client.delete_folder (bs, client.account_name, \"$PSEUDO/results/infos\")\n",
        "    print(r)"
      ]
    },
    {
      "cell_type": "code",
      "execution_count": 43,
      "metadata": {},
      "outputs": [
        {
          "data": {
            "text/plain": [
              "{'id': 'job_1416874839254_0107'}"
            ]
          },
          "execution_count": 44,
          "metadata": {},
          "output_type": "execute_result"
        }
      ],
      "source": [
        "jid = %hd_pig_submit info.pig jython.py --stop-on-failure\n",
        "jid"
      ]
    },
    {
      "cell_type": "code",
      "execution_count": 44,
      "metadata": {},
      "outputs": [
        {
          "data": {
            "text/plain": [
              "('job_1416874839254_0107', '100% complete', True)"
            ]
          },
          "execution_count": 45,
          "metadata": {},
          "output_type": "execute_result"
        }
      ],
      "source": [
        "st = %hd_job_status jid[\"id\"]\n",
        "st[\"id\"],st[\"percentComplete\"],st[\"status\"][\"jobComplete\"]"
      ]
    },
    {
      "cell_type": "code",
      "execution_count": 45,
      "metadata": {},
      "outputs": [
        {
          "data": {
            "text/html": [
              "<pre>\n",
              "job_1416874839254_0109\n",
              "\n",
              "\n",
              "2014-11-28 00:11:44,316 [main] INFO  org.apache.hadoop.yarn.client.RMProxy - Connecting to ResourceManager at headnodehost/100.74.20.101:9010\n",
              "2014-11-28 00:11:44,394 [main] INFO  org.apache.hadoop.mapred.ClientServiceDelegate - Application state is completed. FinalApplicationStatus=SUCCEEDED. Redirecting to job history server\n",
              "2014-11-28 00:11:44,613 [main] WARN  org.apache.pig.backend.hadoop.executionengine.mapReduceLayer.MapReduceLauncher - No FileSystem for scheme: wasb. Not creating success file\n",
              "2014-11-28 00:11:44,628 [main] INFO  org.apache.hadoop.yarn.client.RMProxy - Connecting to ResourceManager at headnodehost/100.74.20.101:9010\n",
              "2014-11-28 00:11:44,707 [main] INFO  org.apache.hadoop.mapred.ClientServiceDelegate - Application state is completed. FinalApplicationStatus=SUCCEEDED. Redirecting to job history server\n",
              "2014-11-28 00:11:45,331 [main] INFO  org.apache.pig.backend.hadoop.executionengine.mapReduceLayer.MapReduceLauncher - Success!\n",
              "\n",
              "</pre><br />"
            ],
            "text/plain": [
              "<IPython.core.display.HTML at 0xaa9f770>"
            ]
          },
          "execution_count": 46,
          "metadata": {},
          "output_type": "execute_result"
        }
      ],
      "source": [
        "%tail_stderr jid[\"id\"] 10"
      ]
    },
    {
      "cell_type": "code",
      "execution_count": 46,
      "metadata": {},
      "outputs": [
        {
          "data": {
            "text/plain": [
              "'infos.txt'"
            ]
          },
          "execution_count": 47,
          "metadata": {},
          "output_type": "execute_result"
        }
      ],
      "source": [
        "if os.path.exists(\"infos.txt\") : os.remove(\"infos.txt\")\n",
        "%blob_downmerge /$PSEUDO/results/infos infos.txt"
      ]
    },
    {
      "cell_type": "code",
      "execution_count": 47,
      "metadata": {},
      "outputs": [
        {
          "data": {
            "text/html": [
              "<pre>\n",
              "2.5.3 (2.5:c56500f08d34+, Aug 13 2012, 14:54:35)  [OpenJDK 64-Bit Server VM (Azul Systems, Inc.)];None\n",
              "\n",
              "</pre>"
            ],
            "text/plain": [
              "<IPython.core.display.HTML at 0xc1ab5f0>"
            ]
          },
          "execution_count": 48,
          "metadata": {},
          "output_type": "execute_result"
        }
      ],
      "source": [
        "%head infos.txt"
      ]
    },
    {
      "cell_type": "code",
      "execution_count": 48,
      "metadata": {},
      "outputs": [],
      "source": []
    }
  ],
  "metadata": {
    "kernelspec": {
      "display_name": "Python 3",
      "language": "python",
      "name": "python3"
    },
    "language_info": {
      "codemirror_mode": {
        "name": "ipython",
        "version": 3
      },
      "file_extension": ".py",
      "mimetype": "text/x-python",
      "name": "python",
      "nbconvert_exporter": "python",
      "pygments_lexer": "ipython3",
      "version": "3.6.4"
    }
  },
  "nbformat": 4,
  "nbformat_minor": 1
}