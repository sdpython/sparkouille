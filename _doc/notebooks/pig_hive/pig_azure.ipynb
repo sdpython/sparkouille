{
  "cells": [
    {
      "cell_type": "markdown",
      "metadata": {},
      "source": [
        "# Map/Reduce avec PIG sur Azure - \u00e9nonc\u00e9\n",
        "\n",
        "Manipulation de fichiers sur un cluster Hadoop [HDInsight](https://azure.microsoft.com/en-us/services/hdinsight/), premieer job map/reduce avec [PIG](https://pig.apache.org/). Lire aussi [From Pig to Spark: An Easy Journey to Spark for Apache Pig Developers](https://mapr.com/blog/easy-journey-from-pig-to-spark-for-developers/)."
      ]
    },
    {
      "cell_type": "code",
      "execution_count": 1,
      "metadata": {},
      "outputs": [
        {
          "data": {
            "text/html": [
              "<b>Plan</b>\n",
              "<div id=\"my_menu_id\">run previous cell, wait for 2 seconds</div>\n",
              "<script>\n",
              "function repeat_indent_string(n){\n",
              "    var a = \"\" ;\n",
              "    for ( ; n > 0 ; --n) {\n",
              "        a += \"    \";\n",
              "    }\n",
              "    return a;\n",
              "}\n",
              "var update_menu_string = function(begin, lfirst, llast, sformat, send) {\n",
              "    var anchors = document.getElementsByClassName(\"section\");\n",
              "    if (anchors.length == 0) {\n",
              "        anchors = document.getElementsByClassName(\"text_cell_render rendered_html\");\n",
              "    }\n",
              "    var i,t;\n",
              "    var text_menu = begin;\n",
              "    var text_memo = \"<pre>\\nlength:\" + anchors.length + \"\\n\";\n",
              "    var ind = \"\";\n",
              "    var memo_level = 1;\n",
              "    var href;\n",
              "    var tags = [];\n",
              "    for (i = 0; i <= llast; i++) {\n",
              "        tags.push(\"h\" + i);\n",
              "    }\n",
              "\n",
              "    for (i = 0; i < anchors.length; i++) {\n",
              "        text_memo += \"**\" + anchors[i].id + \"--\\n\";\n",
              "\n",
              "        var child = null;\n",
              "        for(t = 0; t < tags.length; t++) {\n",
              "            var r = anchors[i].getElementsByTagName(tags[t]);\n",
              "            if (r.length > 0) {\n",
              "child = r[0];\n",
              "break;\n",
              "            }\n",
              "        }\n",
              "        if (child == null){\n",
              "            text_memo += \"null\\n\";\n",
              "            continue;\n",
              "        }\n",
              "\n",
              "        if (anchors[i].hasAttribute(\"id\")) {\n",
              "            // when converted in RST\n",
              "            href = anchors[i].id;\n",
              "            text_memo += \"#1-\" + href;\n",
              "            // passer \u00e0 child suivant (le chercher)\n",
              "        }\n",
              "        else if (child.hasAttribute(\"id\")) {\n",
              "            // in a notebook\n",
              "            href = child.id;\n",
              "            text_memo += \"#2-\" + href;\n",
              "        }\n",
              "        else {\n",
              "            text_memo += \"#3-\" + \"*\" + \"\\n\";\n",
              "            continue;\n",
              "        }\n",
              "        var title = child.textContent;\n",
              "        var level = parseInt(child.tagName.substring(1,2));\n",
              "\n",
              "        text_memo += \"--\" + level + \"?\" + lfirst + \"--\" + title + \"\\n\";\n",
              "\n",
              "        if ((level < lfirst) || (level > llast)) {\n",
              "            continue ;\n",
              "        }\n",
              "        if (title.endsWith('\u00b6')) {\n",
              "            title = title.substring(0,title.length-1).replace(\"<\", \"&lt;\").replace(\">\", \"&gt;\").replace(\"&\", \"&amp;\")\n",
              "        }\n",
              "\n",
              "        if (title.length == 0) {\n",
              "            continue;\n",
              "        }\n",
              "        while (level > memo_level) {\n",
              "            text_menu += \"<ul>\\n\";\n",
              "            memo_level += 1;\n",
              "        }\n",
              "        while (level < memo_level) {\n",
              "            text_menu += \"</ul>\\n\";\n",
              "            memo_level -= 1;\n",
              "        }\n",
              "        text_menu += repeat_indent_string(level-2) + sformat.replace(\"__HREF__\", href).replace(\"__TITLE__\", title);\n",
              "    }\n",
              "    while (1 < memo_level) {\n",
              "        text_menu += \"</ul>\\n\";\n",
              "        memo_level -= 1;\n",
              "    }\n",
              "    text_menu += send;\n",
              "    //text_menu += \"\\n\" + text_memo;\n",
              "    return text_menu;\n",
              "};\n",
              "var update_menu = function() {\n",
              "    var sbegin = \"\";\n",
              "    var sformat = '<li><a href=\"#__HREF__\">__TITLE__</a></li>';\n",
              "    var send = \"\";\n",
              "    var text_menu = update_menu_string(sbegin, 2, 4, sformat, send);\n",
              "    var menu = document.getElementById(\"my_menu_id\");\n",
              "    menu.innerHTML=text_menu;\n",
              "};\n",
              "window.setTimeout(update_menu,2000);\n",
              "            </script>"
            ],
            "text/plain": [
              "<IPython.core.display.HTML object>"
            ]
          },
          "execution_count": 2,
          "metadata": {},
          "output_type": "execute_result"
        }
      ],
      "source": [
        "from jyquickhelper import add_notebook_menu\n",
        "add_notebook_menu()"
      ]
    },
    {
      "cell_type": "markdown",
      "metadata": {},
      "source": [
        "Dans le cadre du [partenariat avec Microsoft](http://www.microsoft.com/france/Hub-Presse/communiques-de-presse/fiche-communique.aspx?eid=f7e7f695-fb08-4c6d-b4ec-3cde562ba429), l'ENSAE dispose de ressources Azure. Azure est une plateforme qui propose de nombreux [fonctionnalit\u00e9s et services](http://azure.microsoft.com/fr-fr/services/cloud-services/). Les \u00e9l\u00e8ves n'auront pas directement acc\u00e8s au portail Azure mais recevront les identifiants et mots de passe pour les services mis en place \u00e0 leur intention. Ils seront diff\u00e9rents selon les services mais ce sera le m\u00eame identifiant pour chaque \u00e9l\u00e8ve.\n",
        "\n",
        "Cette s\u00e9ance de travaux pratique s'appuiera sur le jeu de donn\u00e9es suivant : [Localization Data for Person Activity Data Set](https://archive.ics.uci.edu/ml/datasets/Localization+Data+for+Person+Activity) qu'on r\u00e9cup\u00e8re comme suit :"
      ]
    },
    {
      "cell_type": "code",
      "execution_count": 2,
      "metadata": {
        "collapsed": true
      },
      "outputs": [],
      "source": [
        "import pyensae\n",
        "import urllib.error\n",
        "try:\n",
        "    # ce soir \u00e7a ne marche pas...\n",
        "    pyensae.download_data(\"ConfLongDemo_JSI.txt\", \n",
        "                          website=\"https://archive.ics.uci.edu/ml/machine-learning-databases/00196/\")\n",
        "except urllib.error.URLError:\n",
        "    # donc je r\u00e9cup\u00e8re une vieille copie\n",
        "    pyensae.download_data(\"ConfLongDemo_JSI.zip\")"
      ]
    },
    {
      "cell_type": "markdown",
      "metadata": {},
      "source": [
        "On l'ins\u00e8re dans une base de donn\u00e9es SQL."
      ]
    },
    {
      "cell_type": "code",
      "execution_count": 3,
      "metadata": {},
      "outputs": [
        {
          "data": {
            "text/html": [
              "<div>\n",
              "<table border=\"1\" class=\"dataframe\">\n",
              "  <thead>\n",
              "    <tr style=\"text-align: right;\">\n",
              "      <th></th>\n",
              "      <th>sequence</th>\n",
              "      <th>tag</th>\n",
              "      <th>timestamp</th>\n",
              "      <th>dateformat</th>\n",
              "      <th>x</th>\n",
              "      <th>y</th>\n",
              "      <th>z</th>\n",
              "      <th>activity</th>\n",
              "    </tr>\n",
              "  </thead>\n",
              "  <tbody>\n",
              "    <tr>\n",
              "      <th>0</th>\n",
              "      <td>A01</td>\n",
              "      <td>010-000-024-033</td>\n",
              "      <td>633790226051280329</td>\n",
              "      <td>27.05.2009 14:03:25:127</td>\n",
              "      <td>4.062931</td>\n",
              "      <td>1.892434</td>\n",
              "      <td>0.507425</td>\n",
              "      <td>walking</td>\n",
              "    </tr>\n",
              "    <tr>\n",
              "      <th>1</th>\n",
              "      <td>A01</td>\n",
              "      <td>020-000-033-111</td>\n",
              "      <td>633790226051820913</td>\n",
              "      <td>27.05.2009 14:03:25:183</td>\n",
              "      <td>4.291954</td>\n",
              "      <td>1.781140</td>\n",
              "      <td>1.344495</td>\n",
              "      <td>walking</td>\n",
              "    </tr>\n",
              "    <tr>\n",
              "      <th>2</th>\n",
              "      <td>A01</td>\n",
              "      <td>020-000-032-221</td>\n",
              "      <td>633790226052091205</td>\n",
              "      <td>27.05.2009 14:03:25:210</td>\n",
              "      <td>4.359101</td>\n",
              "      <td>1.826456</td>\n",
              "      <td>0.968821</td>\n",
              "      <td>walking</td>\n",
              "    </tr>\n",
              "    <tr>\n",
              "      <th>3</th>\n",
              "      <td>A01</td>\n",
              "      <td>010-000-024-033</td>\n",
              "      <td>633790226052361498</td>\n",
              "      <td>27.05.2009 14:03:25:237</td>\n",
              "      <td>4.087835</td>\n",
              "      <td>1.879999</td>\n",
              "      <td>0.466983</td>\n",
              "      <td>walking</td>\n",
              "    </tr>\n",
              "    <tr>\n",
              "      <th>4</th>\n",
              "      <td>A01</td>\n",
              "      <td>010-000-030-096</td>\n",
              "      <td>633790226052631792</td>\n",
              "      <td>27.05.2009 14:03:25:263</td>\n",
              "      <td>4.324462</td>\n",
              "      <td>2.072460</td>\n",
              "      <td>0.488065</td>\n",
              "      <td>walking</td>\n",
              "    </tr>\n",
              "  </tbody>\n",
              "</table>\n",
              "</div>"
            ],
            "text/plain": [
              "  sequence              tag           timestamp               dateformat  \\\n",
              "0      A01  010-000-024-033  633790226051280329  27.05.2009 14:03:25:127   \n",
              "1      A01  020-000-033-111  633790226051820913  27.05.2009 14:03:25:183   \n",
              "2      A01  020-000-032-221  633790226052091205  27.05.2009 14:03:25:210   \n",
              "3      A01  010-000-024-033  633790226052361498  27.05.2009 14:03:25:237   \n",
              "4      A01  010-000-030-096  633790226052631792  27.05.2009 14:03:25:263   \n",
              "\n",
              "          x         y         z activity  \n",
              "0  4.062931  1.892434  0.507425  walking  \n",
              "1  4.291954  1.781140  1.344495  walking  \n",
              "2  4.359101  1.826456  0.968821  walking  \n",
              "3  4.087835  1.879999  0.466983  walking  \n",
              "4  4.324462  2.072460  0.488065  walking  "
            ]
          },
          "execution_count": 4,
          "metadata": {},
          "output_type": "execute_result"
        }
      ],
      "source": [
        "columns = \"sequence tag timestamp dateformat x y z activity\".split()\n",
        "import pandas, sqlite3, os\n",
        "df = pandas.read_csv(\"ConfLongDemo_JSI.txt\", sep=\",\", names=columns)\n",
        "if os.path.exists(\"ConfLongDemo_JSI.db3\"):\n",
        "    os.remove(\"ConfLongDemo_JSI.db3\")\n",
        "con = sqlite3.connect(\"ConfLongDemo_JSI.db3\")\n",
        "df.to_sql(\"person\", con)\n",
        "con.close()\n",
        "df.head()"
      ]
    },
    {
      "cell_type": "markdown",
      "metadata": {},
      "source": [
        "On cr\u00e9e un petit exemple pour plus tard qu'on enregistre \u00e9galement dans la base de donn\u00e9es."
      ]
    },
    {
      "cell_type": "code",
      "execution_count": 4,
      "metadata": {
        "collapsed": true
      },
      "outputs": [],
      "source": [
        "columns = \"sequence tag timestamp dateformat x y z activity\".split()\n",
        "import pandas\n",
        "df = pandas.read_csv(\"ConfLongDemo_JSI.txt\", sep=\",\", names=columns)\n",
        "dfs = df[:1000]\n",
        "dfs.to_csv(\"ConfLongDemo_JSI.small.txt\", header=False)\n",
        "\n",
        "import sqlite3\n",
        "con = sqlite3.connect(\"ConfLongDemo_JSI.db3\")\n",
        "dfs.to_sql(\"person_small\", con)\n",
        "con.close()"
      ]
    },
    {
      "cell_type": "markdown",
      "metadata": {},
      "source": [
        "## Partie 0 : aper\u00e7u de Azure HDInsight\n",
        "    \n",
        "Il faut se connecter au cluster avec l'url : ``https://....datascience.fr/....&login=<login>``."
      ]
    },
    {
      "cell_type": "code",
      "execution_count": 5,
      "metadata": {},
      "outputs": [
        {
          "data": {
            "image/png": "[encoded data removed]",
            "text/plain": [
              "<IPython.core.display.Image object>"
            ]
          },
          "execution_count": 6,
          "metadata": {
            "image/png": {
              "width": 600
            }
          },
          "output_type": "execute_result"
        }
      ],
      "source": [
        "from pyquickhelper.helpgen import NbImage\n",
        "NbImage(\"clhdins.png\", width=600)"
      ]
    },
    {
      "cell_type": "markdown",
      "metadata": {},
      "source": [
        "On peut acc\u00e9der \u00e0 ce cluster via une adresse web qui s'ouvre sur la fen\u00eatre suivante d'o\u00f9 on peut voir le contenu des fichiers et"
      ]
    },
    {
      "cell_type": "code",
      "execution_count": 6,
      "metadata": {},
      "outputs": [
        {
          "data": {
            "image/png": "[encoded data removed]",
            "text/plain": [
              "<IPython.core.display.Image object>"
            ]
          },
          "execution_count": 7,
          "metadata": {
            "image/png": {
              "width": 600
            }
          },
          "output_type": "execute_result"
        }
      ],
      "source": [
        "NbImage(\"clhdins2.png\", width=600)"
      ]
    },
    {
      "cell_type": "markdown",
      "metadata": {},
      "source": [
        "Le fen\u00eatre suivante permet d'effectuer des requ\u00eates distribu\u00e9es avec le langage [Hive](https://hive.apache.org/) tr\u00e8s proche du SQL."
      ]
    },
    {
      "cell_type": "code",
      "execution_count": 7,
      "metadata": {},
      "outputs": [
        {
          "data": {
            "image/png": "[encoded data removed]",
            "text/plain": [
              "<IPython.core.display.Image object>"
            ]
          },
          "execution_count": 8,
          "metadata": {
            "image/png": {
              "width": 600
            }
          },
          "output_type": "execute_result"
        }
      ],
      "source": [
        "NbImage(\"clhdins3.png\", width=600)"
      ]
    },
    {
      "cell_type": "markdown",
      "metadata": {},
      "source": [
        "## Partie 1 :  manipulation de fichiers\n",
        "\n",
        "Avant de commencer \u00e0 d\u00e9placer des fichiers, il faut comprendre qu'il y a trois entit\u00e9s :\n",
        "\n",
        "* l'ordinateur local (celui dont vous vous servez)\n",
        "* le stockage : [Azure Blob Storage](http://azure.microsoft.com/en-us/documentation/articles/storage-dotnet-how-to-use-blobs/)\n",
        "* le cluster  [Hadoop](http://fr.hortonworks.com/)"
      ]
    },
    {
      "cell_type": "code",
      "execution_count": 8,
      "metadata": {},
      "outputs": [
        {
          "data": {
            "image/png": "[encoded data removed]",
            "text/plain": [
              "<IPython.core.display.Image object>"
            ]
          },
          "execution_count": 9,
          "metadata": {},
          "output_type": "execute_result"
        }
      ],
      "source": [
        "from IPython.core.display import Image\n",
        "NbImage(\"azure3.png\")"
      ]
    },
    {
      "cell_type": "markdown",
      "metadata": {},
      "source": [
        "Pour ex\u00e9cuter une t\u00e2che Map/Reduce, il faut suivre le processus suivant :\n",
        "\n",
        "* 1a : on communique avec l'Azure Blob Storage pour **uploader** les donn\u00e9es avec lesquelles on va travailler\n",
        "* 1b : on **uploade** \u00e9galement la description de la t\u00e2che (ici un script PIG)\n",
        "* 2 : on envoie une requ\u00eate au cluster pour demander l'ex\u00e9cution d'une t\u00e2che\n",
        "* 3 : le cluster ex\u00e9cute la t\u00e2che, il \u00e9changera des donn\u00e9es avec le storage\n",
        "* 4 : on **downloade** les r\u00e9sultats sur son ordinateur local\n",
        "\n",
        "Pour manipuler les donn\u00e9es sur un cluster, il faut d'abord les [uploader](http://fr.wiktionary.org/wiki/uploader) sur ce cluster. Pour les r\u00e9cup\u00e9rer, il faut les [downloader](http://fr.wikipedia.org/wiki/T%C3%A9l%C3%A9chargement). Pour faciliter les choses, on va utiliser des [commandes magiques](http://ipython.org/ipython-doc/dev/interactive/magics.html?highlight=command) impl\u00e9ment\u00e9es dans le module [pyensae](http://www.xavierdupre.fr/app/pyensae/helpsphinx/) (>= 0.9). La premi\u00e8re t\u00e2che est d'enregistrer dans l'espace de travail le nom du blob storage, l'alias et le mot de passe dans le workspace du notebook. Ces commandes utilise le module [azure](https://github.com/Azure/azure-sdk-for-python) qu'il faut installer.\n",
        "\n",
        "Le code est avant tout destin\u00e9 \u00e0 **ne pas laisser votre mot de passe en clair dans le notebook**. S'il est en clair, t\u00f4t ou tard, vous oublierez de l'effacer avant de partager votre notebook. Dans ce cas, il faut changer de mot de passe sans tarder."
      ]
    },
    {
      "cell_type": "code",
      "execution_count": 9,
      "metadata": {},
      "outputs": [
        {
          "data": {
            "text/html": [
              "<div style=\"background-color:gainsboro; padding:2px; border:0px;\"><b>server + credentials</b>\n",
              "<br />blob_storage <input type=\"text\" id=\"blobblob_storage\" value=\"\" size=\"80\" />\n",
              "<br />password <input type=\"password\" id=\"blobpassword\" value=\"\" size=\"80\" />\n",
              "<br /><button onclick=\"set_valueblob()\">Ok</button></div>\n",
              "<script type=\"text/Javascript\">\n",
              "function blobcallback(msg) {\n",
              "   var ret = msg.content.data['text/plain'];\n",
              "   $('#outblob').text(ret);\n",
              "}\n",
              "function set_valueblob(){\n",
              "   command='blob = {' ;\n",
              "   var blobblob_storagevar_value = document.getElementById('blobblob_storage').value;\n",
              "   command += '\"blob_storage\":\"' + blobblob_storagevar_value + '\",';\n",
              "   var blobpasswordvar_value = document.getElementById('blobpassword').value;\n",
              "   command += '\"password\":\"' + blobpasswordvar_value + '\",';\n",
              "   command += '}';\n",
              "   var kernel = IPython.notebook.kernel;\n",
              "   kernel.execute(command);\n",
              "}\n",
              "</script>"
            ],
            "text/plain": [
              "<IPython.core.display.HTML object>"
            ]
          },
          "execution_count": 10,
          "metadata": {},
          "output_type": "execute_result"
        }
      ],
      "source": [
        "from pyquickhelper.ipythonhelper import open_html_form\n",
        "params={\"blob_storage\":\"\", \"password\":\"\"}\n",
        "open_html_form(params=params,title=\"server + credentials\", key_save=\"blob\")"
      ]
    },
    {
      "cell_type": "code",
      "execution_count": 10,
      "metadata": {
        "collapsed": true
      },
      "outputs": [],
      "source": [
        "blobstorage = blob[\"blob_storage\"]\n",
        "blobpassword = blob[\"password\"]"
      ]
    },
    {
      "cell_type": "markdown",
      "metadata": {},
      "source": [
        "On ouvre la connection au blob storage."
      ]
    },
    {
      "cell_type": "code",
      "execution_count": 11,
      "metadata": {},
      "outputs": [
        {
          "data": {
            "text/plain": [
              "(<pyensae.remote.azure_connection.AzureClient at 0xaa63f60>,\n",
              " <azure.storage.blob.blobservice.BlobService at 0xb46c908>)"
            ]
          },
          "execution_count": 12,
          "metadata": {},
          "output_type": "execute_result"
        }
      ],
      "source": [
        "cl, bs = %blob_open\n",
        "cl, bs"
      ]
    },
    {
      "cell_type": "markdown",
      "metadata": {},
      "source": [
        "On regarde la liste des blob storage disponibles."
      ]
    },
    {
      "cell_type": "code",
      "execution_count": 12,
      "metadata": {},
      "outputs": [
        {
          "data": {
            "text/plain": [
              "['clusterensaeazure1',\n",
              " 'clusterensaeazure1-1',\n",
              " 'clusterensaeazure2',\n",
              " 'clusterensaeazure2-1',\n",
              " 'hdblobstorage',\n",
              " 'petittest',\n",
              " 'sparkclus',\n",
              " 'sparkclus2',\n",
              " 'testhadoopensae']"
            ]
          },
          "execution_count": 13,
          "metadata": {},
          "output_type": "execute_result"
        }
      ],
      "source": [
        "l = %blob_containers\n",
        "l"
      ]
    },
    {
      "cell_type": "markdown",
      "metadata": {},
      "source": [
        "On regarde les listes des fichiers dans un r\u00e9pertoire du blob storage :"
      ]
    },
    {
      "cell_type": "code",
      "execution_count": 13,
      "metadata": {},
      "outputs": [
        {
          "data": {
            "text/html": [
              "<div>\n",
              "<table border=\"1\" class=\"dataframe\">\n",
              "  <thead>\n",
              "    <tr style=\"text-align: right;\">\n",
              "      <th></th>\n",
              "      <th>name</th>\n",
              "      <th>last_modified</th>\n",
              "      <th>content_type</th>\n",
              "      <th>content_length</th>\n",
              "      <th>blob_type</th>\n",
              "    </tr>\n",
              "  </thead>\n",
              "  <tbody>\n",
              "    <tr>\n",
              "      <th>0</th>\n",
              "      <td>DonnotLaugel/mv_0000001.txt</td>\n",
              "      <td>Sun, 01 Feb 2015 11:10:47 GMT</td>\n",
              "      <td>application/octet-stream</td>\n",
              "      <td>11233</td>\n",
              "      <td>BlockBlob</td>\n",
              "    </tr>\n",
              "    <tr>\n",
              "      <th>1</th>\n",
              "      <td>HdiSamples/SensorSampleData/building/building.csv</td>\n",
              "      <td>Sun, 16 Nov 2014 21:24:42 GMT</td>\n",
              "      <td>application/octet-stream</td>\n",
              "      <td>544</td>\n",
              "      <td>BlockBlob</td>\n",
              "    </tr>\n",
              "    <tr>\n",
              "      <th>2</th>\n",
              "      <td>HdiSamples/SensorSampleData/hvac/HVAC.csv</td>\n",
              "      <td>Sun, 16 Nov 2014 21:24:42 GMT</td>\n",
              "      <td>application/octet-stream</td>\n",
              "      <td>240591</td>\n",
              "      <td>BlockBlob</td>\n",
              "    </tr>\n",
              "    <tr>\n",
              "      <th>3</th>\n",
              "      <td>HdiSamples/StorageAnalytics/hive-serde-microso...</td>\n",
              "      <td>Sun, 16 Nov 2014 21:24:42 GMT</td>\n",
              "      <td>application/octet-stream</td>\n",
              "      <td>9562</td>\n",
              "      <td>BlockBlob</td>\n",
              "    </tr>\n",
              "    <tr>\n",
              "      <th>4</th>\n",
              "      <td>HdiSamples/StorageAnalytics/hive-serde-microso...</td>\n",
              "      <td>Sun, 16 Nov 2014 21:24:42 GMT</td>\n",
              "      <td>application/octet-stream</td>\n",
              "      <td>10290</td>\n",
              "      <td>BlockBlob</td>\n",
              "    </tr>\n",
              "  </tbody>\n",
              "</table>\n",
              "</div>"
            ],
            "text/plain": [
              "                                                name  \\\n",
              "0                        DonnotLaugel/mv_0000001.txt   \n",
              "1  HdiSamples/SensorSampleData/building/building.csv   \n",
              "2          HdiSamples/SensorSampleData/hvac/HVAC.csv   \n",
              "3  HdiSamples/StorageAnalytics/hive-serde-microso...   \n",
              "4  HdiSamples/StorageAnalytics/hive-serde-microso...   \n",
              "\n",
              "                   last_modified              content_type  content_length  \\\n",
              "0  Sun, 01 Feb 2015 11:10:47 GMT  application/octet-stream           11233   \n",
              "1  Sun, 16 Nov 2014 21:24:42 GMT  application/octet-stream             544   \n",
              "2  Sun, 16 Nov 2014 21:24:42 GMT  application/octet-stream          240591   \n",
              "3  Sun, 16 Nov 2014 21:24:42 GMT  application/octet-stream            9562   \n",
              "4  Sun, 16 Nov 2014 21:24:42 GMT  application/octet-stream           10290   \n",
              "\n",
              "   blob_type  \n",
              "0  BlockBlob  \n",
              "1  BlockBlob  \n",
              "2  BlockBlob  \n",
              "3  BlockBlob  \n",
              "4  BlockBlob  "
            ]
          },
          "execution_count": 14,
          "metadata": {},
          "output_type": "execute_result"
        }
      ],
      "source": [
        "df = %blob_ls clusterensaeazure1\n",
        "df.head()"
      ]
    },
    {
      "cell_type": "markdown",
      "metadata": {},
      "source": [
        "Et plus particuli\u00e8rement :"
      ]
    },
    {
      "cell_type": "code",
      "execution_count": 14,
      "metadata": {},
      "outputs": [
        {
          "data": {
            "text/html": [
              "<div>\n",
              "<table border=\"1\" class=\"dataframe\">\n",
              "  <thead>\n",
              "    <tr style=\"text-align: right;\">\n",
              "      <th></th>\n",
              "      <th>name</th>\n",
              "      <th>last_modified</th>\n",
              "      <th>content_type</th>\n",
              "      <th>content_length</th>\n",
              "      <th>blob_type</th>\n",
              "    </tr>\n",
              "  </thead>\n",
              "  <tbody>\n",
              "    <tr>\n",
              "      <th>0</th>\n",
              "      <td>testensae/CASP.csv</td>\n",
              "      <td>Thu, 05 Feb 2015 13:40:12 GMT</td>\n",
              "      <td>application/octet-stream</td>\n",
              "      <td>3528710</td>\n",
              "      <td>BlockBlob</td>\n",
              "    </tr>\n",
              "  </tbody>\n",
              "</table>\n",
              "</div>"
            ],
            "text/plain": [
              "                 name                  last_modified  \\\n",
              "0  testensae/CASP.csv  Thu, 05 Feb 2015 13:40:12 GMT   \n",
              "\n",
              "               content_type  content_length  blob_type  \n",
              "0  application/octet-stream         3528710  BlockBlob  "
            ]
          },
          "execution_count": 15,
          "metadata": {},
          "output_type": "execute_result"
        }
      ],
      "source": [
        "df=%blob_ls clusterensaeazure1/testensae\n",
        "df"
      ]
    },
    {
      "cell_type": "markdown",
      "metadata": {},
      "source": [
        "On supprime tous les fichiers de r\u00e9pertoire :"
      ]
    },
    {
      "cell_type": "code",
      "execution_count": 15,
      "metadata": {
        "collapsed": true
      },
      "outputs": [],
      "source": [
        "for name in df[\"name\"]:\n",
        "    cl.delete_blob(bs, \"clusterensaeazure1\", name)"
      ]
    },
    {
      "cell_type": "markdown",
      "metadata": {},
      "source": [
        "On v\u00e9rifie qu'il ne reste plus rien :"
      ]
    },
    {
      "cell_type": "code",
      "execution_count": 16,
      "metadata": {},
      "outputs": [
        {
          "data": {
            "text/html": [
              "<div>\n",
              "<table border=\"1\" class=\"dataframe\">\n",
              "  <thead>\n",
              "    <tr style=\"text-align: right;\">\n",
              "      <th></th>\n",
              "      <th>name</th>\n",
              "      <th>url</th>\n",
              "    </tr>\n",
              "  </thead>\n",
              "  <tbody>\n",
              "  </tbody>\n",
              "</table>\n",
              "</div>"
            ],
            "text/plain": [
              "Empty DataFrame\n",
              "Columns: [name, url]\n",
              "Index: []"
            ]
          },
          "execution_count": 17,
          "metadata": {},
          "output_type": "execute_result"
        }
      ],
      "source": [
        "%blob_ls clusterensaeazure1/testensae"
      ]
    },
    {
      "cell_type": "markdown",
      "metadata": {},
      "source": [
        "On uploade un fichier dans le blob storage :"
      ]
    },
    {
      "cell_type": "code",
      "execution_count": 17,
      "metadata": {},
      "outputs": [
        {
          "data": {
            "text/plain": [
              "'testensae/ConfLongDemo_JSI.small.txt'"
            ]
          },
          "execution_count": 18,
          "metadata": {},
          "output_type": "execute_result"
        }
      ],
      "source": [
        "%blob_up ConfLongDemo_JSI.small.txt clusterensaeazure1/testensae/ConfLongDemo_JSI.small.txt"
      ]
    },
    {
      "cell_type": "markdown",
      "metadata": {},
      "source": [
        "On v\u00e9rifie qu'il a bien \u00e9t\u00e9 upload\u00e9 :"
      ]
    },
    {
      "cell_type": "code",
      "execution_count": 18,
      "metadata": {},
      "outputs": [
        {
          "data": {
            "text/html": [
              "<div>\n",
              "<table border=\"1\" class=\"dataframe\">\n",
              "  <thead>\n",
              "    <tr style=\"text-align: right;\">\n",
              "      <th></th>\n",
              "      <th>name</th>\n",
              "      <th>last_modified</th>\n",
              "      <th>content_type</th>\n",
              "      <th>content_length</th>\n",
              "      <th>blob_type</th>\n",
              "    </tr>\n",
              "  </thead>\n",
              "  <tbody>\n",
              "    <tr>\n",
              "      <th>0</th>\n",
              "      <td>testensae/ConfLongDemo_JSI.small.txt</td>\n",
              "      <td>Thu, 29 Oct 2015 00:18:55 GMT</td>\n",
              "      <td>application/octet-stream</td>\n",
              "      <td>132727</td>\n",
              "      <td>BlockBlob</td>\n",
              "    </tr>\n",
              "  </tbody>\n",
              "</table>\n",
              "</div>"
            ],
            "text/plain": [
              "                                   name                  last_modified  \\\n",
              "0  testensae/ConfLongDemo_JSI.small.txt  Thu, 29 Oct 2015 00:18:55 GMT   \n",
              "\n",
              "               content_type  content_length  blob_type  \n",
              "0  application/octet-stream          132727  BlockBlob  "
            ]
          },
          "execution_count": 19,
          "metadata": {},
          "output_type": "execute_result"
        }
      ],
      "source": [
        "%blob_ls clusterensaeazure1/testensae"
      ]
    },
    {
      "cell_type": "markdown",
      "metadata": {},
      "source": [
        "On r\u00e9cup\u00e8re le fichier upload\u00e9 :"
      ]
    },
    {
      "cell_type": "code",
      "execution_count": 19,
      "metadata": {},
      "outputs": [
        {
          "data": {
            "text/plain": [
              "'ConfLongDemo_JSI.small2.txt'"
            ]
          },
          "execution_count": 20,
          "metadata": {},
          "output_type": "execute_result"
        }
      ],
      "source": [
        "if os.path.exists(\"ConfLongDemo_JSI.small2.txt\") : os.remove(\"ConfLongDemo_JSI.small2.txt\")\n",
        "%blob_down clusterensaeazure1/testensae/ConfLongDemo_JSI.small.txt ConfLongDemo_JSI.small2.txt"
      ]
    },
    {
      "cell_type": "markdown",
      "metadata": {},
      "source": [
        "On v\u00e9rifie que le fichier a \u00e9t\u00e9 t\u00e9l\u00e9charg\u00e9 :"
      ]
    },
    {
      "cell_type": "code",
      "execution_count": 20,
      "metadata": {},
      "outputs": [
        {
          "data": {
            "text/html": [
              "<div>\n",
              "<table border=\"1\" class=\"dataframe\">\n",
              "  <thead>\n",
              "    <tr style=\"text-align: right;\">\n",
              "      <th></th>\n",
              "      <th>directory</th>\n",
              "      <th>last_modified</th>\n",
              "      <th>name</th>\n",
              "      <th>size</th>\n",
              "    </tr>\n",
              "  </thead>\n",
              "  <tbody>\n",
              "    <tr>\n",
              "      <th>0</th>\n",
              "      <td>False</td>\n",
              "      <td>2015-10-29 00:39:34.239955</td>\n",
              "      <td>.\\ConfLongDemo_JSI.small.example.is_back_local...</td>\n",
              "      <td>129.62 Kb</td>\n",
              "    </tr>\n",
              "    <tr>\n",
              "      <th>1</th>\n",
              "      <td>False</td>\n",
              "      <td>2015-10-29 01:16:41.403741</td>\n",
              "      <td>.\\ConfLongDemo_JSI.small.txt</td>\n",
              "      <td>129.62 Kb</td>\n",
              "    </tr>\n",
              "    <tr>\n",
              "      <th>2</th>\n",
              "      <td>False</td>\n",
              "      <td>2015-10-29 01:19:03.751954</td>\n",
              "      <td>.\\ConfLongDemo_JSI.small2.txt</td>\n",
              "      <td>129.62 Kb</td>\n",
              "    </tr>\n",
              "    <tr>\n",
              "      <th>3</th>\n",
              "      <td>False</td>\n",
              "      <td>2015-10-29 00:25:23.606115</td>\n",
              "      <td>.\\ConfLongDemo_JSI.txt</td>\n",
              "      <td>20.55 Mb</td>\n",
              "    </tr>\n",
              "  </tbody>\n",
              "</table>\n",
              "</div>"
            ],
            "text/plain": [
              "  directory              last_modified  \\\n",
              "0     False 2015-10-29 00:39:34.239955   \n",
              "1     False 2015-10-29 01:16:41.403741   \n",
              "2     False 2015-10-29 01:19:03.751954   \n",
              "3     False 2015-10-29 00:25:23.606115   \n",
              "\n",
              "                                                name       size  \n",
              "0  .\\ConfLongDemo_JSI.small.example.is_back_local...  129.62 Kb  \n",
              "1                       .\\ConfLongDemo_JSI.small.txt  129.62 Kb  \n",
              "2                      .\\ConfLongDemo_JSI.small2.txt  129.62 Kb  \n",
              "3                             .\\ConfLongDemo_JSI.txt   20.55 Mb  "
            ]
          },
          "execution_count": 21,
          "metadata": {},
          "output_type": "execute_result"
        }
      ],
      "source": [
        "%lsr -f Conf.*[.]txt"
      ]
    },
    {
      "cell_type": "markdown",
      "metadata": {},
      "source": [
        "On peut \u00e9galement faire une copie d'un blob :"
      ]
    },
    {
      "cell_type": "code",
      "execution_count": 21,
      "metadata": {},
      "outputs": [
        {
          "data": {
            "text/plain": [
              "True"
            ]
          },
          "execution_count": 22,
          "metadata": {},
          "output_type": "execute_result"
        }
      ],
      "source": [
        "%blob_copy clusterensaeazure1/testensae/ConfLongDemo_JSI.small.txt clusterensaeazure1/testensae/ConfLongDemo_JSI.small_copy.txt"
      ]
    },
    {
      "cell_type": "markdown",
      "metadata": {},
      "source": [
        "Et supprimer le blob copi\u00e9 :"
      ]
    },
    {
      "cell_type": "code",
      "execution_count": 22,
      "metadata": {},
      "outputs": [
        {
          "data": {
            "text/plain": [
              "True"
            ]
          },
          "execution_count": 23,
          "metadata": {},
          "output_type": "execute_result"
        }
      ],
      "source": [
        "%blob_delete clusterensaeazure1/testensae/ConfLongDemo_JSI.small_copy.txt"
      ]
    },
    {
      "cell_type": "markdown",
      "metadata": {},
      "source": [
        "On termine la session."
      ]
    },
    {
      "cell_type": "code",
      "execution_count": 23,
      "metadata": {},
      "outputs": [
        {
          "data": {
            "text/plain": [
              "True"
            ]
          },
          "execution_count": 24,
          "metadata": {},
          "output_type": "execute_result"
        }
      ],
      "source": [
        "%blob_close"
      ]
    },
    {
      "cell_type": "markdown",
      "metadata": {},
      "source": [
        "## Partie 2 : premier job map/reduce avec PIG\n",
        "\n",
        "Pour cette partie, l'id\u00e9e d'ex\u00e9cuter des jobs Map/Reduce sur le fichier ``ConfLongDemo_JSI.small.example.txt`` puis de v\u00e9rifier qu'on obtient bien les m\u00eame r\u00e9sultats sur le m\u00eame fichier en utilisant une requ\u00eate SQL. Le code pour cr\u00e9er la connexion \u00e0 la passerelle est recopi\u00e9 ci-dessous mais il n'est pas n\u00e9cessaire de l'ex\u00e9cuter si la connexion n'a pas \u00e9t\u00e9 interrompue."
      ]
    },
    {
      "cell_type": "code",
      "execution_count": 24,
      "metadata": {},
      "outputs": [
        {
          "data": {
            "text/html": [
              "<div style=\"background-color:gainsboro; padding:2px; border:0px;\"><b>server + hadoop + credentials</b>\n",
              "<br />blob_storage <input type=\"text\" id=\"blobhpblob_storage\" value=\"\" size=\"80\" />\n",
              "<br />hadoop_server <input type=\"text\" id=\"blobhphadoop_server\" value=\"\" size=\"80\" />\n",
              "<br />password1 <input type=\"password\" id=\"blobhppassword1\" value=\"\" size=\"80\" />\n",
              "<br />password2 <input type=\"password\" id=\"blobhppassword2\" value=\"\" size=\"80\" />\n",
              "<br />username <input type=\"text\" id=\"blobhpusername\" value=\"xavierdupre\" size=\"80\" />\n",
              "<br /><button onclick=\"set_valueblobhp()\">Ok</button></div>\n",
              "<script type=\"text/Javascript\">\n",
              "function blobhpcallback(msg) {\n",
              "   var ret = msg.content.data['text/plain'];\n",
              "   $('#outblobhp').text(ret);\n",
              "}\n",
              "function set_valueblobhp(){\n",
              "   command='blobhp = {' ;\n",
              "   var blobhpblob_storagevar_value = document.getElementById('blobhpblob_storage').value;\n",
              "   command += '\"blob_storage\":\"' + blobhpblob_storagevar_value + '\",';\n",
              "   var blobhphadoop_servervar_value = document.getElementById('blobhphadoop_server').value;\n",
              "   command += '\"hadoop_server\":\"' + blobhphadoop_servervar_value + '\",';\n",
              "   var blobhppassword1var_value = document.getElementById('blobhppassword1').value;\n",
              "   command += '\"password1\":\"' + blobhppassword1var_value + '\",';\n",
              "   var blobhppassword2var_value = document.getElementById('blobhppassword2').value;\n",
              "   command += '\"password2\":\"' + blobhppassword2var_value + '\",';\n",
              "   var blobhpusernamevar_value = document.getElementById('blobhpusername').value;\n",
              "   command += '\"username\":\"' + blobhpusernamevar_value + '\",';\n",
              "   command += '}';\n",
              "   var kernel = IPython.notebook.kernel;\n",
              "   kernel.execute(command);\n",
              "}\n",
              "</script>"
            ],
            "text/plain": [
              "<IPython.core.display.HTML object>"
            ]
          },
          "execution_count": 25,
          "metadata": {},
          "output_type": "execute_result"
        }
      ],
      "source": [
        "from pyquickhelper.ipythonhelper import open_html_form\n",
        "params={\"blob_storage\":\"\", \"password1\":\"\", \"hadoop_server\":\"\", \"password2\":\"\", \"username\":\"xavierdupre\"}\n",
        "open_html_form(params=params,title=\"server + hadoop + credentials\", key_save=\"blobhp\")"
      ]
    },
    {
      "cell_type": "code",
      "execution_count": 25,
      "metadata": {
        "collapsed": true
      },
      "outputs": [],
      "source": [
        "import pyensae\n",
        "%load_ext pyensae\n",
        "%load_ext pyenbc\n",
        "blobstorage = blobhp[\"blob_storage\"]\n",
        "blobpassword = blobhp[\"password1\"]\n",
        "hadoop_server = blobhp[\"hadoop_server\"]\n",
        "hadoop_password = blobhp[\"password2\"]\n",
        "username = blobhp[\"username\"]"
      ]
    },
    {
      "cell_type": "code",
      "execution_count": 26,
      "metadata": {},
      "outputs": [
        {
          "data": {
            "text/plain": [
              "(<pyensae.remote.azure_connection.AzureClient at 0xa293b00>,\n",
              " <azure.storage.blob.blobservice.BlobService at 0xa293ba8>)"
            ]
          },
          "execution_count": 27,
          "metadata": {},
          "output_type": "execute_result"
        }
      ],
      "source": [
        "client, bs = %hd_open\n",
        "client, bs"
      ]
    },
    {
      "cell_type": "markdown",
      "metadata": {},
      "source": [
        "Le cluster est li\u00e9 \u00e0 un autre container ``hdblobstorage`` (diff\u00e9rent de celui utiliser pour la premi\u00e8re partie. Il faut uploader les donn\u00e9es \u00e0 cet endroit. On supprime d'abord les fichiers existant :"
      ]
    },
    {
      "cell_type": "code",
      "execution_count": 27,
      "metadata": {
        "collapsed": true
      },
      "outputs": [],
      "source": [
        "df = %blob_ls hdblobstorage/testensae/\n",
        "for name in df[\"name\"]:\n",
        "    client.delete_blob(bs, \"hdblobstorage\", name)"
      ]
    },
    {
      "cell_type": "code",
      "execution_count": 28,
      "metadata": {},
      "outputs": [
        {
          "data": {
            "text/plain": [
              "'testensae/ConfLongDemo_JSI.small.txt'"
            ]
          },
          "execution_count": 29,
          "metadata": {},
          "output_type": "execute_result"
        }
      ],
      "source": [
        "%blob_up ConfLongDemo_JSI.small.txt hdblobstorage/testensae/ConfLongDemo_JSI.small.txt"
      ]
    },
    {
      "cell_type": "code",
      "execution_count": 29,
      "metadata": {},
      "outputs": [
        {
          "data": {
            "text/html": [
              "<div>\n",
              "<table border=\"1\" class=\"dataframe\">\n",
              "  <thead>\n",
              "    <tr style=\"text-align: right;\">\n",
              "      <th></th>\n",
              "      <th>name</th>\n",
              "      <th>last_modified</th>\n",
              "      <th>content_type</th>\n",
              "      <th>content_length</th>\n",
              "      <th>blob_type</th>\n",
              "    </tr>\n",
              "  </thead>\n",
              "  <tbody>\n",
              "    <tr>\n",
              "      <th>0</th>\n",
              "      <td>testensae/ConfLongDemo_JSI.small.txt</td>\n",
              "      <td>Thu, 29 Oct 2015 00:23:00 GMT</td>\n",
              "      <td>application/octet-stream</td>\n",
              "      <td>132727</td>\n",
              "      <td>BlockBlob</td>\n",
              "    </tr>\n",
              "  </tbody>\n",
              "</table>\n",
              "</div>"
            ],
            "text/plain": [
              "                                   name                  last_modified  \\\n",
              "0  testensae/ConfLongDemo_JSI.small.txt  Thu, 29 Oct 2015 00:23:00 GMT   \n",
              "\n",
              "               content_type  content_length  blob_type  \n",
              "0  application/octet-stream          132727  BlockBlob  "
            ]
          },
          "execution_count": 30,
          "metadata": {},
          "output_type": "execute_result"
        }
      ],
      "source": [
        "%blob_ls hdblobstorage/testensae"
      ]
    },
    {
      "cell_type": "markdown",
      "metadata": {},
      "source": [
        "## Jobs\n",
        "\n",
        "Un job d\u00e9finit l'ensemble des traitements que vous souhaitez effectuer sur un ou plusieurs fichiers. Le langage [PIG](http://pig.apache.org/docs/r0.12.1/basic.html) permet de d\u00e9crire ces traitements. Le programme est ensuite interpr\u00e9t\u00e9 puis soumis \u00e0 Hadoop qui s'occupe de r\u00e9partir de traitements sur l'ensemble des resources dont il dispose. La commande suivante permet d'obtenir l'ensemble des t\u00e2ches associ\u00e9s aux jobs :"
      ]
    },
    {
      "cell_type": "markdown",
      "metadata": {},
      "source": [
        "### SELECT ... WHERE"
      ]
    },
    {
      "cell_type": "code",
      "execution_count": 30,
      "metadata": {},
      "outputs": [
        {
          "data": {
            "text/html": [
              "<div>\n",
              "<table border=\"1\" class=\"dataframe\">\n",
              "  <thead>\n",
              "    <tr style=\"text-align: right;\">\n",
              "      <th></th>\n",
              "      <th>index</th>\n",
              "      <th>sequence</th>\n",
              "      <th>tag</th>\n",
              "      <th>timestamp</th>\n",
              "      <th>dateformat</th>\n",
              "      <th>x</th>\n",
              "      <th>y</th>\n",
              "      <th>z</th>\n",
              "      <th>activity</th>\n",
              "    </tr>\n",
              "  </thead>\n",
              "  <tbody>\n",
              "    <tr>\n",
              "      <th>165</th>\n",
              "      <td>698</td>\n",
              "      <td>A01</td>\n",
              "      <td>010-000-030-096</td>\n",
              "      <td>633790226277429870</td>\n",
              "      <td>27.05.2009 14:03:47:743</td>\n",
              "      <td>2.965434</td>\n",
              "      <td>1.782434</td>\n",
              "      <td>0.228563</td>\n",
              "      <td>walking</td>\n",
              "    </tr>\n",
              "    <tr>\n",
              "      <th>166</th>\n",
              "      <td>699</td>\n",
              "      <td>A01</td>\n",
              "      <td>020-000-032-221</td>\n",
              "      <td>633790226277970452</td>\n",
              "      <td>27.05.2009 14:03:47:797</td>\n",
              "      <td>4.322405</td>\n",
              "      <td>1.571452</td>\n",
              "      <td>1.400499</td>\n",
              "      <td>walking</td>\n",
              "    </tr>\n",
              "    <tr>\n",
              "      <th>167</th>\n",
              "      <td>700</td>\n",
              "      <td>A01</td>\n",
              "      <td>010-000-024-033</td>\n",
              "      <td>633790226278240749</td>\n",
              "      <td>27.05.2009 14:03:47:823</td>\n",
              "      <td>3.133065</td>\n",
              "      <td>1.769329</td>\n",
              "      <td>-0.022590</td>\n",
              "      <td>walking</td>\n",
              "    </tr>\n",
              "    <tr>\n",
              "      <th>168</th>\n",
              "      <td>701</td>\n",
              "      <td>A01</td>\n",
              "      <td>020-000-033-111</td>\n",
              "      <td>633790226278781331</td>\n",
              "      <td>27.05.2009 14:03:47:877</td>\n",
              "      <td>3.121254</td>\n",
              "      <td>1.549842</td>\n",
              "      <td>1.048139</td>\n",
              "      <td>walking</td>\n",
              "    </tr>\n",
              "    <tr>\n",
              "      <th>169</th>\n",
              "      <td>702</td>\n",
              "      <td>A01</td>\n",
              "      <td>020-000-032-221</td>\n",
              "      <td>633790226279051629</td>\n",
              "      <td>27.05.2009 14:03:47:907</td>\n",
              "      <td>3.281498</td>\n",
              "      <td>1.498734</td>\n",
              "      <td>0.620412</td>\n",
              "      <td>walking</td>\n",
              "    </tr>\n",
              "  </tbody>\n",
              "</table>\n",
              "</div>"
            ],
            "text/plain": [
              "     index sequence              tag           timestamp  \\\n",
              "165    698      A01  010-000-030-096  633790226277429870   \n",
              "166    699      A01  020-000-032-221  633790226277970452   \n",
              "167    700      A01  010-000-024-033  633790226278240749   \n",
              "168    701      A01  020-000-033-111  633790226278781331   \n",
              "169    702      A01  020-000-032-221  633790226279051629   \n",
              "\n",
              "                  dateformat         x         y         z activity  \n",
              "165  27.05.2009 14:03:47:743  2.965434  1.782434  0.228563  walking  \n",
              "166  27.05.2009 14:03:47:797  4.322405  1.571452  1.400499  walking  \n",
              "167  27.05.2009 14:03:47:823  3.133065  1.769329 -0.022590  walking  \n",
              "168  27.05.2009 14:03:47:877  3.121254  1.549842  1.048139  walking  \n",
              "169  27.05.2009 14:03:47:907  3.281498  1.498734  0.620412  walking  "
            ]
          },
          "execution_count": 31,
          "metadata": {},
          "output_type": "execute_result"
        }
      ],
      "source": [
        "import sqlite3\n",
        "con = sqlite3.connect(\"ConfLongDemo_JSI.db3\")\n",
        "\n",
        "import pandas.io.sql as psql\n",
        "sql = 'SELECT * FROM person_small WHERE activity == \"walking\"'\n",
        "df = psql.read_sql(sql, con)\n",
        "con.close()\n",
        "df.tail()"
      ]
    },
    {
      "cell_type": "markdown",
      "metadata": {},
      "source": [
        "Avec [PIG](http://en.wikipedia.org/wiki/Pig_Latin) ([syntaxe](http://pig.apache.org/docs/r0.12.0/basic.html)), le programme inclut trois \u00e9tapes :\n",
        "\n",
        "* la d\u00e9claration de l'entr\u00e9e (le fichier ``ConfLongDemo_JSI.small.example.txt``) (voir [LOAD](https://pig.apache.org/docs/r0.9.1/basic.html#load))\n",
        "* la t\u00e2che \u00e0 proprement parler (voir [FILTER](https://pig.apache.org/docs/r0.9.1/basic.html#filter))\n",
        "* la cr\u00e9ation de la sortie (le fichier ``ConfLongDemo_JSI.small.example.walking.txt``) (voir [STORE](https://pig.apache.org/docs/r0.9.1/basic.html#store))\n",
        "\n",
        "La commande magique permet d'\u00e9crire un fichier ``select1.pig`` avec l'encoding ``utf-8`` (les caract\u00e8res accentu\u00e9es sont possibles)."
      ]
    },
    {
      "cell_type": "code",
      "execution_count": 31,
      "metadata": {
        "collapsed": true
      },
      "outputs": [],
      "source": [
        "%%PIG_azure select_azure_2015.pig\n",
        "\n",
        "myinput = LOAD '$CONTAINER/testensae/ConfLongDemo_JSI.small.txt' \n",
        "          using PigStorage(',') \n",
        "          AS (index:long, sequence, tag, timestamp:long, dateformat, x:double,y:double, z:double, activity) ;\n",
        "\n",
        "filt = FILTER myinput BY activity == 'walking' ;\n",
        "\n",
        "STORE filt INTO '$CONTAINER/$PSEUDO/testensae/ConfLongDemo_JSI.small.walking_2015.txt' USING PigStorage() ;"
      ]
    },
    {
      "cell_type": "markdown",
      "metadata": {},
      "source": [
        "La commande suivante fait deux choses : elle uploade le job sur le blob storage et soumet une requ\u00eate au cluster afin de l'ex\u00e9cuter :"
      ]
    },
    {
      "cell_type": "code",
      "execution_count": 32,
      "metadata": {},
      "outputs": [
        {
          "data": {
            "text/plain": [
              "{'id': 'job_1445989166328_0007'}"
            ]
          },
          "execution_count": 33,
          "metadata": {},
          "output_type": "execute_result"
        }
      ],
      "source": [
        "jid = %hd_pig_submit select_azure_2015.pig\n",
        "jid"
      ]
    },
    {
      "cell_type": "markdown",
      "metadata": {},
      "source": [
        "Apr\u00e8s quelques essais infructueux, on s'aper\u00e7oit parfois que les num\u00e9ros de job vont de deux en deux (sauf si le job ne compile pas). Le protocole utilis\u00e9 pour communiquer avec Azure HD Insight est [WebHCat](https://cwiki.apache.org/confluence/display/Hive/WebHCat+Reference). Lorsque le service re\u00e7oit l'instruction, il lance un autre job et fa\u00e7on \u00e0 soumettre le job au cluster. WebHCat sert d'interm\u00e9diaire.\n",
        "On v\u00e9rifie que le script a bien \u00e9t\u00e9 upload\u00e9 :"
      ]
    },
    {
      "cell_type": "code",
      "execution_count": 33,
      "metadata": {},
      "outputs": [
        {
          "data": {
            "text/html": [
              "<div>\n",
              "<table border=\"1\" class=\"dataframe\">\n",
              "  <thead>\n",
              "    <tr style=\"text-align: right;\">\n",
              "      <th></th>\n",
              "      <th>name</th>\n",
              "      <th>last_modified</th>\n",
              "      <th>content_type</th>\n",
              "      <th>content_length</th>\n",
              "      <th>blob_type</th>\n",
              "    </tr>\n",
              "  </thead>\n",
              "  <tbody>\n",
              "    <tr>\n",
              "      <th>36</th>\n",
              "      <td>xavierdupre/scripts/pig/select_azure.pig</td>\n",
              "      <td>Thu, 29 Oct 2015 00:30:39 GMT</td>\n",
              "      <td>application/octet-stream</td>\n",
              "      <td>374</td>\n",
              "      <td>BlockBlob</td>\n",
              "    </tr>\n",
              "    <tr>\n",
              "      <th>37</th>\n",
              "      <td>xavierdupre/scripts/pig/select_azure.pig.log</td>\n",
              "      <td>Thu, 29 Oct 2015 00:31:19 GMT</td>\n",
              "      <td></td>\n",
              "      <td>0</td>\n",
              "      <td>BlockBlob</td>\n",
              "    </tr>\n",
              "    <tr>\n",
              "      <th>38</th>\n",
              "      <td>xavierdupre/scripts/pig/select_azure.pig.log/exit</td>\n",
              "      <td>Thu, 29 Oct 2015 00:31:19 GMT</td>\n",
              "      <td>application/octet-stream</td>\n",
              "      <td>3</td>\n",
              "      <td>BlockBlob</td>\n",
              "    </tr>\n",
              "    <tr>\n",
              "      <th>39</th>\n",
              "      <td>xavierdupre/scripts/pig/select_azure.pig.log/s...</td>\n",
              "      <td>Thu, 29 Oct 2015 00:31:09 GMT</td>\n",
              "      <td>application/octet-stream</td>\n",
              "      <td>4808</td>\n",
              "      <td>BlockBlob</td>\n",
              "    </tr>\n",
              "    <tr>\n",
              "      <th>40</th>\n",
              "      <td>xavierdupre/scripts/pig/select_azure.pig.log/s...</td>\n",
              "      <td>Thu, 29 Oct 2015 00:31:09 GMT</td>\n",
              "      <td>application/octet-stream</td>\n",
              "      <td>0</td>\n",
              "      <td>BlockBlob</td>\n",
              "    </tr>\n",
              "    <tr>\n",
              "      <th>41</th>\n",
              "      <td>xavierdupre/scripts/pig/select_azure_2015.pig</td>\n",
              "      <td>Thu, 29 Oct 2015 00:45:05 GMT</td>\n",
              "      <td>application/octet-stream</td>\n",
              "      <td>375</td>\n",
              "      <td>BlockBlob</td>\n",
              "    </tr>\n",
              "    <tr>\n",
              "      <th>42</th>\n",
              "      <td>xavierdupre/scripts/pig/select_azure_2015.pig.log</td>\n",
              "      <td>Thu, 29 Oct 2015 00:45:28 GMT</td>\n",
              "      <td></td>\n",
              "      <td>0</td>\n",
              "      <td>BlockBlob</td>\n",
              "    </tr>\n",
              "    <tr>\n",
              "      <th>43</th>\n",
              "      <td>xavierdupre/scripts/pig/select_azure_2015.pig....</td>\n",
              "      <td>Thu, 29 Oct 2015 00:46:15 GMT</td>\n",
              "      <td>application/octet-stream</td>\n",
              "      <td>15812</td>\n",
              "      <td>BlockBlob</td>\n",
              "    </tr>\n",
              "    <tr>\n",
              "      <th>44</th>\n",
              "      <td>xavierdupre/scripts/pig/select_azure_2015.pig....</td>\n",
              "      <td>Thu, 29 Oct 2015 00:46:15 GMT</td>\n",
              "      <td>application/octet-stream</td>\n",
              "      <td>0</td>\n",
              "      <td>BlockBlob</td>\n",
              "    </tr>\n",
              "  </tbody>\n",
              "</table>\n",
              "</div>"
            ],
            "text/plain": [
              "                                                 name  \\\n",
              "36           xavierdupre/scripts/pig/select_azure.pig   \n",
              "37       xavierdupre/scripts/pig/select_azure.pig.log   \n",
              "38  xavierdupre/scripts/pig/select_azure.pig.log/exit   \n",
              "39  xavierdupre/scripts/pig/select_azure.pig.log/s...   \n",
              "40  xavierdupre/scripts/pig/select_azure.pig.log/s...   \n",
              "41      xavierdupre/scripts/pig/select_azure_2015.pig   \n",
              "42  xavierdupre/scripts/pig/select_azure_2015.pig.log   \n",
              "43  xavierdupre/scripts/pig/select_azure_2015.pig....   \n",
              "44  xavierdupre/scripts/pig/select_azure_2015.pig....   \n",
              "\n",
              "                    last_modified              content_type  content_length  \\\n",
              "36  Thu, 29 Oct 2015 00:30:39 GMT  application/octet-stream             374   \n",
              "37  Thu, 29 Oct 2015 00:31:19 GMT                                         0   \n",
              "38  Thu, 29 Oct 2015 00:31:19 GMT  application/octet-stream               3   \n",
              "39  Thu, 29 Oct 2015 00:31:09 GMT  application/octet-stream            4808   \n",
              "40  Thu, 29 Oct 2015 00:31:09 GMT  application/octet-stream               0   \n",
              "41  Thu, 29 Oct 2015 00:45:05 GMT  application/octet-stream             375   \n",
              "42  Thu, 29 Oct 2015 00:45:28 GMT                                         0   \n",
              "43  Thu, 29 Oct 2015 00:46:15 GMT  application/octet-stream           15812   \n",
              "44  Thu, 29 Oct 2015 00:46:15 GMT  application/octet-stream               0   \n",
              "\n",
              "    blob_type  \n",
              "36  BlockBlob  \n",
              "37  BlockBlob  \n",
              "38  BlockBlob  \n",
              "39  BlockBlob  \n",
              "40  BlockBlob  \n",
              "41  BlockBlob  \n",
              "42  BlockBlob  \n",
              "43  BlockBlob  \n",
              "44  BlockBlob  "
            ]
          },
          "execution_count": 34,
          "metadata": {},
          "output_type": "execute_result"
        }
      ],
      "source": [
        "df = %blob_ls /$PSEUDO/scripts/pig/\n",
        "df[df.name.apply(lambda x : \"select\" in x)]"
      ]
    },
    {
      "cell_type": "markdown",
      "metadata": {},
      "source": [
        "On ex\u00e9cute la commande suivante pour conna\u00eetre le status de l'ex\u00e9cution. On l'execute \u00e0 nouveau de temps en temps pour v\u00e9rifier que le job s'est bien d\u00e9roul\u00e9."
      ]
    },
    {
      "cell_type": "code",
      "execution_count": 34,
      "metadata": {},
      "outputs": [
        {
          "data": {
            "text/plain": [
              "('job_1445989166328_0007', '100% complete', 'done', True, 'SUCCEEDED')"
            ]
          },
          "execution_count": 35,
          "metadata": {},
          "output_type": "execute_result"
        }
      ],
      "source": [
        "st = %hd_job_status jid[\"id\"]\n",
        "st[\"id\"],st[\"percentComplete\"],st[\"completed\"],st[\"status\"][\"jobComplete\"],st[\"status\"][\"state\"]"
      ]
    },
    {
      "cell_type": "markdown",
      "metadata": {},
      "source": [
        "On v\u00e9rifie le contenu du cluster :"
      ]
    },
    {
      "cell_type": "code",
      "execution_count": 35,
      "metadata": {},
      "outputs": [
        {
          "data": {
            "text/html": [
              "<div>\n",
              "<table border=\"1\" class=\"dataframe\">\n",
              "  <thead>\n",
              "    <tr style=\"text-align: right;\">\n",
              "      <th></th>\n",
              "      <th>name</th>\n",
              "      <th>last_modified</th>\n",
              "      <th>content_type</th>\n",
              "      <th>content_length</th>\n",
              "      <th>blob_type</th>\n",
              "    </tr>\n",
              "  </thead>\n",
              "  <tbody>\n",
              "    <tr>\n",
              "      <th>10</th>\n",
              "      <td>xavierdupre/testensae/ConfLongDemo_JSI.small.w...</td>\n",
              "      <td>Thu, 29 Oct 2015 00:28:30 GMT</td>\n",
              "      <td></td>\n",
              "      <td>0</td>\n",
              "      <td>BlockBlob</td>\n",
              "    </tr>\n",
              "    <tr>\n",
              "      <th>11</th>\n",
              "      <td>xavierdupre/testensae/ConfLongDemo_JSI.small.w...</td>\n",
              "      <td>Thu, 29 Oct 2015 00:28:30 GMT</td>\n",
              "      <td>application/octet-stream</td>\n",
              "      <td>0</td>\n",
              "      <td>BlockBlob</td>\n",
              "    </tr>\n",
              "    <tr>\n",
              "      <th>12</th>\n",
              "      <td>xavierdupre/testensae/ConfLongDemo_JSI.small.w...</td>\n",
              "      <td>Thu, 29 Oct 2015 00:28:30 GMT</td>\n",
              "      <td>application/octet-stream</td>\n",
              "      <td>22166</td>\n",
              "      <td>BlockBlob</td>\n",
              "    </tr>\n",
              "    <tr>\n",
              "      <th>13</th>\n",
              "      <td>xavierdupre/testensae/ConfLongDemo_JSI.small.w...</td>\n",
              "      <td>Thu, 29 Oct 2015 00:46:05 GMT</td>\n",
              "      <td></td>\n",
              "      <td>0</td>\n",
              "      <td>BlockBlob</td>\n",
              "    </tr>\n",
              "    <tr>\n",
              "      <th>14</th>\n",
              "      <td>xavierdupre/testensae/ConfLongDemo_JSI.small.w...</td>\n",
              "      <td>Thu, 29 Oct 2015 00:46:05 GMT</td>\n",
              "      <td>application/octet-stream</td>\n",
              "      <td>0</td>\n",
              "      <td>BlockBlob</td>\n",
              "    </tr>\n",
              "    <tr>\n",
              "      <th>15</th>\n",
              "      <td>xavierdupre/testensae/ConfLongDemo_JSI.small.w...</td>\n",
              "      <td>Thu, 29 Oct 2015 00:46:04 GMT</td>\n",
              "      <td>application/octet-stream</td>\n",
              "      <td>22166</td>\n",
              "      <td>BlockBlob</td>\n",
              "    </tr>\n",
              "  </tbody>\n",
              "</table>\n",
              "</div>"
            ],
            "text/plain": [
              "                                                 name  \\\n",
              "10  xavierdupre/testensae/ConfLongDemo_JSI.small.w...   \n",
              "11  xavierdupre/testensae/ConfLongDemo_JSI.small.w...   \n",
              "12  xavierdupre/testensae/ConfLongDemo_JSI.small.w...   \n",
              "13  xavierdupre/testensae/ConfLongDemo_JSI.small.w...   \n",
              "14  xavierdupre/testensae/ConfLongDemo_JSI.small.w...   \n",
              "15  xavierdupre/testensae/ConfLongDemo_JSI.small.w...   \n",
              "\n",
              "                    last_modified              content_type  content_length  \\\n",
              "10  Thu, 29 Oct 2015 00:28:30 GMT                                         0   \n",
              "11  Thu, 29 Oct 2015 00:28:30 GMT  application/octet-stream               0   \n",
              "12  Thu, 29 Oct 2015 00:28:30 GMT  application/octet-stream           22166   \n",
              "13  Thu, 29 Oct 2015 00:46:05 GMT                                         0   \n",
              "14  Thu, 29 Oct 2015 00:46:05 GMT  application/octet-stream               0   \n",
              "15  Thu, 29 Oct 2015 00:46:04 GMT  application/octet-stream           22166   \n",
              "\n",
              "    blob_type  \n",
              "10  BlockBlob  \n",
              "11  BlockBlob  \n",
              "12  BlockBlob  \n",
              "13  BlockBlob  \n",
              "14  BlockBlob  \n",
              "15  BlockBlob  "
            ]
          },
          "execution_count": 36,
          "metadata": {},
          "output_type": "execute_result"
        }
      ],
      "source": [
        "df=%blob_ls /$PSEUDO/testensae\n",
        "df[df.last_modified.apply(lambda x : \"2015\" in x)]"
      ]
    },
    {
      "cell_type": "code",
      "execution_count": 36,
      "metadata": {},
      "outputs": [
        {
          "data": {
            "text/plain": [
              "{'xavierdupre/testensae/ConfLongDemo_JSI.small.walking2015.txt',\n",
              " 'xavierdupre/testensae/ConfLongDemo_JSI.small.walking2015.txt/_SUCCESS',\n",
              " 'xavierdupre/testensae/ConfLongDemo_JSI.small.walking2015.txt/part-m-00000',\n",
              " 'xavierdupre/testensae/ConfLongDemo_JSI.small.walking_2015.txt',\n",
              " 'xavierdupre/testensae/ConfLongDemo_JSI.small.walking_2015.txt/_SUCCESS',\n",
              " 'xavierdupre/testensae/ConfLongDemo_JSI.small.walking_2015.txt/part-m-00000'}"
            ]
          },
          "execution_count": 37,
          "metadata": {},
          "output_type": "execute_result"
        }
      ],
      "source": [
        "set(df[df.last_modified.apply(lambda x : \"2015\" in x)][\"name\"])"
      ]
    },
    {
      "cell_type": "markdown",
      "metadata": {},
      "source": [
        "Le job s'est bien ex\u00e9cut\u00e9. On downloade le contenu sur l'ordinateur :"
      ]
    },
    {
      "cell_type": "code",
      "execution_count": 37,
      "metadata": {},
      "outputs": [
        {
          "data": {
            "text/plain": [
              "'results.txt'"
            ]
          },
          "execution_count": 38,
          "metadata": {},
          "output_type": "execute_result"
        }
      ],
      "source": [
        "import os\n",
        "if os.path.exists(\"results.txt\"):os.remove(\"results.txt\")\n",
        "%blob_down /$PSEUDO/testensae/ConfLongDemo_JSI.small.keep_walking.txt/part-m-00000 results.txt"
      ]
    },
    {
      "cell_type": "markdown",
      "metadata": {},
      "source": [
        "La plupart du temps, il y aura plus d'un fichier en sortie. C'est pour cela qu'on utilise la commande magique ``%blob_downmerge`` qui va t\u00e9l\u00e9charger tous les fichiers et les regrouper localement en un seul :"
      ]
    },
    {
      "cell_type": "code",
      "execution_count": 38,
      "metadata": {},
      "outputs": [
        {
          "data": {
            "text/plain": [
              "'results_allfiles.txt'"
            ]
          },
          "execution_count": 39,
          "metadata": {},
          "output_type": "execute_result"
        }
      ],
      "source": [
        "if os.path.exists(\"results_allfiles.txt\"):os.remove(\"results_allfiles.txt\")\n",
        "%blob_downmerge /$PSEUDO/testensae/ConfLongDemo_JSI.small.keep_walking.txt results_allfiles.txt"
      ]
    },
    {
      "cell_type": "code",
      "execution_count": 39,
      "metadata": {},
      "outputs": [
        {
          "data": {
            "text/html": [
              "<div>\n",
              "<table border=\"1\" class=\"dataframe\">\n",
              "  <thead>\n",
              "    <tr style=\"text-align: right;\">\n",
              "      <th></th>\n",
              "      <th>directory</th>\n",
              "      <th>last_modified</th>\n",
              "      <th>name</th>\n",
              "      <th>size</th>\n",
              "    </tr>\n",
              "  </thead>\n",
              "  <tbody>\n",
              "    <tr>\n",
              "      <th>0</th>\n",
              "      <td>False</td>\n",
              "      <td>2015-10-29 01:46:45.425028</td>\n",
              "      <td>.\\results.txt</td>\n",
              "      <td>21.65 Kb</td>\n",
              "    </tr>\n",
              "    <tr>\n",
              "      <th>1</th>\n",
              "      <td>False</td>\n",
              "      <td>2015-10-29 01:46:46.705466</td>\n",
              "      <td>.\\results_allfiles.txt</td>\n",
              "      <td>21.65 Kb</td>\n",
              "    </tr>\n",
              "  </tbody>\n",
              "</table>\n",
              "</div>"
            ],
            "text/plain": [
              "  directory              last_modified                    name      size\n",
              "0     False 2015-10-29 01:46:45.425028           .\\results.txt  21.65 Kb\n",
              "1     False 2015-10-29 01:46:46.705466  .\\results_allfiles.txt  21.65 Kb"
            ]
          },
          "execution_count": 40,
          "metadata": {},
          "output_type": "execute_result"
        }
      ],
      "source": [
        "%lsr r.*s[.]txt"
      ]
    },
    {
      "cell_type": "markdown",
      "metadata": {},
      "source": [
        "On regarde les logs de l'ex\u00e9cution. Pour le moment, les logs sont stock\u00e9s dans le m\u00eame fichier quelque soit le job."
      ]
    },
    {
      "cell_type": "code",
      "execution_count": 40,
      "metadata": {},
      "outputs": [
        {
          "data": {
            "text/html": [
              "<div>\n",
              "<table border=\"1\" class=\"dataframe\">\n",
              "  <thead>\n",
              "    <tr style=\"text-align: right;\">\n",
              "      <th></th>\n",
              "      <th>name</th>\n",
              "      <th>last_modified</th>\n",
              "      <th>content_type</th>\n",
              "      <th>content_length</th>\n",
              "      <th>blob_type</th>\n",
              "    </tr>\n",
              "  </thead>\n",
              "  <tbody>\n",
              "    <tr>\n",
              "      <th>0</th>\n",
              "      <td>xavierdupre/scripts/pig/select_azure.pig.log</td>\n",
              "      <td>Thu, 29 Oct 2015 00:31:19 GMT</td>\n",
              "      <td></td>\n",
              "      <td>0</td>\n",
              "      <td>BlockBlob</td>\n",
              "    </tr>\n",
              "    <tr>\n",
              "      <th>1</th>\n",
              "      <td>xavierdupre/scripts/pig/select_azure.pig.log/exit</td>\n",
              "      <td>Thu, 29 Oct 2015 00:31:19 GMT</td>\n",
              "      <td>application/octet-stream</td>\n",
              "      <td>3</td>\n",
              "      <td>BlockBlob</td>\n",
              "    </tr>\n",
              "    <tr>\n",
              "      <th>2</th>\n",
              "      <td>xavierdupre/scripts/pig/select_azure.pig.log/s...</td>\n",
              "      <td>Thu, 29 Oct 2015 00:31:09 GMT</td>\n",
              "      <td>application/octet-stream</td>\n",
              "      <td>4808</td>\n",
              "      <td>BlockBlob</td>\n",
              "    </tr>\n",
              "    <tr>\n",
              "      <th>3</th>\n",
              "      <td>xavierdupre/scripts/pig/select_azure.pig.log/s...</td>\n",
              "      <td>Thu, 29 Oct 2015 00:31:09 GMT</td>\n",
              "      <td>application/octet-stream</td>\n",
              "      <td>0</td>\n",
              "      <td>BlockBlob</td>\n",
              "    </tr>\n",
              "  </tbody>\n",
              "</table>\n",
              "</div>"
            ],
            "text/plain": [
              "                                                name  \\\n",
              "0       xavierdupre/scripts/pig/select_azure.pig.log   \n",
              "1  xavierdupre/scripts/pig/select_azure.pig.log/exit   \n",
              "2  xavierdupre/scripts/pig/select_azure.pig.log/s...   \n",
              "3  xavierdupre/scripts/pig/select_azure.pig.log/s...   \n",
              "\n",
              "                   last_modified              content_type  content_length  \\\n",
              "0  Thu, 29 Oct 2015 00:31:19 GMT                                         0   \n",
              "1  Thu, 29 Oct 2015 00:31:19 GMT  application/octet-stream               3   \n",
              "2  Thu, 29 Oct 2015 00:31:09 GMT  application/octet-stream            4808   \n",
              "3  Thu, 29 Oct 2015 00:31:09 GMT  application/octet-stream               0   \n",
              "\n",
              "   blob_type  \n",
              "0  BlockBlob  \n",
              "1  BlockBlob  \n",
              "2  BlockBlob  \n",
              "3  BlockBlob  "
            ]
          },
          "execution_count": 41,
          "metadata": {},
          "output_type": "execute_result"
        }
      ],
      "source": [
        "if os.path.exists(\"stderr.txt\"): os.remove(\"stderr.txt\")\n",
        "%blob_ls /$SCRIPTPIG/select_azure.pig.log"
      ]
    },
    {
      "cell_type": "code",
      "execution_count": 41,
      "metadata": {},
      "outputs": [
        {
          "data": {
            "text/plain": [
              "['xavierdupre/scripts/pig/select_azure_2015.pig.log',\n",
              " 'xavierdupre/scripts/pig/select_azure_2015.pig.log/exit',\n",
              " 'xavierdupre/scripts/pig/select_azure_2015.pig.log/stderr',\n",
              " 'xavierdupre/scripts/pig/select_azure_2015.pig.log/stdout']"
            ]
          },
          "execution_count": 42,
          "metadata": {},
          "output_type": "execute_result"
        }
      ],
      "source": [
        "df = %blob_ls /$SCRIPTPIG/select_azure_2015.pig.log\n",
        "list(df[\"name\"])"
      ]
    },
    {
      "cell_type": "markdown",
      "metadata": {},
      "source": [
        "L'instruction r\u00e9cup\u00e8re l'erreur standard pour un job donn\u00e9 :"
      ]
    },
    {
      "cell_type": "code",
      "execution_count": 42,
      "metadata": {},
      "outputs": [
        {
          "data": {
            "text/html": [
              "<pre>\n",
              "\n",
              "Job DAG:\n",
              "job_1445989166328_0008\n",
              "\n",
              "\n",
              "2015-10-29 00:46:13,803 [main] INFO  org.apache.hadoop.yarn.client.api.impl.TimelineClientImpl - Timeline service address: http://headnodehost:8188/ws/v1/timeline/\n",
              "2015-10-29 00:46:13,803 [main] INFO  org.apache.hadoop.yarn.client.RMProxy - Connecting to ResourceManager at headnodehost/100.89.100.164:9010\n",
              "2015-10-29 00:46:13,803 [main] INFO  org.apache.hadoop.yarn.client.AHSProxy - Connecting to Application History server at headnodehost/100.89.100.164:10200\n",
              "2015-10-29 00:46:13,881 [main] INFO  org.apache.hadoop.mapred.ClientServiceDelegate - Application state is completed. FinalApplicationStatus=SUCCEEDED. Redirecting to job history server\n",
              "2015-10-29 00:46:14,068 [main] INFO  org.apache.hadoop.yarn.client.api.impl.TimelineClientImpl - Timeline service address: http://headnodehost:8188/ws/v1/timeline/\n",
              "2015-10-29 00:46:14,068 [main] INFO  org.apache.hadoop.yarn.client.RMProxy - Connecting to ResourceManager at headnodehost/100.89.100.164:9010\n",
              "2015-10-29 00:46:14,068 [main] INFO  org.apache.hadoop.yarn.client.AHSProxy - Connecting to Application History server at headnodehost/100.89.100.164:10200\n",
              "2015-10-29 00:46:14,146 [main] INFO  org.apache.hadoop.mapred.ClientServiceDelegate - Application state is completed. FinalApplicationStatus=SUCCEEDED. Redirecting to job history server\n",
              "2015-10-29 00:46:14,334 [main] INFO  org.apache.hadoop.yarn.client.api.impl.TimelineClientImpl - Timeline service address: http://headnodehost:8188/ws/v1/timeline/\n",
              "2015-10-29 00:46:14,334 [main] INFO  org.apache.hadoop.yarn.client.RMProxy - Connecting to ResourceManager at headnodehost/100.89.100.164:9010\n",
              "2015-10-29 00:46:14,334 [main] INFO  org.apache.hadoop.yarn.client.AHSProxy - Connecting to Application History server at headnodehost/100.89.100.164:10200\n",
              "2015-10-29 00:46:14,412 [main] INFO  org.apache.hadoop.mapred.ClientServiceDelegate - Application state is completed. FinalApplicationStatus=SUCCEEDED. Redirecting to job history server\n",
              "2015-10-29 00:46:14,490 [main] INFO  org.apache.pig.backend.hadoop.executionengine.mapReduceLayer.MapReduceLauncher - Success!\n",
              "2015-10-29 00:46:14,522 [main] INFO  org.apache.pig.Main - Pig script completed in 44 seconds and 962 milliseconds (44962 ms)\n",
              "\n",
              "</pre><br />"
            ],
            "text/plain": [
              "<IPython.core.display.HTML object>"
            ]
          },
          "execution_count": 43,
          "metadata": {},
          "output_type": "execute_result"
        }
      ],
      "source": [
        "%hd_tail_stderr jid[\"id\"]"
      ]
    },
    {
      "cell_type": "markdown",
      "metadata": {},
      "source": [
        "Et pour tuer un job, il sufft d'appeler :"
      ]
    },
    {
      "cell_type": "code",
      "execution_count": 43,
      "metadata": {
        "collapsed": true
      },
      "outputs": [],
      "source": [
        "%hd_job_kill <job_id>"
      ]
    },
    {
      "cell_type": "markdown",
      "metadata": {},
      "source": [
        "## Partie 3 : syntaxe PIG et exercices\n",
        "\n",
        "Dans cette partie, l'objectif est de transcrire un ``GROUP BY`` en PIG, un ``JOIN`` et de combiner toutes ces op\u00e9rations en un seul job au cours du second exercice. Ces exemples utilisent de petits fichiers. Utiliser un job Map/Reduce n'a pas beaucoup d'int\u00e9r\u00eat \u00e0 moins que la taille de ces fichiers n'atteigne un giga-octets. Les instructions sont \u00e0 chercher dans cette page : [Pig Latin Basics](http://pig.apache.org/docs/r0.12.0/basic.html)."
      ]
    },
    {
      "cell_type": "markdown",
      "metadata": {},
      "source": [
        "### Exercice 1 : GROUP BY"
      ]
    },
    {
      "cell_type": "code",
      "execution_count": 44,
      "metadata": {},
      "outputs": [
        {
          "data": {
            "text/html": [
              "<div style=\"max-height:1000px;max-width:1500px;overflow:auto;\">\n",
              "<table border=\"1\" class=\"dataframe\">\n",
              "  <thead>\n",
              "    <tr style=\"text-align: right;\">\n",
              "      <th></th>\n",
              "      <th>activity</th>\n",
              "      <th>nb</th>\n",
              "    </tr>\n",
              "  </thead>\n",
              "  <tbody>\n",
              "    <tr>\n",
              "      <th>0</th>\n",
              "      <td>      falling</td>\n",
              "      <td>  2973</td>\n",
              "    </tr>\n",
              "    <tr>\n",
              "      <th>1</th>\n",
              "      <td>        lying</td>\n",
              "      <td> 54480</td>\n",
              "    </tr>\n",
              "    <tr>\n",
              "      <th>2</th>\n",
              "      <td>   lying down</td>\n",
              "      <td>  6168</td>\n",
              "    </tr>\n",
              "    <tr>\n",
              "      <th>3</th>\n",
              "      <td> on all fours</td>\n",
              "      <td>  5210</td>\n",
              "    </tr>\n",
              "    <tr>\n",
              "      <th>4</th>\n",
              "      <td>      sitting</td>\n",
              "      <td> 27244</td>\n",
              "    </tr>\n",
              "  </tbody>\n",
              "</table>\n",
              "</div>"
            ],
            "text/plain": [
              "       activity     nb\n",
              "0       falling   2973\n",
              "1         lying  54480\n",
              "2    lying down   6168\n",
              "3  on all fours   5210\n",
              "4       sitting  27244"
            ]
          },
          "execution_count": 45,
          "metadata": {},
          "output_type": "execute_result"
        }
      ],
      "source": [
        "import pandas, sqlite3\n",
        "con = sqlite3.connect(\"ConfLongDemo_JSI.db3\")\n",
        "df = pandas.read_sql(\"\"\"SELECT activity, count(*) as nb FROM person GROUP BY activity\"\"\", con)\n",
        "con.close()\n",
        "df.head()"
      ]
    },
    {
      "cell_type": "markdown",
      "metadata": {},
      "source": [
        "Il faut maintenant le faire avec PIG."
      ]
    },
    {
      "cell_type": "code",
      "execution_count": 45,
      "metadata": {
        "collapsed": true
      },
      "outputs": [],
      "source": []
    },
    {
      "cell_type": "markdown",
      "metadata": {},
      "source": [
        "### Exercice 2 : JOIN"
      ]
    },
    {
      "cell_type": "code",
      "execution_count": 46,
      "metadata": {},
      "outputs": [
        {
          "data": {
            "text/html": [
              "<div style=\"max-height:1000px;max-width:1500px;overflow:auto;\">\n",
              "<table border=\"1\" class=\"dataframe\">\n",
              "  <thead>\n",
              "    <tr style=\"text-align: right;\">\n",
              "      <th></th>\n",
              "      <th>index</th>\n",
              "      <th>sequence</th>\n",
              "      <th>tag</th>\n",
              "      <th>timestamp</th>\n",
              "      <th>dateformat</th>\n",
              "      <th>x</th>\n",
              "      <th>y</th>\n",
              "      <th>z</th>\n",
              "      <th>activity</th>\n",
              "      <th>nb</th>\n",
              "    </tr>\n",
              "  </thead>\n",
              "  <tbody>\n",
              "    <tr>\n",
              "      <th>0</th>\n",
              "      <td> 0</td>\n",
              "      <td> A01</td>\n",
              "      <td> 010-000-024-033</td>\n",
              "      <td> 633790226051280329</td>\n",
              "      <td> 27.05.2009 14:03:25:127</td>\n",
              "      <td> 4.062931</td>\n",
              "      <td> 1.892434</td>\n",
              "      <td> 0.507425</td>\n",
              "      <td> walking</td>\n",
              "      <td> 32710</td>\n",
              "    </tr>\n",
              "    <tr>\n",
              "      <th>1</th>\n",
              "      <td> 1</td>\n",
              "      <td> A01</td>\n",
              "      <td> 020-000-033-111</td>\n",
              "      <td> 633790226051820913</td>\n",
              "      <td> 27.05.2009 14:03:25:183</td>\n",
              "      <td> 4.291954</td>\n",
              "      <td> 1.781140</td>\n",
              "      <td> 1.344495</td>\n",
              "      <td> walking</td>\n",
              "      <td> 32710</td>\n",
              "    </tr>\n",
              "    <tr>\n",
              "      <th>2</th>\n",
              "      <td> 2</td>\n",
              "      <td> A01</td>\n",
              "      <td> 020-000-032-221</td>\n",
              "      <td> 633790226052091205</td>\n",
              "      <td> 27.05.2009 14:03:25:210</td>\n",
              "      <td> 4.359101</td>\n",
              "      <td> 1.826456</td>\n",
              "      <td> 0.968821</td>\n",
              "      <td> walking</td>\n",
              "      <td> 32710</td>\n",
              "    </tr>\n",
              "    <tr>\n",
              "      <th>3</th>\n",
              "      <td> 3</td>\n",
              "      <td> A01</td>\n",
              "      <td> 010-000-024-033</td>\n",
              "      <td> 633790226052361498</td>\n",
              "      <td> 27.05.2009 14:03:25:237</td>\n",
              "      <td> 4.087835</td>\n",
              "      <td> 1.879999</td>\n",
              "      <td> 0.466983</td>\n",
              "      <td> walking</td>\n",
              "      <td> 32710</td>\n",
              "    </tr>\n",
              "    <tr>\n",
              "      <th>4</th>\n",
              "      <td> 4</td>\n",
              "      <td> A01</td>\n",
              "      <td> 010-000-030-096</td>\n",
              "      <td> 633790226052631792</td>\n",
              "      <td> 27.05.2009 14:03:25:263</td>\n",
              "      <td> 4.324462</td>\n",
              "      <td> 2.072460</td>\n",
              "      <td> 0.488065</td>\n",
              "      <td> walking</td>\n",
              "      <td> 32710</td>\n",
              "    </tr>\n",
              "  </tbody>\n",
              "</table>\n",
              "</div>"
            ],
            "text/plain": [
              "   index sequence              tag           timestamp  \\\n",
              "0      0      A01  010-000-024-033  633790226051280329   \n",
              "1      1      A01  020-000-033-111  633790226051820913   \n",
              "2      2      A01  020-000-032-221  633790226052091205   \n",
              "3      3      A01  010-000-024-033  633790226052361498   \n",
              "4      4      A01  010-000-030-096  633790226052631792   \n",
              "\n",
              "                dateformat         x         y         z activity     nb  \n",
              "0  27.05.2009 14:03:25:127  4.062931  1.892434  0.507425  walking  32710  \n",
              "1  27.05.2009 14:03:25:183  4.291954  1.781140  1.344495  walking  32710  \n",
              "2  27.05.2009 14:03:25:210  4.359101  1.826456  0.968821  walking  32710  \n",
              "3  27.05.2009 14:03:25:237  4.087835  1.879999  0.466983  walking  32710  \n",
              "4  27.05.2009 14:03:25:263  4.324462  2.072460  0.488065  walking  32710  "
            ]
          },
          "execution_count": 47,
          "metadata": {},
          "output_type": "execute_result"
        }
      ],
      "source": [
        "con = sqlite3.connect(\"ConfLongDemo_JSI.db3\")\n",
        "df = pandas.read_sql(\"\"\"SELECT person.*, A.nb FROM person INNER JOIN (\n",
        "                            SELECT activity, count(*) as nb FROM person GROUP BY activity) AS A\n",
        "                            ON person.activity == A.activity\"\"\", con)\n",
        "con.close()\n",
        "df.head()"
      ]
    },
    {
      "cell_type": "markdown",
      "metadata": {},
      "source": [
        "Idem, maintenant il faut le faire avec PIG."
      ]
    },
    {
      "cell_type": "code",
      "execution_count": 47,
      "metadata": {
        "collapsed": true
      },
      "outputs": [],
      "source": []
    }
  ],
  "metadata": {
    "kernelspec": {
      "display_name": "Python 3",
      "language": "python",
      "name": "python3"
    },
    "language_info": {
      "codemirror_mode": {
        "name": "ipython",
        "version": 3
      },
      "file_extension": ".py",
      "mimetype": "text/x-python",
      "name": "python",
      "nbconvert_exporter": "python",
      "pygments_lexer": "ipython3",
      "version": "3.6.4"
    }
  },
  "nbformat": 4,
  "nbformat_minor": 1
}